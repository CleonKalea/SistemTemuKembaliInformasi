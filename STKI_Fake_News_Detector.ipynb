{
  "cells": [
    {
      "cell_type": "markdown",
      "metadata": {
        "id": "FRAiQZ8b1Qjf"
      },
      "source": [
        "# Fake News Detector"
      ]
    },
    {
      "cell_type": "markdown",
      "metadata": {
        "id": "xu0os-PJ1T-d"
      },
      "source": [
        "## Import Library"
      ]
    },
    {
      "cell_type": "code",
      "execution_count": 1,
      "metadata": {
        "id": "yXQ_0ag9y7e8"
      },
      "outputs": [],
      "source": [
        "import pandas as pd\n",
        "from sklearn.metrics import classification_report\n",
        "from sklearn.feature_extraction.text import TfidfVectorizer\n",
        "from sklearn.model_selection import train_test_split\n",
        "import nltk\n",
        "from nltk.corpus import stopwords\n",
        "from nltk.stem import PorterStemmer\n",
        "import re\n",
        "from sklearn.linear_model import LogisticRegression\n",
        "from sklearn.tree import DecisionTreeClassifier\n",
        "from sklearn.model_selection import GridSearchCV\n",
        "from sklearn.pipeline import Pipeline\n",
        "from imblearn.over_sampling import SMOTE\n",
        "from sklearn.preprocessing import StandardScaler\n",
        "from imblearn.pipeline import Pipeline as ImbPipeline\n",
        "import os"
      ]
    },
    {
      "cell_type": "code",
      "execution_count": 2,
      "metadata": {},
      "outputs": [
        {
          "name": "stdout",
          "output_type": "stream",
          "text": [
            ".git\n",
            "Fake.csv\n",
            "Progress Laporan STKI Kelompok 2.docx\n",
            "Progress Laporan STKI Kelompok 2.pdf\n",
            "STKI_Fake_News_Detector.ipynb\n",
            "True.csv\n"
          ]
        }
      ],
      "source": [
        "files = os.listdir()\n",
        "\n",
        "for file in files:\n",
        "    print(f\"{file}\")"
      ]
    },
    {
      "cell_type": "markdown",
      "metadata": {
        "id": "KdC9Dlrf1WSI"
      },
      "source": [
        "## Import Data"
      ]
    },
    {
      "cell_type": "code",
      "execution_count": 3,
      "metadata": {
        "id": "JCBrQt4V0K9V"
      },
      "outputs": [],
      "source": [
        "true = pd.read_csv('True.csv', engine='python', encoding='utf-8', on_bad_lines='skip')\n",
        "fake = pd.read_csv('Fake.csv', engine='python', encoding='utf-8', on_bad_lines='skip')"
      ]
    },
    {
      "cell_type": "code",
      "execution_count": 4,
      "metadata": {},
      "outputs": [
        {
          "data": {
            "text/html": [
              "<div>\n",
              "<style scoped>\n",
              "    .dataframe tbody tr th:only-of-type {\n",
              "        vertical-align: middle;\n",
              "    }\n",
              "\n",
              "    .dataframe tbody tr th {\n",
              "        vertical-align: top;\n",
              "    }\n",
              "\n",
              "    .dataframe thead th {\n",
              "        text-align: right;\n",
              "    }\n",
              "</style>\n",
              "<table border=\"1\" class=\"dataframe\">\n",
              "  <thead>\n",
              "    <tr style=\"text-align: right;\">\n",
              "      <th></th>\n",
              "      <th>title</th>\n",
              "      <th>text</th>\n",
              "      <th>subject</th>\n",
              "      <th>date</th>\n",
              "    </tr>\n",
              "  </thead>\n",
              "  <tbody>\n",
              "    <tr>\n",
              "      <th>0</th>\n",
              "      <td>As U.S. budget fight looms, Republicans flip t...</td>\n",
              "      <td>WASHINGTON (Reuters) - The head of a conservat...</td>\n",
              "      <td>politicsNews</td>\n",
              "      <td>December 31, 2017</td>\n",
              "    </tr>\n",
              "    <tr>\n",
              "      <th>1</th>\n",
              "      <td>U.S. military to accept transgender recruits o...</td>\n",
              "      <td>WASHINGTON (Reuters) - Transgender people will...</td>\n",
              "      <td>politicsNews</td>\n",
              "      <td>December 29, 2017</td>\n",
              "    </tr>\n",
              "    <tr>\n",
              "      <th>2</th>\n",
              "      <td>Senior U.S. Republican senator: 'Let Mr. Muell...</td>\n",
              "      <td>WASHINGTON (Reuters) - The special counsel inv...</td>\n",
              "      <td>politicsNews</td>\n",
              "      <td>December 31, 2017</td>\n",
              "    </tr>\n",
              "    <tr>\n",
              "      <th>3</th>\n",
              "      <td>FBI Russia probe helped by Australian diplomat...</td>\n",
              "      <td>WASHINGTON (Reuters) - Trump campaign adviser ...</td>\n",
              "      <td>politicsNews</td>\n",
              "      <td>December 30, 2017</td>\n",
              "    </tr>\n",
              "    <tr>\n",
              "      <th>4</th>\n",
              "      <td>Trump wants Postal Service to charge 'much mor...</td>\n",
              "      <td>SEATTLE/WASHINGTON (Reuters) - President Donal...</td>\n",
              "      <td>politicsNews</td>\n",
              "      <td>December 29, 2017</td>\n",
              "    </tr>\n",
              "    <tr>\n",
              "      <th>...</th>\n",
              "      <td>...</td>\n",
              "      <td>...</td>\n",
              "      <td>...</td>\n",
              "      <td>...</td>\n",
              "    </tr>\n",
              "    <tr>\n",
              "      <th>21412</th>\n",
              "      <td>'Fully committed' NATO backs new U.S. approach...</td>\n",
              "      <td>BRUSSELS (Reuters) - NATO allies on Tuesday we...</td>\n",
              "      <td>worldnews</td>\n",
              "      <td>August 22, 2017</td>\n",
              "    </tr>\n",
              "    <tr>\n",
              "      <th>21413</th>\n",
              "      <td>LexisNexis withdrew two products from Chinese ...</td>\n",
              "      <td>LONDON (Reuters) - LexisNexis, a provider of l...</td>\n",
              "      <td>worldnews</td>\n",
              "      <td>August 22, 2017</td>\n",
              "    </tr>\n",
              "    <tr>\n",
              "      <th>21414</th>\n",
              "      <td>Minsk cultural hub becomes haven from authorities</td>\n",
              "      <td>MINSK (Reuters) - In the shadow of disused Sov...</td>\n",
              "      <td>worldnews</td>\n",
              "      <td>August 22, 2017</td>\n",
              "    </tr>\n",
              "    <tr>\n",
              "      <th>21415</th>\n",
              "      <td>Vatican upbeat on possibility of Pope Francis ...</td>\n",
              "      <td>MOSCOW (Reuters) - Vatican Secretary of State ...</td>\n",
              "      <td>worldnews</td>\n",
              "      <td>August 22, 2017</td>\n",
              "    </tr>\n",
              "    <tr>\n",
              "      <th>21416</th>\n",
              "      <td>Indonesia to buy $1.14 billion worth of Russia...</td>\n",
              "      <td>JAKARTA (Reuters) - Indonesia will buy 11 Sukh...</td>\n",
              "      <td>worldnews</td>\n",
              "      <td>August 22, 2017</td>\n",
              "    </tr>\n",
              "  </tbody>\n",
              "</table>\n",
              "<p>21417 rows × 4 columns</p>\n",
              "</div>"
            ],
            "text/plain": [
              "                                                   title  \\\n",
              "0      As U.S. budget fight looms, Republicans flip t...   \n",
              "1      U.S. military to accept transgender recruits o...   \n",
              "2      Senior U.S. Republican senator: 'Let Mr. Muell...   \n",
              "3      FBI Russia probe helped by Australian diplomat...   \n",
              "4      Trump wants Postal Service to charge 'much mor...   \n",
              "...                                                  ...   \n",
              "21412  'Fully committed' NATO backs new U.S. approach...   \n",
              "21413  LexisNexis withdrew two products from Chinese ...   \n",
              "21414  Minsk cultural hub becomes haven from authorities   \n",
              "21415  Vatican upbeat on possibility of Pope Francis ...   \n",
              "21416  Indonesia to buy $1.14 billion worth of Russia...   \n",
              "\n",
              "                                                    text       subject  \\\n",
              "0      WASHINGTON (Reuters) - The head of a conservat...  politicsNews   \n",
              "1      WASHINGTON (Reuters) - Transgender people will...  politicsNews   \n",
              "2      WASHINGTON (Reuters) - The special counsel inv...  politicsNews   \n",
              "3      WASHINGTON (Reuters) - Trump campaign adviser ...  politicsNews   \n",
              "4      SEATTLE/WASHINGTON (Reuters) - President Donal...  politicsNews   \n",
              "...                                                  ...           ...   \n",
              "21412  BRUSSELS (Reuters) - NATO allies on Tuesday we...     worldnews   \n",
              "21413  LONDON (Reuters) - LexisNexis, a provider of l...     worldnews   \n",
              "21414  MINSK (Reuters) - In the shadow of disused Sov...     worldnews   \n",
              "21415  MOSCOW (Reuters) - Vatican Secretary of State ...     worldnews   \n",
              "21416  JAKARTA (Reuters) - Indonesia will buy 11 Sukh...     worldnews   \n",
              "\n",
              "                     date  \n",
              "0      December 31, 2017   \n",
              "1      December 29, 2017   \n",
              "2      December 31, 2017   \n",
              "3      December 30, 2017   \n",
              "4      December 29, 2017   \n",
              "...                   ...  \n",
              "21412    August 22, 2017   \n",
              "21413    August 22, 2017   \n",
              "21414    August 22, 2017   \n",
              "21415    August 22, 2017   \n",
              "21416    August 22, 2017   \n",
              "\n",
              "[21417 rows x 4 columns]"
            ]
          },
          "execution_count": 4,
          "metadata": {},
          "output_type": "execute_result"
        }
      ],
      "source": [
        "true"
      ]
    },
    {
      "cell_type": "code",
      "execution_count": 5,
      "metadata": {},
      "outputs": [
        {
          "data": {
            "text/html": [
              "<div>\n",
              "<style scoped>\n",
              "    .dataframe tbody tr th:only-of-type {\n",
              "        vertical-align: middle;\n",
              "    }\n",
              "\n",
              "    .dataframe tbody tr th {\n",
              "        vertical-align: top;\n",
              "    }\n",
              "\n",
              "    .dataframe thead th {\n",
              "        text-align: right;\n",
              "    }\n",
              "</style>\n",
              "<table border=\"1\" class=\"dataframe\">\n",
              "  <thead>\n",
              "    <tr style=\"text-align: right;\">\n",
              "      <th></th>\n",
              "      <th>title</th>\n",
              "      <th>text</th>\n",
              "      <th>subject</th>\n",
              "      <th>date</th>\n",
              "    </tr>\n",
              "  </thead>\n",
              "  <tbody>\n",
              "    <tr>\n",
              "      <th>0</th>\n",
              "      <td>Donald Trump Sends Out Embarrassing New Year’...</td>\n",
              "      <td>Donald Trump just couldn t wish all Americans ...</td>\n",
              "      <td>News</td>\n",
              "      <td>December 31, 2017</td>\n",
              "    </tr>\n",
              "    <tr>\n",
              "      <th>1</th>\n",
              "      <td>Drunk Bragging Trump Staffer Started Russian ...</td>\n",
              "      <td>House Intelligence Committee Chairman Devin Nu...</td>\n",
              "      <td>News</td>\n",
              "      <td>December 31, 2017</td>\n",
              "    </tr>\n",
              "    <tr>\n",
              "      <th>2</th>\n",
              "      <td>Sheriff David Clarke Becomes An Internet Joke...</td>\n",
              "      <td>On Friday, it was revealed that former Milwauk...</td>\n",
              "      <td>News</td>\n",
              "      <td>December 30, 2017</td>\n",
              "    </tr>\n",
              "    <tr>\n",
              "      <th>3</th>\n",
              "      <td>Trump Is So Obsessed He Even Has Obama’s Name...</td>\n",
              "      <td>On Christmas day, Donald Trump announced that ...</td>\n",
              "      <td>News</td>\n",
              "      <td>December 29, 2017</td>\n",
              "    </tr>\n",
              "    <tr>\n",
              "      <th>4</th>\n",
              "      <td>Pope Francis Just Called Out Donald Trump Dur...</td>\n",
              "      <td>Pope Francis used his annual Christmas Day mes...</td>\n",
              "      <td>News</td>\n",
              "      <td>December 25, 2017</td>\n",
              "    </tr>\n",
              "    <tr>\n",
              "      <th>...</th>\n",
              "      <td>...</td>\n",
              "      <td>...</td>\n",
              "      <td>...</td>\n",
              "      <td>...</td>\n",
              "    </tr>\n",
              "    <tr>\n",
              "      <th>23476</th>\n",
              "      <td>McPain: John McCain Furious That Iran Treated ...</td>\n",
              "      <td>21st Century Wire says As 21WIRE reported earl...</td>\n",
              "      <td>Middle-east</td>\n",
              "      <td>January 16, 2016</td>\n",
              "    </tr>\n",
              "    <tr>\n",
              "      <th>23477</th>\n",
              "      <td>JUSTICE? Yahoo Settles E-mail Privacy Class-ac...</td>\n",
              "      <td>21st Century Wire says It s a familiar theme. ...</td>\n",
              "      <td>Middle-east</td>\n",
              "      <td>January 16, 2016</td>\n",
              "    </tr>\n",
              "    <tr>\n",
              "      <th>23478</th>\n",
              "      <td>Sunnistan: US and Allied ‘Safe Zone’ Plan to T...</td>\n",
              "      <td>Patrick Henningsen  21st Century WireRemember ...</td>\n",
              "      <td>Middle-east</td>\n",
              "      <td>January 15, 2016</td>\n",
              "    </tr>\n",
              "    <tr>\n",
              "      <th>23479</th>\n",
              "      <td>How to Blow $700 Million: Al Jazeera America F...</td>\n",
              "      <td>21st Century Wire says Al Jazeera America will...</td>\n",
              "      <td>Middle-east</td>\n",
              "      <td>January 14, 2016</td>\n",
              "    </tr>\n",
              "    <tr>\n",
              "      <th>23480</th>\n",
              "      <td>10 U.S. Navy Sailors Held by Iranian Military ...</td>\n",
              "      <td>21st Century Wire says As 21WIRE predicted in ...</td>\n",
              "      <td>Middle-east</td>\n",
              "      <td>January 12, 2016</td>\n",
              "    </tr>\n",
              "  </tbody>\n",
              "</table>\n",
              "<p>23481 rows × 4 columns</p>\n",
              "</div>"
            ],
            "text/plain": [
              "                                                   title  \\\n",
              "0       Donald Trump Sends Out Embarrassing New Year’...   \n",
              "1       Drunk Bragging Trump Staffer Started Russian ...   \n",
              "2       Sheriff David Clarke Becomes An Internet Joke...   \n",
              "3       Trump Is So Obsessed He Even Has Obama’s Name...   \n",
              "4       Pope Francis Just Called Out Donald Trump Dur...   \n",
              "...                                                  ...   \n",
              "23476  McPain: John McCain Furious That Iran Treated ...   \n",
              "23477  JUSTICE? Yahoo Settles E-mail Privacy Class-ac...   \n",
              "23478  Sunnistan: US and Allied ‘Safe Zone’ Plan to T...   \n",
              "23479  How to Blow $700 Million: Al Jazeera America F...   \n",
              "23480  10 U.S. Navy Sailors Held by Iranian Military ...   \n",
              "\n",
              "                                                    text      subject  \\\n",
              "0      Donald Trump just couldn t wish all Americans ...         News   \n",
              "1      House Intelligence Committee Chairman Devin Nu...         News   \n",
              "2      On Friday, it was revealed that former Milwauk...         News   \n",
              "3      On Christmas day, Donald Trump announced that ...         News   \n",
              "4      Pope Francis used his annual Christmas Day mes...         News   \n",
              "...                                                  ...          ...   \n",
              "23476  21st Century Wire says As 21WIRE reported earl...  Middle-east   \n",
              "23477  21st Century Wire says It s a familiar theme. ...  Middle-east   \n",
              "23478  Patrick Henningsen  21st Century WireRemember ...  Middle-east   \n",
              "23479  21st Century Wire says Al Jazeera America will...  Middle-east   \n",
              "23480  21st Century Wire says As 21WIRE predicted in ...  Middle-east   \n",
              "\n",
              "                    date  \n",
              "0      December 31, 2017  \n",
              "1      December 31, 2017  \n",
              "2      December 30, 2017  \n",
              "3      December 29, 2017  \n",
              "4      December 25, 2017  \n",
              "...                  ...  \n",
              "23476   January 16, 2016  \n",
              "23477   January 16, 2016  \n",
              "23478   January 15, 2016  \n",
              "23479   January 14, 2016  \n",
              "23480   January 12, 2016  \n",
              "\n",
              "[23481 rows x 4 columns]"
            ]
          },
          "execution_count": 5,
          "metadata": {},
          "output_type": "execute_result"
        }
      ],
      "source": [
        "fake"
      ]
    },
    {
      "cell_type": "code",
      "execution_count": 6,
      "metadata": {
        "id": "p0qwlS7_0vFs"
      },
      "outputs": [],
      "source": [
        "true['label'] = 1\n",
        "fake['label'] = 0"
      ]
    },
    {
      "cell_type": "markdown",
      "metadata": {
        "id": "hO6ZSmJj0IOY"
      },
      "source": [
        "# Data Preprocessing"
      ]
    },
    {
      "cell_type": "markdown",
      "metadata": {
        "id": "f22lfWgz-Mde"
      },
      "source": [
        "## Data Integration"
      ]
    },
    {
      "cell_type": "code",
      "execution_count": 7,
      "metadata": {
        "id": "Ta4gYvnv06jF"
      },
      "outputs": [],
      "source": [
        "news = pd.concat([fake, true], axis=0)"
      ]
    },
    {
      "cell_type": "code",
      "execution_count": 8,
      "metadata": {
        "colab": {
          "base_uri": "https://localhost:8080/",
          "height": 206
        },
        "id": "zkoGn59u1JND",
        "outputId": "8a85d01c-5bb8-4da8-cfef-87ff8003c339"
      },
      "outputs": [
        {
          "data": {
            "text/html": [
              "<div>\n",
              "<style scoped>\n",
              "    .dataframe tbody tr th:only-of-type {\n",
              "        vertical-align: middle;\n",
              "    }\n",
              "\n",
              "    .dataframe tbody tr th {\n",
              "        vertical-align: top;\n",
              "    }\n",
              "\n",
              "    .dataframe thead th {\n",
              "        text-align: right;\n",
              "    }\n",
              "</style>\n",
              "<table border=\"1\" class=\"dataframe\">\n",
              "  <thead>\n",
              "    <tr style=\"text-align: right;\">\n",
              "      <th></th>\n",
              "      <th>title</th>\n",
              "      <th>text</th>\n",
              "      <th>subject</th>\n",
              "      <th>date</th>\n",
              "      <th>label</th>\n",
              "    </tr>\n",
              "  </thead>\n",
              "  <tbody>\n",
              "    <tr>\n",
              "      <th>0</th>\n",
              "      <td>Donald Trump Sends Out Embarrassing New Year’...</td>\n",
              "      <td>Donald Trump just couldn t wish all Americans ...</td>\n",
              "      <td>News</td>\n",
              "      <td>December 31, 2017</td>\n",
              "      <td>0</td>\n",
              "    </tr>\n",
              "    <tr>\n",
              "      <th>1</th>\n",
              "      <td>Drunk Bragging Trump Staffer Started Russian ...</td>\n",
              "      <td>House Intelligence Committee Chairman Devin Nu...</td>\n",
              "      <td>News</td>\n",
              "      <td>December 31, 2017</td>\n",
              "      <td>0</td>\n",
              "    </tr>\n",
              "    <tr>\n",
              "      <th>2</th>\n",
              "      <td>Sheriff David Clarke Becomes An Internet Joke...</td>\n",
              "      <td>On Friday, it was revealed that former Milwauk...</td>\n",
              "      <td>News</td>\n",
              "      <td>December 30, 2017</td>\n",
              "      <td>0</td>\n",
              "    </tr>\n",
              "    <tr>\n",
              "      <th>3</th>\n",
              "      <td>Trump Is So Obsessed He Even Has Obama’s Name...</td>\n",
              "      <td>On Christmas day, Donald Trump announced that ...</td>\n",
              "      <td>News</td>\n",
              "      <td>December 29, 2017</td>\n",
              "      <td>0</td>\n",
              "    </tr>\n",
              "    <tr>\n",
              "      <th>4</th>\n",
              "      <td>Pope Francis Just Called Out Donald Trump Dur...</td>\n",
              "      <td>Pope Francis used his annual Christmas Day mes...</td>\n",
              "      <td>News</td>\n",
              "      <td>December 25, 2017</td>\n",
              "      <td>0</td>\n",
              "    </tr>\n",
              "  </tbody>\n",
              "</table>\n",
              "</div>"
            ],
            "text/plain": [
              "                                               title  \\\n",
              "0   Donald Trump Sends Out Embarrassing New Year’...   \n",
              "1   Drunk Bragging Trump Staffer Started Russian ...   \n",
              "2   Sheriff David Clarke Becomes An Internet Joke...   \n",
              "3   Trump Is So Obsessed He Even Has Obama’s Name...   \n",
              "4   Pope Francis Just Called Out Donald Trump Dur...   \n",
              "\n",
              "                                                text subject  \\\n",
              "0  Donald Trump just couldn t wish all Americans ...    News   \n",
              "1  House Intelligence Committee Chairman Devin Nu...    News   \n",
              "2  On Friday, it was revealed that former Milwauk...    News   \n",
              "3  On Christmas day, Donald Trump announced that ...    News   \n",
              "4  Pope Francis used his annual Christmas Day mes...    News   \n",
              "\n",
              "                date  label  \n",
              "0  December 31, 2017      0  \n",
              "1  December 31, 2017      0  \n",
              "2  December 30, 2017      0  \n",
              "3  December 29, 2017      0  \n",
              "4  December 25, 2017      0  "
            ]
          },
          "execution_count": 8,
          "metadata": {},
          "output_type": "execute_result"
        }
      ],
      "source": [
        "news.head()"
      ]
    },
    {
      "cell_type": "code",
      "execution_count": 9,
      "metadata": {
        "colab": {
          "base_uri": "https://localhost:8080/",
          "height": 206
        },
        "id": "ZviiGXln1QKW",
        "outputId": "3496612a-8723-443a-a323-148c26d3e419"
      },
      "outputs": [
        {
          "data": {
            "text/html": [
              "<div>\n",
              "<style scoped>\n",
              "    .dataframe tbody tr th:only-of-type {\n",
              "        vertical-align: middle;\n",
              "    }\n",
              "\n",
              "    .dataframe tbody tr th {\n",
              "        vertical-align: top;\n",
              "    }\n",
              "\n",
              "    .dataframe thead th {\n",
              "        text-align: right;\n",
              "    }\n",
              "</style>\n",
              "<table border=\"1\" class=\"dataframe\">\n",
              "  <thead>\n",
              "    <tr style=\"text-align: right;\">\n",
              "      <th></th>\n",
              "      <th>title</th>\n",
              "      <th>text</th>\n",
              "      <th>subject</th>\n",
              "      <th>date</th>\n",
              "      <th>label</th>\n",
              "    </tr>\n",
              "  </thead>\n",
              "  <tbody>\n",
              "    <tr>\n",
              "      <th>21412</th>\n",
              "      <td>'Fully committed' NATO backs new U.S. approach...</td>\n",
              "      <td>BRUSSELS (Reuters) - NATO allies on Tuesday we...</td>\n",
              "      <td>worldnews</td>\n",
              "      <td>August 22, 2017</td>\n",
              "      <td>1</td>\n",
              "    </tr>\n",
              "    <tr>\n",
              "      <th>21413</th>\n",
              "      <td>LexisNexis withdrew two products from Chinese ...</td>\n",
              "      <td>LONDON (Reuters) - LexisNexis, a provider of l...</td>\n",
              "      <td>worldnews</td>\n",
              "      <td>August 22, 2017</td>\n",
              "      <td>1</td>\n",
              "    </tr>\n",
              "    <tr>\n",
              "      <th>21414</th>\n",
              "      <td>Minsk cultural hub becomes haven from authorities</td>\n",
              "      <td>MINSK (Reuters) - In the shadow of disused Sov...</td>\n",
              "      <td>worldnews</td>\n",
              "      <td>August 22, 2017</td>\n",
              "      <td>1</td>\n",
              "    </tr>\n",
              "    <tr>\n",
              "      <th>21415</th>\n",
              "      <td>Vatican upbeat on possibility of Pope Francis ...</td>\n",
              "      <td>MOSCOW (Reuters) - Vatican Secretary of State ...</td>\n",
              "      <td>worldnews</td>\n",
              "      <td>August 22, 2017</td>\n",
              "      <td>1</td>\n",
              "    </tr>\n",
              "    <tr>\n",
              "      <th>21416</th>\n",
              "      <td>Indonesia to buy $1.14 billion worth of Russia...</td>\n",
              "      <td>JAKARTA (Reuters) - Indonesia will buy 11 Sukh...</td>\n",
              "      <td>worldnews</td>\n",
              "      <td>August 22, 2017</td>\n",
              "      <td>1</td>\n",
              "    </tr>\n",
              "  </tbody>\n",
              "</table>\n",
              "</div>"
            ],
            "text/plain": [
              "                                                   title  \\\n",
              "21412  'Fully committed' NATO backs new U.S. approach...   \n",
              "21413  LexisNexis withdrew two products from Chinese ...   \n",
              "21414  Minsk cultural hub becomes haven from authorities   \n",
              "21415  Vatican upbeat on possibility of Pope Francis ...   \n",
              "21416  Indonesia to buy $1.14 billion worth of Russia...   \n",
              "\n",
              "                                                    text    subject  \\\n",
              "21412  BRUSSELS (Reuters) - NATO allies on Tuesday we...  worldnews   \n",
              "21413  LONDON (Reuters) - LexisNexis, a provider of l...  worldnews   \n",
              "21414  MINSK (Reuters) - In the shadow of disused Sov...  worldnews   \n",
              "21415  MOSCOW (Reuters) - Vatican Secretary of State ...  worldnews   \n",
              "21416  JAKARTA (Reuters) - Indonesia will buy 11 Sukh...  worldnews   \n",
              "\n",
              "                   date  label  \n",
              "21412  August 22, 2017       1  \n",
              "21413  August 22, 2017       1  \n",
              "21414  August 22, 2017       1  \n",
              "21415  August 22, 2017       1  \n",
              "21416  August 22, 2017       1  "
            ]
          },
          "execution_count": 9,
          "metadata": {},
          "output_type": "execute_result"
        }
      ],
      "source": [
        "news.tail()"
      ]
    },
    {
      "cell_type": "markdown",
      "metadata": {
        "id": "5YIVeb254X4N"
      },
      "source": [
        "## Data Cleaning"
      ]
    },
    {
      "cell_type": "markdown",
      "metadata": {
        "id": "4ORVYAti4Nvb"
      },
      "source": [
        "### Checking Null Values"
      ]
    },
    {
      "cell_type": "code",
      "execution_count": 10,
      "metadata": {
        "colab": {
          "base_uri": "https://localhost:8080/"
        },
        "id": "NEftUMM_1WMU",
        "outputId": "04107a7f-8f29-4275-85f9-28442ceaef17"
      },
      "outputs": [
        {
          "data": {
            "text/plain": [
              "title      0\n",
              "text       0\n",
              "subject    0\n",
              "date       0\n",
              "label      0\n",
              "dtype: int64"
            ]
          },
          "execution_count": 10,
          "metadata": {},
          "output_type": "execute_result"
        }
      ],
      "source": [
        "news.isnull().sum()"
      ]
    },
    {
      "cell_type": "markdown",
      "metadata": {
        "id": "CqJTHTO04UAT"
      },
      "source": [
        "### Dropping Unnecessary Column"
      ]
    },
    {
      "cell_type": "code",
      "execution_count": 11,
      "metadata": {
        "colab": {
          "base_uri": "https://localhost:8080/"
        },
        "id": "3eZ-IN0f1g7U",
        "outputId": "9ff5e934-58a5-4f61-d245-331ab5290fc0"
      },
      "outputs": [],
      "source": [
        "news = news.drop(['title', 'subject', 'date'], axis=1)"
      ]
    },
    {
      "cell_type": "code",
      "execution_count": 12,
      "metadata": {
        "colab": {
          "base_uri": "https://localhost:8080/"
        },
        "id": "5hl5TYW810Rl",
        "outputId": "3bba1320-2674-4232-8e67-f3710c7b24c0"
      },
      "outputs": [
        {
          "data": {
            "text/html": [
              "<div>\n",
              "<style scoped>\n",
              "    .dataframe tbody tr th:only-of-type {\n",
              "        vertical-align: middle;\n",
              "    }\n",
              "\n",
              "    .dataframe tbody tr th {\n",
              "        vertical-align: top;\n",
              "    }\n",
              "\n",
              "    .dataframe thead th {\n",
              "        text-align: right;\n",
              "    }\n",
              "</style>\n",
              "<table border=\"1\" class=\"dataframe\">\n",
              "  <thead>\n",
              "    <tr style=\"text-align: right;\">\n",
              "      <th></th>\n",
              "      <th>text</th>\n",
              "      <th>label</th>\n",
              "    </tr>\n",
              "  </thead>\n",
              "  <tbody>\n",
              "    <tr>\n",
              "      <th>0</th>\n",
              "      <td>Donald Trump just couldn t wish all Americans ...</td>\n",
              "      <td>0</td>\n",
              "    </tr>\n",
              "    <tr>\n",
              "      <th>1</th>\n",
              "      <td>House Intelligence Committee Chairman Devin Nu...</td>\n",
              "      <td>0</td>\n",
              "    </tr>\n",
              "    <tr>\n",
              "      <th>2</th>\n",
              "      <td>On Friday, it was revealed that former Milwauk...</td>\n",
              "      <td>0</td>\n",
              "    </tr>\n",
              "    <tr>\n",
              "      <th>3</th>\n",
              "      <td>On Christmas day, Donald Trump announced that ...</td>\n",
              "      <td>0</td>\n",
              "    </tr>\n",
              "    <tr>\n",
              "      <th>4</th>\n",
              "      <td>Pope Francis used his annual Christmas Day mes...</td>\n",
              "      <td>0</td>\n",
              "    </tr>\n",
              "    <tr>\n",
              "      <th>...</th>\n",
              "      <td>...</td>\n",
              "      <td>...</td>\n",
              "    </tr>\n",
              "    <tr>\n",
              "      <th>21412</th>\n",
              "      <td>BRUSSELS (Reuters) - NATO allies on Tuesday we...</td>\n",
              "      <td>1</td>\n",
              "    </tr>\n",
              "    <tr>\n",
              "      <th>21413</th>\n",
              "      <td>LONDON (Reuters) - LexisNexis, a provider of l...</td>\n",
              "      <td>1</td>\n",
              "    </tr>\n",
              "    <tr>\n",
              "      <th>21414</th>\n",
              "      <td>MINSK (Reuters) - In the shadow of disused Sov...</td>\n",
              "      <td>1</td>\n",
              "    </tr>\n",
              "    <tr>\n",
              "      <th>21415</th>\n",
              "      <td>MOSCOW (Reuters) - Vatican Secretary of State ...</td>\n",
              "      <td>1</td>\n",
              "    </tr>\n",
              "    <tr>\n",
              "      <th>21416</th>\n",
              "      <td>JAKARTA (Reuters) - Indonesia will buy 11 Sukh...</td>\n",
              "      <td>1</td>\n",
              "    </tr>\n",
              "  </tbody>\n",
              "</table>\n",
              "<p>44898 rows × 2 columns</p>\n",
              "</div>"
            ],
            "text/plain": [
              "                                                    text  label\n",
              "0      Donald Trump just couldn t wish all Americans ...      0\n",
              "1      House Intelligence Committee Chairman Devin Nu...      0\n",
              "2      On Friday, it was revealed that former Milwauk...      0\n",
              "3      On Christmas day, Donald Trump announced that ...      0\n",
              "4      Pope Francis used his annual Christmas Day mes...      0\n",
              "...                                                  ...    ...\n",
              "21412  BRUSSELS (Reuters) - NATO allies on Tuesday we...      1\n",
              "21413  LONDON (Reuters) - LexisNexis, a provider of l...      1\n",
              "21414  MINSK (Reuters) - In the shadow of disused Sov...      1\n",
              "21415  MOSCOW (Reuters) - Vatican Secretary of State ...      1\n",
              "21416  JAKARTA (Reuters) - Indonesia will buy 11 Sukh...      1\n",
              "\n",
              "[44898 rows x 2 columns]"
            ]
          },
          "execution_count": 12,
          "metadata": {},
          "output_type": "execute_result"
        }
      ],
      "source": [
        "news"
      ]
    },
    {
      "cell_type": "markdown",
      "metadata": {
        "id": "tfqYltCd2Ay7"
      },
      "source": [
        "### Scramble Data"
      ]
    },
    {
      "cell_type": "code",
      "execution_count": 13,
      "metadata": {
        "id": "jwcQVyPB2AV1"
      },
      "outputs": [],
      "source": [
        "news = news.sample(frac=1)\n",
        "news.reset_index(inplace=True)\n",
        "news.drop(['index'], axis = 1, inplace=True)"
      ]
    },
    {
      "cell_type": "code",
      "execution_count": 14,
      "metadata": {
        "colab": {
          "base_uri": "https://localhost:8080/",
          "height": 424
        },
        "id": "inNtvDEw2YzL",
        "outputId": "bd010e62-ae0a-461b-a5ae-c855b91b58f8"
      },
      "outputs": [
        {
          "data": {
            "text/html": [
              "<div>\n",
              "<style scoped>\n",
              "    .dataframe tbody tr th:only-of-type {\n",
              "        vertical-align: middle;\n",
              "    }\n",
              "\n",
              "    .dataframe tbody tr th {\n",
              "        vertical-align: top;\n",
              "    }\n",
              "\n",
              "    .dataframe thead th {\n",
              "        text-align: right;\n",
              "    }\n",
              "</style>\n",
              "<table border=\"1\" class=\"dataframe\">\n",
              "  <thead>\n",
              "    <tr style=\"text-align: right;\">\n",
              "      <th></th>\n",
              "      <th>text</th>\n",
              "      <th>label</th>\n",
              "    </tr>\n",
              "  </thead>\n",
              "  <tbody>\n",
              "    <tr>\n",
              "      <th>0</th>\n",
              "      <td>MANCHESTER, England (Reuters) - Britain is wor...</td>\n",
              "      <td>1</td>\n",
              "    </tr>\n",
              "    <tr>\n",
              "      <th>1</th>\n",
              "      <td>WASHINGTON (Reuters) - The U.S. State Departme...</td>\n",
              "      <td>1</td>\n",
              "    </tr>\n",
              "    <tr>\n",
              "      <th>2</th>\n",
              "      <td>We ve already discussed Barack Obama s many ac...</td>\n",
              "      <td>0</td>\n",
              "    </tr>\n",
              "    <tr>\n",
              "      <th>3</th>\n",
              "      <td>WASHINGTON   President Trump said on Thursday ...</td>\n",
              "      <td>0</td>\n",
              "    </tr>\n",
              "    <tr>\n",
              "      <th>4</th>\n",
              "      <td>Just another nice immigrant family trying to a...</td>\n",
              "      <td>0</td>\n",
              "    </tr>\n",
              "    <tr>\n",
              "      <th>...</th>\n",
              "      <td>...</td>\n",
              "      <td>...</td>\n",
              "    </tr>\n",
              "    <tr>\n",
              "      <th>44893</th>\n",
              "      <td>In an outdoor ceremony to celebrate the super ...</td>\n",
              "      <td>0</td>\n",
              "    </tr>\n",
              "    <tr>\n",
              "      <th>44894</th>\n",
              "      <td>21st Century Wire says One TV personality Tru...</td>\n",
              "      <td>0</td>\n",
              "    </tr>\n",
              "    <tr>\n",
              "      <th>44895</th>\n",
              "      <td>SEOUL (Reuters) - North Korean leader Kim Jong...</td>\n",
              "      <td>1</td>\n",
              "    </tr>\n",
              "    <tr>\n",
              "      <th>44896</th>\n",
              "      <td>On Wednesday, the GOP   in an effort to deflec...</td>\n",
              "      <td>0</td>\n",
              "    </tr>\n",
              "    <tr>\n",
              "      <th>44897</th>\n",
              "      <td>The LA Times Reported yesterday that Hillary C...</td>\n",
              "      <td>0</td>\n",
              "    </tr>\n",
              "  </tbody>\n",
              "</table>\n",
              "<p>44898 rows × 2 columns</p>\n",
              "</div>"
            ],
            "text/plain": [
              "                                                    text  label\n",
              "0      MANCHESTER, England (Reuters) - Britain is wor...      1\n",
              "1      WASHINGTON (Reuters) - The U.S. State Departme...      1\n",
              "2      We ve already discussed Barack Obama s many ac...      0\n",
              "3      WASHINGTON   President Trump said on Thursday ...      0\n",
              "4      Just another nice immigrant family trying to a...      0\n",
              "...                                                  ...    ...\n",
              "44893  In an outdoor ceremony to celebrate the super ...      0\n",
              "44894   21st Century Wire says One TV personality Tru...      0\n",
              "44895  SEOUL (Reuters) - North Korean leader Kim Jong...      1\n",
              "44896  On Wednesday, the GOP   in an effort to deflec...      0\n",
              "44897  The LA Times Reported yesterday that Hillary C...      0\n",
              "\n",
              "[44898 rows x 2 columns]"
            ]
          },
          "execution_count": 14,
          "metadata": {},
          "output_type": "execute_result"
        }
      ],
      "source": [
        "news"
      ]
    },
    {
      "cell_type": "markdown",
      "metadata": {
        "id": "Lv79x69_h2mm"
      },
      "source": [
        "### WordOPT"
      ]
    },
    {
      "cell_type": "code",
      "execution_count": 15,
      "metadata": {
        "id": "PgmWzBIMh5An"
      },
      "outputs": [],
      "source": [
        "def wordopt(text):\n",
        "    # Convert into lowercase\n",
        "    text = text.lower()\n",
        "\n",
        "    # Remove URLs\n",
        "    text = re.sub(r'https?://\\S+|\\www\\.\\S+', '', text)\n",
        "\n",
        "    # Remove HTML tags\n",
        "    text = re.sub(r'<.*?>', '', text)\n",
        "\n",
        "    # Remove punctuation\n",
        "    text = re.sub(r'[^\\w\\s]', '', text)\n",
        "\n",
        "    # Remove digits\n",
        "    text = re.sub(r'\\d', '', text)\n",
        "\n",
        "    # Remove newline characters\n",
        "    text = re.sub(r'\\n', ' ', text)\n",
        "\n",
        "    return text\n"
      ]
    },
    {
      "cell_type": "code",
      "execution_count": 16,
      "metadata": {
        "id": "jFjL2woXh75n"
      },
      "outputs": [],
      "source": [
        "news['text'] = news['text'].apply(wordopt)"
      ]
    },
    {
      "cell_type": "code",
      "execution_count": 17,
      "metadata": {
        "colab": {
          "base_uri": "https://localhost:8080/"
        },
        "id": "5Ms1bNXFh81_",
        "outputId": "9b42b98c-cf88-4023-df63-45d01c4151d0"
      },
      "outputs": [
        {
          "data": {
            "text/plain": [
              "0        manchester england reuters  britain is worried...\n",
              "1        washington reuters  the us state department on...\n",
              "2        we ve already discussed barack obama s many ac...\n",
              "3        washington   president trump said on thursday ...\n",
              "4        just another nice immigrant family trying to a...\n",
              "                               ...                        \n",
              "44893    in an outdoor ceremony to celebrate the super ...\n",
              "44894     st century wire says one tv personality trump...\n",
              "44895    seoul reuters  north korean leader kim jong un...\n",
              "44896    on wednesday the gop   in an effort to deflect...\n",
              "44897    the la times reported yesterday that hillary c...\n",
              "Name: text, Length: 44898, dtype: object"
            ]
          },
          "execution_count": 17,
          "metadata": {},
          "output_type": "execute_result"
        }
      ],
      "source": [
        "news['text']"
      ]
    },
    {
      "cell_type": "markdown",
      "metadata": {
        "id": "z-LySb-oLHaH"
      },
      "source": [
        "## Stopwords and Stemming"
      ]
    },
    {
      "cell_type": "code",
      "execution_count": 18,
      "metadata": {
        "colab": {
          "base_uri": "https://localhost:8080/"
        },
        "id": "yzGc9_flLUtn",
        "outputId": "2b065b87-b83b-454a-a8fe-85ee1a91ab86"
      },
      "outputs": [
        {
          "name": "stderr",
          "output_type": "stream",
          "text": [
            "[nltk_data] Downloading package stopwords to\n",
            "[nltk_data]     C:\\Users\\Kalea\\AppData\\Roaming\\nltk_data...\n",
            "[nltk_data]   Package stopwords is already up-to-date!\n"
          ]
        },
        {
          "data": {
            "text/plain": [
              "True"
            ]
          },
          "execution_count": 18,
          "metadata": {},
          "output_type": "execute_result"
        }
      ],
      "source": [
        "nltk.download('stopwords')"
      ]
    },
    {
      "cell_type": "code",
      "execution_count": 19,
      "metadata": {
        "id": "SrvPrXWWLWlo"
      },
      "outputs": [],
      "source": [
        "stop_words = set(stopwords.words('english'))\n",
        "stemmer = PorterStemmer()"
      ]
    },
    {
      "cell_type": "code",
      "execution_count": 20,
      "metadata": {
        "id": "USpGSvCGLaiz"
      },
      "outputs": [],
      "source": [
        "def preprocess_text(text):\n",
        "    words = text.split()\n",
        "\n",
        "    # Hapus stopwords dan stem kata\n",
        "    processed_words = [stemmer.stem(word) for word in words if word.lower() not in stop_words]\n",
        "\n",
        "    # Gabungkan kembali kata yang telah diproses\n",
        "    return ' '.join(processed_words)"
      ]
    },
    {
      "cell_type": "code",
      "execution_count": 21,
      "metadata": {
        "id": "ATDdLYG1iRyh"
      },
      "outputs": [],
      "source": [
        "X_stem = [preprocess_text(sentence) for sentence in news['text']]"
      ]
    },
    {
      "cell_type": "markdown",
      "metadata": {
        "id": "BT3EZ4F-_LtT"
      },
      "source": [
        "## Split Data"
      ]
    },
    {
      "cell_type": "code",
      "execution_count": 22,
      "metadata": {},
      "outputs": [],
      "source": [
        "x = news['text']\n",
        "y = news['label']"
      ]
    },
    {
      "cell_type": "markdown",
      "metadata": {
        "id": "jnksoslnKzQk"
      },
      "source": [
        "### Split Data: TF-IDF"
      ]
    },
    {
      "cell_type": "code",
      "execution_count": 23,
      "metadata": {},
      "outputs": [],
      "source": [
        "x_train, x_test, y_train, y_test = train_test_split(x, y, test_size=0.3, random_state=10)"
      ]
    },
    {
      "cell_type": "markdown",
      "metadata": {
        "id": "P02IQDQMNJll"
      },
      "source": [
        "### Split Data: TF IDF & Stemming & Stopwords"
      ]
    },
    {
      "cell_type": "code",
      "execution_count": 24,
      "metadata": {},
      "outputs": [],
      "source": [
        "x_train_stem, x_test_stem, y_train_stem, y_test_stem = train_test_split(X_stem, y, test_size=0.3, random_state=10)"
      ]
    },
    {
      "cell_type": "markdown",
      "metadata": {
        "id": "Av6a1-GnDL1c"
      },
      "source": [
        "# Model"
      ]
    },
    {
      "cell_type": "markdown",
      "metadata": {
        "id": "A6KWvR3Lh4D_"
      },
      "source": [
        "## Logistic Regression Model"
      ]
    },
    {
      "cell_type": "markdown",
      "metadata": {
        "id": "Jhe55q5I1MCk"
      },
      "source": [
        "### Model Logistic Regression"
      ]
    },
    {
      "cell_type": "code",
      "execution_count": 25,
      "metadata": {
        "id": "moF-3aBbihOE"
      },
      "outputs": [],
      "source": [
        "tf_idf_LR = Pipeline([\n",
        "    ('tfidf', TfidfVectorizer()),\n",
        "    ('log_reg', LogisticRegression())\n",
        "])\n",
        "\n",
        "stem_LR = Pipeline([\n",
        "    ('tfidf', TfidfVectorizer()),\n",
        "    ('log_reg', LogisticRegression())\n",
        "]) \n",
        "\n",
        "full_LR = ImbPipeline([\n",
        "    ('tfidf', TfidfVectorizer()),\n",
        "    ('smote', SMOTE()),\n",
        "    ('scaler', StandardScaler(with_mean=False)),\n",
        "    ('log_reg', LogisticRegression(class_weight='balanced'))\n",
        "])"
      ]
    },
    {
      "cell_type": "code",
      "execution_count": 26,
      "metadata": {
        "colab": {
          "base_uri": "https://localhost:8080/",
          "height": 75
        },
        "id": "aYWsZCyzKKWu",
        "outputId": "fd149db6-5c90-448e-f62b-7318ca636110"
      },
      "outputs": [
        {
          "data": {
            "text/html": [
              "<style>#sk-container-id-1 {color: black;}#sk-container-id-1 pre{padding: 0;}#sk-container-id-1 div.sk-toggleable {background-color: white;}#sk-container-id-1 label.sk-toggleable__label {cursor: pointer;display: block;width: 100%;margin-bottom: 0;padding: 0.3em;box-sizing: border-box;text-align: center;}#sk-container-id-1 label.sk-toggleable__label-arrow:before {content: \"▸\";float: left;margin-right: 0.25em;color: #696969;}#sk-container-id-1 label.sk-toggleable__label-arrow:hover:before {color: black;}#sk-container-id-1 div.sk-estimator:hover label.sk-toggleable__label-arrow:before {color: black;}#sk-container-id-1 div.sk-toggleable__content {max-height: 0;max-width: 0;overflow: hidden;text-align: left;background-color: #f0f8ff;}#sk-container-id-1 div.sk-toggleable__content pre {margin: 0.2em;color: black;border-radius: 0.25em;background-color: #f0f8ff;}#sk-container-id-1 input.sk-toggleable__control:checked~div.sk-toggleable__content {max-height: 200px;max-width: 100%;overflow: auto;}#sk-container-id-1 input.sk-toggleable__control:checked~label.sk-toggleable__label-arrow:before {content: \"▾\";}#sk-container-id-1 div.sk-estimator input.sk-toggleable__control:checked~label.sk-toggleable__label {background-color: #d4ebff;}#sk-container-id-1 div.sk-label input.sk-toggleable__control:checked~label.sk-toggleable__label {background-color: #d4ebff;}#sk-container-id-1 input.sk-hidden--visually {border: 0;clip: rect(1px 1px 1px 1px);clip: rect(1px, 1px, 1px, 1px);height: 1px;margin: -1px;overflow: hidden;padding: 0;position: absolute;width: 1px;}#sk-container-id-1 div.sk-estimator {font-family: monospace;background-color: #f0f8ff;border: 1px dotted black;border-radius: 0.25em;box-sizing: border-box;margin-bottom: 0.5em;}#sk-container-id-1 div.sk-estimator:hover {background-color: #d4ebff;}#sk-container-id-1 div.sk-parallel-item::after {content: \"\";width: 100%;border-bottom: 1px solid gray;flex-grow: 1;}#sk-container-id-1 div.sk-label:hover label.sk-toggleable__label {background-color: #d4ebff;}#sk-container-id-1 div.sk-serial::before {content: \"\";position: absolute;border-left: 1px solid gray;box-sizing: border-box;top: 0;bottom: 0;left: 50%;z-index: 0;}#sk-container-id-1 div.sk-serial {display: flex;flex-direction: column;align-items: center;background-color: white;padding-right: 0.2em;padding-left: 0.2em;position: relative;}#sk-container-id-1 div.sk-item {position: relative;z-index: 1;}#sk-container-id-1 div.sk-parallel {display: flex;align-items: stretch;justify-content: center;background-color: white;position: relative;}#sk-container-id-1 div.sk-item::before, #sk-container-id-1 div.sk-parallel-item::before {content: \"\";position: absolute;border-left: 1px solid gray;box-sizing: border-box;top: 0;bottom: 0;left: 50%;z-index: -1;}#sk-container-id-1 div.sk-parallel-item {display: flex;flex-direction: column;z-index: 1;position: relative;background-color: white;}#sk-container-id-1 div.sk-parallel-item:first-child::after {align-self: flex-end;width: 50%;}#sk-container-id-1 div.sk-parallel-item:last-child::after {align-self: flex-start;width: 50%;}#sk-container-id-1 div.sk-parallel-item:only-child::after {width: 0;}#sk-container-id-1 div.sk-dashed-wrapped {border: 1px dashed gray;margin: 0 0.4em 0.5em 0.4em;box-sizing: border-box;padding-bottom: 0.4em;background-color: white;}#sk-container-id-1 div.sk-label label {font-family: monospace;font-weight: bold;display: inline-block;line-height: 1.2em;}#sk-container-id-1 div.sk-label-container {text-align: center;}#sk-container-id-1 div.sk-container {/* jupyter's `normalize.less` sets `[hidden] { display: none; }` but bootstrap.min.css set `[hidden] { display: none !important; }` so we also need the `!important` here to be able to override the default hidden behavior on the sphinx rendered scikit-learn.org. See: https://github.com/scikit-learn/scikit-learn/issues/21755 */display: inline-block !important;position: relative;}#sk-container-id-1 div.sk-text-repr-fallback {display: none;}</style><div id=\"sk-container-id-1\" class=\"sk-top-container\"><div class=\"sk-text-repr-fallback\"><pre>Pipeline(steps=[(&#x27;tfidf&#x27;, TfidfVectorizer()), (&#x27;smote&#x27;, SMOTE()),\n",
              "                (&#x27;scaler&#x27;, StandardScaler(with_mean=False)),\n",
              "                (&#x27;log_reg&#x27;, LogisticRegression(class_weight=&#x27;balanced&#x27;))])</pre><b>In a Jupyter environment, please rerun this cell to show the HTML representation or trust the notebook. <br />On GitHub, the HTML representation is unable to render, please try loading this page with nbviewer.org.</b></div><div class=\"sk-container\" hidden><div class=\"sk-item sk-dashed-wrapped\"><div class=\"sk-label-container\"><div class=\"sk-label sk-toggleable\"><input class=\"sk-toggleable__control sk-hidden--visually\" id=\"sk-estimator-id-1\" type=\"checkbox\" ><label for=\"sk-estimator-id-1\" class=\"sk-toggleable__label sk-toggleable__label-arrow\">Pipeline</label><div class=\"sk-toggleable__content\"><pre>Pipeline(steps=[(&#x27;tfidf&#x27;, TfidfVectorizer()), (&#x27;smote&#x27;, SMOTE()),\n",
              "                (&#x27;scaler&#x27;, StandardScaler(with_mean=False)),\n",
              "                (&#x27;log_reg&#x27;, LogisticRegression(class_weight=&#x27;balanced&#x27;))])</pre></div></div></div><div class=\"sk-serial\"><div class=\"sk-item\"><div class=\"sk-estimator sk-toggleable\"><input class=\"sk-toggleable__control sk-hidden--visually\" id=\"sk-estimator-id-2\" type=\"checkbox\" ><label for=\"sk-estimator-id-2\" class=\"sk-toggleable__label sk-toggleable__label-arrow\">TfidfVectorizer</label><div class=\"sk-toggleable__content\"><pre>TfidfVectorizer()</pre></div></div></div><div class=\"sk-item\"><div class=\"sk-estimator sk-toggleable\"><input class=\"sk-toggleable__control sk-hidden--visually\" id=\"sk-estimator-id-3\" type=\"checkbox\" ><label for=\"sk-estimator-id-3\" class=\"sk-toggleable__label sk-toggleable__label-arrow\">SMOTE</label><div class=\"sk-toggleable__content\"><pre>SMOTE()</pre></div></div></div><div class=\"sk-item\"><div class=\"sk-estimator sk-toggleable\"><input class=\"sk-toggleable__control sk-hidden--visually\" id=\"sk-estimator-id-4\" type=\"checkbox\" ><label for=\"sk-estimator-id-4\" class=\"sk-toggleable__label sk-toggleable__label-arrow\">StandardScaler</label><div class=\"sk-toggleable__content\"><pre>StandardScaler(with_mean=False)</pre></div></div></div><div class=\"sk-item\"><div class=\"sk-estimator sk-toggleable\"><input class=\"sk-toggleable__control sk-hidden--visually\" id=\"sk-estimator-id-5\" type=\"checkbox\" ><label for=\"sk-estimator-id-5\" class=\"sk-toggleable__label sk-toggleable__label-arrow\">LogisticRegression</label><div class=\"sk-toggleable__content\"><pre>LogisticRegression(class_weight=&#x27;balanced&#x27;)</pre></div></div></div></div></div></div></div>"
            ],
            "text/plain": [
              "Pipeline(steps=[('tfidf', TfidfVectorizer()), ('smote', SMOTE()),\n",
              "                ('scaler', StandardScaler(with_mean=False)),\n",
              "                ('log_reg', LogisticRegression(class_weight='balanced'))])"
            ]
          },
          "execution_count": 26,
          "metadata": {},
          "output_type": "execute_result"
        }
      ],
      "source": [
        "tf_idf_LR.fit(x_train, y_train)\n",
        "stem_LR.fit(x_train_stem, y_train_stem)\n",
        "full_LR.fit(x_train_stem, y_train_stem)"
      ]
    },
    {
      "cell_type": "code",
      "execution_count": 27,
      "metadata": {},
      "outputs": [
        {
          "name": "stderr",
          "output_type": "stream",
          "text": [
            "c:\\Users\\Kalea\\AppData\\Local\\Programs\\Python\\Python310\\lib\\site-packages\\sklearn\\linear_model\\_logistic.py:460: ConvergenceWarning: lbfgs failed to converge (status=1):\n",
            "STOP: TOTAL NO. of ITERATIONS REACHED LIMIT.\n",
            "\n",
            "Increase the number of iterations (max_iter) or scale the data as shown in:\n",
            "    https://scikit-learn.org/stable/modules/preprocessing.html\n",
            "Please also refer to the documentation for alternative solver options:\n",
            "    https://scikit-learn.org/stable/modules/linear_model.html#logistic-regression\n",
            "  n_iter_i = _check_optimize_result(\n"
          ]
        },
        {
          "data": {
            "text/html": [
              "<style>#sk-container-id-2 {color: black;}#sk-container-id-2 pre{padding: 0;}#sk-container-id-2 div.sk-toggleable {background-color: white;}#sk-container-id-2 label.sk-toggleable__label {cursor: pointer;display: block;width: 100%;margin-bottom: 0;padding: 0.3em;box-sizing: border-box;text-align: center;}#sk-container-id-2 label.sk-toggleable__label-arrow:before {content: \"▸\";float: left;margin-right: 0.25em;color: #696969;}#sk-container-id-2 label.sk-toggleable__label-arrow:hover:before {color: black;}#sk-container-id-2 div.sk-estimator:hover label.sk-toggleable__label-arrow:before {color: black;}#sk-container-id-2 div.sk-toggleable__content {max-height: 0;max-width: 0;overflow: hidden;text-align: left;background-color: #f0f8ff;}#sk-container-id-2 div.sk-toggleable__content pre {margin: 0.2em;color: black;border-radius: 0.25em;background-color: #f0f8ff;}#sk-container-id-2 input.sk-toggleable__control:checked~div.sk-toggleable__content {max-height: 200px;max-width: 100%;overflow: auto;}#sk-container-id-2 input.sk-toggleable__control:checked~label.sk-toggleable__label-arrow:before {content: \"▾\";}#sk-container-id-2 div.sk-estimator input.sk-toggleable__control:checked~label.sk-toggleable__label {background-color: #d4ebff;}#sk-container-id-2 div.sk-label input.sk-toggleable__control:checked~label.sk-toggleable__label {background-color: #d4ebff;}#sk-container-id-2 input.sk-hidden--visually {border: 0;clip: rect(1px 1px 1px 1px);clip: rect(1px, 1px, 1px, 1px);height: 1px;margin: -1px;overflow: hidden;padding: 0;position: absolute;width: 1px;}#sk-container-id-2 div.sk-estimator {font-family: monospace;background-color: #f0f8ff;border: 1px dotted black;border-radius: 0.25em;box-sizing: border-box;margin-bottom: 0.5em;}#sk-container-id-2 div.sk-estimator:hover {background-color: #d4ebff;}#sk-container-id-2 div.sk-parallel-item::after {content: \"\";width: 100%;border-bottom: 1px solid gray;flex-grow: 1;}#sk-container-id-2 div.sk-label:hover label.sk-toggleable__label {background-color: #d4ebff;}#sk-container-id-2 div.sk-serial::before {content: \"\";position: absolute;border-left: 1px solid gray;box-sizing: border-box;top: 0;bottom: 0;left: 50%;z-index: 0;}#sk-container-id-2 div.sk-serial {display: flex;flex-direction: column;align-items: center;background-color: white;padding-right: 0.2em;padding-left: 0.2em;position: relative;}#sk-container-id-2 div.sk-item {position: relative;z-index: 1;}#sk-container-id-2 div.sk-parallel {display: flex;align-items: stretch;justify-content: center;background-color: white;position: relative;}#sk-container-id-2 div.sk-item::before, #sk-container-id-2 div.sk-parallel-item::before {content: \"\";position: absolute;border-left: 1px solid gray;box-sizing: border-box;top: 0;bottom: 0;left: 50%;z-index: -1;}#sk-container-id-2 div.sk-parallel-item {display: flex;flex-direction: column;z-index: 1;position: relative;background-color: white;}#sk-container-id-2 div.sk-parallel-item:first-child::after {align-self: flex-end;width: 50%;}#sk-container-id-2 div.sk-parallel-item:last-child::after {align-self: flex-start;width: 50%;}#sk-container-id-2 div.sk-parallel-item:only-child::after {width: 0;}#sk-container-id-2 div.sk-dashed-wrapped {border: 1px dashed gray;margin: 0 0.4em 0.5em 0.4em;box-sizing: border-box;padding-bottom: 0.4em;background-color: white;}#sk-container-id-2 div.sk-label label {font-family: monospace;font-weight: bold;display: inline-block;line-height: 1.2em;}#sk-container-id-2 div.sk-label-container {text-align: center;}#sk-container-id-2 div.sk-container {/* jupyter's `normalize.less` sets `[hidden] { display: none; }` but bootstrap.min.css set `[hidden] { display: none !important; }` so we also need the `!important` here to be able to override the default hidden behavior on the sphinx rendered scikit-learn.org. See: https://github.com/scikit-learn/scikit-learn/issues/21755 */display: inline-block !important;position: relative;}#sk-container-id-2 div.sk-text-repr-fallback {display: none;}</style><div id=\"sk-container-id-2\" class=\"sk-top-container\"><div class=\"sk-text-repr-fallback\"><pre>Pipeline(steps=[(&#x27;tfidf&#x27;, TfidfVectorizer()), (&#x27;smote&#x27;, SMOTE()),\n",
              "                (&#x27;scaler&#x27;, StandardScaler(with_mean=False)),\n",
              "                (&#x27;log_reg&#x27;, LogisticRegression(class_weight=&#x27;balanced&#x27;))])</pre><b>In a Jupyter environment, please rerun this cell to show the HTML representation or trust the notebook. <br />On GitHub, the HTML representation is unable to render, please try loading this page with nbviewer.org.</b></div><div class=\"sk-container\" hidden><div class=\"sk-item sk-dashed-wrapped\"><div class=\"sk-label-container\"><div class=\"sk-label sk-toggleable\"><input class=\"sk-toggleable__control sk-hidden--visually\" id=\"sk-estimator-id-6\" type=\"checkbox\" ><label for=\"sk-estimator-id-6\" class=\"sk-toggleable__label sk-toggleable__label-arrow\">Pipeline</label><div class=\"sk-toggleable__content\"><pre>Pipeline(steps=[(&#x27;tfidf&#x27;, TfidfVectorizer()), (&#x27;smote&#x27;, SMOTE()),\n",
              "                (&#x27;scaler&#x27;, StandardScaler(with_mean=False)),\n",
              "                (&#x27;log_reg&#x27;, LogisticRegression(class_weight=&#x27;balanced&#x27;))])</pre></div></div></div><div class=\"sk-serial\"><div class=\"sk-item\"><div class=\"sk-estimator sk-toggleable\"><input class=\"sk-toggleable__control sk-hidden--visually\" id=\"sk-estimator-id-7\" type=\"checkbox\" ><label for=\"sk-estimator-id-7\" class=\"sk-toggleable__label sk-toggleable__label-arrow\">TfidfVectorizer</label><div class=\"sk-toggleable__content\"><pre>TfidfVectorizer()</pre></div></div></div><div class=\"sk-item\"><div class=\"sk-estimator sk-toggleable\"><input class=\"sk-toggleable__control sk-hidden--visually\" id=\"sk-estimator-id-8\" type=\"checkbox\" ><label for=\"sk-estimator-id-8\" class=\"sk-toggleable__label sk-toggleable__label-arrow\">SMOTE</label><div class=\"sk-toggleable__content\"><pre>SMOTE()</pre></div></div></div><div class=\"sk-item\"><div class=\"sk-estimator sk-toggleable\"><input class=\"sk-toggleable__control sk-hidden--visually\" id=\"sk-estimator-id-9\" type=\"checkbox\" ><label for=\"sk-estimator-id-9\" class=\"sk-toggleable__label sk-toggleable__label-arrow\">StandardScaler</label><div class=\"sk-toggleable__content\"><pre>StandardScaler(with_mean=False)</pre></div></div></div><div class=\"sk-item\"><div class=\"sk-estimator sk-toggleable\"><input class=\"sk-toggleable__control sk-hidden--visually\" id=\"sk-estimator-id-10\" type=\"checkbox\" ><label for=\"sk-estimator-id-10\" class=\"sk-toggleable__label sk-toggleable__label-arrow\">LogisticRegression</label><div class=\"sk-toggleable__content\"><pre>LogisticRegression(class_weight=&#x27;balanced&#x27;)</pre></div></div></div></div></div></div></div>"
            ],
            "text/plain": [
              "Pipeline(steps=[('tfidf', TfidfVectorizer()), ('smote', SMOTE()),\n",
              "                ('scaler', StandardScaler(with_mean=False)),\n",
              "                ('log_reg', LogisticRegression(class_weight='balanced'))])"
            ]
          },
          "execution_count": 27,
          "metadata": {},
          "output_type": "execute_result"
        }
      ],
      "source": [
        "full_LR.fit(x_train_stem, y_train_stem)"
      ]
    },
    {
      "cell_type": "markdown",
      "metadata": {
        "id": "LSbYU496k2Ff"
      },
      "source": [
        "### Model Evaluation"
      ]
    },
    {
      "cell_type": "markdown",
      "metadata": {
        "id": "z4l2UJd3k8Kv"
      },
      "source": [
        "#### TF-IDF Score"
      ]
    },
    {
      "cell_type": "code",
      "execution_count": 28,
      "metadata": {
        "id": "uy0TxsbPmDN8"
      },
      "outputs": [],
      "source": [
        "tf_idf_train_pred_lr = tf_idf_LR.predict(x_train)\n",
        "tf_idf_test_pred_lr = tf_idf_LR.predict(x_test)"
      ]
    },
    {
      "cell_type": "code",
      "execution_count": 29,
      "metadata": {
        "id": "Kwioi2-qi-o3"
      },
      "outputs": [],
      "source": [
        "tf_idf_train_score_LR = tf_idf_LR.score(x_train, y_train)\n",
        "tf_idf_test_score_LR = tf_idf_LR.score(x_test, y_test)"
      ]
    },
    {
      "cell_type": "code",
      "execution_count": 30,
      "metadata": {
        "colab": {
          "base_uri": "https://localhost:8080/"
        },
        "id": "iPG8yJ5-lGxu",
        "outputId": "56e5b438-e401-4593-db85-c02552fc3e84"
      },
      "outputs": [
        {
          "name": "stdout",
          "output_type": "stream",
          "text": [
            "              precision    recall  f1-score   support\n",
            "\n",
            "           0       0.99      0.99      0.99     16483\n",
            "           1       0.99      0.99      0.99     14945\n",
            "\n",
            "    accuracy                           0.99     31428\n",
            "   macro avg       0.99      0.99      0.99     31428\n",
            "weighted avg       0.99      0.99      0.99     31428\n",
            "\n",
            "              precision    recall  f1-score   support\n",
            "\n",
            "           0       0.99      0.99      0.99      6998\n",
            "           1       0.99      0.99      0.99      6472\n",
            "\n",
            "    accuracy                           0.99     13470\n",
            "   macro avg       0.99      0.99      0.99     13470\n",
            "weighted avg       0.99      0.99      0.99     13470\n",
            "\n"
          ]
        }
      ],
      "source": [
        "print(classification_report(y_train, tf_idf_train_pred_lr))\n",
        "print(classification_report(y_test, tf_idf_test_pred_lr))"
      ]
    },
    {
      "cell_type": "code",
      "execution_count": 31,
      "metadata": {
        "id": "OnWbQMabAV-G",
        "outputId": "2b67d574-ab8a-457b-cb73-665a878b7128"
      },
      "outputs": [
        {
          "name": "stdout",
          "output_type": "stream",
          "text": [
            "Logistic Regression TF IDF Train Score: 0.9932226040473463\n",
            "Logistic Regression TF IDF Test Score: 0.9874536005939124\n"
          ]
        }
      ],
      "source": [
        "print(f\"Logistic Regression TF IDF Train Score: {tf_idf_train_score_LR}\")\n",
        "print(f\"Logistic Regression TF IDF Test Score: {tf_idf_test_score_LR}\")"
      ]
    },
    {
      "cell_type": "markdown",
      "metadata": {
        "id": "CYxIkKyslBA_"
      },
      "source": [
        "#### TF-IDF with Stemming and Stopwords Score"
      ]
    },
    {
      "cell_type": "code",
      "execution_count": 32,
      "metadata": {
        "id": "W0yWlE4jmBi9"
      },
      "outputs": [],
      "source": [
        "stem_train_pred_lr = stem_LR.predict(x_train_stem)\n",
        "stem_test_pred_lr = stem_LR.predict(x_test_stem)"
      ]
    },
    {
      "cell_type": "code",
      "execution_count": 33,
      "metadata": {
        "id": "4CRfi2btN2vF"
      },
      "outputs": [],
      "source": [
        "stem_train_score_LR = stem_LR.score(x_train_stem, y_train_stem)\n",
        "stem_test_score_LR = stem_LR.score(x_test_stem, y_test_stem)"
      ]
    },
    {
      "cell_type": "code",
      "execution_count": 34,
      "metadata": {
        "colab": {
          "base_uri": "https://localhost:8080/"
        },
        "id": "GyISYd-5OOc7",
        "outputId": "53047f22-7612-4204-a43e-b36402f61a11"
      },
      "outputs": [
        {
          "name": "stdout",
          "output_type": "stream",
          "text": [
            "              precision    recall  f1-score   support\n",
            "\n",
            "           0       0.99      0.99      0.99     16483\n",
            "           1       0.99      0.99      0.99     14945\n",
            "\n",
            "    accuracy                           0.99     31428\n",
            "   macro avg       0.99      0.99      0.99     31428\n",
            "weighted avg       0.99      0.99      0.99     31428\n",
            "\n",
            "              precision    recall  f1-score   support\n",
            "\n",
            "           0       0.99      0.98      0.98      6998\n",
            "           1       0.98      0.98      0.98      6472\n",
            "\n",
            "    accuracy                           0.98     13470\n",
            "   macro avg       0.98      0.98      0.98     13470\n",
            "weighted avg       0.98      0.98      0.98     13470\n",
            "\n"
          ]
        }
      ],
      "source": [
        "print(classification_report(y_train_stem, stem_train_pred_lr))\n",
        "print(classification_report(y_test_stem, stem_test_pred_lr))"
      ]
    },
    {
      "cell_type": "code",
      "execution_count": 35,
      "metadata": {
        "id": "MmOPCj7AAV-H",
        "outputId": "e0617ce7-4bc8-47e2-8a35-5943c96f76c9"
      },
      "outputs": [
        {
          "name": "stdout",
          "output_type": "stream",
          "text": [
            "Stemming, Stopwords, TF IDF Train Score: 0.9915998472699503\n",
            "Stemming, Stopwords, TF IDF Test Score: 0.9825538233110617\n"
          ]
        }
      ],
      "source": [
        "print(f\"Stemming, Stopwords, TF IDF Train Score: {stem_train_score_LR}\")\n",
        "print(f\"Stemming, Stopwords, TF IDF Test Score: {stem_test_score_LR}\")"
      ]
    },
    {
      "cell_type": "markdown",
      "metadata": {},
      "source": [
        "#### TF-IDF with Stemming, Stopwords, Class Balancing, and Standard Scaler Score"
      ]
    },
    {
      "cell_type": "code",
      "execution_count": 36,
      "metadata": {},
      "outputs": [],
      "source": [
        "full_train_pred_lr = full_LR.predict(x_train_stem)\n",
        "full_test_pred_lr = full_LR.predict(x_test_stem)"
      ]
    },
    {
      "cell_type": "code",
      "execution_count": 37,
      "metadata": {},
      "outputs": [],
      "source": [
        "full_train_score_LR = full_LR.score(x_train_stem, y_train_stem)\n",
        "full_test_score_LR = full_LR.score(x_test_stem, y_test_stem)"
      ]
    },
    {
      "cell_type": "code",
      "execution_count": 38,
      "metadata": {},
      "outputs": [
        {
          "name": "stdout",
          "output_type": "stream",
          "text": [
            "              precision    recall  f1-score   support\n",
            "\n",
            "           0       1.00      1.00      1.00     16483\n",
            "           1       1.00      1.00      1.00     14945\n",
            "\n",
            "    accuracy                           1.00     31428\n",
            "   macro avg       1.00      1.00      1.00     31428\n",
            "weighted avg       1.00      1.00      1.00     31428\n",
            "\n",
            "              precision    recall  f1-score   support\n",
            "\n",
            "           0       0.99      0.95      0.97      6998\n",
            "           1       0.95      0.99      0.97      6472\n",
            "\n",
            "    accuracy                           0.97     13470\n",
            "   macro avg       0.97      0.97      0.97     13470\n",
            "weighted avg       0.97      0.97      0.97     13470\n",
            "\n"
          ]
        }
      ],
      "source": [
        "print(classification_report(y_train_stem, full_train_pred_lr))\n",
        "print(classification_report(y_test_stem, full_test_pred_lr))"
      ]
    },
    {
      "cell_type": "code",
      "execution_count": 39,
      "metadata": {},
      "outputs": [
        {
          "name": "stdout",
          "output_type": "stream",
          "text": [
            "Stemming, Stopwords, Class Balancing, and Standard Scaler Train Score: 0.9999681812396589\n",
            "Stemming, Stopwords, Class Balancing, and Standard Scaler Test Score: 0.9691907943578322\n"
          ]
        }
      ],
      "source": [
        "print(f\"Stemming, Stopwords, Class Balancing, and Standard Scaler Train Score: {full_train_score_LR}\")\n",
        "print(f\"Stemming, Stopwords, Class Balancing, and Standard Scaler Test Score: {full_test_score_LR}\")"
      ]
    },
    {
      "cell_type": "markdown",
      "metadata": {},
      "source": [
        "#### Model Comparison (Logistic Regression)"
      ]
    },
    {
      "cell_type": "code",
      "execution_count": 40,
      "metadata": {},
      "outputs": [
        {
          "name": "stdout",
          "output_type": "stream",
          "text": [
            "Model 1: Logistic Regression TF IDF Scores Scores:\n",
            "Train Score: 0.9932226040473463\n",
            "Test Score: 0.9874536005939124\n",
            "\n",
            "Model 2: Logistic Regression Stemming, Stopwords, TF IDF Scores:\n",
            "Train Score: 0.9915998472699503\n",
            "Test Score: 0.9825538233110617\n",
            "\n",
            "Model 3: Stemming, Stopwords, TF IDF, Class Balancing, and Standard Scaler Scores:\n",
            "Train Score: 0.9999681812396589\n",
            "Test Score: 0.9691907943578322\n",
            "\n",
            "Percentage Differences between Model 1 and Model 2:\n",
            "Train Data: 0.001622756777395984 = 0.16%\n",
            "Test Data: 0.004899777282850737 = 0.50%\n",
            "\n",
            "Percentage Differences between Model 1 and Model 3:\n",
            "Train Data: -0.006745577192312613 = -0.68%\n",
            "Test Data: 0.01826280623608023 = 1.85%\n",
            "\n",
            "Percentage Differences between Model 2 and Model 3:\n",
            "Train Data: -0.008368333969708597 = -0.84%\n",
            "Test Data: 0.013363028953229494 = 1.36%\n"
          ]
        }
      ],
      "source": [
        "# Model 1: Logistic Regression TF IDF Scores\n",
        "print(\"Model 1: Logistic Regression TF IDF Scores Scores:\")\n",
        "print(f\"Train Score: {tf_idf_train_score_LR}\")\n",
        "print(f\"Test Score: {tf_idf_test_score_LR}\")\n",
        "\n",
        "# Model 2: Logistic Regression Stemming, Stopwords, TF IDF Scores\n",
        "print(\"\\nModel 2: Logistic Regression Stemming, Stopwords, TF IDF Scores:\")\n",
        "print(f\"Train Score: {stem_train_score_LR}\")\n",
        "print(f\"Test Score: {stem_test_score_LR}\")\n",
        "\n",
        "# Model 3: Stemming, Stopwords, TF IDF, Class Balancing, and Standard Scaler Scores\n",
        "print(\"\\nModel 3: Stemming, Stopwords, TF IDF, Class Balancing, and Standard Scaler Scores:\")\n",
        "print(f\"Train Score: {full_train_score_LR}\")\n",
        "print(f\"Test Score: {full_test_score_LR}\")\n",
        "\n",
        "print(\"\")\n",
        "\n",
        "# Percentage Differences between Model 1 and Model 2 on train and test data\n",
        "print(\"Percentage Differences between Model 1 and Model 2:\")\n",
        "train_score_diff_1_2 = tf_idf_train_score_LR - stem_train_score_LR\n",
        "test_score_diff_1_2 = tf_idf_test_score_LR - stem_test_score_LR\n",
        "train_score_percent_diff_1_2 = (train_score_diff_1_2 / tf_idf_train_score_LR) * 100\n",
        "test_score_percent_diff_1_2 = (test_score_diff_1_2 / tf_idf_test_score_LR) * 100\n",
        "print(f\"Train Data: {train_score_diff_1_2} = {train_score_percent_diff_1_2:.2f}%\")\n",
        "print(f\"Test Data: {test_score_diff_1_2} = {test_score_percent_diff_1_2:.2f}%\")\n",
        "\n",
        "# Percentage Differences between Model 1 and Model 3 on train and test data\n",
        "print(\"\\nPercentage Differences between Model 1 and Model 3:\")\n",
        "train_score_diff_1_3 = tf_idf_train_score_LR - full_train_score_LR\n",
        "test_score_diff_1_3 = tf_idf_test_score_LR - full_test_score_LR\n",
        "train_score_percent_diff_1_3 = (train_score_diff_1_3 / tf_idf_train_score_LR) * 100\n",
        "test_score_percent_diff_1_3 = (test_score_diff_1_3 / tf_idf_test_score_LR) * 100\n",
        "print(f\"Train Data: {train_score_diff_1_3} = {train_score_percent_diff_1_3:.2f}%\")\n",
        "print(f\"Test Data: {test_score_diff_1_3} = {test_score_percent_diff_1_3:.2f}%\")\n",
        "\n",
        "# Percentage Differences between Model 2 and Model 3 on train and test data\n",
        "print(\"\\nPercentage Differences between Model 2 and Model 3:\")\n",
        "train_score_diff_2_3 = stem_train_score_LR - full_train_score_LR\n",
        "test_score_diff_2_3 = stem_test_score_LR - full_test_score_LR\n",
        "train_score_percent_diff_2_3 = (train_score_diff_2_3 / stem_train_score_LR) * 100\n",
        "test_score_percent_diff_2_3 = (test_score_diff_2_3 / stem_test_score_LR) * 100\n",
        "print(f\"Train Data: {train_score_diff_2_3} = {train_score_percent_diff_2_3:.2f}%\")\n",
        "print(f\"Test Data: {test_score_diff_2_3} = {test_score_percent_diff_2_3:.2f}%\")\n"
      ]
    },
    {
      "cell_type": "markdown",
      "metadata": {
        "id": "GXWkFMI6iR3A"
      },
      "source": [
        "### Logistic Regression Hyperparameter Optimization"
      ]
    },
    {
      "cell_type": "markdown",
      "metadata": {},
      "source": [
        "#### GridSearchCV"
      ]
    },
    {
      "cell_type": "code",
      "execution_count": 40,
      "metadata": {},
      "outputs": [],
      "source": [
        "# Definisikan parameter grid\n",
        "LR_param_grid = {\n",
        "    'tfidf__max_df': [0.75, 1.0],\n",
        "    'tfidf__ngram_range': [(1, 1), (1, 2)],\n",
        "    'log_reg__C': [0.1, 1.0, 10.0],\n",
        "    'log_reg__penalty': ['l1', 'l2'],\n",
        "    'log_reg__solver': ['liblinear', 'saga'],\n",
        "    'log_reg__max_iter': [1000, 5000]\n",
        "}\n"
      ]
    },
    {
      "cell_type": "code",
      "execution_count": 41,
      "metadata": {},
      "outputs": [
        {
          "data": {
            "text/html": [
              "<style>#sk-container-id-2 {color: black;}#sk-container-id-2 pre{padding: 0;}#sk-container-id-2 div.sk-toggleable {background-color: white;}#sk-container-id-2 label.sk-toggleable__label {cursor: pointer;display: block;width: 100%;margin-bottom: 0;padding: 0.3em;box-sizing: border-box;text-align: center;}#sk-container-id-2 label.sk-toggleable__label-arrow:before {content: \"▸\";float: left;margin-right: 0.25em;color: #696969;}#sk-container-id-2 label.sk-toggleable__label-arrow:hover:before {color: black;}#sk-container-id-2 div.sk-estimator:hover label.sk-toggleable__label-arrow:before {color: black;}#sk-container-id-2 div.sk-toggleable__content {max-height: 0;max-width: 0;overflow: hidden;text-align: left;background-color: #f0f8ff;}#sk-container-id-2 div.sk-toggleable__content pre {margin: 0.2em;color: black;border-radius: 0.25em;background-color: #f0f8ff;}#sk-container-id-2 input.sk-toggleable__control:checked~div.sk-toggleable__content {max-height: 200px;max-width: 100%;overflow: auto;}#sk-container-id-2 input.sk-toggleable__control:checked~label.sk-toggleable__label-arrow:before {content: \"▾\";}#sk-container-id-2 div.sk-estimator input.sk-toggleable__control:checked~label.sk-toggleable__label {background-color: #d4ebff;}#sk-container-id-2 div.sk-label input.sk-toggleable__control:checked~label.sk-toggleable__label {background-color: #d4ebff;}#sk-container-id-2 input.sk-hidden--visually {border: 0;clip: rect(1px 1px 1px 1px);clip: rect(1px, 1px, 1px, 1px);height: 1px;margin: -1px;overflow: hidden;padding: 0;position: absolute;width: 1px;}#sk-container-id-2 div.sk-estimator {font-family: monospace;background-color: #f0f8ff;border: 1px dotted black;border-radius: 0.25em;box-sizing: border-box;margin-bottom: 0.5em;}#sk-container-id-2 div.sk-estimator:hover {background-color: #d4ebff;}#sk-container-id-2 div.sk-parallel-item::after {content: \"\";width: 100%;border-bottom: 1px solid gray;flex-grow: 1;}#sk-container-id-2 div.sk-label:hover label.sk-toggleable__label {background-color: #d4ebff;}#sk-container-id-2 div.sk-serial::before {content: \"\";position: absolute;border-left: 1px solid gray;box-sizing: border-box;top: 0;bottom: 0;left: 50%;z-index: 0;}#sk-container-id-2 div.sk-serial {display: flex;flex-direction: column;align-items: center;background-color: white;padding-right: 0.2em;padding-left: 0.2em;position: relative;}#sk-container-id-2 div.sk-item {position: relative;z-index: 1;}#sk-container-id-2 div.sk-parallel {display: flex;align-items: stretch;justify-content: center;background-color: white;position: relative;}#sk-container-id-2 div.sk-item::before, #sk-container-id-2 div.sk-parallel-item::before {content: \"\";position: absolute;border-left: 1px solid gray;box-sizing: border-box;top: 0;bottom: 0;left: 50%;z-index: -1;}#sk-container-id-2 div.sk-parallel-item {display: flex;flex-direction: column;z-index: 1;position: relative;background-color: white;}#sk-container-id-2 div.sk-parallel-item:first-child::after {align-self: flex-end;width: 50%;}#sk-container-id-2 div.sk-parallel-item:last-child::after {align-self: flex-start;width: 50%;}#sk-container-id-2 div.sk-parallel-item:only-child::after {width: 0;}#sk-container-id-2 div.sk-dashed-wrapped {border: 1px dashed gray;margin: 0 0.4em 0.5em 0.4em;box-sizing: border-box;padding-bottom: 0.4em;background-color: white;}#sk-container-id-2 div.sk-label label {font-family: monospace;font-weight: bold;display: inline-block;line-height: 1.2em;}#sk-container-id-2 div.sk-label-container {text-align: center;}#sk-container-id-2 div.sk-container {/* jupyter's `normalize.less` sets `[hidden] { display: none; }` but bootstrap.min.css set `[hidden] { display: none !important; }` so we also need the `!important` here to be able to override the default hidden behavior on the sphinx rendered scikit-learn.org. See: https://github.com/scikit-learn/scikit-learn/issues/21755 */display: inline-block !important;position: relative;}#sk-container-id-2 div.sk-text-repr-fallback {display: none;}</style><div id=\"sk-container-id-2\" class=\"sk-top-container\"><div class=\"sk-text-repr-fallback\"><pre>GridSearchCV(cv=5,\n",
              "             estimator=Pipeline(steps=[(&#x27;tfidf&#x27;, TfidfVectorizer()),\n",
              "                                       (&#x27;log_reg&#x27;, LogisticRegression())]),\n",
              "             n_jobs=4,\n",
              "             param_grid={&#x27;log_reg__C&#x27;: [0.1, 1.0, 10.0],\n",
              "                         &#x27;log_reg__max_iter&#x27;: [1000, 5000],\n",
              "                         &#x27;log_reg__penalty&#x27;: [&#x27;l1&#x27;, &#x27;l2&#x27;],\n",
              "                         &#x27;log_reg__solver&#x27;: [&#x27;liblinear&#x27;, &#x27;saga&#x27;],\n",
              "                         &#x27;tfidf__max_df&#x27;: [0.75, 1.0],\n",
              "                         &#x27;tfidf__ngram_range&#x27;: [(1, 1), (1, 2)]},\n",
              "             scoring=&#x27;accuracy&#x27;)</pre><b>In a Jupyter environment, please rerun this cell to show the HTML representation or trust the notebook. <br />On GitHub, the HTML representation is unable to render, please try loading this page with nbviewer.org.</b></div><div class=\"sk-container\" hidden><div class=\"sk-item sk-dashed-wrapped\"><div class=\"sk-label-container\"><div class=\"sk-label sk-toggleable\"><input class=\"sk-toggleable__control sk-hidden--visually\" id=\"sk-estimator-id-6\" type=\"checkbox\" ><label for=\"sk-estimator-id-6\" class=\"sk-toggleable__label sk-toggleable__label-arrow\">GridSearchCV</label><div class=\"sk-toggleable__content\"><pre>GridSearchCV(cv=5,\n",
              "             estimator=Pipeline(steps=[(&#x27;tfidf&#x27;, TfidfVectorizer()),\n",
              "                                       (&#x27;log_reg&#x27;, LogisticRegression())]),\n",
              "             n_jobs=4,\n",
              "             param_grid={&#x27;log_reg__C&#x27;: [0.1, 1.0, 10.0],\n",
              "                         &#x27;log_reg__max_iter&#x27;: [1000, 5000],\n",
              "                         &#x27;log_reg__penalty&#x27;: [&#x27;l1&#x27;, &#x27;l2&#x27;],\n",
              "                         &#x27;log_reg__solver&#x27;: [&#x27;liblinear&#x27;, &#x27;saga&#x27;],\n",
              "                         &#x27;tfidf__max_df&#x27;: [0.75, 1.0],\n",
              "                         &#x27;tfidf__ngram_range&#x27;: [(1, 1), (1, 2)]},\n",
              "             scoring=&#x27;accuracy&#x27;)</pre></div></div></div><div class=\"sk-parallel\"><div class=\"sk-parallel-item\"><div class=\"sk-item\"><div class=\"sk-label-container\"><div class=\"sk-label sk-toggleable\"><input class=\"sk-toggleable__control sk-hidden--visually\" id=\"sk-estimator-id-7\" type=\"checkbox\" ><label for=\"sk-estimator-id-7\" class=\"sk-toggleable__label sk-toggleable__label-arrow\">estimator: Pipeline</label><div class=\"sk-toggleable__content\"><pre>Pipeline(steps=[(&#x27;tfidf&#x27;, TfidfVectorizer()),\n",
              "                (&#x27;log_reg&#x27;, LogisticRegression())])</pre></div></div></div><div class=\"sk-serial\"><div class=\"sk-item\"><div class=\"sk-serial\"><div class=\"sk-item\"><div class=\"sk-estimator sk-toggleable\"><input class=\"sk-toggleable__control sk-hidden--visually\" id=\"sk-estimator-id-8\" type=\"checkbox\" ><label for=\"sk-estimator-id-8\" class=\"sk-toggleable__label sk-toggleable__label-arrow\">TfidfVectorizer</label><div class=\"sk-toggleable__content\"><pre>TfidfVectorizer()</pre></div></div></div><div class=\"sk-item\"><div class=\"sk-estimator sk-toggleable\"><input class=\"sk-toggleable__control sk-hidden--visually\" id=\"sk-estimator-id-9\" type=\"checkbox\" ><label for=\"sk-estimator-id-9\" class=\"sk-toggleable__label sk-toggleable__label-arrow\">LogisticRegression</label><div class=\"sk-toggleable__content\"><pre>LogisticRegression()</pre></div></div></div></div></div></div></div></div></div></div></div></div>"
            ],
            "text/plain": [
              "GridSearchCV(cv=5,\n",
              "             estimator=Pipeline(steps=[('tfidf', TfidfVectorizer()),\n",
              "                                       ('log_reg', LogisticRegression())]),\n",
              "             n_jobs=4,\n",
              "             param_grid={'log_reg__C': [0.1, 1.0, 10.0],\n",
              "                         'log_reg__max_iter': [1000, 5000],\n",
              "                         'log_reg__penalty': ['l1', 'l2'],\n",
              "                         'log_reg__solver': ['liblinear', 'saga'],\n",
              "                         'tfidf__max_df': [0.75, 1.0],\n",
              "                         'tfidf__ngram_range': [(1, 1), (1, 2)]},\n",
              "             scoring='accuracy')"
            ]
          },
          "execution_count": 41,
          "metadata": {},
          "output_type": "execute_result"
        }
      ],
      "source": [
        "# Definisikan GridSearchCV\n",
        "tf_idf_LR_random_search = GridSearchCV(estimator=tf_idf_LR, param_grid=LR_param_grid, cv=5, scoring='accuracy', n_jobs=4)\n",
        "tf_idf_LR_random_search.fit(x_train, y_train)"
      ]
    },
    {
      "cell_type": "code",
      "execution_count": 42,
      "metadata": {},
      "outputs": [
        {
          "data": {
            "text/html": [
              "<style>#sk-container-id-3 {color: black;}#sk-container-id-3 pre{padding: 0;}#sk-container-id-3 div.sk-toggleable {background-color: white;}#sk-container-id-3 label.sk-toggleable__label {cursor: pointer;display: block;width: 100%;margin-bottom: 0;padding: 0.3em;box-sizing: border-box;text-align: center;}#sk-container-id-3 label.sk-toggleable__label-arrow:before {content: \"▸\";float: left;margin-right: 0.25em;color: #696969;}#sk-container-id-3 label.sk-toggleable__label-arrow:hover:before {color: black;}#sk-container-id-3 div.sk-estimator:hover label.sk-toggleable__label-arrow:before {color: black;}#sk-container-id-3 div.sk-toggleable__content {max-height: 0;max-width: 0;overflow: hidden;text-align: left;background-color: #f0f8ff;}#sk-container-id-3 div.sk-toggleable__content pre {margin: 0.2em;color: black;border-radius: 0.25em;background-color: #f0f8ff;}#sk-container-id-3 input.sk-toggleable__control:checked~div.sk-toggleable__content {max-height: 200px;max-width: 100%;overflow: auto;}#sk-container-id-3 input.sk-toggleable__control:checked~label.sk-toggleable__label-arrow:before {content: \"▾\";}#sk-container-id-3 div.sk-estimator input.sk-toggleable__control:checked~label.sk-toggleable__label {background-color: #d4ebff;}#sk-container-id-3 div.sk-label input.sk-toggleable__control:checked~label.sk-toggleable__label {background-color: #d4ebff;}#sk-container-id-3 input.sk-hidden--visually {border: 0;clip: rect(1px 1px 1px 1px);clip: rect(1px, 1px, 1px, 1px);height: 1px;margin: -1px;overflow: hidden;padding: 0;position: absolute;width: 1px;}#sk-container-id-3 div.sk-estimator {font-family: monospace;background-color: #f0f8ff;border: 1px dotted black;border-radius: 0.25em;box-sizing: border-box;margin-bottom: 0.5em;}#sk-container-id-3 div.sk-estimator:hover {background-color: #d4ebff;}#sk-container-id-3 div.sk-parallel-item::after {content: \"\";width: 100%;border-bottom: 1px solid gray;flex-grow: 1;}#sk-container-id-3 div.sk-label:hover label.sk-toggleable__label {background-color: #d4ebff;}#sk-container-id-3 div.sk-serial::before {content: \"\";position: absolute;border-left: 1px solid gray;box-sizing: border-box;top: 0;bottom: 0;left: 50%;z-index: 0;}#sk-container-id-3 div.sk-serial {display: flex;flex-direction: column;align-items: center;background-color: white;padding-right: 0.2em;padding-left: 0.2em;position: relative;}#sk-container-id-3 div.sk-item {position: relative;z-index: 1;}#sk-container-id-3 div.sk-parallel {display: flex;align-items: stretch;justify-content: center;background-color: white;position: relative;}#sk-container-id-3 div.sk-item::before, #sk-container-id-3 div.sk-parallel-item::before {content: \"\";position: absolute;border-left: 1px solid gray;box-sizing: border-box;top: 0;bottom: 0;left: 50%;z-index: -1;}#sk-container-id-3 div.sk-parallel-item {display: flex;flex-direction: column;z-index: 1;position: relative;background-color: white;}#sk-container-id-3 div.sk-parallel-item:first-child::after {align-self: flex-end;width: 50%;}#sk-container-id-3 div.sk-parallel-item:last-child::after {align-self: flex-start;width: 50%;}#sk-container-id-3 div.sk-parallel-item:only-child::after {width: 0;}#sk-container-id-3 div.sk-dashed-wrapped {border: 1px dashed gray;margin: 0 0.4em 0.5em 0.4em;box-sizing: border-box;padding-bottom: 0.4em;background-color: white;}#sk-container-id-3 div.sk-label label {font-family: monospace;font-weight: bold;display: inline-block;line-height: 1.2em;}#sk-container-id-3 div.sk-label-container {text-align: center;}#sk-container-id-3 div.sk-container {/* jupyter's `normalize.less` sets `[hidden] { display: none; }` but bootstrap.min.css set `[hidden] { display: none !important; }` so we also need the `!important` here to be able to override the default hidden behavior on the sphinx rendered scikit-learn.org. See: https://github.com/scikit-learn/scikit-learn/issues/21755 */display: inline-block !important;position: relative;}#sk-container-id-3 div.sk-text-repr-fallback {display: none;}</style><div id=\"sk-container-id-3\" class=\"sk-top-container\"><div class=\"sk-text-repr-fallback\"><pre>GridSearchCV(cv=5,\n",
              "             estimator=Pipeline(steps=[(&#x27;tfidf&#x27;, TfidfVectorizer()),\n",
              "                                       (&#x27;log_reg&#x27;, LogisticRegression())]),\n",
              "             n_jobs=4,\n",
              "             param_grid={&#x27;log_reg__C&#x27;: [0.1, 1.0, 10.0],\n",
              "                         &#x27;log_reg__max_iter&#x27;: [1000, 5000],\n",
              "                         &#x27;log_reg__penalty&#x27;: [&#x27;l1&#x27;, &#x27;l2&#x27;],\n",
              "                         &#x27;log_reg__solver&#x27;: [&#x27;liblinear&#x27;, &#x27;saga&#x27;],\n",
              "                         &#x27;tfidf__max_df&#x27;: [0.75, 1.0],\n",
              "                         &#x27;tfidf__ngram_range&#x27;: [(1, 1), (1, 2)]},\n",
              "             scoring=&#x27;accuracy&#x27;)</pre><b>In a Jupyter environment, please rerun this cell to show the HTML representation or trust the notebook. <br />On GitHub, the HTML representation is unable to render, please try loading this page with nbviewer.org.</b></div><div class=\"sk-container\" hidden><div class=\"sk-item sk-dashed-wrapped\"><div class=\"sk-label-container\"><div class=\"sk-label sk-toggleable\"><input class=\"sk-toggleable__control sk-hidden--visually\" id=\"sk-estimator-id-10\" type=\"checkbox\" ><label for=\"sk-estimator-id-10\" class=\"sk-toggleable__label sk-toggleable__label-arrow\">GridSearchCV</label><div class=\"sk-toggleable__content\"><pre>GridSearchCV(cv=5,\n",
              "             estimator=Pipeline(steps=[(&#x27;tfidf&#x27;, TfidfVectorizer()),\n",
              "                                       (&#x27;log_reg&#x27;, LogisticRegression())]),\n",
              "             n_jobs=4,\n",
              "             param_grid={&#x27;log_reg__C&#x27;: [0.1, 1.0, 10.0],\n",
              "                         &#x27;log_reg__max_iter&#x27;: [1000, 5000],\n",
              "                         &#x27;log_reg__penalty&#x27;: [&#x27;l1&#x27;, &#x27;l2&#x27;],\n",
              "                         &#x27;log_reg__solver&#x27;: [&#x27;liblinear&#x27;, &#x27;saga&#x27;],\n",
              "                         &#x27;tfidf__max_df&#x27;: [0.75, 1.0],\n",
              "                         &#x27;tfidf__ngram_range&#x27;: [(1, 1), (1, 2)]},\n",
              "             scoring=&#x27;accuracy&#x27;)</pre></div></div></div><div class=\"sk-parallel\"><div class=\"sk-parallel-item\"><div class=\"sk-item\"><div class=\"sk-label-container\"><div class=\"sk-label sk-toggleable\"><input class=\"sk-toggleable__control sk-hidden--visually\" id=\"sk-estimator-id-11\" type=\"checkbox\" ><label for=\"sk-estimator-id-11\" class=\"sk-toggleable__label sk-toggleable__label-arrow\">estimator: Pipeline</label><div class=\"sk-toggleable__content\"><pre>Pipeline(steps=[(&#x27;tfidf&#x27;, TfidfVectorizer()),\n",
              "                (&#x27;log_reg&#x27;, LogisticRegression())])</pre></div></div></div><div class=\"sk-serial\"><div class=\"sk-item\"><div class=\"sk-serial\"><div class=\"sk-item\"><div class=\"sk-estimator sk-toggleable\"><input class=\"sk-toggleable__control sk-hidden--visually\" id=\"sk-estimator-id-12\" type=\"checkbox\" ><label for=\"sk-estimator-id-12\" class=\"sk-toggleable__label sk-toggleable__label-arrow\">TfidfVectorizer</label><div class=\"sk-toggleable__content\"><pre>TfidfVectorizer()</pre></div></div></div><div class=\"sk-item\"><div class=\"sk-estimator sk-toggleable\"><input class=\"sk-toggleable__control sk-hidden--visually\" id=\"sk-estimator-id-13\" type=\"checkbox\" ><label for=\"sk-estimator-id-13\" class=\"sk-toggleable__label sk-toggleable__label-arrow\">LogisticRegression</label><div class=\"sk-toggleable__content\"><pre>LogisticRegression()</pre></div></div></div></div></div></div></div></div></div></div></div></div>"
            ],
            "text/plain": [
              "GridSearchCV(cv=5,\n",
              "             estimator=Pipeline(steps=[('tfidf', TfidfVectorizer()),\n",
              "                                       ('log_reg', LogisticRegression())]),\n",
              "             n_jobs=4,\n",
              "             param_grid={'log_reg__C': [0.1, 1.0, 10.0],\n",
              "                         'log_reg__max_iter': [1000, 5000],\n",
              "                         'log_reg__penalty': ['l1', 'l2'],\n",
              "                         'log_reg__solver': ['liblinear', 'saga'],\n",
              "                         'tfidf__max_df': [0.75, 1.0],\n",
              "                         'tfidf__ngram_range': [(1, 1), (1, 2)]},\n",
              "             scoring='accuracy')"
            ]
          },
          "execution_count": 42,
          "metadata": {},
          "output_type": "execute_result"
        }
      ],
      "source": [
        "# Definisikan GridSearchCV\n",
        "stem_LR_random_search = GridSearchCV(estimator=stem_LR, param_grid=LR_param_grid, cv=5, scoring='accuracy', n_jobs=4)\n",
        "stem_LR_random_search.fit(x_train_stem, y_train_stem)"
      ]
    },
    {
      "cell_type": "code",
      "execution_count": 42,
      "metadata": {},
      "outputs": [
        {
          "name": "stderr",
          "output_type": "stream",
          "text": [
            "c:\\Users\\Kalea\\AppData\\Local\\Programs\\Python\\Python310\\lib\\site-packages\\sklearn\\svm\\_base.py:1250: ConvergenceWarning: Liblinear failed to converge, increase the number of iterations.\n",
            "  warnings.warn(\n"
          ]
        },
        {
          "data": {
            "text/html": [
              "<style>#sk-container-id-3 {color: black;}#sk-container-id-3 pre{padding: 0;}#sk-container-id-3 div.sk-toggleable {background-color: white;}#sk-container-id-3 label.sk-toggleable__label {cursor: pointer;display: block;width: 100%;margin-bottom: 0;padding: 0.3em;box-sizing: border-box;text-align: center;}#sk-container-id-3 label.sk-toggleable__label-arrow:before {content: \"▸\";float: left;margin-right: 0.25em;color: #696969;}#sk-container-id-3 label.sk-toggleable__label-arrow:hover:before {color: black;}#sk-container-id-3 div.sk-estimator:hover label.sk-toggleable__label-arrow:before {color: black;}#sk-container-id-3 div.sk-toggleable__content {max-height: 0;max-width: 0;overflow: hidden;text-align: left;background-color: #f0f8ff;}#sk-container-id-3 div.sk-toggleable__content pre {margin: 0.2em;color: black;border-radius: 0.25em;background-color: #f0f8ff;}#sk-container-id-3 input.sk-toggleable__control:checked~div.sk-toggleable__content {max-height: 200px;max-width: 100%;overflow: auto;}#sk-container-id-3 input.sk-toggleable__control:checked~label.sk-toggleable__label-arrow:before {content: \"▾\";}#sk-container-id-3 div.sk-estimator input.sk-toggleable__control:checked~label.sk-toggleable__label {background-color: #d4ebff;}#sk-container-id-3 div.sk-label input.sk-toggleable__control:checked~label.sk-toggleable__label {background-color: #d4ebff;}#sk-container-id-3 input.sk-hidden--visually {border: 0;clip: rect(1px 1px 1px 1px);clip: rect(1px, 1px, 1px, 1px);height: 1px;margin: -1px;overflow: hidden;padding: 0;position: absolute;width: 1px;}#sk-container-id-3 div.sk-estimator {font-family: monospace;background-color: #f0f8ff;border: 1px dotted black;border-radius: 0.25em;box-sizing: border-box;margin-bottom: 0.5em;}#sk-container-id-3 div.sk-estimator:hover {background-color: #d4ebff;}#sk-container-id-3 div.sk-parallel-item::after {content: \"\";width: 100%;border-bottom: 1px solid gray;flex-grow: 1;}#sk-container-id-3 div.sk-label:hover label.sk-toggleable__label {background-color: #d4ebff;}#sk-container-id-3 div.sk-serial::before {content: \"\";position: absolute;border-left: 1px solid gray;box-sizing: border-box;top: 0;bottom: 0;left: 50%;z-index: 0;}#sk-container-id-3 div.sk-serial {display: flex;flex-direction: column;align-items: center;background-color: white;padding-right: 0.2em;padding-left: 0.2em;position: relative;}#sk-container-id-3 div.sk-item {position: relative;z-index: 1;}#sk-container-id-3 div.sk-parallel {display: flex;align-items: stretch;justify-content: center;background-color: white;position: relative;}#sk-container-id-3 div.sk-item::before, #sk-container-id-3 div.sk-parallel-item::before {content: \"\";position: absolute;border-left: 1px solid gray;box-sizing: border-box;top: 0;bottom: 0;left: 50%;z-index: -1;}#sk-container-id-3 div.sk-parallel-item {display: flex;flex-direction: column;z-index: 1;position: relative;background-color: white;}#sk-container-id-3 div.sk-parallel-item:first-child::after {align-self: flex-end;width: 50%;}#sk-container-id-3 div.sk-parallel-item:last-child::after {align-self: flex-start;width: 50%;}#sk-container-id-3 div.sk-parallel-item:only-child::after {width: 0;}#sk-container-id-3 div.sk-dashed-wrapped {border: 1px dashed gray;margin: 0 0.4em 0.5em 0.4em;box-sizing: border-box;padding-bottom: 0.4em;background-color: white;}#sk-container-id-3 div.sk-label label {font-family: monospace;font-weight: bold;display: inline-block;line-height: 1.2em;}#sk-container-id-3 div.sk-label-container {text-align: center;}#sk-container-id-3 div.sk-container {/* jupyter's `normalize.less` sets `[hidden] { display: none; }` but bootstrap.min.css set `[hidden] { display: none !important; }` so we also need the `!important` here to be able to override the default hidden behavior on the sphinx rendered scikit-learn.org. See: https://github.com/scikit-learn/scikit-learn/issues/21755 */display: inline-block !important;position: relative;}#sk-container-id-3 div.sk-text-repr-fallback {display: none;}</style><div id=\"sk-container-id-3\" class=\"sk-top-container\"><div class=\"sk-text-repr-fallback\"><pre>GridSearchCV(cv=2,\n",
              "             estimator=Pipeline(steps=[(&#x27;tfidf&#x27;, TfidfVectorizer()),\n",
              "                                       (&#x27;smote&#x27;, SMOTE()),\n",
              "                                       (&#x27;scaler&#x27;,\n",
              "                                        StandardScaler(with_mean=False)),\n",
              "                                       (&#x27;log_reg&#x27;,\n",
              "                                        LogisticRegression(class_weight=&#x27;balanced&#x27;))]),\n",
              "             n_jobs=4,\n",
              "             param_grid={&#x27;log_reg__C&#x27;: [10.0], &#x27;log_reg__max_iter&#x27;: [1000],\n",
              "                         &#x27;log_reg__penalty&#x27;: [&#x27;l1&#x27;],\n",
              "                         &#x27;log_reg__solver&#x27;: [&#x27;liblinear&#x27;],\n",
              "                         &#x27;tfidf__max_df&#x27;: [1.0],\n",
              "                         &#x27;tfidf__ngram_range&#x27;: [(1, 2)]},\n",
              "             scoring=&#x27;accuracy&#x27;)</pre><b>In a Jupyter environment, please rerun this cell to show the HTML representation or trust the notebook. <br />On GitHub, the HTML representation is unable to render, please try loading this page with nbviewer.org.</b></div><div class=\"sk-container\" hidden><div class=\"sk-item sk-dashed-wrapped\"><div class=\"sk-label-container\"><div class=\"sk-label sk-toggleable\"><input class=\"sk-toggleable__control sk-hidden--visually\" id=\"sk-estimator-id-11\" type=\"checkbox\" ><label for=\"sk-estimator-id-11\" class=\"sk-toggleable__label sk-toggleable__label-arrow\">GridSearchCV</label><div class=\"sk-toggleable__content\"><pre>GridSearchCV(cv=2,\n",
              "             estimator=Pipeline(steps=[(&#x27;tfidf&#x27;, TfidfVectorizer()),\n",
              "                                       (&#x27;smote&#x27;, SMOTE()),\n",
              "                                       (&#x27;scaler&#x27;,\n",
              "                                        StandardScaler(with_mean=False)),\n",
              "                                       (&#x27;log_reg&#x27;,\n",
              "                                        LogisticRegression(class_weight=&#x27;balanced&#x27;))]),\n",
              "             n_jobs=4,\n",
              "             param_grid={&#x27;log_reg__C&#x27;: [10.0], &#x27;log_reg__max_iter&#x27;: [1000],\n",
              "                         &#x27;log_reg__penalty&#x27;: [&#x27;l1&#x27;],\n",
              "                         &#x27;log_reg__solver&#x27;: [&#x27;liblinear&#x27;],\n",
              "                         &#x27;tfidf__max_df&#x27;: [1.0],\n",
              "                         &#x27;tfidf__ngram_range&#x27;: [(1, 2)]},\n",
              "             scoring=&#x27;accuracy&#x27;)</pre></div></div></div><div class=\"sk-parallel\"><div class=\"sk-parallel-item\"><div class=\"sk-item\"><div class=\"sk-label-container\"><div class=\"sk-label sk-toggleable\"><input class=\"sk-toggleable__control sk-hidden--visually\" id=\"sk-estimator-id-12\" type=\"checkbox\" ><label for=\"sk-estimator-id-12\" class=\"sk-toggleable__label sk-toggleable__label-arrow\">estimator: Pipeline</label><div class=\"sk-toggleable__content\"><pre>Pipeline(steps=[(&#x27;tfidf&#x27;, TfidfVectorizer()), (&#x27;smote&#x27;, SMOTE()),\n",
              "                (&#x27;scaler&#x27;, StandardScaler(with_mean=False)),\n",
              "                (&#x27;log_reg&#x27;, LogisticRegression(class_weight=&#x27;balanced&#x27;))])</pre></div></div></div><div class=\"sk-serial\"><div class=\"sk-item\"><div class=\"sk-serial\"><div class=\"sk-item\"><div class=\"sk-estimator sk-toggleable\"><input class=\"sk-toggleable__control sk-hidden--visually\" id=\"sk-estimator-id-13\" type=\"checkbox\" ><label for=\"sk-estimator-id-13\" class=\"sk-toggleable__label sk-toggleable__label-arrow\">TfidfVectorizer</label><div class=\"sk-toggleable__content\"><pre>TfidfVectorizer()</pre></div></div></div><div class=\"sk-item\"><div class=\"sk-estimator sk-toggleable\"><input class=\"sk-toggleable__control sk-hidden--visually\" id=\"sk-estimator-id-14\" type=\"checkbox\" ><label for=\"sk-estimator-id-14\" class=\"sk-toggleable__label sk-toggleable__label-arrow\">SMOTE</label><div class=\"sk-toggleable__content\"><pre>SMOTE()</pre></div></div></div><div class=\"sk-item\"><div class=\"sk-estimator sk-toggleable\"><input class=\"sk-toggleable__control sk-hidden--visually\" id=\"sk-estimator-id-15\" type=\"checkbox\" ><label for=\"sk-estimator-id-15\" class=\"sk-toggleable__label sk-toggleable__label-arrow\">StandardScaler</label><div class=\"sk-toggleable__content\"><pre>StandardScaler(with_mean=False)</pre></div></div></div><div class=\"sk-item\"><div class=\"sk-estimator sk-toggleable\"><input class=\"sk-toggleable__control sk-hidden--visually\" id=\"sk-estimator-id-16\" type=\"checkbox\" ><label for=\"sk-estimator-id-16\" class=\"sk-toggleable__label sk-toggleable__label-arrow\">LogisticRegression</label><div class=\"sk-toggleable__content\"><pre>LogisticRegression(class_weight=&#x27;balanced&#x27;)</pre></div></div></div></div></div></div></div></div></div></div></div></div>"
            ],
            "text/plain": [
              "GridSearchCV(cv=2,\n",
              "             estimator=Pipeline(steps=[('tfidf', TfidfVectorizer()),\n",
              "                                       ('smote', SMOTE()),\n",
              "                                       ('scaler',\n",
              "                                        StandardScaler(with_mean=False)),\n",
              "                                       ('log_reg',\n",
              "                                        LogisticRegression(class_weight='balanced'))]),\n",
              "             n_jobs=4,\n",
              "             param_grid={'log_reg__C': [10.0], 'log_reg__max_iter': [1000],\n",
              "                         'log_reg__penalty': ['l1'],\n",
              "                         'log_reg__solver': ['liblinear'],\n",
              "                         'tfidf__max_df': [1.0],\n",
              "                         'tfidf__ngram_range': [(1, 2)]},\n",
              "             scoring='accuracy')"
            ]
          },
          "execution_count": 42,
          "metadata": {},
          "output_type": "execute_result"
        }
      ],
      "source": [
        "# Definisikan GridSearchCV\n",
        "full_LR_random_search = GridSearchCV(estimator=full_LR, param_grid=LR_param_grid, cv=5, scoring='accuracy', n_jobs=4)\n",
        "full_LR_random_search.fit(x_train_stem, y_train_stem)"
      ]
    },
    {
      "cell_type": "code",
      "execution_count": 45,
      "metadata": {},
      "outputs": [
        {
          "name": "stdout",
          "output_type": "stream",
          "text": [
            "Best parameters for TF IDF Logistic Regression: {'log_reg__C': 10.0, 'log_reg__max_iter': 5000, 'log_reg__penalty': 'l1', 'log_reg__solver': 'liblinear', 'tfidf__max_df': 0.75, 'tfidf__ngram_range': (1, 2)}\n",
            "Best parameters for Stemming and Stopwords Logistic Regression: {'log_reg__C': 10.0, 'log_reg__max_iter': 1000, 'log_reg__penalty': 'l1', 'log_reg__solver': 'liblinear', 'tfidf__max_df': 1.0, 'tfidf__ngram_range': (1, 2)}\n",
            "Best parameters for Stemming, Stopwords, Class Balancing, and Standard Scaler Logistic Regression: {'log_reg__C': 10.0, 'log_reg__max_iter': 1000, 'log_reg__penalty': 'l1', 'log_reg__solver': 'liblinear', 'tfidf__max_df': 1.0, 'tfidf__ngram_range': (1, 2)}\n"
          ]
        }
      ],
      "source": [
        "# Hasil terbaik\n",
        "print(f\"Best parameters for TF IDF Logistic Regression: {tf_idf_LR_random_search.best_params_}\")\n",
        "print(f\"Best parameters for Stemming and Stopwords Logistic Regression: {stem_LR_random_search.best_params_}\")\n",
        "print(f\"Best parameters for Stemming, Stopwords, Class Balancing, and Standard Scaler Logistic Regression: {full_LR_random_search.best_params_}\")"
      ]
    },
    {
      "cell_type": "markdown",
      "metadata": {
        "id": "czCzZ_e11WPJ"
      },
      "source": [
        "### Logistic Regression Model Setelah Optimisasi (GridSearchCV)"
      ]
    },
    {
      "cell_type": "code",
      "execution_count": 43,
      "metadata": {
        "id": "qtYOq1onliDn"
      },
      "outputs": [],
      "source": [
        "tf_idf_LR.set_params(\n",
        "    tfidf__max_df=0.75,\n",
        "    tfidf__ngram_range=(1, 2),\n",
        "    log_reg__C=10.0,\n",
        "    log_reg__max_iter=5000,\n",
        "    log_reg__penalty='l1',\n",
        "    log_reg__solver='liblinear'\n",
        ")\n",
        "optimized_tf_idf_LR = tf_idf_LR\n",
        "\n",
        "stem_LR.set_params(\n",
        "    tfidf__max_df=1.0,\n",
        "    tfidf__ngram_range=(1, 2),\n",
        "    log_reg__C=10.0,\n",
        "    log_reg__max_iter=1000,\n",
        "    log_reg__penalty='l1',\n",
        "    log_reg__solver='liblinear'\n",
        ")\n",
        "\n",
        "optimized_stem_LR = stem_LR\n",
        "\n",
        "full_LR.set_params(\n",
        "    tfidf__max_df=1.0,\n",
        "    tfidf__ngram_range=(1, 2),\n",
        "    log_reg__C=10.0,\n",
        "    log_reg__max_iter=1000,\n",
        "    log_reg__penalty='l1',\n",
        "    log_reg__solver='liblinear'\n",
        ")\n",
        "\n",
        "optimized_full_LR = full_LR\n",
        "\n",
        "# optimized_tf_idf_LR = tf_idf_LR_random_search.best_estimator_\n",
        "# optimized_stem_LR = stem_LR_random_search.best_estimator_\n",
        "# optimized_full_LR = full_LR_random_search.best_estimator_"
      ]
    },
    {
      "cell_type": "markdown",
      "metadata": {
        "id": "8ZCmcVvNm8VR"
      },
      "source": [
        "#### TF IDF"
      ]
    },
    {
      "cell_type": "code",
      "execution_count": 44,
      "metadata": {
        "id": "Dq7v1A35mHYx"
      },
      "outputs": [],
      "source": [
        "optimized_tf_idf_train_pred_LR = optimized_tf_idf_LR.predict(x_train)\n",
        "optimized_tf_idf_test_pred_LR = optimized_tf_idf_LR.predict(x_test)"
      ]
    },
    {
      "cell_type": "code",
      "execution_count": 45,
      "metadata": {
        "id": "ed4Af5O0mS-8"
      },
      "outputs": [],
      "source": [
        "optimized_tf_idf_train_score_LR = optimized_tf_idf_LR.score(x_train, y_train)\n",
        "optimized_tf_idf_test_score_LR = optimized_tf_idf_LR.score(x_test, y_test)"
      ]
    },
    {
      "cell_type": "code",
      "execution_count": 46,
      "metadata": {
        "colab": {
          "base_uri": "https://localhost:8080/"
        },
        "id": "JQVkFyafmWyZ",
        "outputId": "9fc8ccd4-9ab5-4049-e9e4-31af6d5410cf"
      },
      "outputs": [
        {
          "name": "stdout",
          "output_type": "stream",
          "text": [
            "              precision    recall  f1-score   support\n",
            "\n",
            "           0       0.99      0.99      0.99     16483\n",
            "           1       0.99      0.99      0.99     14945\n",
            "\n",
            "    accuracy                           0.99     31428\n",
            "   macro avg       0.99      0.99      0.99     31428\n",
            "weighted avg       0.99      0.99      0.99     31428\n",
            "\n",
            "              precision    recall  f1-score   support\n",
            "\n",
            "           0       0.99      0.99      0.99      6998\n",
            "           1       0.99      0.99      0.99      6472\n",
            "\n",
            "    accuracy                           0.99     13470\n",
            "   macro avg       0.99      0.99      0.99     13470\n",
            "weighted avg       0.99      0.99      0.99     13470\n",
            "\n"
          ]
        }
      ],
      "source": [
        "print(classification_report(y_train, optimized_tf_idf_train_pred_LR))\n",
        "print(classification_report(y_test, optimized_tf_idf_test_pred_LR))"
      ]
    },
    {
      "cell_type": "code",
      "execution_count": 47,
      "metadata": {
        "colab": {
          "base_uri": "https://localhost:8080/"
        },
        "id": "zSNl38XJwA1C",
        "outputId": "cf04a002-6df9-4c49-d729-dd5a637ae221"
      },
      "outputs": [
        {
          "name": "stdout",
          "output_type": "stream",
          "text": [
            "Optimized Logistic Regression TF IDF Train Score: 0.9932226040473463\n",
            "Optimized Logistic Regression TF IDF Test Score: 0.9874536005939124\n"
          ]
        }
      ],
      "source": [
        "print(f\"Optimized Logistic Regression TF IDF Train Score: {optimized_tf_idf_train_score_LR}\")\n",
        "print(f\"Optimized Logistic Regression TF IDF Test Score: {optimized_tf_idf_test_score_LR}\")"
      ]
    },
    {
      "cell_type": "markdown",
      "metadata": {
        "id": "MLvBXgZsAV-J"
      },
      "source": []
    },
    {
      "cell_type": "markdown",
      "metadata": {
        "id": "t-aocH5rnECQ"
      },
      "source": [
        "#### TF IDF with Stemming and Stopwords"
      ]
    },
    {
      "cell_type": "code",
      "execution_count": 48,
      "metadata": {
        "id": "Dm5nH0sBnGMp"
      },
      "outputs": [],
      "source": [
        "optimized_stem_train_pred_LR = optimized_stem_LR.predict(x_train_stem)\n",
        "optimized_stem_test_pred_LR = optimized_stem_LR.predict(x_test_stem)"
      ]
    },
    {
      "cell_type": "code",
      "execution_count": 49,
      "metadata": {
        "id": "DBoRVX9AAV-J"
      },
      "outputs": [],
      "source": [
        "optimized_stem_train_score_LR = optimized_stem_LR.score(x_train_stem, y_train_stem)\n",
        "optimized_stem_test_score_LR = optimized_stem_LR.score(x_test_stem, y_test_stem)"
      ]
    },
    {
      "cell_type": "code",
      "execution_count": 50,
      "metadata": {
        "colab": {
          "base_uri": "https://localhost:8080/"
        },
        "id": "vIkHfNuSnLLi",
        "outputId": "e97d1659-b6c6-4b9e-c3cc-1f8546e696cc"
      },
      "outputs": [
        {
          "name": "stdout",
          "output_type": "stream",
          "text": [
            "              precision    recall  f1-score   support\n",
            "\n",
            "           0       0.99      0.99      0.99     16483\n",
            "           1       0.99      0.99      0.99     14945\n",
            "\n",
            "    accuracy                           0.99     31428\n",
            "   macro avg       0.99      0.99      0.99     31428\n",
            "weighted avg       0.99      0.99      0.99     31428\n",
            "\n",
            "              precision    recall  f1-score   support\n",
            "\n",
            "           0       0.99      0.98      0.98      6998\n",
            "           1       0.98      0.98      0.98      6472\n",
            "\n",
            "    accuracy                           0.98     13470\n",
            "   macro avg       0.98      0.98      0.98     13470\n",
            "weighted avg       0.98      0.98      0.98     13470\n",
            "\n"
          ]
        }
      ],
      "source": [
        "print(classification_report(y_train_stem, optimized_stem_train_pred_LR))\n",
        "print(classification_report(y_test_stem, optimized_stem_test_pred_LR))"
      ]
    },
    {
      "cell_type": "code",
      "execution_count": 51,
      "metadata": {
        "id": "qGRZA-b2AV-K",
        "outputId": "a2870e84-12b0-4925-f447-df6754c13a83"
      },
      "outputs": [
        {
          "name": "stdout",
          "output_type": "stream",
          "text": [
            "Optimized Logistic Regression Stemming, Stopwords, TF IDF Train Score: 0.9915998472699503\n",
            "Optimized Logistic Regression Stemming, Stopwords, TF IDF Test Score: 0.9825538233110617\n"
          ]
        }
      ],
      "source": [
        "print(f\"Optimized Logistic Regression Stemming, Stopwords, TF IDF Train Score: {optimized_stem_train_score_LR}\")\n",
        "print(f\"Optimized Logistic Regression Stemming, Stopwords, TF IDF Test Score: {optimized_stem_test_score_LR}\")"
      ]
    },
    {
      "cell_type": "markdown",
      "metadata": {},
      "source": [
        "#### TF-IDF with Stemming, Stopwords, Class Balancing, and Standard Scaler"
      ]
    },
    {
      "cell_type": "code",
      "execution_count": 52,
      "metadata": {},
      "outputs": [],
      "source": [
        "optimized_full_train_pred_LR = optimized_full_LR.predict(x_train_stem)\n",
        "optimized_full_test_pred_LR = optimized_full_LR.predict(x_test_stem)"
      ]
    },
    {
      "cell_type": "code",
      "execution_count": 53,
      "metadata": {},
      "outputs": [],
      "source": [
        "optimized_full_train_score_LR = optimized_full_LR.score(x_train_stem, y_train_stem)\n",
        "optimized_full_test_score_LR = optimized_full_LR.score(x_test_stem, y_test_stem)\n"
      ]
    },
    {
      "cell_type": "code",
      "execution_count": 54,
      "metadata": {},
      "outputs": [
        {
          "name": "stdout",
          "output_type": "stream",
          "text": [
            "              precision    recall  f1-score   support\n",
            "\n",
            "           0       0.99      0.99      0.99     16483\n",
            "           1       0.99      0.99      0.99     14945\n",
            "\n",
            "    accuracy                           0.99     31428\n",
            "   macro avg       0.99      0.99      0.99     31428\n",
            "weighted avg       0.99      0.99      0.99     31428\n",
            "\n",
            "              precision    recall  f1-score   support\n",
            "\n",
            "           0       0.99      0.98      0.98      6998\n",
            "           1       0.98      0.98      0.98      6472\n",
            "\n",
            "    accuracy                           0.98     13470\n",
            "   macro avg       0.98      0.98      0.98     13470\n",
            "weighted avg       0.98      0.98      0.98     13470\n",
            "\n"
          ]
        }
      ],
      "source": [
        "print(classification_report(y_train_stem, optimized_stem_train_pred_LR))\n",
        "print(classification_report(y_test_stem, optimized_stem_test_pred_LR))"
      ]
    },
    {
      "cell_type": "code",
      "execution_count": 55,
      "metadata": {},
      "outputs": [
        {
          "name": "stdout",
          "output_type": "stream",
          "text": [
            "Optimized Logistic Regression Stemming, Stopwords, TF IDF, Class Balancing, and Standard Scaler Train Score: 0.9999681812396589\n",
            "Optimized Logistic Regression Stemming, Stopwords, TF IDF, Class Balancing, and Standard Scaler Test Score: 0.9691907943578322\n"
          ]
        }
      ],
      "source": [
        "print(f\"Optimized Logistic Regression Stemming, Stopwords, TF IDF, Class Balancing, and Standard Scaler Train Score: {optimized_full_train_score_LR}\")\n",
        "print(f\"Optimized Logistic Regression Stemming, Stopwords, TF IDF, Class Balancing, and Standard Scaler Test Score: {optimized_full_test_score_LR}\")"
      ]
    },
    {
      "cell_type": "markdown",
      "metadata": {
        "id": "wtK0uBG2zBbH"
      },
      "source": [
        "### Score Differential"
      ]
    },
    {
      "cell_type": "markdown",
      "metadata": {
        "id": "cVBaJxKVzRWE"
      },
      "source": [
        "#### TF IDF"
      ]
    },
    {
      "cell_type": "code",
      "execution_count": 56,
      "metadata": {
        "colab": {
          "base_uri": "https://localhost:8080/"
        },
        "id": "u5FqLx52vUo6",
        "outputId": "baf84bc9-089f-49b2-f9bd-9bc00c62a211"
      },
      "outputs": [
        {
          "name": "stdout",
          "output_type": "stream",
          "text": [
            "Train vs Train Comparison for TF-IDF Logistic Regression:\n",
            "TF-IDF Train Score vs Optimized Train Score: 0.9932226040473463 vs 0.9932226040473463\n",
            "\n",
            "Test vs Test Comparison for TF-IDF Logistic Regression:\n",
            "TF-IDF Test Score vs Optimized Test Score: 0.9874536005939124 vs 0.9874536005939124\n",
            "\n",
            "Percentage Differences:\n",
            "Percentage Difference (Train Score): TF-IDF vs Optimized: 0.00%\n",
            "Percentage Difference (Test Score): TF-IDF vs Optimized: 0.00%\n"
          ]
        }
      ],
      "source": [
        "# Train vs Train Comparison for TF-IDF Logistic Regression\n",
        "print(\"Train vs Train Comparison for TF-IDF Logistic Regression:\")\n",
        "print(f\"TF-IDF Train Score vs Optimized Train Score: {tf_idf_train_score_LR} vs {optimized_tf_idf_train_score_LR}\")\n",
        "print(\"\")\n",
        "\n",
        "# Test vs Test Comparison for TF-IDF Logistic Regression\n",
        "print(\"Test vs Test Comparison for TF-IDF Logistic Regression:\")\n",
        "print(f\"TF-IDF Test Score vs Optimized Test Score: {tf_idf_test_score_LR} vs {optimized_tf_idf_test_score_LR}\")\n",
        "print(\"\")\n",
        "\n",
        "# Percentage Differences\n",
        "print(\"Percentage Differences:\")\n",
        "print(f\"Percentage Difference (Train Score): TF-IDF vs Optimized: {((optimized_tf_idf_train_score_LR - tf_idf_train_score_LR) / tf_idf_train_score_LR) * 100:.2f}%\")\n",
        "print(f\"Percentage Difference (Test Score): TF-IDF vs Optimized: {((optimized_tf_idf_test_score_LR - tf_idf_test_score_LR) / tf_idf_test_score_LR) * 100:.2f}%\")\n"
      ]
    },
    {
      "cell_type": "markdown",
      "metadata": {
        "id": "uFnfm5nMzWAp"
      },
      "source": [
        "#### TF IDF with Stemming and Stopwords"
      ]
    },
    {
      "cell_type": "code",
      "execution_count": 57,
      "metadata": {
        "colab": {
          "base_uri": "https://localhost:8080/"
        },
        "id": "2hrLXtJLzZln",
        "outputId": "285187dd-8ffd-4ce8-ba7e-d6b12885fb99"
      },
      "outputs": [
        {
          "name": "stdout",
          "output_type": "stream",
          "text": [
            "Train vs Train Comparison for Stemming, Stopwords, TF-IDF Logistic Regression:\n",
            "Stemming, Stopwords, TF-IDF Train Score vs Optimized Train Score: 0.9915998472699503 vs 0.9915998472699503\n",
            "\n",
            "Test vs Test Comparison for Stemming, Stopwords, TF-IDF Logistic Regression:\n",
            "Stemming, Stopwords, TF-IDF Test Score vs Optimized Test Score: 0.9825538233110617 vs 0.9825538233110617\n",
            "\n",
            "Percentage Differences:\n",
            "Percentage Difference (Train Score): Stemming, Stopwords, TF-IDF vs Optimized: 0.00%\n",
            "Percentage Difference (Test Score): Stemming, Stopwords, TF-IDF vs Optimized: 0.00%\n"
          ]
        }
      ],
      "source": [
        "# Train vs Train Comparison for Stemming, Stopwords, TF-IDF Logistic Regression\n",
        "print(\"Train vs Train Comparison for Stemming, Stopwords, TF-IDF Logistic Regression:\")\n",
        "print(f\"Stemming, Stopwords, TF-IDF Train Score vs Optimized Train Score: {stem_train_score_LR} vs {optimized_stem_train_score_LR}\")\n",
        "print(\"\")\n",
        "\n",
        "# Test vs Test Comparison for Stemming, Stopwords, TF-IDF Logistic Regression\n",
        "print(\"Test vs Test Comparison for Stemming, Stopwords, TF-IDF Logistic Regression:\")\n",
        "print(f\"Stemming, Stopwords, TF-IDF Test Score vs Optimized Test Score: {stem_test_score_LR} vs {optimized_stem_test_score_LR}\")\n",
        "print(\"\")\n",
        "\n",
        "# Percentage Differences\n",
        "print(\"Percentage Differences:\")\n",
        "print(f\"Percentage Difference (Train Score): Stemming, Stopwords, TF-IDF vs Optimized: {((optimized_stem_train_score_LR - stem_train_score_LR) / stem_train_score_LR) * 100:.2f}%\")\n",
        "print(f\"Percentage Difference (Test Score): Stemming, Stopwords, TF-IDF vs Optimized: {((optimized_stem_test_score_LR - stem_test_score_LR) / stem_test_score_LR) * 100:.2f}%\")\n"
      ]
    },
    {
      "cell_type": "markdown",
      "metadata": {},
      "source": [
        "#### Optimized Logistic Regression Stemming, Stopwords, TF IDF, Class Balancing, and Standard Scaler"
      ]
    },
    {
      "cell_type": "code",
      "execution_count": 58,
      "metadata": {},
      "outputs": [
        {
          "name": "stdout",
          "output_type": "stream",
          "text": [
            "Train vs Train Comparison for Stemming, Stopwords, TF IDF, Class Balancing, and Standard Scaler Logistic Regression:\n",
            "Logistic Regression Stemming, Stopwords, TF IDF, Class Balancing, and Standard Scaler Train Score vs Optimized Train Score: 0.9999681812396589 vs 0.9999681812396589\n",
            "\n",
            "Test vs Test Comparison for Stemming, Stopwords, TF IDF, Class Balancing, and Standard Scaler Logistic Regression:\n",
            "Logistic Regression Stemming, Stopwords, TF IDF, Class Balancing, and Standard Scaler Test Score: 0.9691907943578322 vs 0.9691907943578322\n",
            "\n",
            "Percentage Differences:\n",
            "Percentage Difference (Train Score): Stemming, Stopwords, TF IDF, Class Balancing, and Standard Scaler vs Optimized: 0.00%\n",
            "Percentage Difference (Test Score): Stemming, Stopwords, TF IDF, Class Balancing, and Standard Scaler vs Optimized: 0.00%\n"
          ]
        }
      ],
      "source": [
        "# Train vs Train Comparison for Stemming, Stopwords, TF-IDF Logistic Regression\n",
        "print(\"Train vs Train Comparison for Stemming, Stopwords, TF IDF, Class Balancing, and Standard Scaler Logistic Regression:\")\n",
        "print(f\"Logistic Regression Stemming, Stopwords, TF IDF, Class Balancing, and Standard Scaler Train Score vs Optimized Train Score: {full_train_score_LR} vs {optimized_full_train_score_LR}\")\n",
        "print(\"\")\n",
        "\n",
        "# Test vs Test Comparison for Stemming, Stopwords, TF-IDF Logistic Regression\n",
        "print(\"Test vs Test Comparison for Stemming, Stopwords, TF IDF, Class Balancing, and Standard Scaler Logistic Regression:\")\n",
        "print(f\"Logistic Regression Stemming, Stopwords, TF IDF, Class Balancing, and Standard Scaler Test Score: {full_test_score_LR} vs {optimized_full_test_score_LR}\")\n",
        "print(\"\")\n",
        "\n",
        "# Percentage Differences\n",
        "print(\"Percentage Differences:\")\n",
        "print(f\"Percentage Difference (Train Score): Stemming, Stopwords, TF IDF, Class Balancing, and Standard Scaler vs Optimized: {((optimized_full_train_score_LR - full_train_score_LR) / full_train_score_LR) * 100:.2f}%\")\n",
        "print(f\"Percentage Difference (Test Score): Stemming, Stopwords, TF IDF, Class Balancing, and Standard Scaler vs Optimized: {((optimized_full_test_score_LR - full_test_score_LR) / full_test_score_LR) * 100:.2f}%\")\n"
      ]
    },
    {
      "cell_type": "markdown",
      "metadata": {
        "id": "YLAGccdfAV-K"
      },
      "source": [
        "#### Optimized Model Comparison"
      ]
    },
    {
      "cell_type": "code",
      "execution_count": 59,
      "metadata": {
        "id": "bRQxXt4xAV-K",
        "outputId": "21565fa6-dc98-4cc4-a0c6-65a117f98540"
      },
      "outputs": [
        {
          "name": "stdout",
          "output_type": "stream",
          "text": [
            "Model TF IDF Scores:\n",
            "Train Score: 0.9932226040473463\n",
            "Test Score: 0.9874536005939124\n",
            "\n",
            "Stem & Stopwords Model Scores:\n",
            "Train Score: 0.9915998472699503\n",
            "Test Score: 0.9825538233110617\n",
            "\n",
            "Full Model Scores:\n",
            "Train Score: 0.9999681812396589\n",
            "Test Score: 0.9691907943578322\n",
            "\n",
            "Percentage Differences between Model TF IDF and Stem & Stopwords Model:\n",
            "Train Data: 0.001622756777395984 = 0.16%\n",
            "Test Data: 0.004899777282850737 = 0.50%\n",
            "\n",
            "Percentage Differences between Model TF IDF and Full Model:\n",
            "Train Data: -0.006745577192312613 = -0.68%\n",
            "Test Data: 0.01826280623608023 = 1.85%\n",
            "\n",
            "Percentage Differences between Stem & Stopwords Model and Full Model:\n",
            "Train Data: -0.008368333969708597 = -0.84%\n",
            "Test Data: 0.013363028953229494 = 1.36%\n",
            "Model Ranking \n"
          ]
        }
      ],
      "source": [
        "# Model 1: Optimized Logistic Regression TF IDF Scores\n",
        "print(\"Model TF IDF Scores:\")\n",
        "print(f\"Train Score: {optimized_tf_idf_train_score_LR}\")\n",
        "print(f\"Test Score: {optimized_tf_idf_test_score_LR}\")\n",
        "\n",
        "# Model 2: Optimized Logistic Regression Stemming, Stopwords, TF IDF Scores\n",
        "print(\"\\nStem & Stopwords Model Scores:\")\n",
        "print(f\"Train Score: {optimized_stem_train_score_LR}\")\n",
        "print(f\"Test Score: {optimized_stem_test_score_LR}\")\n",
        "\n",
        "# Model 3: Optimized Stemming, Stopwords, TF IDF, Class Balancing, and Standard Scaler Scores\n",
        "print(\"\\nFull Model Scores:\")\n",
        "print(f\"Train Score: {optimized_full_train_score_LR}\")\n",
        "print(f\"Test Score: {optimized_full_test_score_LR}\")\n",
        "\n",
        "print(\"\")\n",
        "\n",
        "# Percentage Differences between Model 1 and Model 2 on train and test data\n",
        "print(\"Percentage Differences between Model TF IDF and Stem & Stopwords Model:\")\n",
        "train_score_diff_1_2 = optimized_tf_idf_train_score_LR - optimized_stem_train_score_LR\n",
        "test_score_diff_1_2 = optimized_tf_idf_test_score_LR - optimized_stem_test_score_LR\n",
        "train_score_percent_diff_1_2 = (train_score_diff_1_2 / optimized_tf_idf_train_score_LR) * 100\n",
        "test_score_percent_diff_1_2 = (test_score_diff_1_2 / optimized_tf_idf_test_score_LR) * 100\n",
        "print(f\"Train Data: {train_score_diff_1_2} = {train_score_percent_diff_1_2:.2f}%\")\n",
        "print(f\"Test Data: {test_score_diff_1_2} = {test_score_percent_diff_1_2:.2f}%\")\n",
        "\n",
        "# Percentage Differences between Model 1 and Model 3 on train and test data\n",
        "print(\"\\nPercentage Differences between Model TF IDF and Full Model:\")\n",
        "train_score_diff_1_3 = optimized_tf_idf_train_score_LR - optimized_full_train_score_LR\n",
        "test_score_diff_1_3 = optimized_tf_idf_test_score_LR - optimized_full_test_score_LR\n",
        "train_score_percent_diff_1_3 = (train_score_diff_1_3 / optimized_tf_idf_train_score_LR) * 100\n",
        "test_score_percent_diff_1_3 = (test_score_diff_1_3 / optimized_tf_idf_test_score_LR) * 100\n",
        "print(f\"Train Data: {train_score_diff_1_3} = {train_score_percent_diff_1_3:.2f}%\")\n",
        "print(f\"Test Data: {test_score_diff_1_3} = {test_score_percent_diff_1_3:.2f}%\")\n",
        "\n",
        "# Percentage Differences between Model 2 and Model 3 on train and test data\n",
        "print(\"\\nPercentage Differences between Stem & Stopwords Model and Full Model:\")\n",
        "train_score_diff_2_3 = optimized_stem_train_score_LR - optimized_full_train_score_LR\n",
        "test_score_diff_2_3 = optimized_stem_test_score_LR - optimized_full_test_score_LR\n",
        "train_score_percent_diff_2_3 = (train_score_diff_2_3 / optimized_stem_train_score_LR) * 100\n",
        "test_score_percent_diff_2_3 = (test_score_diff_2_3 / optimized_stem_test_score_LR) * 100\n",
        "print(f\"Train Data: {train_score_diff_2_3} = {train_score_percent_diff_2_3:.2f}%\")\n",
        "print(f\"Test Data: {test_score_diff_2_3} = {test_score_percent_diff_2_3:.2f}%\")"
      ]
    },
    {
      "cell_type": "markdown",
      "metadata": {},
      "source": [
        "### Logistic Regression Models Ranking"
      ]
    },
    {
      "cell_type": "code",
      "execution_count": 181,
      "metadata": {},
      "outputs": [
        {
          "name": "stdout",
          "output_type": "stream",
          "text": [
            "Model Rankings based on Train Accuracy:\n",
            "1. Full Model with accuracy 0.99997\n",
            "2. Optimized Full Model with accuracy 0.99997\n",
            "3. TF IDF Model with accuracy 0.99322\n",
            "4. Optimized TF IDF Model with accuracy 0.99322\n",
            "5. Stem & Stopwords Model with accuracy 0.99160\n",
            "6. Optimized Stem & Stopwords Model with accuracy 0.99160\n",
            "\n",
            "Model Rankings based on Test Accuracy:\n",
            "1. TF IDF Model with accuracy 0.98745\n",
            "2. Optimized TF IDF Model with accuracy 0.98745\n",
            "3. Stem & Stopwords Model with accuracy 0.98255\n",
            "4. Optimized Stem & Stopwords Model with accuracy 0.98255\n",
            "5. Full Model with accuracy 0.96919\n",
            "6. Optimized Full Model with accuracy 0.96919\n"
          ]
        }
      ],
      "source": [
        "models_train_LR = [\n",
        "    ('TF IDF Model', tf_idf_train_score_LR, tf_idf_LR),\n",
        "    ('Stem & Stopwords Model', stem_train_score_LR, stem_LR),\n",
        "    ('Full Model', full_train_score_LR, full_LR),\n",
        "    ('Optimized TF IDF Model', optimized_tf_idf_train_score_LR, optimized_tf_idf_LR),\n",
        "    ('Optimized Stem & Stopwords Model', optimized_stem_train_score_LR, optimized_stem_LR),\n",
        "    ('Optimized Full Model', optimized_full_train_score_LR, optimized_full_LR)\n",
        "]\n",
        "\n",
        "models_test_LR = [\n",
        "    ('TF IDF Model', tf_idf_test_score_LR, tf_idf_LR),\n",
        "    ('Stem & Stopwords Model', stem_test_score_LR, stem_LR),\n",
        "    ('Full Model', full_test_score_LR, full_LR),\n",
        "    ('Optimized TF IDF Model', optimized_tf_idf_test_score_LR, optimized_tf_idf_LR),\n",
        "    ('Optimized Stem & Stopwords Model', optimized_stem_test_score_LR, optimized_stem_LR),\n",
        "    ('Optimized Full Model', optimized_full_test_score_LR, optimized_full_LR)\n",
        "]\n",
        "\n",
        "models_train_sorted = sorted(models_train_LR, key=lambda x: x[1], reverse=True)\n",
        "models_test_sorted = sorted(models_test_LR, key=lambda x: x[1], reverse=True)\n",
        "\n",
        "print(\"Model Rankings based on Train Accuracy:\")\n",
        "for rank, (desc, score, model) in enumerate(models_train_sorted, start=1):\n",
        "    print(f\"{rank}. {desc} with accuracy {score:.5f}\")\n",
        "\n",
        "print(\"\\nModel Rankings based on Test Accuracy:\")\n",
        "for rank, (desc, score, model) in enumerate(models_test_sorted, start=1):\n",
        "    print(f\"{rank}. {desc} with accuracy {score:.5f}\")"
      ]
    },
    {
      "cell_type": "markdown",
      "metadata": {
        "id": "qlFB3QMvhzil"
      },
      "source": [
        "## Pembuatan Model Decision Tree Classifier"
      ]
    },
    {
      "cell_type": "markdown",
      "metadata": {
        "id": "ZIdUtubD1bMV"
      },
      "source": [
        "### Model Decision Tree Classifier"
      ]
    },
    {
      "cell_type": "code",
      "execution_count": 61,
      "metadata": {
        "id": "tLrzSup0iHvW"
      },
      "outputs": [],
      "source": [
        "tf_idf_DTC = Pipeline([\n",
        "    ('tfidf', TfidfVectorizer()),\n",
        "    ('dtc', DecisionTreeClassifier())\n",
        "])\n",
        "\n",
        "stem_DTC = Pipeline([\n",
        "    ('tfidf', TfidfVectorizer()),\n",
        "    ('dtc', DecisionTreeClassifier())\n",
        "])\n",
        "\n",
        "full_DTC = ImbPipeline([\n",
        "    ('tfidf', TfidfVectorizer()),\n",
        "    ('smote', SMOTE()),\n",
        "    ('dtc', DecisionTreeClassifier(class_weight='balanced'))\n",
        "])"
      ]
    },
    {
      "cell_type": "code",
      "execution_count": 62,
      "metadata": {
        "colab": {
          "base_uri": "https://localhost:8080/",
          "height": 75
        },
        "id": "UrC1OwgGiLhD",
        "outputId": "e12a31c3-70c7-4743-fa29-41beadfd65ea"
      },
      "outputs": [
        {
          "data": {
            "text/html": [
              "<style>#sk-container-id-4 {color: black;}#sk-container-id-4 pre{padding: 0;}#sk-container-id-4 div.sk-toggleable {background-color: white;}#sk-container-id-4 label.sk-toggleable__label {cursor: pointer;display: block;width: 100%;margin-bottom: 0;padding: 0.3em;box-sizing: border-box;text-align: center;}#sk-container-id-4 label.sk-toggleable__label-arrow:before {content: \"▸\";float: left;margin-right: 0.25em;color: #696969;}#sk-container-id-4 label.sk-toggleable__label-arrow:hover:before {color: black;}#sk-container-id-4 div.sk-estimator:hover label.sk-toggleable__label-arrow:before {color: black;}#sk-container-id-4 div.sk-toggleable__content {max-height: 0;max-width: 0;overflow: hidden;text-align: left;background-color: #f0f8ff;}#sk-container-id-4 div.sk-toggleable__content pre {margin: 0.2em;color: black;border-radius: 0.25em;background-color: #f0f8ff;}#sk-container-id-4 input.sk-toggleable__control:checked~div.sk-toggleable__content {max-height: 200px;max-width: 100%;overflow: auto;}#sk-container-id-4 input.sk-toggleable__control:checked~label.sk-toggleable__label-arrow:before {content: \"▾\";}#sk-container-id-4 div.sk-estimator input.sk-toggleable__control:checked~label.sk-toggleable__label {background-color: #d4ebff;}#sk-container-id-4 div.sk-label input.sk-toggleable__control:checked~label.sk-toggleable__label {background-color: #d4ebff;}#sk-container-id-4 input.sk-hidden--visually {border: 0;clip: rect(1px 1px 1px 1px);clip: rect(1px, 1px, 1px, 1px);height: 1px;margin: -1px;overflow: hidden;padding: 0;position: absolute;width: 1px;}#sk-container-id-4 div.sk-estimator {font-family: monospace;background-color: #f0f8ff;border: 1px dotted black;border-radius: 0.25em;box-sizing: border-box;margin-bottom: 0.5em;}#sk-container-id-4 div.sk-estimator:hover {background-color: #d4ebff;}#sk-container-id-4 div.sk-parallel-item::after {content: \"\";width: 100%;border-bottom: 1px solid gray;flex-grow: 1;}#sk-container-id-4 div.sk-label:hover label.sk-toggleable__label {background-color: #d4ebff;}#sk-container-id-4 div.sk-serial::before {content: \"\";position: absolute;border-left: 1px solid gray;box-sizing: border-box;top: 0;bottom: 0;left: 50%;z-index: 0;}#sk-container-id-4 div.sk-serial {display: flex;flex-direction: column;align-items: center;background-color: white;padding-right: 0.2em;padding-left: 0.2em;position: relative;}#sk-container-id-4 div.sk-item {position: relative;z-index: 1;}#sk-container-id-4 div.sk-parallel {display: flex;align-items: stretch;justify-content: center;background-color: white;position: relative;}#sk-container-id-4 div.sk-item::before, #sk-container-id-4 div.sk-parallel-item::before {content: \"\";position: absolute;border-left: 1px solid gray;box-sizing: border-box;top: 0;bottom: 0;left: 50%;z-index: -1;}#sk-container-id-4 div.sk-parallel-item {display: flex;flex-direction: column;z-index: 1;position: relative;background-color: white;}#sk-container-id-4 div.sk-parallel-item:first-child::after {align-self: flex-end;width: 50%;}#sk-container-id-4 div.sk-parallel-item:last-child::after {align-self: flex-start;width: 50%;}#sk-container-id-4 div.sk-parallel-item:only-child::after {width: 0;}#sk-container-id-4 div.sk-dashed-wrapped {border: 1px dashed gray;margin: 0 0.4em 0.5em 0.4em;box-sizing: border-box;padding-bottom: 0.4em;background-color: white;}#sk-container-id-4 div.sk-label label {font-family: monospace;font-weight: bold;display: inline-block;line-height: 1.2em;}#sk-container-id-4 div.sk-label-container {text-align: center;}#sk-container-id-4 div.sk-container {/* jupyter's `normalize.less` sets `[hidden] { display: none; }` but bootstrap.min.css set `[hidden] { display: none !important; }` so we also need the `!important` here to be able to override the default hidden behavior on the sphinx rendered scikit-learn.org. See: https://github.com/scikit-learn/scikit-learn/issues/21755 */display: inline-block !important;position: relative;}#sk-container-id-4 div.sk-text-repr-fallback {display: none;}</style><div id=\"sk-container-id-4\" class=\"sk-top-container\"><div class=\"sk-text-repr-fallback\"><pre>Pipeline(steps=[(&#x27;tfidf&#x27;, TfidfVectorizer()), (&#x27;smote&#x27;, SMOTE()),\n",
              "                (&#x27;dtc&#x27;, DecisionTreeClassifier(class_weight=&#x27;balanced&#x27;))])</pre><b>In a Jupyter environment, please rerun this cell to show the HTML representation or trust the notebook. <br />On GitHub, the HTML representation is unable to render, please try loading this page with nbviewer.org.</b></div><div class=\"sk-container\" hidden><div class=\"sk-item sk-dashed-wrapped\"><div class=\"sk-label-container\"><div class=\"sk-label sk-toggleable\"><input class=\"sk-toggleable__control sk-hidden--visually\" id=\"sk-estimator-id-17\" type=\"checkbox\" ><label for=\"sk-estimator-id-17\" class=\"sk-toggleable__label sk-toggleable__label-arrow\">Pipeline</label><div class=\"sk-toggleable__content\"><pre>Pipeline(steps=[(&#x27;tfidf&#x27;, TfidfVectorizer()), (&#x27;smote&#x27;, SMOTE()),\n",
              "                (&#x27;dtc&#x27;, DecisionTreeClassifier(class_weight=&#x27;balanced&#x27;))])</pre></div></div></div><div class=\"sk-serial\"><div class=\"sk-item\"><div class=\"sk-estimator sk-toggleable\"><input class=\"sk-toggleable__control sk-hidden--visually\" id=\"sk-estimator-id-18\" type=\"checkbox\" ><label for=\"sk-estimator-id-18\" class=\"sk-toggleable__label sk-toggleable__label-arrow\">TfidfVectorizer</label><div class=\"sk-toggleable__content\"><pre>TfidfVectorizer()</pre></div></div></div><div class=\"sk-item\"><div class=\"sk-estimator sk-toggleable\"><input class=\"sk-toggleable__control sk-hidden--visually\" id=\"sk-estimator-id-19\" type=\"checkbox\" ><label for=\"sk-estimator-id-19\" class=\"sk-toggleable__label sk-toggleable__label-arrow\">SMOTE</label><div class=\"sk-toggleable__content\"><pre>SMOTE()</pre></div></div></div><div class=\"sk-item\"><div class=\"sk-estimator sk-toggleable\"><input class=\"sk-toggleable__control sk-hidden--visually\" id=\"sk-estimator-id-20\" type=\"checkbox\" ><label for=\"sk-estimator-id-20\" class=\"sk-toggleable__label sk-toggleable__label-arrow\">DecisionTreeClassifier</label><div class=\"sk-toggleable__content\"><pre>DecisionTreeClassifier(class_weight=&#x27;balanced&#x27;)</pre></div></div></div></div></div></div></div>"
            ],
            "text/plain": [
              "Pipeline(steps=[('tfidf', TfidfVectorizer()), ('smote', SMOTE()),\n",
              "                ('dtc', DecisionTreeClassifier(class_weight='balanced'))])"
            ]
          },
          "execution_count": 62,
          "metadata": {},
          "output_type": "execute_result"
        }
      ],
      "source": [
        "tf_idf_DTC.fit(x_train, y_train)\n",
        "stem_DTC.fit(x_train_stem, y_train_stem)\n",
        "full_DTC.fit(x_train_stem, y_train_stem)"
      ]
    },
    {
      "cell_type": "markdown",
      "metadata": {
        "id": "JcnEe9kFo-OA"
      },
      "source": [
        "### Model Evaluation"
      ]
    },
    {
      "cell_type": "markdown",
      "metadata": {
        "id": "qo8gasV6pgpe"
      },
      "source": [
        "#### TF IDF"
      ]
    },
    {
      "cell_type": "code",
      "execution_count": 63,
      "metadata": {
        "id": "Df7vNGEoiTxb"
      },
      "outputs": [],
      "source": [
        "tf_idf_train_pred_DTC = tf_idf_DTC.predict(x_train)\n",
        "tf_idf_test_pred_DTC = tf_idf_DTC.predict(x_test)"
      ]
    },
    {
      "cell_type": "code",
      "execution_count": 64,
      "metadata": {
        "id": "3FzuGzjvifj-"
      },
      "outputs": [],
      "source": [
        "tf_idf_train_score_DTC = tf_idf_DTC.score(x_train, y_train)\n",
        "tf_idf_test_score_DTC = tf_idf_DTC.score(x_test, y_test)"
      ]
    },
    {
      "cell_type": "code",
      "execution_count": 65,
      "metadata": {
        "colab": {
          "base_uri": "https://localhost:8080/"
        },
        "id": "ej-3ZADYpK_C",
        "outputId": "0f1f7645-433c-4cd5-9368-05419fa0456d"
      },
      "outputs": [
        {
          "name": "stdout",
          "output_type": "stream",
          "text": [
            "              precision    recall  f1-score   support\n",
            "\n",
            "           0       1.00      1.00      1.00     16483\n",
            "           1       1.00      1.00      1.00     14945\n",
            "\n",
            "    accuracy                           1.00     31428\n",
            "   macro avg       1.00      1.00      1.00     31428\n",
            "weighted avg       1.00      1.00      1.00     31428\n",
            "\n",
            "              precision    recall  f1-score   support\n",
            "\n",
            "           0       1.00      1.00      1.00      6998\n",
            "           1       1.00      1.00      1.00      6472\n",
            "\n",
            "    accuracy                           1.00     13470\n",
            "   macro avg       1.00      1.00      1.00     13470\n",
            "weighted avg       1.00      1.00      1.00     13470\n",
            "\n"
          ]
        }
      ],
      "source": [
        "print(classification_report(y_train, tf_idf_train_pred_DTC))\n",
        "print(classification_report(y_test, tf_idf_test_pred_DTC))"
      ]
    },
    {
      "cell_type": "code",
      "execution_count": 66,
      "metadata": {
        "id": "hqFLuu83AV-M",
        "outputId": "58aaa782-c562-48f3-a26a-e61e6889cf2f"
      },
      "outputs": [
        {
          "name": "stdout",
          "output_type": "stream",
          "text": [
            "Decision Tree Classifier TF IDF Train Score: 0.9999681812396589\n",
            "Decision Tree Classifier TF IDF Test Score: 0.996362286562732\n"
          ]
        }
      ],
      "source": [
        "print(f\"Decision Tree Classifier TF IDF Train Score: {tf_idf_train_score_DTC}\")\n",
        "print(f\"Decision Tree Classifier TF IDF Test Score: {tf_idf_test_score_DTC}\")"
      ]
    },
    {
      "cell_type": "markdown",
      "metadata": {
        "id": "OBixrVFUpDGv"
      },
      "source": [
        "#### TF IDF with Stemming and Stopwords Score"
      ]
    },
    {
      "cell_type": "code",
      "execution_count": 67,
      "metadata": {
        "id": "ZnqG1mKYpCzC"
      },
      "outputs": [],
      "source": [
        "stem_train_pred_DTC = stem_DTC.predict(x_train_stem)\n",
        "stem_test_pred_DTC = stem_DTC.predict(x_test_stem)"
      ]
    },
    {
      "cell_type": "code",
      "execution_count": 68,
      "metadata": {
        "id": "g107vSCow0oU"
      },
      "outputs": [],
      "source": [
        "stem_train_score_DTC = stem_DTC.score(x_train_stem, y_train_stem)\n",
        "stem_test_score_DTC = stem_DTC.score(x_test_stem, y_test_stem)"
      ]
    },
    {
      "cell_type": "code",
      "execution_count": 69,
      "metadata": {
        "colab": {
          "base_uri": "https://localhost:8080/"
        },
        "id": "7vyNZHHnoVMI",
        "outputId": "1e0a2ab6-b11f-46d6-ff72-47e42cba5400"
      },
      "outputs": [
        {
          "name": "stdout",
          "output_type": "stream",
          "text": [
            "              precision    recall  f1-score   support\n",
            "\n",
            "           0       1.00      1.00      1.00     16483\n",
            "           1       1.00      1.00      1.00     14945\n",
            "\n",
            "    accuracy                           1.00     31428\n",
            "   macro avg       1.00      1.00      1.00     31428\n",
            "weighted avg       1.00      1.00      1.00     31428\n",
            "\n",
            "              precision    recall  f1-score   support\n",
            "\n",
            "           0       1.00      1.00      1.00      6998\n",
            "           1       1.00      1.00      1.00      6472\n",
            "\n",
            "    accuracy                           1.00     13470\n",
            "   macro avg       1.00      1.00      1.00     13470\n",
            "weighted avg       1.00      1.00      1.00     13470\n",
            "\n"
          ]
        }
      ],
      "source": [
        "print(classification_report(y_train_stem, stem_train_pred_DTC))\n",
        "print(classification_report(y_test_stem, stem_test_pred_DTC))"
      ]
    },
    {
      "cell_type": "code",
      "execution_count": 70,
      "metadata": {
        "id": "N8cj7CroAV-M",
        "outputId": "c9e93ea0-2196-49b4-cd88-94111440b6ab"
      },
      "outputs": [
        {
          "name": "stdout",
          "output_type": "stream",
          "text": [
            "Decision Tree Classifier Stemming, Stopwords, TF IDF Train Score: 0.9999681812396589\n",
            "Decision Tree Classifier Stemming, Stopwords, TF IDF Test Score: 0.996362286562732\n"
          ]
        }
      ],
      "source": [
        "print(f\"Decision Tree Classifier Stemming, Stopwords, TF IDF Train Score: {stem_train_score_DTC}\")\n",
        "print(f\"Decision Tree Classifier Stemming, Stopwords, TF IDF Test Score: {stem_test_score_DTC}\")"
      ]
    },
    {
      "cell_type": "markdown",
      "metadata": {},
      "source": [
        "#### Decision Tree Classifier Stemming, Stopwords, TF IDF, Class Balancing, and Standard Scaler Score"
      ]
    },
    {
      "cell_type": "code",
      "execution_count": 71,
      "metadata": {},
      "outputs": [],
      "source": [
        "full_train_pred_DTC = full_DTC.predict(x_train)\n",
        "full_test_pred_DTC = full_DTC.predict(x_test)"
      ]
    },
    {
      "cell_type": "code",
      "execution_count": 72,
      "metadata": {},
      "outputs": [],
      "source": [
        "full_train_score_DTC = full_DTC.score(x_train_stem, y_train_stem)\n",
        "full_test_score_DTC = full_DTC.score(x_test_stem, y_test_stem)"
      ]
    },
    {
      "cell_type": "code",
      "execution_count": 73,
      "metadata": {},
      "outputs": [
        {
          "name": "stdout",
          "output_type": "stream",
          "text": [
            "              precision    recall  f1-score   support\n",
            "\n",
            "           0       1.00      1.00      1.00     16483\n",
            "           1       1.00      1.00      1.00     14945\n",
            "\n",
            "    accuracy                           1.00     31428\n",
            "   macro avg       1.00      1.00      1.00     31428\n",
            "weighted avg       1.00      1.00      1.00     31428\n",
            "\n",
            "              precision    recall  f1-score   support\n",
            "\n",
            "           0       1.00      1.00      1.00      6998\n",
            "           1       1.00      1.00      1.00      6472\n",
            "\n",
            "    accuracy                           1.00     13470\n",
            "   macro avg       1.00      1.00      1.00     13470\n",
            "weighted avg       1.00      1.00      1.00     13470\n",
            "\n"
          ]
        }
      ],
      "source": [
        "print(classification_report(y_train_stem, stem_train_pred_DTC))\n",
        "print(classification_report(y_test_stem, stem_test_pred_DTC))"
      ]
    },
    {
      "cell_type": "code",
      "execution_count": 74,
      "metadata": {},
      "outputs": [
        {
          "name": "stdout",
          "output_type": "stream",
          "text": [
            "Decision Tree Classifier Stemming, Stopwords, TF IDF, Class Balancing, and Standard Scaler Train Score: 0.9999681812396589\n",
            "Decision Tree Classifier Stemming, Stopwords, TF IDF, Class Balancing, and Standard Scaler Test Score: 0.9962880475129918\n"
          ]
        }
      ],
      "source": [
        "\n",
        "print(f\"Decision Tree Classifier Stemming, Stopwords, TF IDF, Class Balancing, and Standard Scaler Train Score: {full_train_score_DTC}\")\n",
        "print(f\"Decision Tree Classifier Stemming, Stopwords, TF IDF, Class Balancing, and Standard Scaler Test Score: {full_test_score_DTC}\")"
      ]
    },
    {
      "cell_type": "markdown",
      "metadata": {},
      "source": [
        "#### Model Comparison"
      ]
    },
    {
      "cell_type": "code",
      "execution_count": 75,
      "metadata": {},
      "outputs": [
        {
          "name": "stdout",
          "output_type": "stream",
          "text": [
            "Model 1: Decision Tree Classifier TF IDF Scores Scores:\n",
            "Train Score: 0.9999681812396589\n",
            "Test Score: 0.996362286562732\n",
            "\n",
            "Model 2: Decision Tree Classifier Stemming, Stopwords, TF IDF Scores:\n",
            "Train Score: 0.9999681812396589\n",
            "Test Score: 0.996362286562732\n",
            "\n",
            "Model 3: Stemming, Stopwords, TF IDF, Class Balancing, and Standard Scaler Scores:\n",
            "Train Score: 0.9999681812396589\n",
            "Test Score: 0.9962880475129918\n",
            "\n",
            "Percentage Differences between Model 1 and Model 2:\n",
            "Train Data: 0.0 = 0.00%\n",
            "Test Data: 0.0 = 0.00%\n",
            "\n",
            "Percentage Differences between Model 1 and Model 3:\n",
            "Train Data: 0.0 = 0.00%\n",
            "Test Data: 7.42390497401324e-05 = 0.01%\n",
            "\n",
            "Percentage Differences between Model 2 and Model 3:\n",
            "Train Data: 0.0 = 0.00%\n",
            "Test Data: 7.42390497401324e-05 = 0.01%\n"
          ]
        }
      ],
      "source": [
        "# Model 1: Decision Tree Classifier TF IDF Scores\n",
        "print(\"Model 1: Decision Tree Classifier TF IDF Scores Scores:\")\n",
        "print(f\"Train Score: {tf_idf_train_score_DTC}\")\n",
        "print(f\"Test Score: {tf_idf_test_score_DTC}\")\n",
        "\n",
        "# Model 2: Decision Tree Classifier Stemming, Stopwords, TF IDF Scores\n",
        "print(\"\\nModel 2: Decision Tree Classifier Stemming, Stopwords, TF IDF Scores:\")\n",
        "print(f\"Train Score: {stem_train_score_DTC}\")\n",
        "print(f\"Test Score: {stem_test_score_DTC}\")\n",
        "\n",
        "# Model 3: Stemming, Stopwords, TF IDF, Class Balancing, and Standard Scaler Scores\n",
        "print(\"\\nModel 3: Stemming, Stopwords, TF IDF, Class Balancing, and Standard Scaler Scores:\")\n",
        "print(f\"Train Score: {full_train_score_DTC}\")\n",
        "print(f\"Test Score: {full_test_score_DTC}\")\n",
        "\n",
        "print(\"\")\n",
        "\n",
        "# Percentage Differences between Model 1 and Model 2 on train and test data\n",
        "print(\"Percentage Differences between Model 1 and Model 2:\")\n",
        "train_score_diff_1_2 = tf_idf_train_score_DTC - stem_train_score_DTC\n",
        "test_score_diff_1_2 = tf_idf_test_score_DTC - stem_test_score_DTC\n",
        "train_score_percent_diff_1_2 = (train_score_diff_1_2 / tf_idf_train_score_DTC) * 100\n",
        "test_score_percent_diff_1_2 = (test_score_diff_1_2 / tf_idf_test_score_DTC) * 100\n",
        "print(f\"Train Data: {train_score_diff_1_2} = {train_score_percent_diff_1_2:.2f}%\")\n",
        "print(f\"Test Data: {test_score_diff_1_2} = {test_score_percent_diff_1_2:.2f}%\")\n",
        "\n",
        "# Percentage Differences between Model 1 and Model 3 on train and test data\n",
        "print(\"\\nPercentage Differences between Model 1 and Model 3:\")\n",
        "train_score_diff_1_3 = tf_idf_train_score_DTC - full_train_score_DTC\n",
        "test_score_diff_1_3 = tf_idf_test_score_DTC - full_test_score_DTC\n",
        "train_score_percent_diff_1_3 = (train_score_diff_1_3 / tf_idf_train_score_DTC) * 100\n",
        "test_score_percent_diff_1_3 = (test_score_diff_1_3 / tf_idf_test_score_DTC) * 100\n",
        "print(f\"Train Data: {train_score_diff_1_3} = {train_score_percent_diff_1_3:.2f}%\")\n",
        "print(f\"Test Data: {test_score_diff_1_3} = {test_score_percent_diff_1_3:.2f}%\")\n",
        "\n",
        "# Percentage Differences between Model 2 and Model 3 on train and test data\n",
        "print(\"\\nPercentage Differences between Model 2 and Model 3:\")\n",
        "train_score_diff_2_3 = stem_train_score_DTC - full_train_score_DTC\n",
        "test_score_diff_2_3 = stem_test_score_DTC - full_test_score_DTC\n",
        "train_score_percent_diff_2_3 = (train_score_diff_2_3 / stem_train_score_DTC) * 100\n",
        "test_score_percent_diff_2_3 = (test_score_diff_2_3 / stem_test_score_DTC) * 100\n",
        "print(f\"Train Data: {train_score_diff_2_3} = {train_score_percent_diff_2_3:.2f}%\")\n",
        "print(f\"Test Data: {test_score_diff_2_3} = {test_score_percent_diff_2_3:.2f}%\")\n"
      ]
    },
    {
      "cell_type": "markdown",
      "metadata": {
        "id": "TDqSsVE-l8SW"
      },
      "source": [
        "### Decision Tree Classifier Hyperparameter Optimization"
      ]
    },
    {
      "cell_type": "code",
      "execution_count": 90,
      "metadata": {
        "id": "9weIrPfbAV-M",
        "outputId": "1bddd2c0-2bdf-43ac-d8ea-9c2acdf137ff"
      },
      "outputs": [],
      "source": [
        "# Definisikan parameter grid\n",
        "param_grid_DTC = {\n",
        "    'dtc__max_depth': [None, 5, 10, 20, 30, 40, 50],\n",
        "    'dtc__min_samples_split': [2, 5, 10, 15, 20, 25, 30],\n",
        "    'dtc__min_samples_leaf': [1, 2, 3, 4, 5, 6, 7]\n",
        "}\n"
      ]
    },
    {
      "cell_type": "code",
      "execution_count": 92,
      "metadata": {},
      "outputs": [
        {
          "data": {
            "text/html": [
              "<style>#sk-container-id-5 {color: black;}#sk-container-id-5 pre{padding: 0;}#sk-container-id-5 div.sk-toggleable {background-color: white;}#sk-container-id-5 label.sk-toggleable__label {cursor: pointer;display: block;width: 100%;margin-bottom: 0;padding: 0.3em;box-sizing: border-box;text-align: center;}#sk-container-id-5 label.sk-toggleable__label-arrow:before {content: \"▸\";float: left;margin-right: 0.25em;color: #696969;}#sk-container-id-5 label.sk-toggleable__label-arrow:hover:before {color: black;}#sk-container-id-5 div.sk-estimator:hover label.sk-toggleable__label-arrow:before {color: black;}#sk-container-id-5 div.sk-toggleable__content {max-height: 0;max-width: 0;overflow: hidden;text-align: left;background-color: #f0f8ff;}#sk-container-id-5 div.sk-toggleable__content pre {margin: 0.2em;color: black;border-radius: 0.25em;background-color: #f0f8ff;}#sk-container-id-5 input.sk-toggleable__control:checked~div.sk-toggleable__content {max-height: 200px;max-width: 100%;overflow: auto;}#sk-container-id-5 input.sk-toggleable__control:checked~label.sk-toggleable__label-arrow:before {content: \"▾\";}#sk-container-id-5 div.sk-estimator input.sk-toggleable__control:checked~label.sk-toggleable__label {background-color: #d4ebff;}#sk-container-id-5 div.sk-label input.sk-toggleable__control:checked~label.sk-toggleable__label {background-color: #d4ebff;}#sk-container-id-5 input.sk-hidden--visually {border: 0;clip: rect(1px 1px 1px 1px);clip: rect(1px, 1px, 1px, 1px);height: 1px;margin: -1px;overflow: hidden;padding: 0;position: absolute;width: 1px;}#sk-container-id-5 div.sk-estimator {font-family: monospace;background-color: #f0f8ff;border: 1px dotted black;border-radius: 0.25em;box-sizing: border-box;margin-bottom: 0.5em;}#sk-container-id-5 div.sk-estimator:hover {background-color: #d4ebff;}#sk-container-id-5 div.sk-parallel-item::after {content: \"\";width: 100%;border-bottom: 1px solid gray;flex-grow: 1;}#sk-container-id-5 div.sk-label:hover label.sk-toggleable__label {background-color: #d4ebff;}#sk-container-id-5 div.sk-serial::before {content: \"\";position: absolute;border-left: 1px solid gray;box-sizing: border-box;top: 0;bottom: 0;left: 50%;z-index: 0;}#sk-container-id-5 div.sk-serial {display: flex;flex-direction: column;align-items: center;background-color: white;padding-right: 0.2em;padding-left: 0.2em;position: relative;}#sk-container-id-5 div.sk-item {position: relative;z-index: 1;}#sk-container-id-5 div.sk-parallel {display: flex;align-items: stretch;justify-content: center;background-color: white;position: relative;}#sk-container-id-5 div.sk-item::before, #sk-container-id-5 div.sk-parallel-item::before {content: \"\";position: absolute;border-left: 1px solid gray;box-sizing: border-box;top: 0;bottom: 0;left: 50%;z-index: -1;}#sk-container-id-5 div.sk-parallel-item {display: flex;flex-direction: column;z-index: 1;position: relative;background-color: white;}#sk-container-id-5 div.sk-parallel-item:first-child::after {align-self: flex-end;width: 50%;}#sk-container-id-5 div.sk-parallel-item:last-child::after {align-self: flex-start;width: 50%;}#sk-container-id-5 div.sk-parallel-item:only-child::after {width: 0;}#sk-container-id-5 div.sk-dashed-wrapped {border: 1px dashed gray;margin: 0 0.4em 0.5em 0.4em;box-sizing: border-box;padding-bottom: 0.4em;background-color: white;}#sk-container-id-5 div.sk-label label {font-family: monospace;font-weight: bold;display: inline-block;line-height: 1.2em;}#sk-container-id-5 div.sk-label-container {text-align: center;}#sk-container-id-5 div.sk-container {/* jupyter's `normalize.less` sets `[hidden] { display: none; }` but bootstrap.min.css set `[hidden] { display: none !important; }` so we also need the `!important` here to be able to override the default hidden behavior on the sphinx rendered scikit-learn.org. See: https://github.com/scikit-learn/scikit-learn/issues/21755 */display: inline-block !important;position: relative;}#sk-container-id-5 div.sk-text-repr-fallback {display: none;}</style><div id=\"sk-container-id-5\" class=\"sk-top-container\"><div class=\"sk-text-repr-fallback\"><pre>GridSearchCV(cv=2,\n",
              "             estimator=Pipeline(steps=[(&#x27;tfidf&#x27;, TfidfVectorizer()),\n",
              "                                       (&#x27;dtc&#x27;, DecisionTreeClassifier())]),\n",
              "             n_jobs=4,\n",
              "             param_grid={&#x27;dtc__max_depth&#x27;: [None], &#x27;dtc__min_samples_leaf&#x27;: [1],\n",
              "                         &#x27;dtc__min_samples_split&#x27;: [2]},\n",
              "             scoring=&#x27;accuracy&#x27;)</pre><b>In a Jupyter environment, please rerun this cell to show the HTML representation or trust the notebook. <br />On GitHub, the HTML representation is unable to render, please try loading this page with nbviewer.org.</b></div><div class=\"sk-container\" hidden><div class=\"sk-item sk-dashed-wrapped\"><div class=\"sk-label-container\"><div class=\"sk-label sk-toggleable\"><input class=\"sk-toggleable__control sk-hidden--visually\" id=\"sk-estimator-id-18\" type=\"checkbox\" ><label for=\"sk-estimator-id-18\" class=\"sk-toggleable__label sk-toggleable__label-arrow\">GridSearchCV</label><div class=\"sk-toggleable__content\"><pre>GridSearchCV(cv=2,\n",
              "             estimator=Pipeline(steps=[(&#x27;tfidf&#x27;, TfidfVectorizer()),\n",
              "                                       (&#x27;dtc&#x27;, DecisionTreeClassifier())]),\n",
              "             n_jobs=4,\n",
              "             param_grid={&#x27;dtc__max_depth&#x27;: [None], &#x27;dtc__min_samples_leaf&#x27;: [1],\n",
              "                         &#x27;dtc__min_samples_split&#x27;: [2]},\n",
              "             scoring=&#x27;accuracy&#x27;)</pre></div></div></div><div class=\"sk-parallel\"><div class=\"sk-parallel-item\"><div class=\"sk-item\"><div class=\"sk-label-container\"><div class=\"sk-label sk-toggleable\"><input class=\"sk-toggleable__control sk-hidden--visually\" id=\"sk-estimator-id-19\" type=\"checkbox\" ><label for=\"sk-estimator-id-19\" class=\"sk-toggleable__label sk-toggleable__label-arrow\">estimator: Pipeline</label><div class=\"sk-toggleable__content\"><pre>Pipeline(steps=[(&#x27;tfidf&#x27;, TfidfVectorizer()),\n",
              "                (&#x27;dtc&#x27;, DecisionTreeClassifier())])</pre></div></div></div><div class=\"sk-serial\"><div class=\"sk-item\"><div class=\"sk-serial\"><div class=\"sk-item\"><div class=\"sk-estimator sk-toggleable\"><input class=\"sk-toggleable__control sk-hidden--visually\" id=\"sk-estimator-id-20\" type=\"checkbox\" ><label for=\"sk-estimator-id-20\" class=\"sk-toggleable__label sk-toggleable__label-arrow\">TfidfVectorizer</label><div class=\"sk-toggleable__content\"><pre>TfidfVectorizer()</pre></div></div></div><div class=\"sk-item\"><div class=\"sk-estimator sk-toggleable\"><input class=\"sk-toggleable__control sk-hidden--visually\" id=\"sk-estimator-id-21\" type=\"checkbox\" ><label for=\"sk-estimator-id-21\" class=\"sk-toggleable__label sk-toggleable__label-arrow\">DecisionTreeClassifier</label><div class=\"sk-toggleable__content\"><pre>DecisionTreeClassifier()</pre></div></div></div></div></div></div></div></div></div></div></div></div>"
            ],
            "text/plain": [
              "GridSearchCV(cv=2,\n",
              "             estimator=Pipeline(steps=[('tfidf', TfidfVectorizer()),\n",
              "                                       ('dtc', DecisionTreeClassifier())]),\n",
              "             n_jobs=4,\n",
              "             param_grid={'dtc__max_depth': [None], 'dtc__min_samples_leaf': [1],\n",
              "                         'dtc__min_samples_split': [2]},\n",
              "             scoring='accuracy')"
            ]
          },
          "execution_count": 92,
          "metadata": {},
          "output_type": "execute_result"
        }
      ],
      "source": [
        "# Definisikan GridSearchCV\n",
        "tf_idf_grid_search_DTC = GridSearchCV(estimator=tf_idf_DTC, param_grid=param_grid_DTC, cv=5, scoring='accuracy', n_jobs=4)\n",
        "\n",
        "# Fit model\n",
        "tf_idf_grid_search_DTC.fit(x_train, y_train)"
      ]
    },
    {
      "cell_type": "code",
      "execution_count": 93,
      "metadata": {
        "id": "Jo6B7g51AV-N",
        "outputId": "b48c6c77-da0e-4e47-b31a-decd483e60b6"
      },
      "outputs": [
        {
          "data": {
            "text/html": [
              "<style>#sk-container-id-6 {color: black;}#sk-container-id-6 pre{padding: 0;}#sk-container-id-6 div.sk-toggleable {background-color: white;}#sk-container-id-6 label.sk-toggleable__label {cursor: pointer;display: block;width: 100%;margin-bottom: 0;padding: 0.3em;box-sizing: border-box;text-align: center;}#sk-container-id-6 label.sk-toggleable__label-arrow:before {content: \"▸\";float: left;margin-right: 0.25em;color: #696969;}#sk-container-id-6 label.sk-toggleable__label-arrow:hover:before {color: black;}#sk-container-id-6 div.sk-estimator:hover label.sk-toggleable__label-arrow:before {color: black;}#sk-container-id-6 div.sk-toggleable__content {max-height: 0;max-width: 0;overflow: hidden;text-align: left;background-color: #f0f8ff;}#sk-container-id-6 div.sk-toggleable__content pre {margin: 0.2em;color: black;border-radius: 0.25em;background-color: #f0f8ff;}#sk-container-id-6 input.sk-toggleable__control:checked~div.sk-toggleable__content {max-height: 200px;max-width: 100%;overflow: auto;}#sk-container-id-6 input.sk-toggleable__control:checked~label.sk-toggleable__label-arrow:before {content: \"▾\";}#sk-container-id-6 div.sk-estimator input.sk-toggleable__control:checked~label.sk-toggleable__label {background-color: #d4ebff;}#sk-container-id-6 div.sk-label input.sk-toggleable__control:checked~label.sk-toggleable__label {background-color: #d4ebff;}#sk-container-id-6 input.sk-hidden--visually {border: 0;clip: rect(1px 1px 1px 1px);clip: rect(1px, 1px, 1px, 1px);height: 1px;margin: -1px;overflow: hidden;padding: 0;position: absolute;width: 1px;}#sk-container-id-6 div.sk-estimator {font-family: monospace;background-color: #f0f8ff;border: 1px dotted black;border-radius: 0.25em;box-sizing: border-box;margin-bottom: 0.5em;}#sk-container-id-6 div.sk-estimator:hover {background-color: #d4ebff;}#sk-container-id-6 div.sk-parallel-item::after {content: \"\";width: 100%;border-bottom: 1px solid gray;flex-grow: 1;}#sk-container-id-6 div.sk-label:hover label.sk-toggleable__label {background-color: #d4ebff;}#sk-container-id-6 div.sk-serial::before {content: \"\";position: absolute;border-left: 1px solid gray;box-sizing: border-box;top: 0;bottom: 0;left: 50%;z-index: 0;}#sk-container-id-6 div.sk-serial {display: flex;flex-direction: column;align-items: center;background-color: white;padding-right: 0.2em;padding-left: 0.2em;position: relative;}#sk-container-id-6 div.sk-item {position: relative;z-index: 1;}#sk-container-id-6 div.sk-parallel {display: flex;align-items: stretch;justify-content: center;background-color: white;position: relative;}#sk-container-id-6 div.sk-item::before, #sk-container-id-6 div.sk-parallel-item::before {content: \"\";position: absolute;border-left: 1px solid gray;box-sizing: border-box;top: 0;bottom: 0;left: 50%;z-index: -1;}#sk-container-id-6 div.sk-parallel-item {display: flex;flex-direction: column;z-index: 1;position: relative;background-color: white;}#sk-container-id-6 div.sk-parallel-item:first-child::after {align-self: flex-end;width: 50%;}#sk-container-id-6 div.sk-parallel-item:last-child::after {align-self: flex-start;width: 50%;}#sk-container-id-6 div.sk-parallel-item:only-child::after {width: 0;}#sk-container-id-6 div.sk-dashed-wrapped {border: 1px dashed gray;margin: 0 0.4em 0.5em 0.4em;box-sizing: border-box;padding-bottom: 0.4em;background-color: white;}#sk-container-id-6 div.sk-label label {font-family: monospace;font-weight: bold;display: inline-block;line-height: 1.2em;}#sk-container-id-6 div.sk-label-container {text-align: center;}#sk-container-id-6 div.sk-container {/* jupyter's `normalize.less` sets `[hidden] { display: none; }` but bootstrap.min.css set `[hidden] { display: none !important; }` so we also need the `!important` here to be able to override the default hidden behavior on the sphinx rendered scikit-learn.org. See: https://github.com/scikit-learn/scikit-learn/issues/21755 */display: inline-block !important;position: relative;}#sk-container-id-6 div.sk-text-repr-fallback {display: none;}</style><div id=\"sk-container-id-6\" class=\"sk-top-container\"><div class=\"sk-text-repr-fallback\"><pre>GridSearchCV(cv=2,\n",
              "             estimator=Pipeline(steps=[(&#x27;tfidf&#x27;, TfidfVectorizer()),\n",
              "                                       (&#x27;dtc&#x27;, DecisionTreeClassifier())]),\n",
              "             n_jobs=4,\n",
              "             param_grid={&#x27;dtc__max_depth&#x27;: [None], &#x27;dtc__min_samples_leaf&#x27;: [1],\n",
              "                         &#x27;dtc__min_samples_split&#x27;: [2]},\n",
              "             scoring=&#x27;accuracy&#x27;)</pre><b>In a Jupyter environment, please rerun this cell to show the HTML representation or trust the notebook. <br />On GitHub, the HTML representation is unable to render, please try loading this page with nbviewer.org.</b></div><div class=\"sk-container\" hidden><div class=\"sk-item sk-dashed-wrapped\"><div class=\"sk-label-container\"><div class=\"sk-label sk-toggleable\"><input class=\"sk-toggleable__control sk-hidden--visually\" id=\"sk-estimator-id-22\" type=\"checkbox\" ><label for=\"sk-estimator-id-22\" class=\"sk-toggleable__label sk-toggleable__label-arrow\">GridSearchCV</label><div class=\"sk-toggleable__content\"><pre>GridSearchCV(cv=2,\n",
              "             estimator=Pipeline(steps=[(&#x27;tfidf&#x27;, TfidfVectorizer()),\n",
              "                                       (&#x27;dtc&#x27;, DecisionTreeClassifier())]),\n",
              "             n_jobs=4,\n",
              "             param_grid={&#x27;dtc__max_depth&#x27;: [None], &#x27;dtc__min_samples_leaf&#x27;: [1],\n",
              "                         &#x27;dtc__min_samples_split&#x27;: [2]},\n",
              "             scoring=&#x27;accuracy&#x27;)</pre></div></div></div><div class=\"sk-parallel\"><div class=\"sk-parallel-item\"><div class=\"sk-item\"><div class=\"sk-label-container\"><div class=\"sk-label sk-toggleable\"><input class=\"sk-toggleable__control sk-hidden--visually\" id=\"sk-estimator-id-23\" type=\"checkbox\" ><label for=\"sk-estimator-id-23\" class=\"sk-toggleable__label sk-toggleable__label-arrow\">estimator: Pipeline</label><div class=\"sk-toggleable__content\"><pre>Pipeline(steps=[(&#x27;tfidf&#x27;, TfidfVectorizer()),\n",
              "                (&#x27;dtc&#x27;, DecisionTreeClassifier())])</pre></div></div></div><div class=\"sk-serial\"><div class=\"sk-item\"><div class=\"sk-serial\"><div class=\"sk-item\"><div class=\"sk-estimator sk-toggleable\"><input class=\"sk-toggleable__control sk-hidden--visually\" id=\"sk-estimator-id-24\" type=\"checkbox\" ><label for=\"sk-estimator-id-24\" class=\"sk-toggleable__label sk-toggleable__label-arrow\">TfidfVectorizer</label><div class=\"sk-toggleable__content\"><pre>TfidfVectorizer()</pre></div></div></div><div class=\"sk-item\"><div class=\"sk-estimator sk-toggleable\"><input class=\"sk-toggleable__control sk-hidden--visually\" id=\"sk-estimator-id-25\" type=\"checkbox\" ><label for=\"sk-estimator-id-25\" class=\"sk-toggleable__label sk-toggleable__label-arrow\">DecisionTreeClassifier</label><div class=\"sk-toggleable__content\"><pre>DecisionTreeClassifier()</pre></div></div></div></div></div></div></div></div></div></div></div></div>"
            ],
            "text/plain": [
              "GridSearchCV(cv=2,\n",
              "             estimator=Pipeline(steps=[('tfidf', TfidfVectorizer()),\n",
              "                                       ('dtc', DecisionTreeClassifier())]),\n",
              "             n_jobs=4,\n",
              "             param_grid={'dtc__max_depth': [None], 'dtc__min_samples_leaf': [1],\n",
              "                         'dtc__min_samples_split': [2]},\n",
              "             scoring='accuracy')"
            ]
          },
          "execution_count": 93,
          "metadata": {},
          "output_type": "execute_result"
        }
      ],
      "source": [
        "# Definisikan GridSearchCV\n",
        "stem_grid_search_DTC = GridSearchCV(estimator=stem_DTC, param_grid=param_grid_DTC, cv=5, scoring='accuracy', n_jobs=4)\n",
        "\n",
        "# Fit model\n",
        "stem_grid_search_DTC.fit(x_train_stem, y_train_stem)"
      ]
    },
    {
      "cell_type": "code",
      "execution_count": 95,
      "metadata": {},
      "outputs": [
        {
          "data": {
            "text/html": [
              "<style>#sk-container-id-7 {color: black;}#sk-container-id-7 pre{padding: 0;}#sk-container-id-7 div.sk-toggleable {background-color: white;}#sk-container-id-7 label.sk-toggleable__label {cursor: pointer;display: block;width: 100%;margin-bottom: 0;padding: 0.3em;box-sizing: border-box;text-align: center;}#sk-container-id-7 label.sk-toggleable__label-arrow:before {content: \"▸\";float: left;margin-right: 0.25em;color: #696969;}#sk-container-id-7 label.sk-toggleable__label-arrow:hover:before {color: black;}#sk-container-id-7 div.sk-estimator:hover label.sk-toggleable__label-arrow:before {color: black;}#sk-container-id-7 div.sk-toggleable__content {max-height: 0;max-width: 0;overflow: hidden;text-align: left;background-color: #f0f8ff;}#sk-container-id-7 div.sk-toggleable__content pre {margin: 0.2em;color: black;border-radius: 0.25em;background-color: #f0f8ff;}#sk-container-id-7 input.sk-toggleable__control:checked~div.sk-toggleable__content {max-height: 200px;max-width: 100%;overflow: auto;}#sk-container-id-7 input.sk-toggleable__control:checked~label.sk-toggleable__label-arrow:before {content: \"▾\";}#sk-container-id-7 div.sk-estimator input.sk-toggleable__control:checked~label.sk-toggleable__label {background-color: #d4ebff;}#sk-container-id-7 div.sk-label input.sk-toggleable__control:checked~label.sk-toggleable__label {background-color: #d4ebff;}#sk-container-id-7 input.sk-hidden--visually {border: 0;clip: rect(1px 1px 1px 1px);clip: rect(1px, 1px, 1px, 1px);height: 1px;margin: -1px;overflow: hidden;padding: 0;position: absolute;width: 1px;}#sk-container-id-7 div.sk-estimator {font-family: monospace;background-color: #f0f8ff;border: 1px dotted black;border-radius: 0.25em;box-sizing: border-box;margin-bottom: 0.5em;}#sk-container-id-7 div.sk-estimator:hover {background-color: #d4ebff;}#sk-container-id-7 div.sk-parallel-item::after {content: \"\";width: 100%;border-bottom: 1px solid gray;flex-grow: 1;}#sk-container-id-7 div.sk-label:hover label.sk-toggleable__label {background-color: #d4ebff;}#sk-container-id-7 div.sk-serial::before {content: \"\";position: absolute;border-left: 1px solid gray;box-sizing: border-box;top: 0;bottom: 0;left: 50%;z-index: 0;}#sk-container-id-7 div.sk-serial {display: flex;flex-direction: column;align-items: center;background-color: white;padding-right: 0.2em;padding-left: 0.2em;position: relative;}#sk-container-id-7 div.sk-item {position: relative;z-index: 1;}#sk-container-id-7 div.sk-parallel {display: flex;align-items: stretch;justify-content: center;background-color: white;position: relative;}#sk-container-id-7 div.sk-item::before, #sk-container-id-7 div.sk-parallel-item::before {content: \"\";position: absolute;border-left: 1px solid gray;box-sizing: border-box;top: 0;bottom: 0;left: 50%;z-index: -1;}#sk-container-id-7 div.sk-parallel-item {display: flex;flex-direction: column;z-index: 1;position: relative;background-color: white;}#sk-container-id-7 div.sk-parallel-item:first-child::after {align-self: flex-end;width: 50%;}#sk-container-id-7 div.sk-parallel-item:last-child::after {align-self: flex-start;width: 50%;}#sk-container-id-7 div.sk-parallel-item:only-child::after {width: 0;}#sk-container-id-7 div.sk-dashed-wrapped {border: 1px dashed gray;margin: 0 0.4em 0.5em 0.4em;box-sizing: border-box;padding-bottom: 0.4em;background-color: white;}#sk-container-id-7 div.sk-label label {font-family: monospace;font-weight: bold;display: inline-block;line-height: 1.2em;}#sk-container-id-7 div.sk-label-container {text-align: center;}#sk-container-id-7 div.sk-container {/* jupyter's `normalize.less` sets `[hidden] { display: none; }` but bootstrap.min.css set `[hidden] { display: none !important; }` so we also need the `!important` here to be able to override the default hidden behavior on the sphinx rendered scikit-learn.org. See: https://github.com/scikit-learn/scikit-learn/issues/21755 */display: inline-block !important;position: relative;}#sk-container-id-7 div.sk-text-repr-fallback {display: none;}</style><div id=\"sk-container-id-7\" class=\"sk-top-container\"><div class=\"sk-text-repr-fallback\"><pre>GridSearchCV(cv=2,\n",
              "             estimator=Pipeline(steps=[(&#x27;tfidf&#x27;, TfidfVectorizer()),\n",
              "                                       (&#x27;smote&#x27;, SMOTE()),\n",
              "                                       (&#x27;dtc&#x27;,\n",
              "                                        DecisionTreeClassifier(class_weight=&#x27;balanced&#x27;))]),\n",
              "             n_jobs=4,\n",
              "             param_grid={&#x27;dtc__max_depth&#x27;: [None], &#x27;dtc__min_samples_leaf&#x27;: [1],\n",
              "                         &#x27;dtc__min_samples_split&#x27;: [2]},\n",
              "             scoring=&#x27;accuracy&#x27;)</pre><b>In a Jupyter environment, please rerun this cell to show the HTML representation or trust the notebook. <br />On GitHub, the HTML representation is unable to render, please try loading this page with nbviewer.org.</b></div><div class=\"sk-container\" hidden><div class=\"sk-item sk-dashed-wrapped\"><div class=\"sk-label-container\"><div class=\"sk-label sk-toggleable\"><input class=\"sk-toggleable__control sk-hidden--visually\" id=\"sk-estimator-id-26\" type=\"checkbox\" ><label for=\"sk-estimator-id-26\" class=\"sk-toggleable__label sk-toggleable__label-arrow\">GridSearchCV</label><div class=\"sk-toggleable__content\"><pre>GridSearchCV(cv=2,\n",
              "             estimator=Pipeline(steps=[(&#x27;tfidf&#x27;, TfidfVectorizer()),\n",
              "                                       (&#x27;smote&#x27;, SMOTE()),\n",
              "                                       (&#x27;dtc&#x27;,\n",
              "                                        DecisionTreeClassifier(class_weight=&#x27;balanced&#x27;))]),\n",
              "             n_jobs=4,\n",
              "             param_grid={&#x27;dtc__max_depth&#x27;: [None], &#x27;dtc__min_samples_leaf&#x27;: [1],\n",
              "                         &#x27;dtc__min_samples_split&#x27;: [2]},\n",
              "             scoring=&#x27;accuracy&#x27;)</pre></div></div></div><div class=\"sk-parallel\"><div class=\"sk-parallel-item\"><div class=\"sk-item\"><div class=\"sk-label-container\"><div class=\"sk-label sk-toggleable\"><input class=\"sk-toggleable__control sk-hidden--visually\" id=\"sk-estimator-id-27\" type=\"checkbox\" ><label for=\"sk-estimator-id-27\" class=\"sk-toggleable__label sk-toggleable__label-arrow\">estimator: Pipeline</label><div class=\"sk-toggleable__content\"><pre>Pipeline(steps=[(&#x27;tfidf&#x27;, TfidfVectorizer()), (&#x27;smote&#x27;, SMOTE()),\n",
              "                (&#x27;dtc&#x27;, DecisionTreeClassifier(class_weight=&#x27;balanced&#x27;))])</pre></div></div></div><div class=\"sk-serial\"><div class=\"sk-item\"><div class=\"sk-serial\"><div class=\"sk-item\"><div class=\"sk-estimator sk-toggleable\"><input class=\"sk-toggleable__control sk-hidden--visually\" id=\"sk-estimator-id-28\" type=\"checkbox\" ><label for=\"sk-estimator-id-28\" class=\"sk-toggleable__label sk-toggleable__label-arrow\">TfidfVectorizer</label><div class=\"sk-toggleable__content\"><pre>TfidfVectorizer()</pre></div></div></div><div class=\"sk-item\"><div class=\"sk-estimator sk-toggleable\"><input class=\"sk-toggleable__control sk-hidden--visually\" id=\"sk-estimator-id-29\" type=\"checkbox\" ><label for=\"sk-estimator-id-29\" class=\"sk-toggleable__label sk-toggleable__label-arrow\">SMOTE</label><div class=\"sk-toggleable__content\"><pre>SMOTE()</pre></div></div></div><div class=\"sk-item\"><div class=\"sk-estimator sk-toggleable\"><input class=\"sk-toggleable__control sk-hidden--visually\" id=\"sk-estimator-id-30\" type=\"checkbox\" ><label for=\"sk-estimator-id-30\" class=\"sk-toggleable__label sk-toggleable__label-arrow\">DecisionTreeClassifier</label><div class=\"sk-toggleable__content\"><pre>DecisionTreeClassifier(class_weight=&#x27;balanced&#x27;)</pre></div></div></div></div></div></div></div></div></div></div></div></div>"
            ],
            "text/plain": [
              "GridSearchCV(cv=2,\n",
              "             estimator=Pipeline(steps=[('tfidf', TfidfVectorizer()),\n",
              "                                       ('smote', SMOTE()),\n",
              "                                       ('dtc',\n",
              "                                        DecisionTreeClassifier(class_weight='balanced'))]),\n",
              "             n_jobs=4,\n",
              "             param_grid={'dtc__max_depth': [None], 'dtc__min_samples_leaf': [1],\n",
              "                         'dtc__min_samples_split': [2]},\n",
              "             scoring='accuracy')"
            ]
          },
          "execution_count": 95,
          "metadata": {},
          "output_type": "execute_result"
        }
      ],
      "source": [
        "# Definisikan GridSearchCV\n",
        "full_grid_search_DTC = GridSearchCV(estimator=full_DTC, param_grid=param_grid_DTC, cv=5, scoring='accuracy', n_jobs=4)\n",
        "\n",
        "# Fit model\n",
        "full_grid_search_DTC.fit(x_train_stem, y_train_stem)"
      ]
    },
    {
      "cell_type": "code",
      "execution_count": 96,
      "metadata": {
        "id": "CGIiHdcCgKvi",
        "outputId": "4e6177ae-46c0-4a06-8da5-4365c588669c"
      },
      "outputs": [
        {
          "name": "stdout",
          "output_type": "stream",
          "text": [
            "Best parameters for TF IDF Decision Tree Classifier: {'dtc__max_depth': None, 'dtc__min_samples_leaf': 1, 'dtc__min_samples_split': 2}\n",
            "Best parameters for Stem and Stopwords Decision Tree Classifier: {'dtc__max_depth': None, 'dtc__min_samples_leaf': 1, 'dtc__min_samples_split': 2}\n",
            "Best parameters for Decision Tree Classifier Stemming, Stopwords, TF IDF, Class Balancing, and Standard Scaler: {'dtc__max_depth': None, 'dtc__min_samples_leaf': 1, 'dtc__min_samples_split': 2}\n"
          ]
        }
      ],
      "source": [
        "print(f\"Best parameters for TF IDF Decision Tree Classifier: {tf_idf_grid_search_DTC.best_params_}\")\n",
        "print(f\"Best parameters for Stem and Stopwords Decision Tree Classifier: {stem_grid_search_DTC.best_params_}\")\n",
        "print(f\"Best parameters for Decision Tree Classifier Stemming, Stopwords, TF IDF, Class Balancing, and Standard Scaler: {full_grid_search_DTC.best_params_}\")"
      ]
    },
    {
      "cell_type": "markdown",
      "metadata": {
        "id": "FeO4MqHG1f8i"
      },
      "source": [
        "### Decision Tree Classifier Model Setelah Optimisasi"
      ]
    },
    {
      "cell_type": "code",
      "execution_count": 76,
      "metadata": {
        "id": "MRBhN-HNqXu_"
      },
      "outputs": [],
      "source": [
        "tf_idf_DTC.set_params(\n",
        "    dtc__max_depth=None,\n",
        "    dtc__min_samples_leaf=1,\n",
        "    dtc__min_samples_split=2\n",
        ")\n",
        "\n",
        "optimized_tf_idf_DTC = tf_idf_DTC\n",
        "\n",
        "stem_DTC.set_params(\n",
        "    dtc__max_depth=None,\n",
        "    dtc__min_samples_leaf=1,\n",
        "    dtc__min_samples_split=2\n",
        ")\n",
        "\n",
        "optimized_stem_DTC = stem_DTC\n",
        "\n",
        "full_DTC.set_params(\n",
        "    dtc__max_depth=None,\n",
        "    dtc__min_samples_leaf=1,\n",
        "    dtc__min_samples_split=2\n",
        ")\n",
        "\n",
        "optimized_full_DTC = full_DTC\n",
        "\n",
        "# optimized_tf_idf_DTC = tf_idf_grid_search_DTC.best_estimator_\n",
        "# optimized_stem_DTC = stem_grid_search_DTC.best_estimator_\n",
        "# optimized_full_DTC = full_grid_search_DTC.best_estimator_"
      ]
    },
    {
      "cell_type": "markdown",
      "metadata": {
        "id": "CW0smpDdp4yA"
      },
      "source": [
        "#### TF IDF"
      ]
    },
    {
      "cell_type": "code",
      "execution_count": 77,
      "metadata": {
        "id": "F7gI1FN7qc_9"
      },
      "outputs": [],
      "source": [
        "optimized_tf_idf_train_pred_DTC = optimized_tf_idf_DTC.predict(x_train)\n",
        "optimized_tf_idf_test_pred_DTC = optimized_tf_idf_DTC.predict(x_test)"
      ]
    },
    {
      "cell_type": "code",
      "execution_count": 78,
      "metadata": {
        "id": "GsTixpCbp5Lj"
      },
      "outputs": [],
      "source": [
        "optimized_tf_idf_train_score_DTC = optimized_tf_idf_DTC.score(x_train, y_train)"
      ]
    },
    {
      "cell_type": "code",
      "execution_count": 79,
      "metadata": {
        "id": "p7J5rVMQqadp"
      },
      "outputs": [],
      "source": [
        "optimized_tf_idf_test_score_DTC = optimized_tf_idf_DTC.score(x_test, y_test)"
      ]
    },
    {
      "cell_type": "code",
      "execution_count": 80,
      "metadata": {
        "colab": {
          "base_uri": "https://localhost:8080/"
        },
        "id": "5pqEaBL3qT20",
        "outputId": "51e9d3e9-4c38-46d6-df7e-048545158a1c"
      },
      "outputs": [
        {
          "name": "stdout",
          "output_type": "stream",
          "text": [
            "              precision    recall  f1-score   support\n",
            "\n",
            "           0       0.99      0.99      0.99     16483\n",
            "           1       0.99      0.99      0.99     14945\n",
            "\n",
            "    accuracy                           0.99     31428\n",
            "   macro avg       0.99      0.99      0.99     31428\n",
            "weighted avg       0.99      0.99      0.99     31428\n",
            "\n",
            "              precision    recall  f1-score   support\n",
            "\n",
            "           0       0.99      0.99      0.99      6998\n",
            "           1       0.99      0.99      0.99      6472\n",
            "\n",
            "    accuracy                           0.99     13470\n",
            "   macro avg       0.99      0.99      0.99     13470\n",
            "weighted avg       0.99      0.99      0.99     13470\n",
            "\n"
          ]
        }
      ],
      "source": [
        "print(classification_report(y_train, tf_idf_train_pred_lr))\n",
        "print(classification_report(y_test, tf_idf_test_pred_lr))"
      ]
    },
    {
      "cell_type": "code",
      "execution_count": 81,
      "metadata": {
        "id": "Y_a5R7QGAV-O",
        "outputId": "d1535484-d0a0-4756-deeb-a8801448201c"
      },
      "outputs": [
        {
          "name": "stdout",
          "output_type": "stream",
          "text": [
            "Optimized Decision Tree Classifier TF IDF Train Score: 0.9999681812396589\n",
            "Optimized Decision Tree Classifier TF IDF Test Score: 0.996362286562732\n"
          ]
        }
      ],
      "source": [
        "print(f\"Optimized Decision Tree Classifier TF IDF Train Score: {optimized_tf_idf_train_score_DTC}\")\n",
        "print(f\"Optimized Decision Tree Classifier TF IDF Test Score: {optimized_tf_idf_test_score_DTC}\")"
      ]
    },
    {
      "cell_type": "markdown",
      "metadata": {
        "id": "jLLLhv7Zp_rL"
      },
      "source": [
        "#### TF IDF With Stemming & Stopwords"
      ]
    },
    {
      "cell_type": "code",
      "execution_count": 82,
      "metadata": {
        "id": "MLu0qEVsp_S4"
      },
      "outputs": [],
      "source": [
        "optimized_stem_train_pred_DTC = optimized_stem_DTC.predict(x_train_stem)\n",
        "optimized_stem_test_pred_DTC = optimized_stem_DTC.predict(x_test_stem)"
      ]
    },
    {
      "cell_type": "code",
      "execution_count": 83,
      "metadata": {
        "id": "PeCO2nFDscDs"
      },
      "outputs": [],
      "source": [
        "optimized_stem_train_score_DTC = optimized_stem_DTC.score(x_train_stem, y_train_stem)"
      ]
    },
    {
      "cell_type": "code",
      "execution_count": 84,
      "metadata": {
        "id": "xEIZzIe_sczX"
      },
      "outputs": [],
      "source": [
        "optimized_stem_test_score_DTC = optimized_stem_DTC.score(x_test_stem, y_test_stem)"
      ]
    },
    {
      "cell_type": "code",
      "execution_count": 85,
      "metadata": {
        "colab": {
          "base_uri": "https://localhost:8080/"
        },
        "id": "G16wTG5YscvG",
        "outputId": "b526857a-668f-48e5-b519-a0d9da969e0b"
      },
      "outputs": [
        {
          "name": "stdout",
          "output_type": "stream",
          "text": [
            "              precision    recall  f1-score   support\n",
            "\n",
            "           0       1.00      1.00      1.00     16483\n",
            "           1       1.00      1.00      1.00     14945\n",
            "\n",
            "    accuracy                           1.00     31428\n",
            "   macro avg       1.00      1.00      1.00     31428\n",
            "weighted avg       1.00      1.00      1.00     31428\n",
            "\n",
            "              precision    recall  f1-score   support\n",
            "\n",
            "           0       1.00      1.00      1.00      6998\n",
            "           1       1.00      1.00      1.00      6472\n",
            "\n",
            "    accuracy                           1.00     13470\n",
            "   macro avg       1.00      1.00      1.00     13470\n",
            "weighted avg       1.00      1.00      1.00     13470\n",
            "\n"
          ]
        }
      ],
      "source": [
        "print(classification_report(y_train_stem, optimized_stem_train_pred_DTC))\n",
        "print(classification_report(y_test_stem, optimized_stem_test_pred_DTC))"
      ]
    },
    {
      "cell_type": "code",
      "execution_count": 86,
      "metadata": {
        "id": "iEYqT-3OAV-P",
        "outputId": "c7b59d26-78c8-472e-b6d4-09ac988e6d1f"
      },
      "outputs": [
        {
          "name": "stdout",
          "output_type": "stream",
          "text": [
            "Optimized Decision Tree Classifier Stemming, Stopwords, TF IDF Train Score: 0.9999681812396589\n",
            "Optimized Decision Tree Classifier Stemming, Stopwords, TF IDF Test Score: 0.996362286562732\n"
          ]
        }
      ],
      "source": [
        "print(f\"Optimized Decision Tree Classifier Stemming, Stopwords, TF IDF Train Score: {optimized_stem_train_score_DTC}\")\n",
        "print(f\"Optimized Decision Tree Classifier Stemming, Stopwords, TF IDF Test Score: {optimized_stem_test_score_DTC}\")"
      ]
    },
    {
      "cell_type": "markdown",
      "metadata": {},
      "source": [
        "#### TF IDF with Stemming and Stopwords "
      ]
    },
    {
      "cell_type": "code",
      "execution_count": 87,
      "metadata": {},
      "outputs": [],
      "source": [
        "optimized_full_train_pred_DTC = optimized_full_DTC.predict(x_train_stem)\n",
        "optimized_full_test_pred_DTC = optimized_full_DTC.predict(x_test_stem)"
      ]
    },
    {
      "cell_type": "code",
      "execution_count": 88,
      "metadata": {},
      "outputs": [],
      "source": [
        "optimized_full_train_score_DTC = optimized_full_DTC.score(x_train_stem, y_train_stem)"
      ]
    },
    {
      "cell_type": "code",
      "execution_count": 89,
      "metadata": {},
      "outputs": [],
      "source": [
        "optimized_full_test_score_DTC = optimized_full_DTC.score(x_test_stem, y_test_stem)"
      ]
    },
    {
      "cell_type": "code",
      "execution_count": 90,
      "metadata": {},
      "outputs": [
        {
          "name": "stdout",
          "output_type": "stream",
          "text": [
            "              precision    recall  f1-score   support\n",
            "\n",
            "           0       1.00      1.00      1.00     16483\n",
            "           1       1.00      1.00      1.00     14945\n",
            "\n",
            "    accuracy                           1.00     31428\n",
            "   macro avg       1.00      1.00      1.00     31428\n",
            "weighted avg       1.00      1.00      1.00     31428\n",
            "\n",
            "              precision    recall  f1-score   support\n",
            "\n",
            "           0       1.00      1.00      1.00      6998\n",
            "           1       1.00      1.00      1.00      6472\n",
            "\n",
            "    accuracy                           1.00     13470\n",
            "   macro avg       1.00      1.00      1.00     13470\n",
            "weighted avg       1.00      1.00      1.00     13470\n",
            "\n"
          ]
        }
      ],
      "source": [
        "print(classification_report(y_train_stem, optimized_full_train_pred_DTC))\n",
        "print(classification_report(y_test_stem, optimized_full_test_pred_DTC))"
      ]
    },
    {
      "cell_type": "code",
      "execution_count": 91,
      "metadata": {},
      "outputs": [
        {
          "name": "stdout",
          "output_type": "stream",
          "text": [
            "Optimized Decision Tree Classifier Stemming, Stopwords, TF IDF, Class Balancing, and Standard Scaler Train Score: 0.9999681812396589\n",
            "Optimized Decision Tree Classifier Stemming, Stopwords, TF IDF, Class Balancing, and Standard Scaler Test Score: 0.9962880475129918\n"
          ]
        }
      ],
      "source": [
        "print(f\"Optimized Decision Tree Classifier Stemming, Stopwords, TF IDF, Class Balancing, and Standard Scaler Train Score: {optimized_full_train_score_DTC}\")\n",
        "print(f\"Optimized Decision Tree Classifier Stemming, Stopwords, TF IDF, Class Balancing, and Standard Scaler Test Score: {optimized_full_test_score_DTC}\")"
      ]
    },
    {
      "cell_type": "markdown",
      "metadata": {
        "id": "PkW8FQW-1KC5"
      },
      "source": [
        "### Score Differential"
      ]
    },
    {
      "cell_type": "markdown",
      "metadata": {
        "id": "DnoiS0Tq1PmR"
      },
      "source": [
        "#### TF IDF"
      ]
    },
    {
      "cell_type": "code",
      "execution_count": 92,
      "metadata": {
        "colab": {
          "base_uri": "https://localhost:8080/"
        },
        "id": "m6l67E0e1Nmn",
        "outputId": "43c6b297-7723-4b30-edf4-c1a89cb22ced"
      },
      "outputs": [
        {
          "name": "stdout",
          "output_type": "stream",
          "text": [
            "Train vs Train Comparison for TF-IDF Logistic Regression:\n",
            "TF-IDF Train Score vs Optimized Train Score: 0.9999681812396589 vs 0.9999681812396589\n",
            "\n",
            "Test vs Test Comparison for TF-IDF Logistic Regression:\n",
            "TF-IDF Test Score vs Optimized Test Score: 0.996362286562732 vs 0.996362286562732\n",
            "\n",
            "Percentage Differences:\n",
            "Percentage Difference (Train Score): TF-IDF vs Optimized: 0.00%\n",
            "Percentage Difference (Test Score): TF-IDF vs Optimized: 0.00%\n"
          ]
        }
      ],
      "source": [
        "# Train vs Train Comparison for TF-IDF Logistic Regression\n",
        "print(\"Train vs Train Comparison for TF-IDF Logistic Regression:\")\n",
        "print(f\"TF-IDF Train Score vs Optimized Train Score: {tf_idf_train_score_DTC} vs {optimized_tf_idf_train_score_DTC}\")\n",
        "print(\"\")\n",
        "\n",
        "# Test vs Test Comparison for TF-IDF Logistic Regression\n",
        "print(\"Test vs Test Comparison for TF-IDF Logistic Regression:\")\n",
        "print(f\"TF-IDF Test Score vs Optimized Test Score: {tf_idf_test_score_DTC} vs {optimized_tf_idf_test_score_DTC}\")\n",
        "print(\"\")\n",
        "\n",
        "# Percentage Differences\n",
        "print(\"Percentage Differences:\")\n",
        "print(f\"Percentage Difference (Train Score): TF-IDF vs Optimized: {((optimized_tf_idf_train_score_DTC - tf_idf_train_score_DTC) / tf_idf_train_score_DTC) * 100:.2f}%\")\n",
        "print(f\"Percentage Difference (Test Score): TF-IDF vs Optimized: {((optimized_tf_idf_test_score_DTC - tf_idf_test_score_DTC) / tf_idf_test_score_DTC) * 100:.2f}%\")\n"
      ]
    },
    {
      "cell_type": "markdown",
      "metadata": {
        "id": "YGwbjIKA1SCW"
      },
      "source": [
        "#### TF IDF With Stemming & Stopwords"
      ]
    },
    {
      "cell_type": "code",
      "execution_count": 93,
      "metadata": {
        "id": "dKvCBE4V1e8j",
        "outputId": "765e1c48-25ea-437a-dfee-d8b681db3400"
      },
      "outputs": [
        {
          "name": "stdout",
          "output_type": "stream",
          "text": [
            "Train vs Train Comparison for Stemming, Stopwords, TF-IDF Logistic Regression:\n",
            "Stemming, Stopwords, TF-IDF Train Score vs Optimized Train Score: 0.9999681812396589 vs 0.9999681812396589\n",
            "\n",
            "Test vs Test Comparison for Stemming, Stopwords, TF-IDF Logistic Regression:\n",
            "Stemming, Stopwords, TF-IDF Test Score vs Optimized Test Score: 0.996362286562732 vs 0.996362286562732\n",
            "\n",
            "Percentage Differences:\n",
            "Percentage Difference (Train Score): Stemming, Stopwords, TF-IDF vs Optimized: 0.00%\n",
            "Percentage Difference (Test Score): Stemming, Stopwords, TF-IDF vs Optimized: 0.00%\n"
          ]
        }
      ],
      "source": [
        "# Train vs Train Comparison for Stemming, Stopwords, TF-IDF Logistic Regression\n",
        "print(\"Train vs Train Comparison for Stemming, Stopwords, TF-IDF Logistic Regression:\")\n",
        "print(f\"Stemming, Stopwords, TF-IDF Train Score vs Optimized Train Score: {stem_train_score_DTC} vs {optimized_stem_train_score_DTC}\")\n",
        "print(\"\")\n",
        "\n",
        "# Test vs Test Comparison for Stemming, Stopwords, TF-IDF Logistic Regression\n",
        "print(\"Test vs Test Comparison for Stemming, Stopwords, TF-IDF Logistic Regression:\")\n",
        "print(f\"Stemming, Stopwords, TF-IDF Test Score vs Optimized Test Score: {stem_test_score_DTC} vs {optimized_stem_test_score_DTC}\")\n",
        "print(\"\")\n",
        "\n",
        "# Percentage Differences\n",
        "print(\"Percentage Differences:\")\n",
        "print(f\"Percentage Difference (Train Score): Stemming, Stopwords, TF-IDF vs Optimized: {((optimized_stem_train_score_DTC - stem_train_score_DTC) / stem_train_score_DTC) * 100:.2f}%\")\n",
        "print(f\"Percentage Difference (Test Score): Stemming, Stopwords, TF-IDF vs Optimized: {((optimized_stem_test_score_DTC - stem_test_score_DTC) / stem_test_score_DTC) * 100:.2f}%\")\n"
      ]
    },
    {
      "cell_type": "markdown",
      "metadata": {},
      "source": [
        "#### Optimized Decision Tree Classifier Stemming, Stopwords, TF IDF, Class Balancing, and Standard Scaler"
      ]
    },
    {
      "cell_type": "code",
      "execution_count": 94,
      "metadata": {},
      "outputs": [
        {
          "name": "stdout",
          "output_type": "stream",
          "text": [
            "Train vs Train Comparison for Stemming, Stopwords, TF IDF, Class Balancing, and Standard Scaler Logistic Regression:\n",
            "Logistic Regression Stemming, Stopwords, TF IDF, Class Balancing, and Standard Scaler Train Score vs Optimized Train Score: 0.9999681812396589 vs 0.9999681812396589\n",
            "\n",
            "Test vs Test Comparison for Stemming, Stopwords, TF IDF, Class Balancing, and Standard Scaler Logistic Regression:\n",
            "Logistic Regression Stemming, Stopwords, TF IDF, Class Balancing, and Standard Scaler Test Score: 0.9962880475129918 vs 0.9962880475129918\n",
            "\n",
            "Percentage Differences:\n",
            "Percentage Difference (Train Score): Stemming, Stopwords, TF IDF, Class Balancing, and Standard Scaler vs Optimized: 0.00%\n",
            "Percentage Difference (Test Score): Stemming, Stopwords, TF IDF, Class Balancing, and Standard Scaler vs Optimized: 0.00%\n"
          ]
        }
      ],
      "source": [
        "# Train vs Train Comparison for Stemming, Stopwords, TF-IDF Logistic Regression\n",
        "print(\"Train vs Train Comparison for Stemming, Stopwords, TF IDF, Class Balancing, and Standard Scaler Logistic Regression:\")\n",
        "print(f\"Logistic Regression Stemming, Stopwords, TF IDF, Class Balancing, and Standard Scaler Train Score vs Optimized Train Score: {full_train_score_DTC} vs {optimized_full_train_score_DTC}\")\n",
        "print(\"\")\n",
        "\n",
        "# Test vs Test Comparison for Stemming, Stopwords, TF-IDF Logistic Regression\n",
        "print(\"Test vs Test Comparison for Stemming, Stopwords, TF IDF, Class Balancing, and Standard Scaler Logistic Regression:\")\n",
        "print(f\"Logistic Regression Stemming, Stopwords, TF IDF, Class Balancing, and Standard Scaler Test Score: {full_test_score_DTC} vs {optimized_full_test_score_DTC}\")\n",
        "print(\"\")\n",
        "\n",
        "# Percentage Differences\n",
        "print(\"Percentage Differences:\")\n",
        "print(f\"Percentage Difference (Train Score): Stemming, Stopwords, TF IDF, Class Balancing, and Standard Scaler vs Optimized: {((optimized_full_train_score_DTC - full_train_score_DTC) / full_train_score_DTC) * 100:.2f}%\")\n",
        "print(f\"Percentage Difference (Test Score): Stemming, Stopwords, TF IDF, Class Balancing, and Standard Scaler vs Optimized: {((optimized_full_test_score_DTC - full_test_score_DTC) / full_test_score_DTC) * 100:.2f}%\")\n"
      ]
    },
    {
      "cell_type": "markdown",
      "metadata": {
        "id": "w0khT5WnAV-P"
      },
      "source": [
        "#### Optimized Model Comparison"
      ]
    },
    {
      "cell_type": "code",
      "execution_count": 95,
      "metadata": {
        "id": "0XZaO5ElAV-Q",
        "outputId": "ef075874-79e9-4911-e808-0f340633ba75"
      },
      "outputs": [
        {
          "name": "stdout",
          "output_type": "stream",
          "text": [
            "Model 1 Scores:\n",
            "Train Score: 0.9999681812396589\n",
            "Test Score: 0.996362286562732\n",
            "\n",
            "Model 2 Scores:\n",
            "Train Score: 0.9999681812396589\n",
            "Test Score: 0.996362286562732\n",
            "\n",
            "Model 3 Scores:\n",
            "Train Score: 0.9999681812396589\n",
            "Test Score: 0.9962880475129918\n",
            "\n",
            "Percentage Differences between Model 1 and Model 2:\n",
            "Train Data: 0.0 = 0.00%\n",
            "Test Data: 0.0 = 0.00%\n",
            "\n",
            "Percentage Differences between Model 1 and Model 3:\n",
            "Train Data: 0.0 = 0.00%\n",
            "Test Data: 7.42390497401324e-05 = 0.01%\n",
            "\n",
            "Percentage Differences between Model 2 and Model 3:\n",
            "Train Data: 0.0 = 0.00%\n",
            "Test Data: 7.42390497401324e-05 = 0.01%\n"
          ]
        }
      ],
      "source": [
        "# Model 1: Optimized Decision Tree Classifier TF IDF Scores\n",
        "print(\"Model 1 Scores:\")\n",
        "print(f\"Train Score: {optimized_tf_idf_train_score_DTC}\")\n",
        "print(f\"Test Score: {optimized_tf_idf_test_score_DTC}\")\n",
        "\n",
        "# Model 2: Optimized Decision Tree Classifier Stemming, Stopwords, TF IDF Scores\n",
        "print(\"\\nModel 2 Scores:\")\n",
        "print(f\"Train Score: {optimized_stem_train_score_DTC}\")\n",
        "print(f\"Test Score: {optimized_stem_test_score_DTC}\")\n",
        "\n",
        "# Model 3: Optimized Stemming, Stopwords, TF IDF, Class Balancing, and Standard Scaler Scores\n",
        "print(\"\\nModel 3 Scores:\")\n",
        "print(f\"Train Score: {optimized_full_train_score_DTC}\")\n",
        "print(f\"Test Score: {optimized_full_test_score_DTC}\")\n",
        "\n",
        "print(\"\")\n",
        "\n",
        "# Percentage Differences between Model 1 and Model 2 on train and test data\n",
        "print(\"Percentage Differences between Model 1 and Model 2:\")\n",
        "train_score_diff_1_2 = optimized_tf_idf_train_score_DTC - optimized_stem_train_score_DTC\n",
        "test_score_diff_1_2 = optimized_tf_idf_test_score_DTC - optimized_stem_test_score_DTC\n",
        "train_score_percent_diff_1_2 = (train_score_diff_1_2 / optimized_tf_idf_train_score_DTC) * 100\n",
        "test_score_percent_diff_1_2 = (test_score_diff_1_2 / optimized_tf_idf_test_score_DTC) * 100\n",
        "print(f\"Train Data: {train_score_diff_1_2} = {train_score_percent_diff_1_2:.2f}%\")\n",
        "print(f\"Test Data: {test_score_diff_1_2} = {test_score_percent_diff_1_2:.2f}%\")\n",
        "\n",
        "# Percentage Differences between Model 1 and Model 3 on train and test data\n",
        "print(\"\\nPercentage Differences between Model 1 and Model 3:\")\n",
        "train_score_diff_1_3 = optimized_tf_idf_train_score_DTC - optimized_full_train_score_DTC\n",
        "test_score_diff_1_3 = optimized_tf_idf_test_score_DTC - optimized_full_test_score_DTC\n",
        "train_score_percent_diff_1_3 = (train_score_diff_1_3 / optimized_tf_idf_train_score_DTC) * 100\n",
        "test_score_percent_diff_1_3 = (test_score_diff_1_3 / optimized_tf_idf_test_score_DTC) * 100\n",
        "print(f\"Train Data: {train_score_diff_1_3} = {train_score_percent_diff_1_3:.2f}%\")\n",
        "print(f\"Test Data: {test_score_diff_1_3} = {test_score_percent_diff_1_3:.2f}%\")\n",
        "\n",
        "# Percentage Differences between Model 2 and Model 3 on train and test data\n",
        "print(\"\\nPercentage Differences between Model 2 and Model 3:\")\n",
        "train_score_diff_2_3 = optimized_stem_train_score_DTC - optimized_full_train_score_DTC\n",
        "test_score_diff_2_3 = optimized_stem_test_score_DTC - optimized_full_test_score_DTC\n",
        "train_score_percent_diff_2_3 = (train_score_diff_2_3 / optimized_stem_train_score_DTC) * 100\n",
        "test_score_percent_diff_2_3 = (test_score_diff_2_3 / optimized_stem_test_score_DTC) * 100\n",
        "print(f\"Train Data: {train_score_diff_2_3} = {train_score_percent_diff_2_3:.2f}%\")\n",
        "print(f\"Test Data: {test_score_diff_2_3} = {test_score_percent_diff_2_3:.2f}%\")\n"
      ]
    },
    {
      "cell_type": "markdown",
      "metadata": {},
      "source": [
        "### Decision Tree Classifier Models Ranking"
      ]
    },
    {
      "cell_type": "code",
      "execution_count": 179,
      "metadata": {},
      "outputs": [
        {
          "name": "stdout",
          "output_type": "stream",
          "text": [
            "\n",
            "Model Rankings based on Train Accuracy:\n",
            "1. Decision Tree Classifier TF IDF with accuracy 0.99997\n",
            "2. Decision Tree Classifier Stemming, Stopwords, TF IDF with accuracy 0.99997\n",
            "3. Stemming, Stopwords, TF IDF, Class Balancing, and Standard Scaler with accuracy 0.99997\n",
            "4. Optimized Decision Tree Classifier TF IDF with accuracy 0.99997\n",
            "5. Optimized Decision Tree Classifier Stemming, Stopwords, TF IDF with accuracy 0.99997\n",
            "6. Optimized Stemming, Stopwords, TF IDF, Class Balancing, and Standard Scaler with accuracy 0.99997\n",
            "\n",
            "Model Rankings based on Test Accuracy:\n",
            "1. Decision Tree Classifier TF IDF with accuracy 0.99636\n",
            "2. Decision Tree Classifier Stemming, Stopwords, TF IDF with accuracy 0.99636\n",
            "3. Optimized Decision Tree Classifier TF IDF with accuracy 0.99636\n",
            "4. Optimized Decision Tree Classifier Stemming, Stopwords, TF IDF with accuracy 0.99636\n",
            "5. Stemming, Stopwords, TF IDF, Class Balancing, and Standard Scaler with accuracy 0.99629\n",
            "6. Optimized Stemming, Stopwords, TF IDF, Class Balancing, and Standard Scaler with accuracy 0.99629\n"
          ]
        }
      ],
      "source": [
        "models_train_DTC = [\n",
        "    ('Decision Tree Classifier TF IDF', tf_idf_train_score_DTC, tf_idf_DTC),\n",
        "    ('Decision Tree Classifier Stemming, Stopwords, TF IDF', stem_train_score_DTC, stem_DTC),\n",
        "    ('Stemming, Stopwords, TF IDF, Class Balancing, and Standard Scaler', full_train_score_DTC, full_DTC),\n",
        "    ('Optimized Decision Tree Classifier TF IDF', optimized_tf_idf_train_score_DTC, optimized_tf_idf_DTC),\n",
        "    ('Optimized Decision Tree Classifier Stemming, Stopwords, TF IDF', optimized_stem_train_score_DTC, optimized_stem_DTC),\n",
        "    ('Optimized Stemming, Stopwords, TF IDF, Class Balancing, and Standard Scaler', optimized_full_train_score_DTC, optimized_full_DTC)\n",
        "]\n",
        "\n",
        "models_test_DTC = [\n",
        "    ('Decision Tree Classifier TF IDF', tf_idf_test_score_DTC, tf_idf_DTC),\n",
        "    ('Decision Tree Classifier Stemming, Stopwords, TF IDF', stem_test_score_DTC, stem_DTC),\n",
        "    ('Stemming, Stopwords, TF IDF, Class Balancing, and Standard Scaler', full_test_score_DTC, full_DTC),\n",
        "    ('Optimized Decision Tree Classifier TF IDF', optimized_tf_idf_test_score_DTC, optimized_tf_idf_DTC),\n",
        "    ('Optimized Decision Tree Classifier Stemming, Stopwords, TF IDF', optimized_stem_test_score_DTC, optimized_stem_DTC),\n",
        "    ('Optimized Stemming, Stopwords, TF IDF, Class Balancing, and Standard Scaler', optimized_full_test_score_DTC, optimized_full_DTC)\n",
        "]\n",
        "\n",
        "models_train_sorted_DTC = sorted(models_train_DTC, key=lambda x: x[1], reverse=True)\n",
        "models_test_sorted_DTC = sorted(models_test_DTC, key=lambda x: x[1], reverse=True)\n",
        "\n",
        "print(\"\\nModel Rankings based on Train Accuracy:\")\n",
        "for rank, (desc, score, model) in enumerate(models_train_sorted_DTC, start=1):\n",
        "    print(f\"{rank}. {desc} with accuracy {score:.5f}\")\n",
        "\n",
        "print(\"\\nModel Rankings based on Test Accuracy:\")\n",
        "for rank, (desc, score, model) in enumerate(models_test_sorted_DTC, start=1):\n",
        "    print(f\"{rank}. {desc} with accuracy {score:.5f}\")"
      ]
    },
    {
      "cell_type": "markdown",
      "metadata": {},
      "source": [
        "## Models Ranking"
      ]
    },
    {
      "cell_type": "code",
      "execution_count": 183,
      "metadata": {},
      "outputs": [
        {
          "name": "stdout",
          "output_type": "stream",
          "text": [
            "\n",
            "Model Rankings based on Train Accuracy:\n",
            "1. Full Model with accuracy 0.99997\n",
            "2. Optimized Full Model with accuracy 0.99997\n",
            "3. Decision Tree Classifier TF IDF with accuracy 0.99997\n",
            "4. Decision Tree Classifier Stemming, Stopwords, TF IDF with accuracy 0.99997\n",
            "5. Stemming, Stopwords, TF IDF, Class Balancing, and Standard Scaler with accuracy 0.99997\n",
            "6. Optimized Decision Tree Classifier TF IDF with accuracy 0.99997\n",
            "7. Optimized Decision Tree Classifier Stemming, Stopwords, TF IDF with accuracy 0.99997\n",
            "8. Optimized Stemming, Stopwords, TF IDF, Class Balancing, and Standard Scaler with accuracy 0.99997\n",
            "9. TF IDF Model with accuracy 0.99322\n",
            "10. Optimized TF IDF Model with accuracy 0.99322\n",
            "11. Stem & Stopwords Model with accuracy 0.99160\n",
            "12. Optimized Stem & Stopwords Model with accuracy 0.99160\n",
            "\n",
            "Model Rankings based on Test Accuracy:\n",
            "1. Decision Tree Classifier TF IDF with accuracy 0.99636\n",
            "2. Decision Tree Classifier Stemming, Stopwords, TF IDF with accuracy 0.99636\n",
            "3. Optimized Decision Tree Classifier TF IDF with accuracy 0.99636\n",
            "4. Optimized Decision Tree Classifier Stemming, Stopwords, TF IDF with accuracy 0.99636\n",
            "5. Stemming, Stopwords, TF IDF, Class Balancing, and Standard Scaler with accuracy 0.99629\n",
            "6. Optimized Stemming, Stopwords, TF IDF, Class Balancing, and Standard Scaler with accuracy 0.99629\n",
            "7. TF IDF Model with accuracy 0.98745\n",
            "8. Optimized TF IDF Model with accuracy 0.98745\n",
            "9. Stem & Stopwords Model with accuracy 0.98255\n",
            "10. Optimized Stem & Stopwords Model with accuracy 0.98255\n",
            "11. Full Model with accuracy 0.96919\n",
            "12. Optimized Full Model with accuracy 0.96919\n"
          ]
        }
      ],
      "source": [
        "models_train = models_train_LR + models_train_DTC\n",
        "models_test = models_test_LR + models_test_DTC\n",
        "\n",
        "models_train_sorted = sorted(models_train, key=lambda x: x[1], reverse=True)\n",
        "models_test_sorted = sorted(models_test, key=lambda x: x[1], reverse=True)\n",
        "\n",
        "print(\"\\nModel Rankings based on Train Accuracy:\")\n",
        "for rank, (desc, score, model) in enumerate(models_train_sorted, start=1):\n",
        "    print(f\"{rank}. {desc} with accuracy {score:.5f}\")\n",
        "\n",
        "print(\"\\nModel Rankings based on Test Accuracy:\")\n",
        "for rank, (desc, score, model) in enumerate(models_test_sorted, start=1):\n",
        "    print(f\"{rank}. {desc} with accuracy {score:.5f}\")"
      ]
    },
    {
      "cell_type": "markdown",
      "metadata": {
        "id": "9JQrRG5dk5MB"
      },
      "source": [
        "# Model Implementation"
      ]
    },
    {
      "cell_type": "code",
      "execution_count": 112,
      "metadata": {
        "id": "H_KYyMIQk7LU"
      },
      "outputs": [],
      "source": [
        "def output_label(n):\n",
        "  if n==0:\n",
        "    return \"It Is Fake News\"\n",
        "  elif n==1:\n",
        "    return \"It Is Genuine News\"\n"
      ]
    },
    {
      "cell_type": "code",
      "execution_count": 192,
      "metadata": {},
      "outputs": [],
      "source": [
        "best_models = models_test_sorted[0]"
      ]
    },
    {
      "cell_type": "code",
      "execution_count": 193,
      "metadata": {},
      "outputs": [
        {
          "name": "stdout",
          "output_type": "stream",
          "text": [
            "Best Models\n",
            "Decision Tree Classifier TF IDF -> 0.996362286562732\n"
          ]
        }
      ],
      "source": [
        "print(f\"Best Models\\n{best_models[0]} -> {best_models[1]}\")"
      ]
    },
    {
      "cell_type": "code",
      "execution_count": 218,
      "metadata": {
        "id": "7JJka57qloTV"
      },
      "outputs": [],
      "source": [
        "def manual_testing(news):\n",
        "    testing_news = {\"text\": [news]}\n",
        "    new_def_test = pd.DataFrame(testing_news)\n",
        "    new_x_test = new_def_test[\"text\"].apply(wordopt)\n",
        "\n",
        "    # Model predictions\n",
        "    pred = best_models[2].predict(new_x_test)\n",
        "\n",
        "    return print(f\"Text: {news}\\nPrediction: {output_label(pred[0])}\")\n"
      ]
    },
    {
      "cell_type": "code",
      "execution_count": 221,
      "metadata": {
        "colab": {
          "base_uri": "https://localhost:8080/",
          "height": 287
        },
        "id": "v-nZbDrsmyRL",
        "outputId": "92797f6d-7cdf-4e34-80f7-bb624aaa1250"
      },
      "outputs": [
        {
          "name": "stdout",
          "output_type": "stream",
          "text": [
            "Text: WASHINGTON (Reuters) - The head of a conservative Republican faction in the U.S. Congress, who voted this month for a huge expansion of the national debt to pay for tax cuts, called himself a “fiscal conservative” on Sunday and urged budget restraint in 2018. In keeping with a sharp pivot under way among Republicans, U.S. Representative Mark Meadows, speaking on CBS’ “Face the Nation,” drew a hard line on federal spending, which lawmakers are bracing to do battle over in January. When they return from the holidays on Wednesday, lawmakers will begin trying to pass a federal budget in a fight likely to be linked to other issues, such as immigration policy, even as the November congressional election campaigns approach in which Republicans will seek to keep control of Congress. President Donald Trump and his Republicans want a big budget increase in military spending, while Democrats also want proportional increases for non-defense “discretionary” spending on programs that support education, scientific research, infrastructure, public health and environmental protection. “The (Trump) administration has already been willing to say: ‘We’re going to increase non-defense discretionary spending ... by about 7 percent,’” Meadows, chairman of the small but influential House Freedom Caucus, said on the program. “Now, Democrats are saying that’s not enough, we need to give the government a pay raise of 10 to 11 percent. For a fiscal conservative, I don’t see where the rationale is. ... Eventually you run out of other people’s money,” he said. Meadows was among Republicans who voted in late December for their party’s debt-financed tax overhaul, which is expected to balloon the federal budget deficit and add about $1.5 trillion over 10 years to the $20 trillion national debt. “It’s interesting to hear Mark talk about fiscal responsibility,” Democratic U.S. Representative Joseph Crowley said on CBS. Crowley said the Republican tax bill would require the  United States to borrow $1.5 trillion, to be paid off by future generations, to finance tax cuts for corporations and the rich. “This is one of the least ... fiscally responsible bills we’ve ever seen passed in the history of the House of Representatives. I think we’re going to be paying for this for many, many years to come,” Crowley said. Republicans insist the tax package, the biggest U.S. tax overhaul in more than 30 years,  will boost the economy and job growth. House Speaker Paul Ryan, who also supported the tax bill, recently went further than Meadows, making clear in a radio interview that welfare or “entitlement reform,” as the party often calls it, would be a top Republican priority in 2018. In Republican parlance, “entitlement” programs mean food stamps, housing assistance, Medicare and Medicaid health insurance for the elderly, poor and disabled, as well as other programs created by Washington to assist the needy. Democrats seized on Ryan’s early December remarks, saying they showed Republicans would try to pay for their tax overhaul by seeking spending cuts for social programs. But the goals of House Republicans may have to take a back seat to the Senate, where the votes of some Democrats will be needed to approve a budget and prevent a government shutdown. Democrats will use their leverage in the Senate, which Republicans narrowly control, to defend both discretionary non-defense programs and social spending, while tackling the issue of the “Dreamers,” people brought illegally to the country as children. Trump in September put a March 2018 expiration date on the Deferred Action for Childhood Arrivals, or DACA, program, which protects the young immigrants from deportation and provides them with work permits. The president has said in recent Twitter messages he wants funding for his proposed Mexican border wall and other immigration law changes in exchange for agreeing to help the Dreamers. Representative Debbie Dingell told CBS she did not favor linking that issue to other policy objectives, such as wall funding. “We need to do DACA clean,” she said.  On Wednesday, Trump aides will meet with congressional leaders to discuss those issues. That will be followed by a weekend of strategy sessions for Trump and Republican leaders on Jan. 6 and 7, the White House said. Trump was also scheduled to meet on Sunday with Florida Republican Governor Rick Scott, who wants more emergency aid. The House has passed an $81 billion aid package after hurricanes in Florida, Texas and Puerto Rico, and wildfires in California. The package far exceeded the $44 billion requested by the Trump administration. The Senate has not yet voted on the aid. \n",
            "Prediction: It Is Genuine News\n"
          ]
        }
      ],
      "source": [
        "news_article = str(input())\n",
        "manual_testing(news_article)"
      ]
    },
    {
      "cell_type": "code",
      "execution_count": 222,
      "metadata": {},
      "outputs": [
        {
          "name": "stdout",
          "output_type": "stream",
          "text": [
            "Text: It almost seems like Donald Trump is trolling America at this point. In the beginning, when he tried to gaslight the country by insisting that the crowd at his inauguration was the biggest ever   or that it was even close to the last couple of inaugurations   we all kind of scratched our heads and wondered what kind of bullshit he was playing at. Then when he started appointing people to positions they had no business being in, we started to worry that this was going to go much worse than we had expected.After 11 months of Donald Trump pulling the rhetorical equivalent of whipping his dick out and slapping it on every table he gets near, I think it s time we address what s happening: Dude is a straight-up troll. He gets pleasure out of making other people uncomfortable or even seeing them in distress. He actively thinks up ways to piss off people he doesn t like.Let s set aside just for a moment the fact that that s the least presidential  behavior anyone s ever heard of   it s dangerous.His latest stunt is one of the grossest yet.Everyone is, by now, used to Trump not talking about things he doesn t want to talk about, and making a huge deal out of things that not many people care about. So it wasn t a huge surprise when the president didn t discuss the Sandy Hook shooting of 2012 on the fifth anniversary of that tragic event. What was a huge surprise was that he not only consciously decided not to invite the victims  families to the White House Christmas party this year   as they have been invited every year since the massacre took place, along with others who share those concerns.In each of the past 4 years, President Obama invited gun violence prevention activists, gun violence survivors (including the Sandy Hook families) and supportive lawmakers to his Christmas party. Zero gun lobbyists were in attendance. pic.twitter.com/QePW9FtbSh  Shannon Watts (@shannonrwatts) December 15, 2017The last sentence of that tweet is important, because that s exactly who Donald Trump did invite to the White House Christmas party. Instead of victims. On the anniversary day.Yesterday was the 5 year mark of the mass shooting at Sandy Hook School, which went unacknowledged by the President. On the same day, he hosted a White House Christmas party to which he invited @NRA CEO Wayne LaPierre. Here he is at the party with @DanPatrick. pic.twitter.com/mUbKCIWGxB  Shannon Watts (@shannonrwatts) December 15, 2017Wayne LaPierre is the man who, in response to the Sandy Hook massacre, finally issued a statement that blamed gun violence on music, movies, and video games, and culminated with perhaps the greatest bit of irony any man has ever unintentionally conceived of: Isn t fantasizing about killing people as a way to get your kicks really the filthiest form of pornography? Yes. Yes, it is, Wayne.Anyway, Happy Holidays Merry Christmas from Donald Trump, everyone!Featured image via Alex Wong/Getty Images\n",
            "Prediction: It Is Fake News\n"
          ]
        }
      ],
      "source": [
        "news_article = str(input())\n",
        "manual_testing(news_article)"
      ]
    }
  ],
  "metadata": {
    "accelerator": "GPU",
    "colab": {
      "collapsed_sections": [
        "CqJTHTO04UAT"
      ],
      "gpuType": "T4",
      "provenance": [],
      "toc_visible": true
    },
    "kernelspec": {
      "display_name": "Python 3",
      "name": "python3"
    },
    "language_info": {
      "codemirror_mode": {
        "name": "ipython",
        "version": 3
      },
      "file_extension": ".py",
      "mimetype": "text/x-python",
      "name": "python",
      "nbconvert_exporter": "python",
      "pygments_lexer": "ipython3",
      "version": "3.10.8"
    }
  },
  "nbformat": 4,
  "nbformat_minor": 0
}
