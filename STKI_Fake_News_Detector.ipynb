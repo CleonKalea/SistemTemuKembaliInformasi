{
  "cells": [
    {
      "cell_type": "markdown",
      "metadata": {
        "id": "FRAiQZ8b1Qjf"
      },
      "source": [
        "# Fake News Detector"
      ]
    },
    {
      "cell_type": "markdown",
      "metadata": {
        "id": "xu0os-PJ1T-d"
      },
      "source": [
        "## Import Library"
      ]
    },
    {
      "cell_type": "code",
      "execution_count": 1,
      "metadata": {
        "id": "yXQ_0ag9y7e8"
      },
      "outputs": [],
      "source": [
        "import pandas as pd\n",
        "from sklearn.metrics import classification_report\n",
        "from sklearn.feature_extraction.text import TfidfVectorizer\n",
        "from sklearn.model_selection import train_test_split\n",
        "import nltk\n",
        "from nltk.corpus import stopwords\n",
        "from nltk.stem import PorterStemmer\n",
        "import re\n",
        "from sklearn.linear_model import LogisticRegression\n",
        "from sklearn.tree import DecisionTreeClassifier\n",
        "from sklearn.model_selection import GridSearchCV\n",
        "from sklearn.pipeline import Pipeline\n",
        "from imblearn.over_sampling import SMOTE\n",
        "from sklearn.preprocessing import StandardScaler\n",
        "from imblearn.pipeline import Pipeline as ImbPipeline\n",
        "from sklearn.model_selection import RandomizedSearchCV\n",
        "import os"
      ]
    },
    {
      "cell_type": "code",
      "execution_count": 2,
      "metadata": {},
      "outputs": [
        {
          "name": "stdout",
          "output_type": "stream",
          "text": [
            ".git\n",
            "Fake.csv\n",
            "Progress Laporan STKI Kelompok 2.docx\n",
            "Progress Laporan STKI Kelompok 2.pdf\n",
            "STKI_Fake_News_Detector.ipynb\n",
            "True.csv\n"
          ]
        }
      ],
      "source": [
        "files = os.listdir()\n",
        "\n",
        "for file in files:\n",
        "    print(f\"{file}\")"
      ]
    },
    {
      "cell_type": "markdown",
      "metadata": {
        "id": "KdC9Dlrf1WSI"
      },
      "source": [
        "## Import Data"
      ]
    },
    {
      "cell_type": "code",
      "execution_count": 3,
      "metadata": {
        "id": "JCBrQt4V0K9V"
      },
      "outputs": [],
      "source": [
        "true = pd.read_csv('True.csv', engine='python', encoding='utf-8', on_bad_lines='skip')\n",
        "fake = pd.read_csv('Fake.csv', engine='python', encoding='utf-8', on_bad_lines='skip')"
      ]
    },
    {
      "cell_type": "code",
      "execution_count": 4,
      "metadata": {},
      "outputs": [
        {
          "data": {
            "text/html": [
              "<div>\n",
              "<style scoped>\n",
              "    .dataframe tbody tr th:only-of-type {\n",
              "        vertical-align: middle;\n",
              "    }\n",
              "\n",
              "    .dataframe tbody tr th {\n",
              "        vertical-align: top;\n",
              "    }\n",
              "\n",
              "    .dataframe thead th {\n",
              "        text-align: right;\n",
              "    }\n",
              "</style>\n",
              "<table border=\"1\" class=\"dataframe\">\n",
              "  <thead>\n",
              "    <tr style=\"text-align: right;\">\n",
              "      <th></th>\n",
              "      <th>title</th>\n",
              "      <th>text</th>\n",
              "      <th>subject</th>\n",
              "      <th>date</th>\n",
              "    </tr>\n",
              "  </thead>\n",
              "  <tbody>\n",
              "    <tr>\n",
              "      <th>0</th>\n",
              "      <td>As U.S. budget fight looms, Republicans flip t...</td>\n",
              "      <td>WASHINGTON (Reuters) - The head of a conservat...</td>\n",
              "      <td>politicsNews</td>\n",
              "      <td>December 31, 2017</td>\n",
              "    </tr>\n",
              "    <tr>\n",
              "      <th>1</th>\n",
              "      <td>U.S. military to accept transgender recruits o...</td>\n",
              "      <td>WASHINGTON (Reuters) - Transgender people will...</td>\n",
              "      <td>politicsNews</td>\n",
              "      <td>December 29, 2017</td>\n",
              "    </tr>\n",
              "    <tr>\n",
              "      <th>2</th>\n",
              "      <td>Senior U.S. Republican senator: 'Let Mr. Muell...</td>\n",
              "      <td>WASHINGTON (Reuters) - The special counsel inv...</td>\n",
              "      <td>politicsNews</td>\n",
              "      <td>December 31, 2017</td>\n",
              "    </tr>\n",
              "    <tr>\n",
              "      <th>3</th>\n",
              "      <td>FBI Russia probe helped by Australian diplomat...</td>\n",
              "      <td>WASHINGTON (Reuters) - Trump campaign adviser ...</td>\n",
              "      <td>politicsNews</td>\n",
              "      <td>December 30, 2017</td>\n",
              "    </tr>\n",
              "    <tr>\n",
              "      <th>4</th>\n",
              "      <td>Trump wants Postal Service to charge 'much mor...</td>\n",
              "      <td>SEATTLE/WASHINGTON (Reuters) - President Donal...</td>\n",
              "      <td>politicsNews</td>\n",
              "      <td>December 29, 2017</td>\n",
              "    </tr>\n",
              "    <tr>\n",
              "      <th>...</th>\n",
              "      <td>...</td>\n",
              "      <td>...</td>\n",
              "      <td>...</td>\n",
              "      <td>...</td>\n",
              "    </tr>\n",
              "    <tr>\n",
              "      <th>21412</th>\n",
              "      <td>'Fully committed' NATO backs new U.S. approach...</td>\n",
              "      <td>BRUSSELS (Reuters) - NATO allies on Tuesday we...</td>\n",
              "      <td>worldnews</td>\n",
              "      <td>August 22, 2017</td>\n",
              "    </tr>\n",
              "    <tr>\n",
              "      <th>21413</th>\n",
              "      <td>LexisNexis withdrew two products from Chinese ...</td>\n",
              "      <td>LONDON (Reuters) - LexisNexis, a provider of l...</td>\n",
              "      <td>worldnews</td>\n",
              "      <td>August 22, 2017</td>\n",
              "    </tr>\n",
              "    <tr>\n",
              "      <th>21414</th>\n",
              "      <td>Minsk cultural hub becomes haven from authorities</td>\n",
              "      <td>MINSK (Reuters) - In the shadow of disused Sov...</td>\n",
              "      <td>worldnews</td>\n",
              "      <td>August 22, 2017</td>\n",
              "    </tr>\n",
              "    <tr>\n",
              "      <th>21415</th>\n",
              "      <td>Vatican upbeat on possibility of Pope Francis ...</td>\n",
              "      <td>MOSCOW (Reuters) - Vatican Secretary of State ...</td>\n",
              "      <td>worldnews</td>\n",
              "      <td>August 22, 2017</td>\n",
              "    </tr>\n",
              "    <tr>\n",
              "      <th>21416</th>\n",
              "      <td>Indonesia to buy $1.14 billion worth of Russia...</td>\n",
              "      <td>JAKARTA (Reuters) - Indonesia will buy 11 Sukh...</td>\n",
              "      <td>worldnews</td>\n",
              "      <td>August 22, 2017</td>\n",
              "    </tr>\n",
              "  </tbody>\n",
              "</table>\n",
              "<p>21417 rows × 4 columns</p>\n",
              "</div>"
            ],
            "text/plain": [
              "                                                   title  \\\n",
              "0      As U.S. budget fight looms, Republicans flip t...   \n",
              "1      U.S. military to accept transgender recruits o...   \n",
              "2      Senior U.S. Republican senator: 'Let Mr. Muell...   \n",
              "3      FBI Russia probe helped by Australian diplomat...   \n",
              "4      Trump wants Postal Service to charge 'much mor...   \n",
              "...                                                  ...   \n",
              "21412  'Fully committed' NATO backs new U.S. approach...   \n",
              "21413  LexisNexis withdrew two products from Chinese ...   \n",
              "21414  Minsk cultural hub becomes haven from authorities   \n",
              "21415  Vatican upbeat on possibility of Pope Francis ...   \n",
              "21416  Indonesia to buy $1.14 billion worth of Russia...   \n",
              "\n",
              "                                                    text       subject  \\\n",
              "0      WASHINGTON (Reuters) - The head of a conservat...  politicsNews   \n",
              "1      WASHINGTON (Reuters) - Transgender people will...  politicsNews   \n",
              "2      WASHINGTON (Reuters) - The special counsel inv...  politicsNews   \n",
              "3      WASHINGTON (Reuters) - Trump campaign adviser ...  politicsNews   \n",
              "4      SEATTLE/WASHINGTON (Reuters) - President Donal...  politicsNews   \n",
              "...                                                  ...           ...   \n",
              "21412  BRUSSELS (Reuters) - NATO allies on Tuesday we...     worldnews   \n",
              "21413  LONDON (Reuters) - LexisNexis, a provider of l...     worldnews   \n",
              "21414  MINSK (Reuters) - In the shadow of disused Sov...     worldnews   \n",
              "21415  MOSCOW (Reuters) - Vatican Secretary of State ...     worldnews   \n",
              "21416  JAKARTA (Reuters) - Indonesia will buy 11 Sukh...     worldnews   \n",
              "\n",
              "                     date  \n",
              "0      December 31, 2017   \n",
              "1      December 29, 2017   \n",
              "2      December 31, 2017   \n",
              "3      December 30, 2017   \n",
              "4      December 29, 2017   \n",
              "...                   ...  \n",
              "21412    August 22, 2017   \n",
              "21413    August 22, 2017   \n",
              "21414    August 22, 2017   \n",
              "21415    August 22, 2017   \n",
              "21416    August 22, 2017   \n",
              "\n",
              "[21417 rows x 4 columns]"
            ]
          },
          "execution_count": 4,
          "metadata": {},
          "output_type": "execute_result"
        }
      ],
      "source": [
        "true"
      ]
    },
    {
      "cell_type": "code",
      "execution_count": 5,
      "metadata": {},
      "outputs": [
        {
          "data": {
            "text/html": [
              "<div>\n",
              "<style scoped>\n",
              "    .dataframe tbody tr th:only-of-type {\n",
              "        vertical-align: middle;\n",
              "    }\n",
              "\n",
              "    .dataframe tbody tr th {\n",
              "        vertical-align: top;\n",
              "    }\n",
              "\n",
              "    .dataframe thead th {\n",
              "        text-align: right;\n",
              "    }\n",
              "</style>\n",
              "<table border=\"1\" class=\"dataframe\">\n",
              "  <thead>\n",
              "    <tr style=\"text-align: right;\">\n",
              "      <th></th>\n",
              "      <th>title</th>\n",
              "      <th>text</th>\n",
              "      <th>subject</th>\n",
              "      <th>date</th>\n",
              "    </tr>\n",
              "  </thead>\n",
              "  <tbody>\n",
              "    <tr>\n",
              "      <th>0</th>\n",
              "      <td>Donald Trump Sends Out Embarrassing New Year’...</td>\n",
              "      <td>Donald Trump just couldn t wish all Americans ...</td>\n",
              "      <td>News</td>\n",
              "      <td>December 31, 2017</td>\n",
              "    </tr>\n",
              "    <tr>\n",
              "      <th>1</th>\n",
              "      <td>Drunk Bragging Trump Staffer Started Russian ...</td>\n",
              "      <td>House Intelligence Committee Chairman Devin Nu...</td>\n",
              "      <td>News</td>\n",
              "      <td>December 31, 2017</td>\n",
              "    </tr>\n",
              "    <tr>\n",
              "      <th>2</th>\n",
              "      <td>Sheriff David Clarke Becomes An Internet Joke...</td>\n",
              "      <td>On Friday, it was revealed that former Milwauk...</td>\n",
              "      <td>News</td>\n",
              "      <td>December 30, 2017</td>\n",
              "    </tr>\n",
              "    <tr>\n",
              "      <th>3</th>\n",
              "      <td>Trump Is So Obsessed He Even Has Obama’s Name...</td>\n",
              "      <td>On Christmas day, Donald Trump announced that ...</td>\n",
              "      <td>News</td>\n",
              "      <td>December 29, 2017</td>\n",
              "    </tr>\n",
              "    <tr>\n",
              "      <th>4</th>\n",
              "      <td>Pope Francis Just Called Out Donald Trump Dur...</td>\n",
              "      <td>Pope Francis used his annual Christmas Day mes...</td>\n",
              "      <td>News</td>\n",
              "      <td>December 25, 2017</td>\n",
              "    </tr>\n",
              "    <tr>\n",
              "      <th>...</th>\n",
              "      <td>...</td>\n",
              "      <td>...</td>\n",
              "      <td>...</td>\n",
              "      <td>...</td>\n",
              "    </tr>\n",
              "    <tr>\n",
              "      <th>23476</th>\n",
              "      <td>McPain: John McCain Furious That Iran Treated ...</td>\n",
              "      <td>21st Century Wire says As 21WIRE reported earl...</td>\n",
              "      <td>Middle-east</td>\n",
              "      <td>January 16, 2016</td>\n",
              "    </tr>\n",
              "    <tr>\n",
              "      <th>23477</th>\n",
              "      <td>JUSTICE? Yahoo Settles E-mail Privacy Class-ac...</td>\n",
              "      <td>21st Century Wire says It s a familiar theme. ...</td>\n",
              "      <td>Middle-east</td>\n",
              "      <td>January 16, 2016</td>\n",
              "    </tr>\n",
              "    <tr>\n",
              "      <th>23478</th>\n",
              "      <td>Sunnistan: US and Allied ‘Safe Zone’ Plan to T...</td>\n",
              "      <td>Patrick Henningsen  21st Century WireRemember ...</td>\n",
              "      <td>Middle-east</td>\n",
              "      <td>January 15, 2016</td>\n",
              "    </tr>\n",
              "    <tr>\n",
              "      <th>23479</th>\n",
              "      <td>How to Blow $700 Million: Al Jazeera America F...</td>\n",
              "      <td>21st Century Wire says Al Jazeera America will...</td>\n",
              "      <td>Middle-east</td>\n",
              "      <td>January 14, 2016</td>\n",
              "    </tr>\n",
              "    <tr>\n",
              "      <th>23480</th>\n",
              "      <td>10 U.S. Navy Sailors Held by Iranian Military ...</td>\n",
              "      <td>21st Century Wire says As 21WIRE predicted in ...</td>\n",
              "      <td>Middle-east</td>\n",
              "      <td>January 12, 2016</td>\n",
              "    </tr>\n",
              "  </tbody>\n",
              "</table>\n",
              "<p>23481 rows × 4 columns</p>\n",
              "</div>"
            ],
            "text/plain": [
              "                                                   title  \\\n",
              "0       Donald Trump Sends Out Embarrassing New Year’...   \n",
              "1       Drunk Bragging Trump Staffer Started Russian ...   \n",
              "2       Sheriff David Clarke Becomes An Internet Joke...   \n",
              "3       Trump Is So Obsessed He Even Has Obama’s Name...   \n",
              "4       Pope Francis Just Called Out Donald Trump Dur...   \n",
              "...                                                  ...   \n",
              "23476  McPain: John McCain Furious That Iran Treated ...   \n",
              "23477  JUSTICE? Yahoo Settles E-mail Privacy Class-ac...   \n",
              "23478  Sunnistan: US and Allied ‘Safe Zone’ Plan to T...   \n",
              "23479  How to Blow $700 Million: Al Jazeera America F...   \n",
              "23480  10 U.S. Navy Sailors Held by Iranian Military ...   \n",
              "\n",
              "                                                    text      subject  \\\n",
              "0      Donald Trump just couldn t wish all Americans ...         News   \n",
              "1      House Intelligence Committee Chairman Devin Nu...         News   \n",
              "2      On Friday, it was revealed that former Milwauk...         News   \n",
              "3      On Christmas day, Donald Trump announced that ...         News   \n",
              "4      Pope Francis used his annual Christmas Day mes...         News   \n",
              "...                                                  ...          ...   \n",
              "23476  21st Century Wire says As 21WIRE reported earl...  Middle-east   \n",
              "23477  21st Century Wire says It s a familiar theme. ...  Middle-east   \n",
              "23478  Patrick Henningsen  21st Century WireRemember ...  Middle-east   \n",
              "23479  21st Century Wire says Al Jazeera America will...  Middle-east   \n",
              "23480  21st Century Wire says As 21WIRE predicted in ...  Middle-east   \n",
              "\n",
              "                    date  \n",
              "0      December 31, 2017  \n",
              "1      December 31, 2017  \n",
              "2      December 30, 2017  \n",
              "3      December 29, 2017  \n",
              "4      December 25, 2017  \n",
              "...                  ...  \n",
              "23476   January 16, 2016  \n",
              "23477   January 16, 2016  \n",
              "23478   January 15, 2016  \n",
              "23479   January 14, 2016  \n",
              "23480   January 12, 2016  \n",
              "\n",
              "[23481 rows x 4 columns]"
            ]
          },
          "execution_count": 5,
          "metadata": {},
          "output_type": "execute_result"
        }
      ],
      "source": [
        "fake"
      ]
    },
    {
      "cell_type": "code",
      "execution_count": 6,
      "metadata": {
        "id": "p0qwlS7_0vFs"
      },
      "outputs": [],
      "source": [
        "true['label'] = 1\n",
        "fake['label'] = 0"
      ]
    },
    {
      "cell_type": "markdown",
      "metadata": {
        "id": "hO6ZSmJj0IOY"
      },
      "source": [
        "# Data Preprocessing"
      ]
    },
    {
      "cell_type": "markdown",
      "metadata": {
        "id": "f22lfWgz-Mde"
      },
      "source": [
        "## Data Integration"
      ]
    },
    {
      "cell_type": "code",
      "execution_count": 7,
      "metadata": {
        "id": "Ta4gYvnv06jF"
      },
      "outputs": [],
      "source": [
        "news = pd.concat([fake, true], axis=0)"
      ]
    },
    {
      "cell_type": "code",
      "execution_count": 8,
      "metadata": {
        "colab": {
          "base_uri": "https://localhost:8080/",
          "height": 206
        },
        "id": "zkoGn59u1JND",
        "outputId": "8a85d01c-5bb8-4da8-cfef-87ff8003c339"
      },
      "outputs": [
        {
          "data": {
            "text/html": [
              "<div>\n",
              "<style scoped>\n",
              "    .dataframe tbody tr th:only-of-type {\n",
              "        vertical-align: middle;\n",
              "    }\n",
              "\n",
              "    .dataframe tbody tr th {\n",
              "        vertical-align: top;\n",
              "    }\n",
              "\n",
              "    .dataframe thead th {\n",
              "        text-align: right;\n",
              "    }\n",
              "</style>\n",
              "<table border=\"1\" class=\"dataframe\">\n",
              "  <thead>\n",
              "    <tr style=\"text-align: right;\">\n",
              "      <th></th>\n",
              "      <th>title</th>\n",
              "      <th>text</th>\n",
              "      <th>subject</th>\n",
              "      <th>date</th>\n",
              "      <th>label</th>\n",
              "    </tr>\n",
              "  </thead>\n",
              "  <tbody>\n",
              "    <tr>\n",
              "      <th>0</th>\n",
              "      <td>Donald Trump Sends Out Embarrassing New Year’...</td>\n",
              "      <td>Donald Trump just couldn t wish all Americans ...</td>\n",
              "      <td>News</td>\n",
              "      <td>December 31, 2017</td>\n",
              "      <td>0</td>\n",
              "    </tr>\n",
              "    <tr>\n",
              "      <th>1</th>\n",
              "      <td>Drunk Bragging Trump Staffer Started Russian ...</td>\n",
              "      <td>House Intelligence Committee Chairman Devin Nu...</td>\n",
              "      <td>News</td>\n",
              "      <td>December 31, 2017</td>\n",
              "      <td>0</td>\n",
              "    </tr>\n",
              "    <tr>\n",
              "      <th>2</th>\n",
              "      <td>Sheriff David Clarke Becomes An Internet Joke...</td>\n",
              "      <td>On Friday, it was revealed that former Milwauk...</td>\n",
              "      <td>News</td>\n",
              "      <td>December 30, 2017</td>\n",
              "      <td>0</td>\n",
              "    </tr>\n",
              "    <tr>\n",
              "      <th>3</th>\n",
              "      <td>Trump Is So Obsessed He Even Has Obama’s Name...</td>\n",
              "      <td>On Christmas day, Donald Trump announced that ...</td>\n",
              "      <td>News</td>\n",
              "      <td>December 29, 2017</td>\n",
              "      <td>0</td>\n",
              "    </tr>\n",
              "    <tr>\n",
              "      <th>4</th>\n",
              "      <td>Pope Francis Just Called Out Donald Trump Dur...</td>\n",
              "      <td>Pope Francis used his annual Christmas Day mes...</td>\n",
              "      <td>News</td>\n",
              "      <td>December 25, 2017</td>\n",
              "      <td>0</td>\n",
              "    </tr>\n",
              "  </tbody>\n",
              "</table>\n",
              "</div>"
            ],
            "text/plain": [
              "                                               title  \\\n",
              "0   Donald Trump Sends Out Embarrassing New Year’...   \n",
              "1   Drunk Bragging Trump Staffer Started Russian ...   \n",
              "2   Sheriff David Clarke Becomes An Internet Joke...   \n",
              "3   Trump Is So Obsessed He Even Has Obama’s Name...   \n",
              "4   Pope Francis Just Called Out Donald Trump Dur...   \n",
              "\n",
              "                                                text subject  \\\n",
              "0  Donald Trump just couldn t wish all Americans ...    News   \n",
              "1  House Intelligence Committee Chairman Devin Nu...    News   \n",
              "2  On Friday, it was revealed that former Milwauk...    News   \n",
              "3  On Christmas day, Donald Trump announced that ...    News   \n",
              "4  Pope Francis used his annual Christmas Day mes...    News   \n",
              "\n",
              "                date  label  \n",
              "0  December 31, 2017      0  \n",
              "1  December 31, 2017      0  \n",
              "2  December 30, 2017      0  \n",
              "3  December 29, 2017      0  \n",
              "4  December 25, 2017      0  "
            ]
          },
          "execution_count": 8,
          "metadata": {},
          "output_type": "execute_result"
        }
      ],
      "source": [
        "news.head()"
      ]
    },
    {
      "cell_type": "code",
      "execution_count": 9,
      "metadata": {
        "colab": {
          "base_uri": "https://localhost:8080/",
          "height": 206
        },
        "id": "ZviiGXln1QKW",
        "outputId": "3496612a-8723-443a-a323-148c26d3e419"
      },
      "outputs": [
        {
          "data": {
            "text/html": [
              "<div>\n",
              "<style scoped>\n",
              "    .dataframe tbody tr th:only-of-type {\n",
              "        vertical-align: middle;\n",
              "    }\n",
              "\n",
              "    .dataframe tbody tr th {\n",
              "        vertical-align: top;\n",
              "    }\n",
              "\n",
              "    .dataframe thead th {\n",
              "        text-align: right;\n",
              "    }\n",
              "</style>\n",
              "<table border=\"1\" class=\"dataframe\">\n",
              "  <thead>\n",
              "    <tr style=\"text-align: right;\">\n",
              "      <th></th>\n",
              "      <th>title</th>\n",
              "      <th>text</th>\n",
              "      <th>subject</th>\n",
              "      <th>date</th>\n",
              "      <th>label</th>\n",
              "    </tr>\n",
              "  </thead>\n",
              "  <tbody>\n",
              "    <tr>\n",
              "      <th>21412</th>\n",
              "      <td>'Fully committed' NATO backs new U.S. approach...</td>\n",
              "      <td>BRUSSELS (Reuters) - NATO allies on Tuesday we...</td>\n",
              "      <td>worldnews</td>\n",
              "      <td>August 22, 2017</td>\n",
              "      <td>1</td>\n",
              "    </tr>\n",
              "    <tr>\n",
              "      <th>21413</th>\n",
              "      <td>LexisNexis withdrew two products from Chinese ...</td>\n",
              "      <td>LONDON (Reuters) - LexisNexis, a provider of l...</td>\n",
              "      <td>worldnews</td>\n",
              "      <td>August 22, 2017</td>\n",
              "      <td>1</td>\n",
              "    </tr>\n",
              "    <tr>\n",
              "      <th>21414</th>\n",
              "      <td>Minsk cultural hub becomes haven from authorities</td>\n",
              "      <td>MINSK (Reuters) - In the shadow of disused Sov...</td>\n",
              "      <td>worldnews</td>\n",
              "      <td>August 22, 2017</td>\n",
              "      <td>1</td>\n",
              "    </tr>\n",
              "    <tr>\n",
              "      <th>21415</th>\n",
              "      <td>Vatican upbeat on possibility of Pope Francis ...</td>\n",
              "      <td>MOSCOW (Reuters) - Vatican Secretary of State ...</td>\n",
              "      <td>worldnews</td>\n",
              "      <td>August 22, 2017</td>\n",
              "      <td>1</td>\n",
              "    </tr>\n",
              "    <tr>\n",
              "      <th>21416</th>\n",
              "      <td>Indonesia to buy $1.14 billion worth of Russia...</td>\n",
              "      <td>JAKARTA (Reuters) - Indonesia will buy 11 Sukh...</td>\n",
              "      <td>worldnews</td>\n",
              "      <td>August 22, 2017</td>\n",
              "      <td>1</td>\n",
              "    </tr>\n",
              "  </tbody>\n",
              "</table>\n",
              "</div>"
            ],
            "text/plain": [
              "                                                   title  \\\n",
              "21412  'Fully committed' NATO backs new U.S. approach...   \n",
              "21413  LexisNexis withdrew two products from Chinese ...   \n",
              "21414  Minsk cultural hub becomes haven from authorities   \n",
              "21415  Vatican upbeat on possibility of Pope Francis ...   \n",
              "21416  Indonesia to buy $1.14 billion worth of Russia...   \n",
              "\n",
              "                                                    text    subject  \\\n",
              "21412  BRUSSELS (Reuters) - NATO allies on Tuesday we...  worldnews   \n",
              "21413  LONDON (Reuters) - LexisNexis, a provider of l...  worldnews   \n",
              "21414  MINSK (Reuters) - In the shadow of disused Sov...  worldnews   \n",
              "21415  MOSCOW (Reuters) - Vatican Secretary of State ...  worldnews   \n",
              "21416  JAKARTA (Reuters) - Indonesia will buy 11 Sukh...  worldnews   \n",
              "\n",
              "                   date  label  \n",
              "21412  August 22, 2017       1  \n",
              "21413  August 22, 2017       1  \n",
              "21414  August 22, 2017       1  \n",
              "21415  August 22, 2017       1  \n",
              "21416  August 22, 2017       1  "
            ]
          },
          "execution_count": 9,
          "metadata": {},
          "output_type": "execute_result"
        }
      ],
      "source": [
        "news.tail()"
      ]
    },
    {
      "cell_type": "markdown",
      "metadata": {
        "id": "5YIVeb254X4N"
      },
      "source": [
        "## Data Cleaning"
      ]
    },
    {
      "cell_type": "markdown",
      "metadata": {
        "id": "4ORVYAti4Nvb"
      },
      "source": [
        "### Checking Null Values"
      ]
    },
    {
      "cell_type": "code",
      "execution_count": 10,
      "metadata": {
        "colab": {
          "base_uri": "https://localhost:8080/"
        },
        "id": "NEftUMM_1WMU",
        "outputId": "04107a7f-8f29-4275-85f9-28442ceaef17"
      },
      "outputs": [
        {
          "data": {
            "text/plain": [
              "title      0\n",
              "text       0\n",
              "subject    0\n",
              "date       0\n",
              "label      0\n",
              "dtype: int64"
            ]
          },
          "execution_count": 10,
          "metadata": {},
          "output_type": "execute_result"
        }
      ],
      "source": [
        "news.isnull().sum()"
      ]
    },
    {
      "cell_type": "markdown",
      "metadata": {
        "id": "CqJTHTO04UAT"
      },
      "source": [
        "### Dropping Unnecessary Column"
      ]
    },
    {
      "cell_type": "code",
      "execution_count": 11,
      "metadata": {
        "colab": {
          "base_uri": "https://localhost:8080/"
        },
        "id": "3eZ-IN0f1g7U",
        "outputId": "9ff5e934-58a5-4f61-d245-331ab5290fc0"
      },
      "outputs": [],
      "source": [
        "news = news.drop(['title', 'subject', 'date'], axis=1)"
      ]
    },
    {
      "cell_type": "code",
      "execution_count": 12,
      "metadata": {
        "colab": {
          "base_uri": "https://localhost:8080/"
        },
        "id": "5hl5TYW810Rl",
        "outputId": "3bba1320-2674-4232-8e67-f3710c7b24c0"
      },
      "outputs": [
        {
          "data": {
            "text/html": [
              "<div>\n",
              "<style scoped>\n",
              "    .dataframe tbody tr th:only-of-type {\n",
              "        vertical-align: middle;\n",
              "    }\n",
              "\n",
              "    .dataframe tbody tr th {\n",
              "        vertical-align: top;\n",
              "    }\n",
              "\n",
              "    .dataframe thead th {\n",
              "        text-align: right;\n",
              "    }\n",
              "</style>\n",
              "<table border=\"1\" class=\"dataframe\">\n",
              "  <thead>\n",
              "    <tr style=\"text-align: right;\">\n",
              "      <th></th>\n",
              "      <th>text</th>\n",
              "      <th>label</th>\n",
              "    </tr>\n",
              "  </thead>\n",
              "  <tbody>\n",
              "    <tr>\n",
              "      <th>0</th>\n",
              "      <td>Donald Trump just couldn t wish all Americans ...</td>\n",
              "      <td>0</td>\n",
              "    </tr>\n",
              "    <tr>\n",
              "      <th>1</th>\n",
              "      <td>House Intelligence Committee Chairman Devin Nu...</td>\n",
              "      <td>0</td>\n",
              "    </tr>\n",
              "    <tr>\n",
              "      <th>2</th>\n",
              "      <td>On Friday, it was revealed that former Milwauk...</td>\n",
              "      <td>0</td>\n",
              "    </tr>\n",
              "    <tr>\n",
              "      <th>3</th>\n",
              "      <td>On Christmas day, Donald Trump announced that ...</td>\n",
              "      <td>0</td>\n",
              "    </tr>\n",
              "    <tr>\n",
              "      <th>4</th>\n",
              "      <td>Pope Francis used his annual Christmas Day mes...</td>\n",
              "      <td>0</td>\n",
              "    </tr>\n",
              "    <tr>\n",
              "      <th>...</th>\n",
              "      <td>...</td>\n",
              "      <td>...</td>\n",
              "    </tr>\n",
              "    <tr>\n",
              "      <th>21412</th>\n",
              "      <td>BRUSSELS (Reuters) - NATO allies on Tuesday we...</td>\n",
              "      <td>1</td>\n",
              "    </tr>\n",
              "    <tr>\n",
              "      <th>21413</th>\n",
              "      <td>LONDON (Reuters) - LexisNexis, a provider of l...</td>\n",
              "      <td>1</td>\n",
              "    </tr>\n",
              "    <tr>\n",
              "      <th>21414</th>\n",
              "      <td>MINSK (Reuters) - In the shadow of disused Sov...</td>\n",
              "      <td>1</td>\n",
              "    </tr>\n",
              "    <tr>\n",
              "      <th>21415</th>\n",
              "      <td>MOSCOW (Reuters) - Vatican Secretary of State ...</td>\n",
              "      <td>1</td>\n",
              "    </tr>\n",
              "    <tr>\n",
              "      <th>21416</th>\n",
              "      <td>JAKARTA (Reuters) - Indonesia will buy 11 Sukh...</td>\n",
              "      <td>1</td>\n",
              "    </tr>\n",
              "  </tbody>\n",
              "</table>\n",
              "<p>44898 rows × 2 columns</p>\n",
              "</div>"
            ],
            "text/plain": [
              "                                                    text  label\n",
              "0      Donald Trump just couldn t wish all Americans ...      0\n",
              "1      House Intelligence Committee Chairman Devin Nu...      0\n",
              "2      On Friday, it was revealed that former Milwauk...      0\n",
              "3      On Christmas day, Donald Trump announced that ...      0\n",
              "4      Pope Francis used his annual Christmas Day mes...      0\n",
              "...                                                  ...    ...\n",
              "21412  BRUSSELS (Reuters) - NATO allies on Tuesday we...      1\n",
              "21413  LONDON (Reuters) - LexisNexis, a provider of l...      1\n",
              "21414  MINSK (Reuters) - In the shadow of disused Sov...      1\n",
              "21415  MOSCOW (Reuters) - Vatican Secretary of State ...      1\n",
              "21416  JAKARTA (Reuters) - Indonesia will buy 11 Sukh...      1\n",
              "\n",
              "[44898 rows x 2 columns]"
            ]
          },
          "execution_count": 12,
          "metadata": {},
          "output_type": "execute_result"
        }
      ],
      "source": [
        "news"
      ]
    },
    {
      "cell_type": "markdown",
      "metadata": {
        "id": "tfqYltCd2Ay7"
      },
      "source": [
        "### Scramble Data"
      ]
    },
    {
      "cell_type": "code",
      "execution_count": 13,
      "metadata": {
        "id": "jwcQVyPB2AV1"
      },
      "outputs": [],
      "source": [
        "news = news.sample(frac=1)\n",
        "news.reset_index(inplace=True)\n",
        "news.drop(['index'], axis = 1, inplace=True)"
      ]
    },
    {
      "cell_type": "code",
      "execution_count": 14,
      "metadata": {
        "colab": {
          "base_uri": "https://localhost:8080/",
          "height": 424
        },
        "id": "inNtvDEw2YzL",
        "outputId": "bd010e62-ae0a-461b-a5ae-c855b91b58f8"
      },
      "outputs": [
        {
          "data": {
            "text/html": [
              "<div>\n",
              "<style scoped>\n",
              "    .dataframe tbody tr th:only-of-type {\n",
              "        vertical-align: middle;\n",
              "    }\n",
              "\n",
              "    .dataframe tbody tr th {\n",
              "        vertical-align: top;\n",
              "    }\n",
              "\n",
              "    .dataframe thead th {\n",
              "        text-align: right;\n",
              "    }\n",
              "</style>\n",
              "<table border=\"1\" class=\"dataframe\">\n",
              "  <thead>\n",
              "    <tr style=\"text-align: right;\">\n",
              "      <th></th>\n",
              "      <th>text</th>\n",
              "      <th>label</th>\n",
              "    </tr>\n",
              "  </thead>\n",
              "  <tbody>\n",
              "    <tr>\n",
              "      <th>0</th>\n",
              "      <td>NEW YORK (Reuters) - One would expect voters f...</td>\n",
              "      <td>1</td>\n",
              "    </tr>\n",
              "    <tr>\n",
              "      <th>1</th>\n",
              "      <td>WASHINGTON (Reuters) - Some key U.S. senators ...</td>\n",
              "      <td>1</td>\n",
              "    </tr>\n",
              "    <tr>\n",
              "      <th>2</th>\n",
              "      <td>A budget meeting was cut short after the mayor...</td>\n",
              "      <td>0</td>\n",
              "    </tr>\n",
              "    <tr>\n",
              "      <th>3</th>\n",
              "      <td>If Donald Trump thinks being president means h...</td>\n",
              "      <td>0</td>\n",
              "    </tr>\n",
              "    <tr>\n",
              "      <th>4</th>\n",
              "      <td>WASHINGTON (Reuters) - Federal and state autho...</td>\n",
              "      <td>1</td>\n",
              "    </tr>\n",
              "    <tr>\n",
              "      <th>...</th>\n",
              "      <td>...</td>\n",
              "      <td>...</td>\n",
              "    </tr>\n",
              "    <tr>\n",
              "      <th>44893</th>\n",
              "      <td>WASHINGTON (Reuters) - Democrat Hillary Clinto...</td>\n",
              "      <td>1</td>\n",
              "    </tr>\n",
              "    <tr>\n",
              "      <th>44894</th>\n",
              "      <td>Fox News, Donald Trump, and the rest of the ha...</td>\n",
              "      <td>0</td>\n",
              "    </tr>\n",
              "    <tr>\n",
              "      <th>44895</th>\n",
              "      <td>While it seems like Donald Trump hasn t worked...</td>\n",
              "      <td>0</td>\n",
              "    </tr>\n",
              "    <tr>\n",
              "      <th>44896</th>\n",
              "      <td>If I were U.S. District Judge Andrew Hanen, I ...</td>\n",
              "      <td>0</td>\n",
              "    </tr>\n",
              "    <tr>\n",
              "      <th>44897</th>\n",
              "      <td>KUALA LUMPUR (Reuters) - Malaysian police arre...</td>\n",
              "      <td>1</td>\n",
              "    </tr>\n",
              "  </tbody>\n",
              "</table>\n",
              "<p>44898 rows × 2 columns</p>\n",
              "</div>"
            ],
            "text/plain": [
              "                                                    text  label\n",
              "0      NEW YORK (Reuters) - One would expect voters f...      1\n",
              "1      WASHINGTON (Reuters) - Some key U.S. senators ...      1\n",
              "2      A budget meeting was cut short after the mayor...      0\n",
              "3      If Donald Trump thinks being president means h...      0\n",
              "4      WASHINGTON (Reuters) - Federal and state autho...      1\n",
              "...                                                  ...    ...\n",
              "44893  WASHINGTON (Reuters) - Democrat Hillary Clinto...      1\n",
              "44894  Fox News, Donald Trump, and the rest of the ha...      0\n",
              "44895  While it seems like Donald Trump hasn t worked...      0\n",
              "44896  If I were U.S. District Judge Andrew Hanen, I ...      0\n",
              "44897  KUALA LUMPUR (Reuters) - Malaysian police arre...      1\n",
              "\n",
              "[44898 rows x 2 columns]"
            ]
          },
          "execution_count": 14,
          "metadata": {},
          "output_type": "execute_result"
        }
      ],
      "source": [
        "news"
      ]
    },
    {
      "cell_type": "markdown",
      "metadata": {
        "id": "Lv79x69_h2mm"
      },
      "source": [
        "### WordOPT"
      ]
    },
    {
      "cell_type": "code",
      "execution_count": 15,
      "metadata": {
        "id": "PgmWzBIMh5An"
      },
      "outputs": [],
      "source": [
        "def wordopt(text):\n",
        "    # Convert into lowercase\n",
        "    text = text.lower()\n",
        "\n",
        "    # Remove URLs\n",
        "    text = re.sub(r'https?://\\S+|\\www\\.\\S+', '', text)\n",
        "\n",
        "    # Remove HTML tags\n",
        "    text = re.sub(r'<.*?>', '', text)\n",
        "\n",
        "    # Remove punctuation\n",
        "    text = re.sub(r'[^\\w\\s]', '', text)\n",
        "\n",
        "    # Remove digits\n",
        "    text = re.sub(r'\\d', '', text)\n",
        "\n",
        "    # Remove newline characters\n",
        "    text = re.sub(r'\\n', ' ', text)\n",
        "\n",
        "    return text\n"
      ]
    },
    {
      "cell_type": "code",
      "execution_count": 16,
      "metadata": {
        "id": "jFjL2woXh75n"
      },
      "outputs": [],
      "source": [
        "news['text'] = news['text'].apply(wordopt)"
      ]
    },
    {
      "cell_type": "code",
      "execution_count": 17,
      "metadata": {
        "colab": {
          "base_uri": "https://localhost:8080/"
        },
        "id": "5Ms1bNXFh81_",
        "outputId": "9b42b98c-cf88-4023-df63-45d01c4151d0"
      },
      "outputs": [
        {
          "data": {
            "text/plain": [
              "0        new york reuters  one would expect voters from...\n",
              "1        washington reuters  some key us senators still...\n",
              "2        a budget meeting was cut short after the mayor...\n",
              "3        if donald trump thinks being president means h...\n",
              "4        washington reuters  federal and state authorit...\n",
              "                               ...                        \n",
              "44893    washington reuters  democrat hillary clinton m...\n",
              "44894    fox news donald trump and the rest of the half...\n",
              "44895    while it seems like donald trump hasn t worked...\n",
              "44896    if i were us district judge andrew hanen i d b...\n",
              "44897    kuala lumpur reuters  malaysian police arreste...\n",
              "Name: text, Length: 44898, dtype: object"
            ]
          },
          "execution_count": 17,
          "metadata": {},
          "output_type": "execute_result"
        }
      ],
      "source": [
        "news['text']"
      ]
    },
    {
      "cell_type": "markdown",
      "metadata": {
        "id": "z-LySb-oLHaH"
      },
      "source": [
        "## Stopwords and Stemming"
      ]
    },
    {
      "cell_type": "code",
      "execution_count": 18,
      "metadata": {
        "colab": {
          "base_uri": "https://localhost:8080/"
        },
        "id": "yzGc9_flLUtn",
        "outputId": "2b065b87-b83b-454a-a8fe-85ee1a91ab86"
      },
      "outputs": [
        {
          "name": "stderr",
          "output_type": "stream",
          "text": [
            "[nltk_data] Downloading package stopwords to\n",
            "[nltk_data]     C:\\Users\\Kalea\\AppData\\Roaming\\nltk_data...\n",
            "[nltk_data]   Package stopwords is already up-to-date!\n"
          ]
        },
        {
          "data": {
            "text/plain": [
              "True"
            ]
          },
          "execution_count": 18,
          "metadata": {},
          "output_type": "execute_result"
        }
      ],
      "source": [
        "nltk.download('stopwords')"
      ]
    },
    {
      "cell_type": "code",
      "execution_count": 19,
      "metadata": {
        "id": "SrvPrXWWLWlo"
      },
      "outputs": [],
      "source": [
        "stop_words = set(stopwords.words('english'))\n",
        "stemmer = PorterStemmer()"
      ]
    },
    {
      "cell_type": "code",
      "execution_count": 20,
      "metadata": {
        "id": "USpGSvCGLaiz"
      },
      "outputs": [],
      "source": [
        "def preprocess_text(text):\n",
        "    words = text.split()\n",
        "\n",
        "    # Hapus stopwords dan stem kata\n",
        "    processed_words = [stemmer.stem(word) for word in words if word.lower() not in stop_words]\n",
        "\n",
        "    # Gabungkan kembali kata yang telah diproses\n",
        "    return ' '.join(processed_words)"
      ]
    },
    {
      "cell_type": "code",
      "execution_count": 21,
      "metadata": {
        "id": "ATDdLYG1iRyh"
      },
      "outputs": [],
      "source": [
        "X_stem = [preprocess_text(sentence) for sentence in news['text']]"
      ]
    },
    {
      "cell_type": "markdown",
      "metadata": {
        "id": "BT3EZ4F-_LtT"
      },
      "source": [
        "## Split Data"
      ]
    },
    {
      "cell_type": "code",
      "execution_count": 22,
      "metadata": {},
      "outputs": [],
      "source": [
        "x = news['text']\n",
        "y = news['label']"
      ]
    },
    {
      "cell_type": "markdown",
      "metadata": {
        "id": "jnksoslnKzQk"
      },
      "source": [
        "### Split Data: TF-IDF"
      ]
    },
    {
      "cell_type": "code",
      "execution_count": 23,
      "metadata": {},
      "outputs": [],
      "source": [
        "x_train, x_test, y_train, y_test = train_test_split(x, y, test_size=0.3, random_state=10)"
      ]
    },
    {
      "cell_type": "markdown",
      "metadata": {
        "id": "P02IQDQMNJll"
      },
      "source": [
        "### Split Data: TF IDF & Stemming & Stopwords"
      ]
    },
    {
      "cell_type": "code",
      "execution_count": 24,
      "metadata": {},
      "outputs": [],
      "source": [
        "x_train_stem, x_test_stem, y_train_stem, y_test_stem = train_test_split(X_stem, y, test_size=0.3, random_state=10)"
      ]
    },
    {
      "cell_type": "markdown",
      "metadata": {
        "id": "Av6a1-GnDL1c"
      },
      "source": [
        "# Model"
      ]
    },
    {
      "cell_type": "markdown",
      "metadata": {
        "id": "A6KWvR3Lh4D_"
      },
      "source": [
        "## Logistic Regression Model"
      ]
    },
    {
      "cell_type": "markdown",
      "metadata": {
        "id": "Jhe55q5I1MCk"
      },
      "source": [
        "### Model Logistic Regression"
      ]
    },
    {
      "cell_type": "code",
      "execution_count": 25,
      "metadata": {
        "id": "moF-3aBbihOE"
      },
      "outputs": [],
      "source": [
        "tf_idf_LR = Pipeline([\n",
        "    ('tfidf', TfidfVectorizer()),\n",
        "    ('log_reg', LogisticRegression())\n",
        "])\n",
        "\n",
        "stem_LR = Pipeline([\n",
        "    ('tfidf', TfidfVectorizer()),\n",
        "    ('log_reg', LogisticRegression())\n",
        "])\n",
        "\n",
        "full_LR = ImbPipeline([\n",
        "    ('tfidf', TfidfVectorizer()),\n",
        "    ('smote', SMOTE()),\n",
        "    ('scaler', StandardScaler(with_mean=False)),\n",
        "    ('log_reg', LogisticRegression(class_weight='balanced'))\n",
        "])"
      ]
    },
    {
      "cell_type": "code",
      "execution_count": 26,
      "metadata": {
        "colab": {
          "base_uri": "https://localhost:8080/",
          "height": 75
        },
        "id": "aYWsZCyzKKWu",
        "outputId": "fd149db6-5c90-448e-f62b-7318ca636110"
      },
      "outputs": [
        {
          "data": {
            "text/html": [
              "<style>#sk-container-id-1 {color: black;}#sk-container-id-1 pre{padding: 0;}#sk-container-id-1 div.sk-toggleable {background-color: white;}#sk-container-id-1 label.sk-toggleable__label {cursor: pointer;display: block;width: 100%;margin-bottom: 0;padding: 0.3em;box-sizing: border-box;text-align: center;}#sk-container-id-1 label.sk-toggleable__label-arrow:before {content: \"▸\";float: left;margin-right: 0.25em;color: #696969;}#sk-container-id-1 label.sk-toggleable__label-arrow:hover:before {color: black;}#sk-container-id-1 div.sk-estimator:hover label.sk-toggleable__label-arrow:before {color: black;}#sk-container-id-1 div.sk-toggleable__content {max-height: 0;max-width: 0;overflow: hidden;text-align: left;background-color: #f0f8ff;}#sk-container-id-1 div.sk-toggleable__content pre {margin: 0.2em;color: black;border-radius: 0.25em;background-color: #f0f8ff;}#sk-container-id-1 input.sk-toggleable__control:checked~div.sk-toggleable__content {max-height: 200px;max-width: 100%;overflow: auto;}#sk-container-id-1 input.sk-toggleable__control:checked~label.sk-toggleable__label-arrow:before {content: \"▾\";}#sk-container-id-1 div.sk-estimator input.sk-toggleable__control:checked~label.sk-toggleable__label {background-color: #d4ebff;}#sk-container-id-1 div.sk-label input.sk-toggleable__control:checked~label.sk-toggleable__label {background-color: #d4ebff;}#sk-container-id-1 input.sk-hidden--visually {border: 0;clip: rect(1px 1px 1px 1px);clip: rect(1px, 1px, 1px, 1px);height: 1px;margin: -1px;overflow: hidden;padding: 0;position: absolute;width: 1px;}#sk-container-id-1 div.sk-estimator {font-family: monospace;background-color: #f0f8ff;border: 1px dotted black;border-radius: 0.25em;box-sizing: border-box;margin-bottom: 0.5em;}#sk-container-id-1 div.sk-estimator:hover {background-color: #d4ebff;}#sk-container-id-1 div.sk-parallel-item::after {content: \"\";width: 100%;border-bottom: 1px solid gray;flex-grow: 1;}#sk-container-id-1 div.sk-label:hover label.sk-toggleable__label {background-color: #d4ebff;}#sk-container-id-1 div.sk-serial::before {content: \"\";position: absolute;border-left: 1px solid gray;box-sizing: border-box;top: 0;bottom: 0;left: 50%;z-index: 0;}#sk-container-id-1 div.sk-serial {display: flex;flex-direction: column;align-items: center;background-color: white;padding-right: 0.2em;padding-left: 0.2em;position: relative;}#sk-container-id-1 div.sk-item {position: relative;z-index: 1;}#sk-container-id-1 div.sk-parallel {display: flex;align-items: stretch;justify-content: center;background-color: white;position: relative;}#sk-container-id-1 div.sk-item::before, #sk-container-id-1 div.sk-parallel-item::before {content: \"\";position: absolute;border-left: 1px solid gray;box-sizing: border-box;top: 0;bottom: 0;left: 50%;z-index: -1;}#sk-container-id-1 div.sk-parallel-item {display: flex;flex-direction: column;z-index: 1;position: relative;background-color: white;}#sk-container-id-1 div.sk-parallel-item:first-child::after {align-self: flex-end;width: 50%;}#sk-container-id-1 div.sk-parallel-item:last-child::after {align-self: flex-start;width: 50%;}#sk-container-id-1 div.sk-parallel-item:only-child::after {width: 0;}#sk-container-id-1 div.sk-dashed-wrapped {border: 1px dashed gray;margin: 0 0.4em 0.5em 0.4em;box-sizing: border-box;padding-bottom: 0.4em;background-color: white;}#sk-container-id-1 div.sk-label label {font-family: monospace;font-weight: bold;display: inline-block;line-height: 1.2em;}#sk-container-id-1 div.sk-label-container {text-align: center;}#sk-container-id-1 div.sk-container {/* jupyter's `normalize.less` sets `[hidden] { display: none; }` but bootstrap.min.css set `[hidden] { display: none !important; }` so we also need the `!important` here to be able to override the default hidden behavior on the sphinx rendered scikit-learn.org. See: https://github.com/scikit-learn/scikit-learn/issues/21755 */display: inline-block !important;position: relative;}#sk-container-id-1 div.sk-text-repr-fallback {display: none;}</style><div id=\"sk-container-id-1\" class=\"sk-top-container\"><div class=\"sk-text-repr-fallback\"><pre>Pipeline(steps=[(&#x27;tfidf&#x27;, TfidfVectorizer()), (&#x27;smote&#x27;, SMOTE()),\n",
              "                (&#x27;scaler&#x27;, StandardScaler(with_mean=False)),\n",
              "                (&#x27;log_reg&#x27;, LogisticRegression(class_weight=&#x27;balanced&#x27;))])</pre><b>In a Jupyter environment, please rerun this cell to show the HTML representation or trust the notebook. <br />On GitHub, the HTML representation is unable to render, please try loading this page with nbviewer.org.</b></div><div class=\"sk-container\" hidden><div class=\"sk-item sk-dashed-wrapped\"><div class=\"sk-label-container\"><div class=\"sk-label sk-toggleable\"><input class=\"sk-toggleable__control sk-hidden--visually\" id=\"sk-estimator-id-1\" type=\"checkbox\" ><label for=\"sk-estimator-id-1\" class=\"sk-toggleable__label sk-toggleable__label-arrow\">Pipeline</label><div class=\"sk-toggleable__content\"><pre>Pipeline(steps=[(&#x27;tfidf&#x27;, TfidfVectorizer()), (&#x27;smote&#x27;, SMOTE()),\n",
              "                (&#x27;scaler&#x27;, StandardScaler(with_mean=False)),\n",
              "                (&#x27;log_reg&#x27;, LogisticRegression(class_weight=&#x27;balanced&#x27;))])</pre></div></div></div><div class=\"sk-serial\"><div class=\"sk-item\"><div class=\"sk-estimator sk-toggleable\"><input class=\"sk-toggleable__control sk-hidden--visually\" id=\"sk-estimator-id-2\" type=\"checkbox\" ><label for=\"sk-estimator-id-2\" class=\"sk-toggleable__label sk-toggleable__label-arrow\">TfidfVectorizer</label><div class=\"sk-toggleable__content\"><pre>TfidfVectorizer()</pre></div></div></div><div class=\"sk-item\"><div class=\"sk-estimator sk-toggleable\"><input class=\"sk-toggleable__control sk-hidden--visually\" id=\"sk-estimator-id-3\" type=\"checkbox\" ><label for=\"sk-estimator-id-3\" class=\"sk-toggleable__label sk-toggleable__label-arrow\">SMOTE</label><div class=\"sk-toggleable__content\"><pre>SMOTE()</pre></div></div></div><div class=\"sk-item\"><div class=\"sk-estimator sk-toggleable\"><input class=\"sk-toggleable__control sk-hidden--visually\" id=\"sk-estimator-id-4\" type=\"checkbox\" ><label for=\"sk-estimator-id-4\" class=\"sk-toggleable__label sk-toggleable__label-arrow\">StandardScaler</label><div class=\"sk-toggleable__content\"><pre>StandardScaler(with_mean=False)</pre></div></div></div><div class=\"sk-item\"><div class=\"sk-estimator sk-toggleable\"><input class=\"sk-toggleable__control sk-hidden--visually\" id=\"sk-estimator-id-5\" type=\"checkbox\" ><label for=\"sk-estimator-id-5\" class=\"sk-toggleable__label sk-toggleable__label-arrow\">LogisticRegression</label><div class=\"sk-toggleable__content\"><pre>LogisticRegression(class_weight=&#x27;balanced&#x27;)</pre></div></div></div></div></div></div></div>"
            ],
            "text/plain": [
              "Pipeline(steps=[('tfidf', TfidfVectorizer()), ('smote', SMOTE()),\n",
              "                ('scaler', StandardScaler(with_mean=False)),\n",
              "                ('log_reg', LogisticRegression(class_weight='balanced'))])"
            ]
          },
          "execution_count": 26,
          "metadata": {},
          "output_type": "execute_result"
        }
      ],
      "source": [
        "tf_idf_LR.fit(x_train, y_train)\n",
        "stem_LR.fit(x_train_stem, y_train_stem)\n",
        "full_LR.fit(x_train_stem, y_train_stem)"
      ]
    },
    {
      "cell_type": "markdown",
      "metadata": {
        "id": "LSbYU496k2Ff"
      },
      "source": [
        "### Model Evaluation"
      ]
    },
    {
      "cell_type": "markdown",
      "metadata": {
        "id": "z4l2UJd3k8Kv"
      },
      "source": [
        "#### TF-IDF Score"
      ]
    },
    {
      "cell_type": "code",
      "execution_count": 27,
      "metadata": {
        "id": "uy0TxsbPmDN8"
      },
      "outputs": [],
      "source": [
        "tf_idf_train_pred_lr = tf_idf_LR.predict(x_train)\n",
        "tf_idf_test_pred_lr = tf_idf_LR.predict(x_test)"
      ]
    },
    {
      "cell_type": "code",
      "execution_count": 28,
      "metadata": {
        "id": "Kwioi2-qi-o3"
      },
      "outputs": [],
      "source": [
        "tf_idf_train_score_LR = tf_idf_LR.score(x_train, y_train)\n",
        "tf_idf_test_score_LR = tf_idf_LR.score(x_test, y_test)"
      ]
    },
    {
      "cell_type": "code",
      "execution_count": 29,
      "metadata": {
        "colab": {
          "base_uri": "https://localhost:8080/"
        },
        "id": "iPG8yJ5-lGxu",
        "outputId": "56e5b438-e401-4593-db85-c02552fc3e84"
      },
      "outputs": [
        {
          "name": "stdout",
          "output_type": "stream",
          "text": [
            "              precision    recall  f1-score   support\n",
            "\n",
            "           0       0.99      0.99      0.99     16495\n",
            "           1       0.99      0.99      0.99     14933\n",
            "\n",
            "    accuracy                           0.99     31428\n",
            "   macro avg       0.99      0.99      0.99     31428\n",
            "weighted avg       0.99      0.99      0.99     31428\n",
            "\n",
            "              precision    recall  f1-score   support\n",
            "\n",
            "           0       0.99      0.99      0.99      6986\n",
            "           1       0.99      0.99      0.99      6484\n",
            "\n",
            "    accuracy                           0.99     13470\n",
            "   macro avg       0.99      0.99      0.99     13470\n",
            "weighted avg       0.99      0.99      0.99     13470\n",
            "\n"
          ]
        }
      ],
      "source": [
        "print(classification_report(y_train, tf_idf_train_pred_lr))\n",
        "print(classification_report(y_test, tf_idf_test_pred_lr))"
      ]
    },
    {
      "cell_type": "code",
      "execution_count": 30,
      "metadata": {
        "id": "OnWbQMabAV-G",
        "outputId": "2b67d574-ab8a-457b-cb73-665a878b7128"
      },
      "outputs": [
        {
          "name": "stdout",
          "output_type": "stream",
          "text": [
            "Logistic Regression TF IDF Train Score: 0.9925225913198422\n",
            "Logistic Regression TF IDF Test Score: 0.9882702301410542\n"
          ]
        }
      ],
      "source": [
        "print(f\"Logistic Regression TF IDF Train Score: {tf_idf_train_score_LR}\")\n",
        "print(f\"Logistic Regression TF IDF Test Score: {tf_idf_test_score_LR}\")"
      ]
    },
    {
      "cell_type": "markdown",
      "metadata": {
        "id": "CYxIkKyslBA_"
      },
      "source": [
        "#### TF-IDF with Stemming and Stopwords Score"
      ]
    },
    {
      "cell_type": "code",
      "execution_count": 31,
      "metadata": {
        "id": "W0yWlE4jmBi9"
      },
      "outputs": [],
      "source": [
        "stem_train_pred_lr = stem_LR.predict(x_train_stem)\n",
        "stem_test_pred_lr = stem_LR.predict(x_test_stem)"
      ]
    },
    {
      "cell_type": "code",
      "execution_count": 32,
      "metadata": {
        "id": "4CRfi2btN2vF"
      },
      "outputs": [],
      "source": [
        "stem_train_score_LR = stem_LR.score(x_train_stem, y_train_stem)\n",
        "stem_test_score_LR = stem_LR.score(x_test_stem, y_test_stem)"
      ]
    },
    {
      "cell_type": "code",
      "execution_count": 33,
      "metadata": {
        "colab": {
          "base_uri": "https://localhost:8080/"
        },
        "id": "GyISYd-5OOc7",
        "outputId": "53047f22-7612-4204-a43e-b36402f61a11"
      },
      "outputs": [
        {
          "name": "stdout",
          "output_type": "stream",
          "text": [
            "              precision    recall  f1-score   support\n",
            "\n",
            "           0       0.99      0.99      0.99     16495\n",
            "           1       0.99      0.99      0.99     14933\n",
            "\n",
            "    accuracy                           0.99     31428\n",
            "   macro avg       0.99      0.99      0.99     31428\n",
            "weighted avg       0.99      0.99      0.99     31428\n",
            "\n",
            "              precision    recall  f1-score   support\n",
            "\n",
            "           0       0.99      0.98      0.99      6986\n",
            "           1       0.98      0.99      0.98      6484\n",
            "\n",
            "    accuracy                           0.99     13470\n",
            "   macro avg       0.99      0.99      0.99     13470\n",
            "weighted avg       0.99      0.99      0.99     13470\n",
            "\n"
          ]
        }
      ],
      "source": [
        "print(classification_report(y_train_stem, stem_train_pred_lr))\n",
        "print(classification_report(y_test_stem, stem_test_pred_lr))"
      ]
    },
    {
      "cell_type": "code",
      "execution_count": 34,
      "metadata": {
        "id": "MmOPCj7AAV-H",
        "outputId": "e0617ce7-4bc8-47e2-8a35-5943c96f76c9"
      },
      "outputs": [
        {
          "name": "stdout",
          "output_type": "stream",
          "text": [
            "Stemming, Stopwords, TF IDF Train Score: 0.9910589283441517\n",
            "Stemming, Stopwords, TF IDF Test Score: 0.9852264291017075\n"
          ]
        }
      ],
      "source": [
        "print(f\"Stemming, Stopwords, TF IDF Train Score: {stem_train_score_LR}\")\n",
        "print(f\"Stemming, Stopwords, TF IDF Test Score: {stem_test_score_LR}\")"
      ]
    },
    {
      "cell_type": "markdown",
      "metadata": {},
      "source": [
        "#### TF-IDF with Stemming, Stopwords, Class Balancing, and Standard Scaler Score"
      ]
    },
    {
      "cell_type": "code",
      "execution_count": 35,
      "metadata": {},
      "outputs": [],
      "source": [
        "full_train_pred_lr = full_LR.predict(x_train_stem)\n",
        "full_test_pred_lr = full_LR.predict(x_test_stem)"
      ]
    },
    {
      "cell_type": "code",
      "execution_count": 36,
      "metadata": {},
      "outputs": [],
      "source": [
        "full_train_score_LR = full_LR.score(x_train_stem, y_train_stem)\n",
        "full_test_score_LR = full_LR.score(x_test_stem, y_test_stem)"
      ]
    },
    {
      "cell_type": "code",
      "execution_count": 37,
      "metadata": {},
      "outputs": [
        {
          "name": "stdout",
          "output_type": "stream",
          "text": [
            "              precision    recall  f1-score   support\n",
            "\n",
            "           0       1.00      1.00      1.00     16495\n",
            "           1       1.00      1.00      1.00     14933\n",
            "\n",
            "    accuracy                           1.00     31428\n",
            "   macro avg       1.00      1.00      1.00     31428\n",
            "weighted avg       1.00      1.00      1.00     31428\n",
            "\n",
            "              precision    recall  f1-score   support\n",
            "\n",
            "           0       0.99      0.95      0.97      6986\n",
            "           1       0.95      0.99      0.97      6484\n",
            "\n",
            "    accuracy                           0.97     13470\n",
            "   macro avg       0.97      0.97      0.97     13470\n",
            "weighted avg       0.97      0.97      0.97     13470\n",
            "\n"
          ]
        }
      ],
      "source": [
        "print(classification_report(y_train_stem, full_train_pred_lr))\n",
        "print(classification_report(y_test_stem, full_test_pred_lr))"
      ]
    },
    {
      "cell_type": "code",
      "execution_count": 38,
      "metadata": {},
      "outputs": [
        {
          "name": "stdout",
          "output_type": "stream",
          "text": [
            "Stemming, Stopwords, Class Balancing, and Standard Scaler Train Score: 0.9999681812396589\n",
            "Stemming, Stopwords, Class Balancing, and Standard Scaler Test Score: 0.9719376391982183\n"
          ]
        }
      ],
      "source": [
        "print(f\"Stemming, Stopwords, Class Balancing, and Standard Scaler Train Score: {full_train_score_LR}\")\n",
        "print(f\"Stemming, Stopwords, Class Balancing, and Standard Scaler Test Score: {full_test_score_LR}\")"
      ]
    },
    {
      "cell_type": "markdown",
      "metadata": {},
      "source": [
        "#### Model Comparison"
      ]
    },
    {
      "cell_type": "code",
      "execution_count": 39,
      "metadata": {},
      "outputs": [
        {
          "name": "stdout",
          "output_type": "stream",
          "text": [
            "Model 1: Logistic Regression TF IDF Scores Scores:\n",
            "Train Score: 0.9925225913198422\n",
            "Test Score: 0.9882702301410542\n",
            "\n",
            "Model 2: Logistic Regression Stemming, Stopwords, TF IDF Scores:\n",
            "Train Score: 0.9910589283441517\n",
            "Test Score: 0.9852264291017075\n",
            "\n",
            "Model 3: Stemming, Stopwords, TF IDF, Class Balancing, and Standard Scaler Scores:\n",
            "Train Score: 0.9999681812396589\n",
            "Test Score: 0.9719376391982183\n",
            "\n",
            "Percentage Differences between Model 1 and Model 2:\n",
            "Train Data: 0.0014636629756905606 = 0.15%\n",
            "Test Data: 0.0030438010393466497 = 0.31%\n",
            "\n",
            "Percentage Differences between Model 1 and Model 3:\n",
            "Train Data: -0.0074455899198166975 = -0.75%\n",
            "Test Data: 0.0163325909428359 = 1.65%\n",
            "\n",
            "Percentage Differences between Model 2 and Model 3:\n",
            "Train Data: -0.008909252895507258 = -0.90%\n",
            "Test Data: 0.013288789903489251 = 1.35%\n"
          ]
        }
      ],
      "source": [
        "# Model 1: Logistic Regression TF IDF Scores\n",
        "print(\"Model 1: Logistic Regression TF IDF Scores Scores:\")\n",
        "print(f\"Train Score: {tf_idf_train_score_LR}\")\n",
        "print(f\"Test Score: {tf_idf_test_score_LR}\")\n",
        "\n",
        "# Model 2: Logistic Regression Stemming, Stopwords, TF IDF Scores\n",
        "print(\"\\nModel 2: Logistic Regression Stemming, Stopwords, TF IDF Scores:\")\n",
        "print(f\"Train Score: {stem_train_score_LR}\")\n",
        "print(f\"Test Score: {stem_test_score_LR}\")\n",
        "\n",
        "# Model 3: Stemming, Stopwords, TF IDF, Class Balancing, and Standard Scaler Scores\n",
        "print(\"\\nModel 3: Stemming, Stopwords, TF IDF, Class Balancing, and Standard Scaler Scores:\")\n",
        "print(f\"Train Score: {full_train_score_LR}\")\n",
        "print(f\"Test Score: {full_test_score_LR}\")\n",
        "\n",
        "print(\"\")\n",
        "\n",
        "# Percentage Differences between Model 1 and Model 2 on train and test data\n",
        "print(\"Percentage Differences between Model 1 and Model 2:\")\n",
        "train_score_diff_1_2 = tf_idf_train_score_LR - stem_train_score_LR\n",
        "test_score_diff_1_2 = tf_idf_test_score_LR - stem_test_score_LR\n",
        "train_score_percent_diff_1_2 = (train_score_diff_1_2 / tf_idf_train_score_LR) * 100\n",
        "test_score_percent_diff_1_2 = (test_score_diff_1_2 / tf_idf_test_score_LR) * 100\n",
        "print(f\"Train Data: {train_score_diff_1_2} = {train_score_percent_diff_1_2:.2f}%\")\n",
        "print(f\"Test Data: {test_score_diff_1_2} = {test_score_percent_diff_1_2:.2f}%\")\n",
        "\n",
        "# Percentage Differences between Model 1 and Model 3 on train and test data\n",
        "print(\"\\nPercentage Differences between Model 1 and Model 3:\")\n",
        "train_score_diff_1_3 = tf_idf_train_score_LR - full_train_score_LR\n",
        "test_score_diff_1_3 = tf_idf_test_score_LR - full_test_score_LR\n",
        "train_score_percent_diff_1_3 = (train_score_diff_1_3 / tf_idf_train_score_LR) * 100\n",
        "test_score_percent_diff_1_3 = (test_score_diff_1_3 / tf_idf_test_score_LR) * 100\n",
        "print(f\"Train Data: {train_score_diff_1_3} = {train_score_percent_diff_1_3:.2f}%\")\n",
        "print(f\"Test Data: {test_score_diff_1_3} = {test_score_percent_diff_1_3:.2f}%\")\n",
        "\n",
        "# Percentage Differences between Model 2 and Model 3 on train and test data\n",
        "print(\"\\nPercentage Differences between Model 2 and Model 3:\")\n",
        "train_score_diff_2_3 = stem_train_score_LR - full_train_score_LR\n",
        "test_score_diff_2_3 = stem_test_score_LR - full_test_score_LR\n",
        "train_score_percent_diff_2_3 = (train_score_diff_2_3 / stem_train_score_LR) * 100\n",
        "test_score_percent_diff_2_3 = (test_score_diff_2_3 / stem_test_score_LR) * 100\n",
        "print(f\"Train Data: {train_score_diff_2_3} = {train_score_percent_diff_2_3:.2f}%\")\n",
        "print(f\"Test Data: {test_score_diff_2_3} = {test_score_percent_diff_2_3:.2f}%\")\n"
      ]
    },
    {
      "cell_type": "markdown",
      "metadata": {
        "id": "GXWkFMI6iR3A"
      },
      "source": [
        "### Logistic Regression Hyperparameter Optimization"
      ]
    },
    {
      "cell_type": "markdown",
      "metadata": {},
      "source": [
        "#### GridSearchCV"
      ]
    },
    {
      "cell_type": "code",
      "execution_count": 40,
      "metadata": {},
      "outputs": [],
      "source": [
        "# Definisikan parameter grid\n",
        "LR_param_grid = {\n",
        "    'tfidf__max_df': [0.75, 1.0],\n",
        "    'tfidf__ngram_range': [(1, 1), (1, 2)],\n",
        "    'log_reg__C': [0.1, 1.0, 10.0],\n",
        "    'log_reg__penalty': ['l1', 'l2'],\n",
        "    'log_reg__solver': ['liblinear', 'saga'],\n",
        "    'log_reg__max_iter': [1000, 5000]\n",
        "}\n"
      ]
    },
    {
      "cell_type": "code",
      "execution_count": 41,
      "metadata": {},
      "outputs": [
        {
          "data": {
            "text/html": [
              "<style>#sk-container-id-2 {color: black;}#sk-container-id-2 pre{padding: 0;}#sk-container-id-2 div.sk-toggleable {background-color: white;}#sk-container-id-2 label.sk-toggleable__label {cursor: pointer;display: block;width: 100%;margin-bottom: 0;padding: 0.3em;box-sizing: border-box;text-align: center;}#sk-container-id-2 label.sk-toggleable__label-arrow:before {content: \"▸\";float: left;margin-right: 0.25em;color: #696969;}#sk-container-id-2 label.sk-toggleable__label-arrow:hover:before {color: black;}#sk-container-id-2 div.sk-estimator:hover label.sk-toggleable__label-arrow:before {color: black;}#sk-container-id-2 div.sk-toggleable__content {max-height: 0;max-width: 0;overflow: hidden;text-align: left;background-color: #f0f8ff;}#sk-container-id-2 div.sk-toggleable__content pre {margin: 0.2em;color: black;border-radius: 0.25em;background-color: #f0f8ff;}#sk-container-id-2 input.sk-toggleable__control:checked~div.sk-toggleable__content {max-height: 200px;max-width: 100%;overflow: auto;}#sk-container-id-2 input.sk-toggleable__control:checked~label.sk-toggleable__label-arrow:before {content: \"▾\";}#sk-container-id-2 div.sk-estimator input.sk-toggleable__control:checked~label.sk-toggleable__label {background-color: #d4ebff;}#sk-container-id-2 div.sk-label input.sk-toggleable__control:checked~label.sk-toggleable__label {background-color: #d4ebff;}#sk-container-id-2 input.sk-hidden--visually {border: 0;clip: rect(1px 1px 1px 1px);clip: rect(1px, 1px, 1px, 1px);height: 1px;margin: -1px;overflow: hidden;padding: 0;position: absolute;width: 1px;}#sk-container-id-2 div.sk-estimator {font-family: monospace;background-color: #f0f8ff;border: 1px dotted black;border-radius: 0.25em;box-sizing: border-box;margin-bottom: 0.5em;}#sk-container-id-2 div.sk-estimator:hover {background-color: #d4ebff;}#sk-container-id-2 div.sk-parallel-item::after {content: \"\";width: 100%;border-bottom: 1px solid gray;flex-grow: 1;}#sk-container-id-2 div.sk-label:hover label.sk-toggleable__label {background-color: #d4ebff;}#sk-container-id-2 div.sk-serial::before {content: \"\";position: absolute;border-left: 1px solid gray;box-sizing: border-box;top: 0;bottom: 0;left: 50%;z-index: 0;}#sk-container-id-2 div.sk-serial {display: flex;flex-direction: column;align-items: center;background-color: white;padding-right: 0.2em;padding-left: 0.2em;position: relative;}#sk-container-id-2 div.sk-item {position: relative;z-index: 1;}#sk-container-id-2 div.sk-parallel {display: flex;align-items: stretch;justify-content: center;background-color: white;position: relative;}#sk-container-id-2 div.sk-item::before, #sk-container-id-2 div.sk-parallel-item::before {content: \"\";position: absolute;border-left: 1px solid gray;box-sizing: border-box;top: 0;bottom: 0;left: 50%;z-index: -1;}#sk-container-id-2 div.sk-parallel-item {display: flex;flex-direction: column;z-index: 1;position: relative;background-color: white;}#sk-container-id-2 div.sk-parallel-item:first-child::after {align-self: flex-end;width: 50%;}#sk-container-id-2 div.sk-parallel-item:last-child::after {align-self: flex-start;width: 50%;}#sk-container-id-2 div.sk-parallel-item:only-child::after {width: 0;}#sk-container-id-2 div.sk-dashed-wrapped {border: 1px dashed gray;margin: 0 0.4em 0.5em 0.4em;box-sizing: border-box;padding-bottom: 0.4em;background-color: white;}#sk-container-id-2 div.sk-label label {font-family: monospace;font-weight: bold;display: inline-block;line-height: 1.2em;}#sk-container-id-2 div.sk-label-container {text-align: center;}#sk-container-id-2 div.sk-container {/* jupyter's `normalize.less` sets `[hidden] { display: none; }` but bootstrap.min.css set `[hidden] { display: none !important; }` so we also need the `!important` here to be able to override the default hidden behavior on the sphinx rendered scikit-learn.org. See: https://github.com/scikit-learn/scikit-learn/issues/21755 */display: inline-block !important;position: relative;}#sk-container-id-2 div.sk-text-repr-fallback {display: none;}</style><div id=\"sk-container-id-2\" class=\"sk-top-container\"><div class=\"sk-text-repr-fallback\"><pre>GridSearchCV(cv=5,\n",
              "             estimator=Pipeline(steps=[(&#x27;tfidf&#x27;, TfidfVectorizer()),\n",
              "                                       (&#x27;log_reg&#x27;, LogisticRegression())]),\n",
              "             n_jobs=4,\n",
              "             param_grid={&#x27;log_reg__C&#x27;: [0.1, 1.0, 10.0],\n",
              "                         &#x27;log_reg__max_iter&#x27;: [1000, 5000],\n",
              "                         &#x27;log_reg__penalty&#x27;: [&#x27;l1&#x27;, &#x27;l2&#x27;],\n",
              "                         &#x27;log_reg__solver&#x27;: [&#x27;liblinear&#x27;, &#x27;saga&#x27;],\n",
              "                         &#x27;tfidf__max_df&#x27;: [0.75, 1.0],\n",
              "                         &#x27;tfidf__ngram_range&#x27;: [(1, 1), (1, 2)]},\n",
              "             scoring=&#x27;accuracy&#x27;)</pre><b>In a Jupyter environment, please rerun this cell to show the HTML representation or trust the notebook. <br />On GitHub, the HTML representation is unable to render, please try loading this page with nbviewer.org.</b></div><div class=\"sk-container\" hidden><div class=\"sk-item sk-dashed-wrapped\"><div class=\"sk-label-container\"><div class=\"sk-label sk-toggleable\"><input class=\"sk-toggleable__control sk-hidden--visually\" id=\"sk-estimator-id-6\" type=\"checkbox\" ><label for=\"sk-estimator-id-6\" class=\"sk-toggleable__label sk-toggleable__label-arrow\">GridSearchCV</label><div class=\"sk-toggleable__content\"><pre>GridSearchCV(cv=5,\n",
              "             estimator=Pipeline(steps=[(&#x27;tfidf&#x27;, TfidfVectorizer()),\n",
              "                                       (&#x27;log_reg&#x27;, LogisticRegression())]),\n",
              "             n_jobs=4,\n",
              "             param_grid={&#x27;log_reg__C&#x27;: [0.1, 1.0, 10.0],\n",
              "                         &#x27;log_reg__max_iter&#x27;: [1000, 5000],\n",
              "                         &#x27;log_reg__penalty&#x27;: [&#x27;l1&#x27;, &#x27;l2&#x27;],\n",
              "                         &#x27;log_reg__solver&#x27;: [&#x27;liblinear&#x27;, &#x27;saga&#x27;],\n",
              "                         &#x27;tfidf__max_df&#x27;: [0.75, 1.0],\n",
              "                         &#x27;tfidf__ngram_range&#x27;: [(1, 1), (1, 2)]},\n",
              "             scoring=&#x27;accuracy&#x27;)</pre></div></div></div><div class=\"sk-parallel\"><div class=\"sk-parallel-item\"><div class=\"sk-item\"><div class=\"sk-label-container\"><div class=\"sk-label sk-toggleable\"><input class=\"sk-toggleable__control sk-hidden--visually\" id=\"sk-estimator-id-7\" type=\"checkbox\" ><label for=\"sk-estimator-id-7\" class=\"sk-toggleable__label sk-toggleable__label-arrow\">estimator: Pipeline</label><div class=\"sk-toggleable__content\"><pre>Pipeline(steps=[(&#x27;tfidf&#x27;, TfidfVectorizer()),\n",
              "                (&#x27;log_reg&#x27;, LogisticRegression())])</pre></div></div></div><div class=\"sk-serial\"><div class=\"sk-item\"><div class=\"sk-serial\"><div class=\"sk-item\"><div class=\"sk-estimator sk-toggleable\"><input class=\"sk-toggleable__control sk-hidden--visually\" id=\"sk-estimator-id-8\" type=\"checkbox\" ><label for=\"sk-estimator-id-8\" class=\"sk-toggleable__label sk-toggleable__label-arrow\">TfidfVectorizer</label><div class=\"sk-toggleable__content\"><pre>TfidfVectorizer()</pre></div></div></div><div class=\"sk-item\"><div class=\"sk-estimator sk-toggleable\"><input class=\"sk-toggleable__control sk-hidden--visually\" id=\"sk-estimator-id-9\" type=\"checkbox\" ><label for=\"sk-estimator-id-9\" class=\"sk-toggleable__label sk-toggleable__label-arrow\">LogisticRegression</label><div class=\"sk-toggleable__content\"><pre>LogisticRegression()</pre></div></div></div></div></div></div></div></div></div></div></div></div>"
            ],
            "text/plain": [
              "GridSearchCV(cv=5,\n",
              "             estimator=Pipeline(steps=[('tfidf', TfidfVectorizer()),\n",
              "                                       ('log_reg', LogisticRegression())]),\n",
              "             n_jobs=4,\n",
              "             param_grid={'log_reg__C': [0.1, 1.0, 10.0],\n",
              "                         'log_reg__max_iter': [1000, 5000],\n",
              "                         'log_reg__penalty': ['l1', 'l2'],\n",
              "                         'log_reg__solver': ['liblinear', 'saga'],\n",
              "                         'tfidf__max_df': [0.75, 1.0],\n",
              "                         'tfidf__ngram_range': [(1, 1), (1, 2)]},\n",
              "             scoring='accuracy')"
            ]
          },
          "execution_count": 41,
          "metadata": {},
          "output_type": "execute_result"
        }
      ],
      "source": [
        "# Definisikan GridSearchCV\n",
        "tf_idf_LR_random_search = GridSearchCV(estimator=tf_idf_LR, param_grid=LR_param_grid, cv=5, scoring='accuracy', n_jobs=4)\n",
        "tf_idf_LR_random_search.fit(x_train, y_train)"
      ]
    },
    {
      "cell_type": "code",
      "execution_count": 42,
      "metadata": {},
      "outputs": [
        {
          "data": {
            "text/html": [
              "<style>#sk-container-id-3 {color: black;}#sk-container-id-3 pre{padding: 0;}#sk-container-id-3 div.sk-toggleable {background-color: white;}#sk-container-id-3 label.sk-toggleable__label {cursor: pointer;display: block;width: 100%;margin-bottom: 0;padding: 0.3em;box-sizing: border-box;text-align: center;}#sk-container-id-3 label.sk-toggleable__label-arrow:before {content: \"▸\";float: left;margin-right: 0.25em;color: #696969;}#sk-container-id-3 label.sk-toggleable__label-arrow:hover:before {color: black;}#sk-container-id-3 div.sk-estimator:hover label.sk-toggleable__label-arrow:before {color: black;}#sk-container-id-3 div.sk-toggleable__content {max-height: 0;max-width: 0;overflow: hidden;text-align: left;background-color: #f0f8ff;}#sk-container-id-3 div.sk-toggleable__content pre {margin: 0.2em;color: black;border-radius: 0.25em;background-color: #f0f8ff;}#sk-container-id-3 input.sk-toggleable__control:checked~div.sk-toggleable__content {max-height: 200px;max-width: 100%;overflow: auto;}#sk-container-id-3 input.sk-toggleable__control:checked~label.sk-toggleable__label-arrow:before {content: \"▾\";}#sk-container-id-3 div.sk-estimator input.sk-toggleable__control:checked~label.sk-toggleable__label {background-color: #d4ebff;}#sk-container-id-3 div.sk-label input.sk-toggleable__control:checked~label.sk-toggleable__label {background-color: #d4ebff;}#sk-container-id-3 input.sk-hidden--visually {border: 0;clip: rect(1px 1px 1px 1px);clip: rect(1px, 1px, 1px, 1px);height: 1px;margin: -1px;overflow: hidden;padding: 0;position: absolute;width: 1px;}#sk-container-id-3 div.sk-estimator {font-family: monospace;background-color: #f0f8ff;border: 1px dotted black;border-radius: 0.25em;box-sizing: border-box;margin-bottom: 0.5em;}#sk-container-id-3 div.sk-estimator:hover {background-color: #d4ebff;}#sk-container-id-3 div.sk-parallel-item::after {content: \"\";width: 100%;border-bottom: 1px solid gray;flex-grow: 1;}#sk-container-id-3 div.sk-label:hover label.sk-toggleable__label {background-color: #d4ebff;}#sk-container-id-3 div.sk-serial::before {content: \"\";position: absolute;border-left: 1px solid gray;box-sizing: border-box;top: 0;bottom: 0;left: 50%;z-index: 0;}#sk-container-id-3 div.sk-serial {display: flex;flex-direction: column;align-items: center;background-color: white;padding-right: 0.2em;padding-left: 0.2em;position: relative;}#sk-container-id-3 div.sk-item {position: relative;z-index: 1;}#sk-container-id-3 div.sk-parallel {display: flex;align-items: stretch;justify-content: center;background-color: white;position: relative;}#sk-container-id-3 div.sk-item::before, #sk-container-id-3 div.sk-parallel-item::before {content: \"\";position: absolute;border-left: 1px solid gray;box-sizing: border-box;top: 0;bottom: 0;left: 50%;z-index: -1;}#sk-container-id-3 div.sk-parallel-item {display: flex;flex-direction: column;z-index: 1;position: relative;background-color: white;}#sk-container-id-3 div.sk-parallel-item:first-child::after {align-self: flex-end;width: 50%;}#sk-container-id-3 div.sk-parallel-item:last-child::after {align-self: flex-start;width: 50%;}#sk-container-id-3 div.sk-parallel-item:only-child::after {width: 0;}#sk-container-id-3 div.sk-dashed-wrapped {border: 1px dashed gray;margin: 0 0.4em 0.5em 0.4em;box-sizing: border-box;padding-bottom: 0.4em;background-color: white;}#sk-container-id-3 div.sk-label label {font-family: monospace;font-weight: bold;display: inline-block;line-height: 1.2em;}#sk-container-id-3 div.sk-label-container {text-align: center;}#sk-container-id-3 div.sk-container {/* jupyter's `normalize.less` sets `[hidden] { display: none; }` but bootstrap.min.css set `[hidden] { display: none !important; }` so we also need the `!important` here to be able to override the default hidden behavior on the sphinx rendered scikit-learn.org. See: https://github.com/scikit-learn/scikit-learn/issues/21755 */display: inline-block !important;position: relative;}#sk-container-id-3 div.sk-text-repr-fallback {display: none;}</style><div id=\"sk-container-id-3\" class=\"sk-top-container\"><div class=\"sk-text-repr-fallback\"><pre>GridSearchCV(cv=5,\n",
              "             estimator=Pipeline(steps=[(&#x27;tfidf&#x27;, TfidfVectorizer()),\n",
              "                                       (&#x27;log_reg&#x27;, LogisticRegression())]),\n",
              "             n_jobs=4,\n",
              "             param_grid={&#x27;log_reg__C&#x27;: [0.1, 1.0, 10.0],\n",
              "                         &#x27;log_reg__max_iter&#x27;: [1000, 5000],\n",
              "                         &#x27;log_reg__penalty&#x27;: [&#x27;l1&#x27;, &#x27;l2&#x27;],\n",
              "                         &#x27;log_reg__solver&#x27;: [&#x27;liblinear&#x27;, &#x27;saga&#x27;],\n",
              "                         &#x27;tfidf__max_df&#x27;: [0.75, 1.0],\n",
              "                         &#x27;tfidf__ngram_range&#x27;: [(1, 1), (1, 2)]},\n",
              "             scoring=&#x27;accuracy&#x27;)</pre><b>In a Jupyter environment, please rerun this cell to show the HTML representation or trust the notebook. <br />On GitHub, the HTML representation is unable to render, please try loading this page with nbviewer.org.</b></div><div class=\"sk-container\" hidden><div class=\"sk-item sk-dashed-wrapped\"><div class=\"sk-label-container\"><div class=\"sk-label sk-toggleable\"><input class=\"sk-toggleable__control sk-hidden--visually\" id=\"sk-estimator-id-10\" type=\"checkbox\" ><label for=\"sk-estimator-id-10\" class=\"sk-toggleable__label sk-toggleable__label-arrow\">GridSearchCV</label><div class=\"sk-toggleable__content\"><pre>GridSearchCV(cv=5,\n",
              "             estimator=Pipeline(steps=[(&#x27;tfidf&#x27;, TfidfVectorizer()),\n",
              "                                       (&#x27;log_reg&#x27;, LogisticRegression())]),\n",
              "             n_jobs=4,\n",
              "             param_grid={&#x27;log_reg__C&#x27;: [0.1, 1.0, 10.0],\n",
              "                         &#x27;log_reg__max_iter&#x27;: [1000, 5000],\n",
              "                         &#x27;log_reg__penalty&#x27;: [&#x27;l1&#x27;, &#x27;l2&#x27;],\n",
              "                         &#x27;log_reg__solver&#x27;: [&#x27;liblinear&#x27;, &#x27;saga&#x27;],\n",
              "                         &#x27;tfidf__max_df&#x27;: [0.75, 1.0],\n",
              "                         &#x27;tfidf__ngram_range&#x27;: [(1, 1), (1, 2)]},\n",
              "             scoring=&#x27;accuracy&#x27;)</pre></div></div></div><div class=\"sk-parallel\"><div class=\"sk-parallel-item\"><div class=\"sk-item\"><div class=\"sk-label-container\"><div class=\"sk-label sk-toggleable\"><input class=\"sk-toggleable__control sk-hidden--visually\" id=\"sk-estimator-id-11\" type=\"checkbox\" ><label for=\"sk-estimator-id-11\" class=\"sk-toggleable__label sk-toggleable__label-arrow\">estimator: Pipeline</label><div class=\"sk-toggleable__content\"><pre>Pipeline(steps=[(&#x27;tfidf&#x27;, TfidfVectorizer()),\n",
              "                (&#x27;log_reg&#x27;, LogisticRegression())])</pre></div></div></div><div class=\"sk-serial\"><div class=\"sk-item\"><div class=\"sk-serial\"><div class=\"sk-item\"><div class=\"sk-estimator sk-toggleable\"><input class=\"sk-toggleable__control sk-hidden--visually\" id=\"sk-estimator-id-12\" type=\"checkbox\" ><label for=\"sk-estimator-id-12\" class=\"sk-toggleable__label sk-toggleable__label-arrow\">TfidfVectorizer</label><div class=\"sk-toggleable__content\"><pre>TfidfVectorizer()</pre></div></div></div><div class=\"sk-item\"><div class=\"sk-estimator sk-toggleable\"><input class=\"sk-toggleable__control sk-hidden--visually\" id=\"sk-estimator-id-13\" type=\"checkbox\" ><label for=\"sk-estimator-id-13\" class=\"sk-toggleable__label sk-toggleable__label-arrow\">LogisticRegression</label><div class=\"sk-toggleable__content\"><pre>LogisticRegression()</pre></div></div></div></div></div></div></div></div></div></div></div></div>"
            ],
            "text/plain": [
              "GridSearchCV(cv=5,\n",
              "             estimator=Pipeline(steps=[('tfidf', TfidfVectorizer()),\n",
              "                                       ('log_reg', LogisticRegression())]),\n",
              "             n_jobs=4,\n",
              "             param_grid={'log_reg__C': [0.1, 1.0, 10.0],\n",
              "                         'log_reg__max_iter': [1000, 5000],\n",
              "                         'log_reg__penalty': ['l1', 'l2'],\n",
              "                         'log_reg__solver': ['liblinear', 'saga'],\n",
              "                         'tfidf__max_df': [0.75, 1.0],\n",
              "                         'tfidf__ngram_range': [(1, 1), (1, 2)]},\n",
              "             scoring='accuracy')"
            ]
          },
          "execution_count": 42,
          "metadata": {},
          "output_type": "execute_result"
        }
      ],
      "source": [
        "# Definisikan GridSearchCV\n",
        "stem_LR_random_search = GridSearchCV(estimator=stem_LR, param_grid=LR_param_grid, cv=5, scoring='accuracy', n_jobs=4)\n",
        "stem_LR_random_search.fit(x_train_stem, y_train_stem)"
      ]
    },
    {
      "cell_type": "code",
      "execution_count": 43,
      "metadata": {},
      "outputs": [],
      "source": [
        "# full_LR_param_grid = {\n",
        "#     'log_reg__C': [0.1],  # Just one value for simplicity\n",
        "#     'log_reg__penalty': ['l1', 'l2'],\n",
        "#     'log_reg__solver': ['liblinear', 'saga'],\n",
        "# }"
      ]
    },
    {
      "cell_type": "code",
      "execution_count": 54,
      "metadata": {},
      "outputs": [
        {
          "name": "stdout",
          "output_type": "stream",
          "text": [
            "Best parameters for TF IDF Logistic Regression: {'log_reg__C': 10.0, 'log_reg__max_iter': 5000, 'log_reg__penalty': 'l1', 'log_reg__solver': 'liblinear', 'tfidf__max_df': 0.75, 'tfidf__ngram_range': (1, 2)}\n",
            "Best parameters for Stemming and Stopwords Logistic Regression: {'log_reg__C': 10.0, 'log_reg__max_iter': 1000, 'log_reg__penalty': 'l1', 'log_reg__solver': 'liblinear', 'tfidf__max_df': 1.0, 'tfidf__ngram_range': (1, 2)}\n"
          ]
        }
      ],
      "source": [
        "print(f\"Best parameters for TF IDF Logistic Regression: {tf_idf_LR_random_search.best_params_}\")\n",
        "print(f\"Best parameters for Stemming and Stopwords Logistic Regression: {stem_LR_random_search.best_params_}\")"
      ]
    },
    {
      "cell_type": "code",
      "execution_count": 41,
      "metadata": {},
      "outputs": [
        {
          "ename": "KeyboardInterrupt",
          "evalue": "",
          "output_type": "error",
          "traceback": [
            "\u001b[1;31m---------------------------------------------------------------------------\u001b[0m",
            "\u001b[1;31mKeyboardInterrupt\u001b[0m                         Traceback (most recent call last)",
            "Cell \u001b[1;32mIn[41], line 3\u001b[0m\n\u001b[0;32m      1\u001b[0m \u001b[38;5;66;03m# Definisikan GridSearchCV\u001b[39;00m\n\u001b[0;32m      2\u001b[0m full_LR_random_search \u001b[38;5;241m=\u001b[39m GridSearchCV(estimator\u001b[38;5;241m=\u001b[39mfull_LR, param_grid\u001b[38;5;241m=\u001b[39mLR_param_grid, cv\u001b[38;5;241m=\u001b[39m\u001b[38;5;241m5\u001b[39m, scoring\u001b[38;5;241m=\u001b[39m\u001b[38;5;124m'\u001b[39m\u001b[38;5;124maccuracy\u001b[39m\u001b[38;5;124m'\u001b[39m, n_jobs\u001b[38;5;241m=\u001b[39m\u001b[38;5;241m4\u001b[39m)\n\u001b[1;32m----> 3\u001b[0m \u001b[43mfull_LR_random_search\u001b[49m\u001b[38;5;241;43m.\u001b[39;49m\u001b[43mfit\u001b[49m\u001b[43m(\u001b[49m\u001b[43mx_train_stem\u001b[49m\u001b[43m,\u001b[49m\u001b[43m \u001b[49m\u001b[43my_train_stem\u001b[49m\u001b[43m)\u001b[49m\n",
            "File \u001b[1;32mc:\\Users\\Kalea\\AppData\\Local\\Programs\\Python\\Python310\\lib\\site-packages\\sklearn\\base.py:1152\u001b[0m, in \u001b[0;36m_fit_context.<locals>.decorator.<locals>.wrapper\u001b[1;34m(estimator, *args, **kwargs)\u001b[0m\n\u001b[0;32m   1145\u001b[0m     estimator\u001b[38;5;241m.\u001b[39m_validate_params()\n\u001b[0;32m   1147\u001b[0m \u001b[38;5;28;01mwith\u001b[39;00m config_context(\n\u001b[0;32m   1148\u001b[0m     skip_parameter_validation\u001b[38;5;241m=\u001b[39m(\n\u001b[0;32m   1149\u001b[0m         prefer_skip_nested_validation \u001b[38;5;129;01mor\u001b[39;00m global_skip_validation\n\u001b[0;32m   1150\u001b[0m     )\n\u001b[0;32m   1151\u001b[0m ):\n\u001b[1;32m-> 1152\u001b[0m     \u001b[38;5;28;01mreturn\u001b[39;00m fit_method(estimator, \u001b[38;5;241m*\u001b[39margs, \u001b[38;5;241m*\u001b[39m\u001b[38;5;241m*\u001b[39mkwargs)\n",
            "File \u001b[1;32mc:\\Users\\Kalea\\AppData\\Local\\Programs\\Python\\Python310\\lib\\site-packages\\sklearn\\model_selection\\_search.py:898\u001b[0m, in \u001b[0;36mBaseSearchCV.fit\u001b[1;34m(self, X, y, groups, **fit_params)\u001b[0m\n\u001b[0;32m    892\u001b[0m     results \u001b[38;5;241m=\u001b[39m \u001b[38;5;28mself\u001b[39m\u001b[38;5;241m.\u001b[39m_format_results(\n\u001b[0;32m    893\u001b[0m         all_candidate_params, n_splits, all_out, all_more_results\n\u001b[0;32m    894\u001b[0m     )\n\u001b[0;32m    896\u001b[0m     \u001b[38;5;28;01mreturn\u001b[39;00m results\n\u001b[1;32m--> 898\u001b[0m \u001b[38;5;28;43mself\u001b[39;49m\u001b[38;5;241;43m.\u001b[39;49m\u001b[43m_run_search\u001b[49m\u001b[43m(\u001b[49m\u001b[43mevaluate_candidates\u001b[49m\u001b[43m)\u001b[49m\n\u001b[0;32m    900\u001b[0m \u001b[38;5;66;03m# multimetric is determined here because in the case of a callable\u001b[39;00m\n\u001b[0;32m    901\u001b[0m \u001b[38;5;66;03m# self.scoring the return type is only known after calling\u001b[39;00m\n\u001b[0;32m    902\u001b[0m first_test_score \u001b[38;5;241m=\u001b[39m all_out[\u001b[38;5;241m0\u001b[39m][\u001b[38;5;124m\"\u001b[39m\u001b[38;5;124mtest_scores\u001b[39m\u001b[38;5;124m\"\u001b[39m]\n",
            "File \u001b[1;32mc:\\Users\\Kalea\\AppData\\Local\\Programs\\Python\\Python310\\lib\\site-packages\\sklearn\\model_selection\\_search.py:1422\u001b[0m, in \u001b[0;36mGridSearchCV._run_search\u001b[1;34m(self, evaluate_candidates)\u001b[0m\n\u001b[0;32m   1420\u001b[0m \u001b[38;5;28;01mdef\u001b[39;00m \u001b[38;5;21m_run_search\u001b[39m(\u001b[38;5;28mself\u001b[39m, evaluate_candidates):\n\u001b[0;32m   1421\u001b[0m \u001b[38;5;250m    \u001b[39m\u001b[38;5;124;03m\"\"\"Search all candidates in param_grid\"\"\"\u001b[39;00m\n\u001b[1;32m-> 1422\u001b[0m     \u001b[43mevaluate_candidates\u001b[49m\u001b[43m(\u001b[49m\u001b[43mParameterGrid\u001b[49m\u001b[43m(\u001b[49m\u001b[38;5;28;43mself\u001b[39;49m\u001b[38;5;241;43m.\u001b[39;49m\u001b[43mparam_grid\u001b[49m\u001b[43m)\u001b[49m\u001b[43m)\u001b[49m\n",
            "File \u001b[1;32mc:\\Users\\Kalea\\AppData\\Local\\Programs\\Python\\Python310\\lib\\site-packages\\sklearn\\model_selection\\_search.py:845\u001b[0m, in \u001b[0;36mBaseSearchCV.fit.<locals>.evaluate_candidates\u001b[1;34m(candidate_params, cv, more_results)\u001b[0m\n\u001b[0;32m    837\u001b[0m \u001b[38;5;28;01mif\u001b[39;00m \u001b[38;5;28mself\u001b[39m\u001b[38;5;241m.\u001b[39mverbose \u001b[38;5;241m>\u001b[39m \u001b[38;5;241m0\u001b[39m:\n\u001b[0;32m    838\u001b[0m     \u001b[38;5;28mprint\u001b[39m(\n\u001b[0;32m    839\u001b[0m         \u001b[38;5;124m\"\u001b[39m\u001b[38;5;124mFitting \u001b[39m\u001b[38;5;132;01m{0}\u001b[39;00m\u001b[38;5;124m folds for each of \u001b[39m\u001b[38;5;132;01m{1}\u001b[39;00m\u001b[38;5;124m candidates,\u001b[39m\u001b[38;5;124m\"\u001b[39m\n\u001b[0;32m    840\u001b[0m         \u001b[38;5;124m\"\u001b[39m\u001b[38;5;124m totalling \u001b[39m\u001b[38;5;132;01m{2}\u001b[39;00m\u001b[38;5;124m fits\u001b[39m\u001b[38;5;124m\"\u001b[39m\u001b[38;5;241m.\u001b[39mformat(\n\u001b[0;32m    841\u001b[0m             n_splits, n_candidates, n_candidates \u001b[38;5;241m*\u001b[39m n_splits\n\u001b[0;32m    842\u001b[0m         )\n\u001b[0;32m    843\u001b[0m     )\n\u001b[1;32m--> 845\u001b[0m out \u001b[38;5;241m=\u001b[39m \u001b[43mparallel\u001b[49m\u001b[43m(\u001b[49m\n\u001b[0;32m    846\u001b[0m \u001b[43m    \u001b[49m\u001b[43mdelayed\u001b[49m\u001b[43m(\u001b[49m\u001b[43m_fit_and_score\u001b[49m\u001b[43m)\u001b[49m\u001b[43m(\u001b[49m\n\u001b[0;32m    847\u001b[0m \u001b[43m        \u001b[49m\u001b[43mclone\u001b[49m\u001b[43m(\u001b[49m\u001b[43mbase_estimator\u001b[49m\u001b[43m)\u001b[49m\u001b[43m,\u001b[49m\n\u001b[0;32m    848\u001b[0m \u001b[43m        \u001b[49m\u001b[43mX\u001b[49m\u001b[43m,\u001b[49m\n\u001b[0;32m    849\u001b[0m \u001b[43m        \u001b[49m\u001b[43my\u001b[49m\u001b[43m,\u001b[49m\n\u001b[0;32m    850\u001b[0m \u001b[43m        \u001b[49m\u001b[43mtrain\u001b[49m\u001b[38;5;241;43m=\u001b[39;49m\u001b[43mtrain\u001b[49m\u001b[43m,\u001b[49m\n\u001b[0;32m    851\u001b[0m \u001b[43m        \u001b[49m\u001b[43mtest\u001b[49m\u001b[38;5;241;43m=\u001b[39;49m\u001b[43mtest\u001b[49m\u001b[43m,\u001b[49m\n\u001b[0;32m    852\u001b[0m \u001b[43m        \u001b[49m\u001b[43mparameters\u001b[49m\u001b[38;5;241;43m=\u001b[39;49m\u001b[43mparameters\u001b[49m\u001b[43m,\u001b[49m\n\u001b[0;32m    853\u001b[0m \u001b[43m        \u001b[49m\u001b[43msplit_progress\u001b[49m\u001b[38;5;241;43m=\u001b[39;49m\u001b[43m(\u001b[49m\u001b[43msplit_idx\u001b[49m\u001b[43m,\u001b[49m\u001b[43m \u001b[49m\u001b[43mn_splits\u001b[49m\u001b[43m)\u001b[49m\u001b[43m,\u001b[49m\n\u001b[0;32m    854\u001b[0m \u001b[43m        \u001b[49m\u001b[43mcandidate_progress\u001b[49m\u001b[38;5;241;43m=\u001b[39;49m\u001b[43m(\u001b[49m\u001b[43mcand_idx\u001b[49m\u001b[43m,\u001b[49m\u001b[43m \u001b[49m\u001b[43mn_candidates\u001b[49m\u001b[43m)\u001b[49m\u001b[43m,\u001b[49m\n\u001b[0;32m    855\u001b[0m \u001b[43m        \u001b[49m\u001b[38;5;241;43m*\u001b[39;49m\u001b[38;5;241;43m*\u001b[39;49m\u001b[43mfit_and_score_kwargs\u001b[49m\u001b[43m,\u001b[49m\n\u001b[0;32m    856\u001b[0m \u001b[43m    \u001b[49m\u001b[43m)\u001b[49m\n\u001b[0;32m    857\u001b[0m \u001b[43m    \u001b[49m\u001b[38;5;28;43;01mfor\u001b[39;49;00m\u001b[43m \u001b[49m\u001b[43m(\u001b[49m\u001b[43mcand_idx\u001b[49m\u001b[43m,\u001b[49m\u001b[43m \u001b[49m\u001b[43mparameters\u001b[49m\u001b[43m)\u001b[49m\u001b[43m,\u001b[49m\u001b[43m \u001b[49m\u001b[43m(\u001b[49m\u001b[43msplit_idx\u001b[49m\u001b[43m,\u001b[49m\u001b[43m \u001b[49m\u001b[43m(\u001b[49m\u001b[43mtrain\u001b[49m\u001b[43m,\u001b[49m\u001b[43m \u001b[49m\u001b[43mtest\u001b[49m\u001b[43m)\u001b[49m\u001b[43m)\u001b[49m\u001b[43m \u001b[49m\u001b[38;5;129;43;01min\u001b[39;49;00m\u001b[43m \u001b[49m\u001b[43mproduct\u001b[49m\u001b[43m(\u001b[49m\n\u001b[0;32m    858\u001b[0m \u001b[43m        \u001b[49m\u001b[38;5;28;43menumerate\u001b[39;49m\u001b[43m(\u001b[49m\u001b[43mcandidate_params\u001b[49m\u001b[43m)\u001b[49m\u001b[43m,\u001b[49m\u001b[43m \u001b[49m\u001b[38;5;28;43menumerate\u001b[39;49m\u001b[43m(\u001b[49m\u001b[43mcv\u001b[49m\u001b[38;5;241;43m.\u001b[39;49m\u001b[43msplit\u001b[49m\u001b[43m(\u001b[49m\u001b[43mX\u001b[49m\u001b[43m,\u001b[49m\u001b[43m \u001b[49m\u001b[43my\u001b[49m\u001b[43m,\u001b[49m\u001b[43m \u001b[49m\u001b[43mgroups\u001b[49m\u001b[43m)\u001b[49m\u001b[43m)\u001b[49m\n\u001b[0;32m    859\u001b[0m \u001b[43m    \u001b[49m\u001b[43m)\u001b[49m\n\u001b[0;32m    860\u001b[0m \u001b[43m\u001b[49m\u001b[43m)\u001b[49m\n\u001b[0;32m    862\u001b[0m \u001b[38;5;28;01mif\u001b[39;00m \u001b[38;5;28mlen\u001b[39m(out) \u001b[38;5;241m<\u001b[39m \u001b[38;5;241m1\u001b[39m:\n\u001b[0;32m    863\u001b[0m     \u001b[38;5;28;01mraise\u001b[39;00m \u001b[38;5;167;01mValueError\u001b[39;00m(\n\u001b[0;32m    864\u001b[0m         \u001b[38;5;124m\"\u001b[39m\u001b[38;5;124mNo fits were performed. \u001b[39m\u001b[38;5;124m\"\u001b[39m\n\u001b[0;32m    865\u001b[0m         \u001b[38;5;124m\"\u001b[39m\u001b[38;5;124mWas the CV iterator empty? \u001b[39m\u001b[38;5;124m\"\u001b[39m\n\u001b[0;32m    866\u001b[0m         \u001b[38;5;124m\"\u001b[39m\u001b[38;5;124mWere there no candidates?\u001b[39m\u001b[38;5;124m\"\u001b[39m\n\u001b[0;32m    867\u001b[0m     )\n",
            "File \u001b[1;32mc:\\Users\\Kalea\\AppData\\Local\\Programs\\Python\\Python310\\lib\\site-packages\\sklearn\\utils\\parallel.py:65\u001b[0m, in \u001b[0;36mParallel.__call__\u001b[1;34m(self, iterable)\u001b[0m\n\u001b[0;32m     60\u001b[0m config \u001b[38;5;241m=\u001b[39m get_config()\n\u001b[0;32m     61\u001b[0m iterable_with_config \u001b[38;5;241m=\u001b[39m (\n\u001b[0;32m     62\u001b[0m     (_with_config(delayed_func, config), args, kwargs)\n\u001b[0;32m     63\u001b[0m     \u001b[38;5;28;01mfor\u001b[39;00m delayed_func, args, kwargs \u001b[38;5;129;01min\u001b[39;00m iterable\n\u001b[0;32m     64\u001b[0m )\n\u001b[1;32m---> 65\u001b[0m \u001b[38;5;28;01mreturn\u001b[39;00m \u001b[38;5;28;43msuper\u001b[39;49m\u001b[43m(\u001b[49m\u001b[43m)\u001b[49m\u001b[38;5;241;43m.\u001b[39;49m\u001b[38;5;21;43m__call__\u001b[39;49m\u001b[43m(\u001b[49m\u001b[43miterable_with_config\u001b[49m\u001b[43m)\u001b[49m\n",
            "File \u001b[1;32mc:\\Users\\Kalea\\AppData\\Local\\Programs\\Python\\Python310\\lib\\site-packages\\joblib\\parallel.py:1952\u001b[0m, in \u001b[0;36mParallel.__call__\u001b[1;34m(self, iterable)\u001b[0m\n\u001b[0;32m   1946\u001b[0m \u001b[38;5;66;03m# The first item from the output is blank, but it makes the interpreter\u001b[39;00m\n\u001b[0;32m   1947\u001b[0m \u001b[38;5;66;03m# progress until it enters the Try/Except block of the generator and\u001b[39;00m\n\u001b[0;32m   1948\u001b[0m \u001b[38;5;66;03m# reach the first `yield` statement. This starts the aynchronous\u001b[39;00m\n\u001b[0;32m   1949\u001b[0m \u001b[38;5;66;03m# dispatch of the tasks to the workers.\u001b[39;00m\n\u001b[0;32m   1950\u001b[0m \u001b[38;5;28mnext\u001b[39m(output)\n\u001b[1;32m-> 1952\u001b[0m \u001b[38;5;28;01mreturn\u001b[39;00m output \u001b[38;5;28;01mif\u001b[39;00m \u001b[38;5;28mself\u001b[39m\u001b[38;5;241m.\u001b[39mreturn_generator \u001b[38;5;28;01melse\u001b[39;00m \u001b[38;5;28;43mlist\u001b[39;49m\u001b[43m(\u001b[49m\u001b[43moutput\u001b[49m\u001b[43m)\u001b[49m\n",
            "File \u001b[1;32mc:\\Users\\Kalea\\AppData\\Local\\Programs\\Python\\Python310\\lib\\site-packages\\joblib\\parallel.py:1595\u001b[0m, in \u001b[0;36mParallel._get_outputs\u001b[1;34m(self, iterator, pre_dispatch)\u001b[0m\n\u001b[0;32m   1592\u001b[0m     \u001b[38;5;28;01myield\u001b[39;00m\n\u001b[0;32m   1594\u001b[0m     \u001b[38;5;28;01mwith\u001b[39;00m \u001b[38;5;28mself\u001b[39m\u001b[38;5;241m.\u001b[39m_backend\u001b[38;5;241m.\u001b[39mretrieval_context():\n\u001b[1;32m-> 1595\u001b[0m         \u001b[38;5;28;01myield from\u001b[39;00m \u001b[38;5;28mself\u001b[39m\u001b[38;5;241m.\u001b[39m_retrieve()\n\u001b[0;32m   1597\u001b[0m \u001b[38;5;28;01mexcept\u001b[39;00m \u001b[38;5;167;01mGeneratorExit\u001b[39;00m:\n\u001b[0;32m   1598\u001b[0m     \u001b[38;5;66;03m# The generator has been garbage collected before being fully\u001b[39;00m\n\u001b[0;32m   1599\u001b[0m     \u001b[38;5;66;03m# consumed. This aborts the remaining tasks if possible and warn\u001b[39;00m\n\u001b[0;32m   1600\u001b[0m     \u001b[38;5;66;03m# the user if necessary.\u001b[39;00m\n\u001b[0;32m   1601\u001b[0m     \u001b[38;5;28mself\u001b[39m\u001b[38;5;241m.\u001b[39m_exception \u001b[38;5;241m=\u001b[39m \u001b[38;5;28;01mTrue\u001b[39;00m\n",
            "File \u001b[1;32mc:\\Users\\Kalea\\AppData\\Local\\Programs\\Python\\Python310\\lib\\site-packages\\joblib\\parallel.py:1707\u001b[0m, in \u001b[0;36mParallel._retrieve\u001b[1;34m(self)\u001b[0m\n\u001b[0;32m   1702\u001b[0m \u001b[38;5;66;03m# If the next job is not ready for retrieval yet, we just wait for\u001b[39;00m\n\u001b[0;32m   1703\u001b[0m \u001b[38;5;66;03m# async callbacks to progress.\u001b[39;00m\n\u001b[0;32m   1704\u001b[0m \u001b[38;5;28;01mif\u001b[39;00m ((\u001b[38;5;28mlen\u001b[39m(\u001b[38;5;28mself\u001b[39m\u001b[38;5;241m.\u001b[39m_jobs) \u001b[38;5;241m==\u001b[39m \u001b[38;5;241m0\u001b[39m) \u001b[38;5;129;01mor\u001b[39;00m\n\u001b[0;32m   1705\u001b[0m     (\u001b[38;5;28mself\u001b[39m\u001b[38;5;241m.\u001b[39m_jobs[\u001b[38;5;241m0\u001b[39m]\u001b[38;5;241m.\u001b[39mget_status(\n\u001b[0;32m   1706\u001b[0m         timeout\u001b[38;5;241m=\u001b[39m\u001b[38;5;28mself\u001b[39m\u001b[38;5;241m.\u001b[39mtimeout) \u001b[38;5;241m==\u001b[39m TASK_PENDING)):\n\u001b[1;32m-> 1707\u001b[0m     \u001b[43mtime\u001b[49m\u001b[38;5;241;43m.\u001b[39;49m\u001b[43msleep\u001b[49m\u001b[43m(\u001b[49m\u001b[38;5;241;43m0.01\u001b[39;49m\u001b[43m)\u001b[49m\n\u001b[0;32m   1708\u001b[0m     \u001b[38;5;28;01mcontinue\u001b[39;00m\n\u001b[0;32m   1710\u001b[0m \u001b[38;5;66;03m# We need to be careful: the job list can be filling up as\u001b[39;00m\n\u001b[0;32m   1711\u001b[0m \u001b[38;5;66;03m# we empty it and Python list are not thread-safe by\u001b[39;00m\n\u001b[0;32m   1712\u001b[0m \u001b[38;5;66;03m# default hence the use of the lock\u001b[39;00m\n",
            "\u001b[1;31mKeyboardInterrupt\u001b[0m: "
          ]
        }
      ],
      "source": [
        "# Definisikan GridSearchCV\n",
        "full_LR_random_search = GridSearchCV(estimator=full_LR, param_grid=LR_param_grid, cv=5, scoring='accuracy', n_jobs=4)\n",
        "full_LR_random_search.fit(x_train_stem, y_train_stem)"
      ]
    },
    {
      "cell_type": "code",
      "execution_count": null,
      "metadata": {
        "id": "xp6DJiQcip-P",
        "outputId": "fd2e327c-d124-4ef9-cd46-ae8d2c661d7b"
      },
      "outputs": [
        {
          "name": "stdout",
          "output_type": "stream",
          "text": [
            "Best parameters for TF IDF Logistic Regression: {'log_reg__C': 10.0, 'log_reg__penalty': 'l1', 'log_reg__solver': 'saga'}\n",
            "Best parameters for Stemming and Stopwords Logistic Regression: {'log_reg__C': 10.0, 'log_reg__penalty': 'l1', 'log_reg__solver': 'liblinear'}\n"
          ]
        },
        {
          "ename": "NameError",
          "evalue": "name 'optimized_stem_DTC' is not defined",
          "output_type": "error",
          "traceback": [
            "\u001b[1;31m---------------------------------------------------------------------------\u001b[0m",
            "\u001b[1;31mNameError\u001b[0m                                 Traceback (most recent call last)",
            "Cell \u001b[1;32mIn[49], line 1\u001b[0m\n\u001b[1;32m----> 1\u001b[0m optimized_stem_train_pred_DTC \u001b[38;5;241m=\u001b[39m \u001b[43moptimized_stem_DTC\u001b[49m\u001b[38;5;241m.\u001b[39mpredict(x_train_stem)\n\u001b[0;32m      2\u001b[0m optimized_stem_test_pred_DTC \u001b[38;5;241m=\u001b[39m optimized_stem_DTC\u001b[38;5;241m.\u001b[39mpredict(x_test_stem)\n",
            "\u001b[1;31mNameError\u001b[0m: name 'optimized_stem_DTC' is not defined"
          ]
        }
      ],
      "source": [
        "# Hasil terbaik\n",
        "print(f\"Best parameters for TF IDF Logistic Regression: {tf_idf_LR_random_search.best_params_}\")\n",
        "print(f\"Best parameters for Stemming and Stopwords Logistic Regression: {stem_LR_random_search.best_params_}\")\n",
        "print(f\"Best parameters for Stemming, Stopwords, Class Balancing, and Standard Scaler Logistic Regression: {full_LR_random_search.best_params_}\")"
      ]
    },
    {
      "cell_type": "code",
      "execution_count": null,
      "metadata": {},
      "outputs": [],
      "source": [
        "print(f\"Best parameters for Stemming, Stopwords, Class Balancing, and Standard Scaler Logistic Regression: {full_LR_random_search.best_params_}\")"
      ]
    },
    {
      "cell_type": "markdown",
      "metadata": {
        "id": "czCzZ_e11WPJ"
      },
      "source": [
        "### Logistic Regression Model Setelah Optimisasi (GridSearchCV)"
      ]
    },
    {
      "cell_type": "code",
      "execution_count": null,
      "metadata": {
        "id": "qtYOq1onliDn"
      },
      "outputs": [],
      "source": [
        "# optimized_tf_idf_LR = LogisticRegression(C=10, penalty='l1', solver='saga', max_iter=1000)\n",
        "# optimized_stem_LR = LogisticRegression(C=10, penalty='l1', solver='saga', max_iter=1000)\n",
        "\n",
        "optimized_tf_idf_LR = tf_idf_LR_random_search.best_estimator_\n",
        "optimized_stem_LR = stem_LR_random_search.best_estimator_\n",
        "optimized_full_LR = full_LR_random_search.best_estimator_"
      ]
    },
    {
      "cell_type": "markdown",
      "metadata": {
        "id": "8ZCmcVvNm8VR"
      },
      "source": [
        "#### TF IDF"
      ]
    },
    {
      "cell_type": "code",
      "execution_count": null,
      "metadata": {
        "id": "Dq7v1A35mHYx"
      },
      "outputs": [],
      "source": [
        "optimized_tf_idf_train_pred_LR = optimized_tf_idf_LR.predict(x_train)\n",
        "optimized_tf_idf_test_pred_LR = optimized_tf_idf_LR.predict(x_test)"
      ]
    },
    {
      "cell_type": "code",
      "execution_count": null,
      "metadata": {
        "id": "ed4Af5O0mS-8"
      },
      "outputs": [],
      "source": [
        "optimized_tf_idf_train_score_LR = optimized_tf_idf_LR.score(x_train, y_train)\n",
        "optimized_tf_idf_test_score_LR = optimized_tf_idf_LR.score(x_test, y_test)"
      ]
    },
    {
      "cell_type": "code",
      "execution_count": null,
      "metadata": {
        "colab": {
          "base_uri": "https://localhost:8080/"
        },
        "id": "JQVkFyafmWyZ",
        "outputId": "9fc8ccd4-9ab5-4049-e9e4-31af6d5410cf"
      },
      "outputs": [
        {
          "name": "stdout",
          "output_type": "stream",
          "text": [
            "              precision    recall  f1-score   support\n",
            "\n",
            "           0       1.00      1.00      1.00     16436\n",
            "           1       1.00      1.00      1.00     14992\n",
            "\n",
            "    accuracy                           1.00     31428\n",
            "   macro avg       1.00      1.00      1.00     31428\n",
            "weighted avg       1.00      1.00      1.00     31428\n",
            "\n",
            "              precision    recall  f1-score   support\n",
            "\n",
            "           0       1.00      1.00      1.00      7045\n",
            "           1       1.00      1.00      1.00      6425\n",
            "\n",
            "    accuracy                           1.00     13470\n",
            "   macro avg       1.00      1.00      1.00     13470\n",
            "weighted avg       1.00      1.00      1.00     13470\n",
            "\n"
          ]
        }
      ],
      "source": [
        "print(classification_report(y_train, optimized_tf_idf_train_pred_LR))\n",
        "print(classification_report(y_test, optimized_tf_idf_test_pred_LR))"
      ]
    },
    {
      "cell_type": "code",
      "execution_count": null,
      "metadata": {
        "colab": {
          "base_uri": "https://localhost:8080/"
        },
        "id": "zSNl38XJwA1C",
        "outputId": "cf04a002-6df9-4c49-d729-dd5a637ae221"
      },
      "outputs": [
        {
          "name": "stdout",
          "output_type": "stream",
          "text": [
            "Optimized Logistic Regression TF IDF Train Score: 0.999649993636248\n",
            "Optimized Logistic Regression TF IDF Test Score: 0.9968819599109131\n"
          ]
        }
      ],
      "source": [
        "print(f\"Optimized Logistic Regression TF IDF Train Score: {optimized_tf_idf_train_score_LR}\")\n",
        "print(f\"Optimized Logistic Regression TF IDF Test Score: {optimized_tf_idf_test_score_LR}\")"
      ]
    },
    {
      "cell_type": "markdown",
      "metadata": {
        "id": "MLvBXgZsAV-J"
      },
      "source": []
    },
    {
      "cell_type": "markdown",
      "metadata": {
        "id": "t-aocH5rnECQ"
      },
      "source": [
        "#### TF IDF with Stemming and Stopwords"
      ]
    },
    {
      "cell_type": "code",
      "execution_count": null,
      "metadata": {
        "id": "Dm5nH0sBnGMp"
      },
      "outputs": [],
      "source": [
        "optimized_stem_train_pred_LR = optimized_stem_LR.predict(xs_train_stem)\n",
        "optimized_stem_test_pred_LR = optimized_stem_LR.predict(x_test_stem)"
      ]
    },
    {
      "cell_type": "code",
      "execution_count": null,
      "metadata": {
        "id": "DBoRVX9AAV-J"
      },
      "outputs": [],
      "source": [
        "optimized_stem_train_score_LR = optimized_stem_LR.score(x_train_stem, y_train_stem)\n",
        "optimized_stem_test_score_LR = optimized_stem_LR.score(x_test_stem, y_test_stem)"
      ]
    },
    {
      "cell_type": "code",
      "execution_count": null,
      "metadata": {
        "colab": {
          "base_uri": "https://localhost:8080/"
        },
        "id": "vIkHfNuSnLLi",
        "outputId": "e97d1659-b6c6-4b9e-c3cc-1f8546e696cc"
      },
      "outputs": [
        {
          "name": "stdout",
          "output_type": "stream",
          "text": [
            "              precision    recall  f1-score   support\n",
            "\n",
            "           0       1.00      1.00      1.00     16436\n",
            "           1       1.00      1.00      1.00     14992\n",
            "\n",
            "    accuracy                           1.00     31428\n",
            "   macro avg       1.00      1.00      1.00     31428\n",
            "weighted avg       1.00      1.00      1.00     31428\n",
            "\n",
            "              precision    recall  f1-score   support\n",
            "\n",
            "           0       1.00      1.00      1.00      7045\n",
            "           1       1.00      1.00      1.00      6425\n",
            "\n",
            "    accuracy                           1.00     13470\n",
            "   macro avg       1.00      1.00      1.00     13470\n",
            "weighted avg       1.00      1.00      1.00     13470\n",
            "\n"
          ]
        }
      ],
      "source": [
        "print(classification_report(y_train_stem, optimized_stem_train_pred_LR))\n",
        "print(classification_report(y_test_stem, optimized_stem_test_pred_LR))"
      ]
    },
    {
      "cell_type": "code",
      "execution_count": null,
      "metadata": {
        "id": "qGRZA-b2AV-K",
        "outputId": "a2870e84-12b0-4925-f447-df6754c13a83"
      },
      "outputs": [
        {
          "name": "stdout",
          "output_type": "stream",
          "text": [
            "Optimized Logistic Regression Stemming, Stopwords, TF IDF Train Score: 0.9998090874379534\n",
            "Optimized Logistic Regression Stemming, Stopwords, TF IDF Test Score: 0.9962880475129918\n"
          ]
        }
      ],
      "source": [
        "print(f\"Optimized Logistic Regression Stemming, Stopwords, TF IDF Train Score: {optimized_stem_train_score_LR}\")\n",
        "print(f\"Optimized Logistic Regression Stemming, Stopwords, TF IDF Test Score: {optimized_stem_test_score_LR}\")"
      ]
    },
    {
      "cell_type": "markdown",
      "metadata": {},
      "source": [
        "#### TF-IDF with Stemming, Stopwords, Class Balancing, and Standard Scaler"
      ]
    },
    {
      "cell_type": "code",
      "execution_count": null,
      "metadata": {},
      "outputs": [],
      "source": [
        "optimized_full_train_pred_LR = optimized_full_LR.predict(x_train_stem)\n",
        "optimized_full_test_pred_LR = optimized_full_LR.predict(x_test_stem)"
      ]
    },
    {
      "cell_type": "code",
      "execution_count": null,
      "metadata": {},
      "outputs": [],
      "source": [
        "optimized_full_train_score_LR = optimized_full_LR.score(x_train_stem, y_train_stem)\n",
        "optimized_full_test_score_LR = optimized_full_LR.score(x_test_stem, y_test_stem)\n"
      ]
    },
    {
      "cell_type": "code",
      "execution_count": null,
      "metadata": {},
      "outputs": [],
      "source": [
        "print(classification_report(y_train_stem, optimized_stem_train_pred_LR))\n",
        "print(classification_report(y_test_stem, optimized_stem_test_pred_LR))"
      ]
    },
    {
      "cell_type": "code",
      "execution_count": null,
      "metadata": {},
      "outputs": [],
      "source": [
        "\n",
        "print(f\"Optimized Logistic Regression Stemming, Stopwords, TF IDF, Class Balancing, and Standard Scaler Train Score: {optimized_full_train_score_LR}\")\n",
        "print(f\"Optimized Logistic Regression Stemming, Stopwords, TF IDF, Class Balancing, and Standard Scaler Test Score: {optimized_full_test_score_LR}\")"
      ]
    },
    {
      "cell_type": "markdown",
      "metadata": {
        "id": "wtK0uBG2zBbH"
      },
      "source": [
        "### Score Differential"
      ]
    },
    {
      "cell_type": "markdown",
      "metadata": {
        "id": "cVBaJxKVzRWE"
      },
      "source": [
        "#### TF IDF"
      ]
    },
    {
      "cell_type": "code",
      "execution_count": null,
      "metadata": {
        "colab": {
          "base_uri": "https://localhost:8080/"
        },
        "id": "u5FqLx52vUo6",
        "outputId": "baf84bc9-089f-49b2-f9bd-9bc00c62a211"
      },
      "outputs": [
        {
          "name": "stdout",
          "output_type": "stream",
          "text": [
            "Train vs Train Comparison for TF-IDF Logistic Regression:\n",
            "TF-IDF Train Score vs Optimized Train Score: 0.9928725976835943 vs 0.999649993636248\n",
            "\n",
            "Test vs Test Comparison for TF-IDF Logistic Regression:\n",
            "TF-IDF Test Score vs Optimized Test Score: 0.9882702301410542 vs 0.9968819599109131\n",
            "\n",
            "Percentage Differences:\n",
            "Percentage Difference (Train Score): TF-IDF vs Optimized: 0.68%\n",
            "Percentage Difference (Test Score): TF-IDF vs Optimized: 0.87%\n"
          ]
        }
      ],
      "source": [
        "# Train vs Train Comparison for TF-IDF Logistic Regression\n",
        "print(\"Train vs Train Comparison for TF-IDF Logistic Regression:\")\n",
        "print(f\"TF-IDF Train Score vs Optimized Train Score: {tf_idf_train_score_LR} vs {optimized_tf_idf_train_score_LR}\")\n",
        "print(\"\")\n",
        "\n",
        "# Test vs Test Comparison for TF-IDF Logistic Regression\n",
        "print(\"Test vs Test Comparison for TF-IDF Logistic Regression:\")\n",
        "print(f\"TF-IDF Test Score vs Optimized Test Score: {tf_idf_test_score_LR} vs {optimized_tf_idf_test_score_LR}\")\n",
        "print(\"\")\n",
        "\n",
        "# Percentage Differences\n",
        "print(\"Percentage Differences:\")\n",
        "print(f\"Percentage Difference (Train Score): TF-IDF vs Optimized: {((optimized_tf_idf_train_score_LR - tf_idf_train_score_LR) / tf_idf_train_score_LR) * 100:.2f}%\")\n",
        "print(f\"Percentage Difference (Test Score): TF-IDF vs Optimized: {((optimized_tf_idf_test_score_LR - tf_idf_test_score_LR) / tf_idf_test_score_LR) * 100:.2f}%\")\n"
      ]
    },
    {
      "cell_type": "markdown",
      "metadata": {
        "id": "uFnfm5nMzWAp"
      },
      "source": [
        "#### TF IDF with Stemming and Stopwords"
      ]
    },
    {
      "cell_type": "code",
      "execution_count": null,
      "metadata": {
        "colab": {
          "base_uri": "https://localhost:8080/"
        },
        "id": "2hrLXtJLzZln",
        "outputId": "285187dd-8ffd-4ce8-ba7e-d6b12885fb99"
      },
      "outputs": [
        {
          "name": "stdout",
          "output_type": "stream",
          "text": [
            "Train vs Train Comparison for Stemming, Stopwords, TF-IDF Logistic Regression:\n",
            "Stemming, Stopwords, TF-IDF Train Score vs Optimized Train Score: 0.9910907471044929 vs 0.9998090874379534\n",
            "\n",
            "Test vs Test Comparison for Stemming, Stopwords, TF-IDF Logistic Regression:\n",
            "Stemming, Stopwords, TF-IDF Test Score vs Optimized Test Score: 0.9862657757980697 vs 0.9962880475129918\n",
            "\n",
            "Percentage Differences:\n",
            "Percentage Difference (Train Score): Stemming, Stopwords, TF-IDF vs Optimized: 0.88%\n",
            "Percentage Difference (Test Score): Stemming, Stopwords, TF-IDF vs Optimized: 1.02%\n"
          ]
        }
      ],
      "source": [
        "# Train vs Train Comparison for Stemming, Stopwords, TF-IDF Logistic Regression\n",
        "print(\"Train vs Train Comparison for Stemming, Stopwords, TF-IDF Logistic Regression:\")\n",
        "print(f\"Stemming, Stopwords, TF-IDF Train Score vs Optimized Train Score: {stem_train_score_LR} vs {optimized_stem_train_score_LR}\")\n",
        "print(\"\")\n",
        "\n",
        "# Test vs Test Comparison for Stemming, Stopwords, TF-IDF Logistic Regression\n",
        "print(\"Test vs Test Comparison for Stemming, Stopwords, TF-IDF Logistic Regression:\")\n",
        "print(f\"Stemming, Stopwords, TF-IDF Test Score vs Optimized Test Score: {stem_test_score_LR} vs {optimized_stem_test_score_LR}\")\n",
        "print(\"\")\n",
        "\n",
        "# Percentage Differences\n",
        "print(\"Percentage Differences:\")\n",
        "print(f\"Percentage Difference (Train Score): Stemming, Stopwords, TF-IDF vs Optimized: {((optimized_stem_train_score_LR - stem_train_score_LR) / stem_train_score_LR) * 100:.2f}%\")\n",
        "print(f\"Percentage Difference (Test Score): Stemming, Stopwords, TF-IDF vs Optimized: {((optimized_stem_test_score_LR - stem_test_score_LR) / stem_test_score_LR) * 100:.2f}%\")\n"
      ]
    },
    {
      "cell_type": "markdown",
      "metadata": {},
      "source": [
        "#### Optimized Logistic Regression Stemming, Stopwords, TF IDF, Class Balancing, and Standard Scaler"
      ]
    },
    {
      "cell_type": "code",
      "execution_count": null,
      "metadata": {},
      "outputs": [],
      "source": [
        "# Train vs Train Comparison for Stemming, Stopwords, TF-IDF Logistic Regression\n",
        "print(\"Train vs Train Comparison for Stemming, Stopwords, TF IDF, Class Balancing, and Standard Scaler Logistic Regression:\")\n",
        "print(f\"Logistic Regression Stemming, Stopwords, TF IDF, Class Balancing, and Standard Scaler Train Score vs Optimized Train Score: {full_train_score_LR} vs {optimized_full_train_score_LR}\")\n",
        "print(\"\")\n",
        "\n",
        "# Test vs Test Comparison for Stemming, Stopwords, TF-IDF Logistic Regression\n",
        "print(\"Test vs Test Comparison for Stemming, Stopwords, TF IDF, Class Balancing, and Standard Scaler Logistic Regression:\")\n",
        "print(f\"Logistic Regression Stemming, Stopwords, TF IDF, Class Balancing, and Standard Scaler Test Score: {full_test_score_LR} vs {optimized_full_test_score_LR}\")\n",
        "print(\"\")\n",
        "\n",
        "# Percentage Differences\n",
        "print(\"Percentage Differences:\")\n",
        "print(f\"Percentage Difference (Train Score): Stemming, Stopwords, TF IDF, Class Balancing, and Standard Scaler vs Optimized: {((optimized_full_train_score_LR - full_train_score_LR) / full_train_score_LR) * 100:.2f}%\")\n",
        "print(f\"Percentage Difference (Test Score): Stemming, Stopwords, TF IDF, Class Balancing, and Standard Scaler vs Optimized: {((optimized_full_test_score_LR - full_test_score_LR) / full_test_score_LR) * 100:.2f}%\")\n"
      ]
    },
    {
      "cell_type": "markdown",
      "metadata": {
        "id": "YLAGccdfAV-K"
      },
      "source": [
        "#### Optimized Model Comparison"
      ]
    },
    {
      "cell_type": "code",
      "execution_count": null,
      "metadata": {
        "id": "bRQxXt4xAV-K",
        "outputId": "21565fa6-dc98-4cc4-a0c6-65a117f98540"
      },
      "outputs": [
        {
          "name": "stdout",
          "output_type": "stream",
          "text": [
            "Optimized Logistic Regression TF IDF Train Score: 0.9995545373552246\n",
            "Optimized Logistic Regression TF IDF Test Score: 0.9964365256124722\n",
            "Optimized Logistic Regression Stemming, Stopwords, TF IDF Train Score: 0.9995863561155658\n",
            "Optimized Logistic Regression Stemming, Stopwords, TF IDF Test Score: 0.9947290274684484\n",
            "\n",
            "Perbedaan skor antara 2 model pada train data: 3.1818760341195684e-05 = 0.00%\n",
            "Perbedaan skor antara 2 model pada pada test data: -0.0017074981440238224) = -0.17%\n"
          ]
        }
      ],
      "source": [
        "# Model 1: Optimized Logistic Regression TF IDF Scores\n",
        "print(\"Model 1 Scores:\")\n",
        "print(f\"Train Score: {optimized_tf_idf_train_score_LR}\")\n",
        "print(f\"Test Score: {optimized_tf_idf_test_score_LR}\")\n",
        "\n",
        "# Model 2: Optimized Logistic Regression Stemming, Stopwords, TF IDF Scores\n",
        "print(\"\\nModel 2 Scores:\")\n",
        "print(f\"Train Score: {optimized_stem_train_score_LR}\")\n",
        "print(f\"Test Score: {optimized_stem_test_score_LR}\")\n",
        "\n",
        "# Model 3: Optimized Stemming, Stopwords, TF IDF, Class Balancing, and Standard Scaler Scores\n",
        "print(\"\\nModel 3 Scores:\")\n",
        "print(f\"Train Score: {optimized_full_train_score_LR}\")\n",
        "print(f\"Test Score: {optimized_full_test_score_LR}\")\n",
        "\n",
        "print(\"\")\n",
        "\n",
        "# Percentage Differences between Model 1 and Model 2 on train and test data\n",
        "print(\"Percentage Differences between Model 1 and Model 2:\")\n",
        "train_score_diff_1_2 = optimized_tf_idf_train_score_LR - optimized_stem_train_score_LR\n",
        "test_score_diff_1_2 = optimized_tf_idf_test_score_LR - optimized_stem_test_score_LR\n",
        "train_score_percent_diff_1_2 = (train_score_diff_1_2 / optimized_tf_idf_train_score_LR) * 100\n",
        "test_score_percent_diff_1_2 = (test_score_diff_1_2 / optimized_tf_idf_test_score_LR) * 100\n",
        "print(f\"Train Data: {train_score_diff_1_2} = {train_score_percent_diff_1_2:.2f}%\")\n",
        "print(f\"Test Data: {test_score_diff_1_2} = {test_score_percent_diff_1_2:.2f}%\")\n",
        "\n",
        "# Percentage Differences between Model 1 and Model 3 on train and test data\n",
        "print(\"\\nPercentage Differences between Model 1 and Model 3:\")\n",
        "train_score_diff_1_3 = optimized_tf_idf_train_score_LR - optimized_full_train_score_LR\n",
        "test_score_diff_1_3 = optimized_tf_idf_test_score_LR - optimized_full_test_score_LR\n",
        "train_score_percent_diff_1_3 = (train_score_diff_1_3 / optimized_tf_idf_train_score_LR) * 100\n",
        "test_score_percent_diff_1_3 = (test_score_diff_1_3 / optimized_tf_idf_test_score_LR) * 100\n",
        "print(f\"Train Data: {train_score_diff_1_3} = {train_score_percent_diff_1_3:.2f}%\")\n",
        "print(f\"Test Data: {test_score_diff_1_3} = {test_score_percent_diff_1_3:.2f}%\")\n",
        "\n",
        "# Percentage Differences between Model 2 and Model 3 on train and test data\n",
        "print(\"\\nPercentage Differences between Model 2 and Model 3:\")\n",
        "train_score_diff_2_3 = optimized_stem_train_score_LR - optimized_full_train_score_LR\n",
        "test_score_diff_2_3 = optimized_stem_test_score_LR - optimized_full_test_score_LR\n",
        "train_score_percent_diff_2_3 = (train_score_diff_2_3 / optimized_stem_train_score_LR) * 100\n",
        "test_score_percent_diff_2_3 = (test_score_diff_2_3 / optimized_stem_test_score_LR) * 100\n",
        "print(f\"Train Data: {train_score_diff_2_3} = {train_score_percent_diff_2_3:.2f}%\")\n",
        "print(f\"Test Data: {test_score_diff_2_3} = {test_score_percent_diff_2_3:.2f}%\")\n"
      ]
    },
    {
      "cell_type": "markdown",
      "metadata": {
        "id": "qlFB3QMvhzil"
      },
      "source": [
        "## Pembuatan Model Decision Tree Classifier"
      ]
    },
    {
      "cell_type": "markdown",
      "metadata": {
        "id": "ZIdUtubD1bMV"
      },
      "source": [
        "### Model Decision Tree Classifier"
      ]
    },
    {
      "cell_type": "code",
      "execution_count": null,
      "metadata": {
        "id": "tLrzSup0iHvW"
      },
      "outputs": [],
      "source": [
        "tf_idf_DTC = Pipeline([\n",
        "    ('tfidf', TfidfVectorizer()),\n",
        "    ('dtc', DecisionTreeClassifier())\n",
        "])\n",
        "\n",
        "stem_DTC = Pipeline([\n",
        "    ('tfidf', TfidfVectorizer()),\n",
        "    ('dtc', DecisionTreeClassifier())\n",
        "])\n",
        "\n",
        "full_DTC = ImbPipeline([\n",
        "    ('tfidf', TfidfVectorizer()),\n",
        "    ('smote', SMOTE()),\n",
        "    ('dtc', DecisionTreeClassifier(class_weight='balanced'))\n",
        "])"
      ]
    },
    {
      "cell_type": "code",
      "execution_count": null,
      "metadata": {
        "colab": {
          "base_uri": "https://localhost:8080/",
          "height": 75
        },
        "id": "UrC1OwgGiLhD",
        "outputId": "e12a31c3-70c7-4743-fa29-41beadfd65ea"
      },
      "outputs": [
        {
          "data": {
            "text/html": [
              "<style>#sk-container-id-7 {color: black;}#sk-container-id-7 pre{padding: 0;}#sk-container-id-7 div.sk-toggleable {background-color: white;}#sk-container-id-7 label.sk-toggleable__label {cursor: pointer;display: block;width: 100%;margin-bottom: 0;padding: 0.3em;box-sizing: border-box;text-align: center;}#sk-container-id-7 label.sk-toggleable__label-arrow:before {content: \"▸\";float: left;margin-right: 0.25em;color: #696969;}#sk-container-id-7 label.sk-toggleable__label-arrow:hover:before {color: black;}#sk-container-id-7 div.sk-estimator:hover label.sk-toggleable__label-arrow:before {color: black;}#sk-container-id-7 div.sk-toggleable__content {max-height: 0;max-width: 0;overflow: hidden;text-align: left;background-color: #f0f8ff;}#sk-container-id-7 div.sk-toggleable__content pre {margin: 0.2em;color: black;border-radius: 0.25em;background-color: #f0f8ff;}#sk-container-id-7 input.sk-toggleable__control:checked~div.sk-toggleable__content {max-height: 200px;max-width: 100%;overflow: auto;}#sk-container-id-7 input.sk-toggleable__control:checked~label.sk-toggleable__label-arrow:before {content: \"▾\";}#sk-container-id-7 div.sk-estimator input.sk-toggleable__control:checked~label.sk-toggleable__label {background-color: #d4ebff;}#sk-container-id-7 div.sk-label input.sk-toggleable__control:checked~label.sk-toggleable__label {background-color: #d4ebff;}#sk-container-id-7 input.sk-hidden--visually {border: 0;clip: rect(1px 1px 1px 1px);clip: rect(1px, 1px, 1px, 1px);height: 1px;margin: -1px;overflow: hidden;padding: 0;position: absolute;width: 1px;}#sk-container-id-7 div.sk-estimator {font-family: monospace;background-color: #f0f8ff;border: 1px dotted black;border-radius: 0.25em;box-sizing: border-box;margin-bottom: 0.5em;}#sk-container-id-7 div.sk-estimator:hover {background-color: #d4ebff;}#sk-container-id-7 div.sk-parallel-item::after {content: \"\";width: 100%;border-bottom: 1px solid gray;flex-grow: 1;}#sk-container-id-7 div.sk-label:hover label.sk-toggleable__label {background-color: #d4ebff;}#sk-container-id-7 div.sk-serial::before {content: \"\";position: absolute;border-left: 1px solid gray;box-sizing: border-box;top: 0;bottom: 0;left: 50%;z-index: 0;}#sk-container-id-7 div.sk-serial {display: flex;flex-direction: column;align-items: center;background-color: white;padding-right: 0.2em;padding-left: 0.2em;position: relative;}#sk-container-id-7 div.sk-item {position: relative;z-index: 1;}#sk-container-id-7 div.sk-parallel {display: flex;align-items: stretch;justify-content: center;background-color: white;position: relative;}#sk-container-id-7 div.sk-item::before, #sk-container-id-7 div.sk-parallel-item::before {content: \"\";position: absolute;border-left: 1px solid gray;box-sizing: border-box;top: 0;bottom: 0;left: 50%;z-index: -1;}#sk-container-id-7 div.sk-parallel-item {display: flex;flex-direction: column;z-index: 1;position: relative;background-color: white;}#sk-container-id-7 div.sk-parallel-item:first-child::after {align-self: flex-end;width: 50%;}#sk-container-id-7 div.sk-parallel-item:last-child::after {align-self: flex-start;width: 50%;}#sk-container-id-7 div.sk-parallel-item:only-child::after {width: 0;}#sk-container-id-7 div.sk-dashed-wrapped {border: 1px dashed gray;margin: 0 0.4em 0.5em 0.4em;box-sizing: border-box;padding-bottom: 0.4em;background-color: white;}#sk-container-id-7 div.sk-label label {font-family: monospace;font-weight: bold;display: inline-block;line-height: 1.2em;}#sk-container-id-7 div.sk-label-container {text-align: center;}#sk-container-id-7 div.sk-container {/* jupyter's `normalize.less` sets `[hidden] { display: none; }` but bootstrap.min.css set `[hidden] { display: none !important; }` so we also need the `!important` here to be able to override the default hidden behavior on the sphinx rendered scikit-learn.org. See: https://github.com/scikit-learn/scikit-learn/issues/21755 */display: inline-block !important;position: relative;}#sk-container-id-7 div.sk-text-repr-fallback {display: none;}</style><div id=\"sk-container-id-7\" class=\"sk-top-container\"><div class=\"sk-text-repr-fallback\"><pre>Pipeline(steps=[(&#x27;tfidf&#x27;, TfidfVectorizer()), (&#x27;smote&#x27;, SMOTE()),\n",
              "                (&#x27;dtc&#x27;, DecisionTreeClassifier(class_weight=&#x27;balanced&#x27;))])</pre><b>In a Jupyter environment, please rerun this cell to show the HTML representation or trust the notebook. <br />On GitHub, the HTML representation is unable to render, please try loading this page with nbviewer.org.</b></div><div class=\"sk-container\" hidden><div class=\"sk-item sk-dashed-wrapped\"><div class=\"sk-label-container\"><div class=\"sk-label sk-toggleable\"><input class=\"sk-toggleable__control sk-hidden--visually\" id=\"sk-estimator-id-26\" type=\"checkbox\" ><label for=\"sk-estimator-id-26\" class=\"sk-toggleable__label sk-toggleable__label-arrow\">Pipeline</label><div class=\"sk-toggleable__content\"><pre>Pipeline(steps=[(&#x27;tfidf&#x27;, TfidfVectorizer()), (&#x27;smote&#x27;, SMOTE()),\n",
              "                (&#x27;dtc&#x27;, DecisionTreeClassifier(class_weight=&#x27;balanced&#x27;))])</pre></div></div></div><div class=\"sk-serial\"><div class=\"sk-item\"><div class=\"sk-estimator sk-toggleable\"><input class=\"sk-toggleable__control sk-hidden--visually\" id=\"sk-estimator-id-27\" type=\"checkbox\" ><label for=\"sk-estimator-id-27\" class=\"sk-toggleable__label sk-toggleable__label-arrow\">TfidfVectorizer</label><div class=\"sk-toggleable__content\"><pre>TfidfVectorizer()</pre></div></div></div><div class=\"sk-item\"><div class=\"sk-estimator sk-toggleable\"><input class=\"sk-toggleable__control sk-hidden--visually\" id=\"sk-estimator-id-28\" type=\"checkbox\" ><label for=\"sk-estimator-id-28\" class=\"sk-toggleable__label sk-toggleable__label-arrow\">SMOTE</label><div class=\"sk-toggleable__content\"><pre>SMOTE()</pre></div></div></div><div class=\"sk-item\"><div class=\"sk-estimator sk-toggleable\"><input class=\"sk-toggleable__control sk-hidden--visually\" id=\"sk-estimator-id-29\" type=\"checkbox\" ><label for=\"sk-estimator-id-29\" class=\"sk-toggleable__label sk-toggleable__label-arrow\">DecisionTreeClassifier</label><div class=\"sk-toggleable__content\"><pre>DecisionTreeClassifier(class_weight=&#x27;balanced&#x27;)</pre></div></div></div></div></div></div></div>"
            ],
            "text/plain": [
              "Pipeline(steps=[('tfidf', TfidfVectorizer()), ('smote', SMOTE()),\n",
              "                ('dtc', DecisionTreeClassifier(class_weight='balanced'))])"
            ]
          },
          "execution_count": 111,
          "metadata": {},
          "output_type": "execute_result"
        }
      ],
      "source": [
        "tf_idf_DTC.fit(x_train, y_train)\n",
        "stem_DTC.fit(x_train_stem, y_train_stem)\n",
        "full_DTC.fit(x_train_stem, y_train_stem)"
      ]
    },
    {
      "cell_type": "markdown",
      "metadata": {
        "id": "JcnEe9kFo-OA"
      },
      "source": [
        "### Model Evaluation"
      ]
    },
    {
      "cell_type": "markdown",
      "metadata": {
        "id": "qo8gasV6pgpe"
      },
      "source": [
        "#### TF IDF"
      ]
    },
    {
      "cell_type": "code",
      "execution_count": null,
      "metadata": {
        "id": "Df7vNGEoiTxb"
      },
      "outputs": [],
      "source": [
        "tf_idf_train_pred_DTC = tf_idf_DTC.predict(x_train)\n",
        "tf_idf_test_pred_DTC = tf_idf_DTC.predict(x_test)"
      ]
    },
    {
      "cell_type": "code",
      "execution_count": null,
      "metadata": {
        "id": "3FzuGzjvifj-"
      },
      "outputs": [],
      "source": [
        "tf_idf_train_score_DTC = tf_idf_DTC.score(x_train, y_train)\n",
        "tf_idf_test_score_DTC = tf_idf_DTC.score(x_test, y_test)"
      ]
    },
    {
      "cell_type": "code",
      "execution_count": null,
      "metadata": {
        "colab": {
          "base_uri": "https://localhost:8080/"
        },
        "id": "ej-3ZADYpK_C",
        "outputId": "0f1f7645-433c-4cd5-9368-05419fa0456d"
      },
      "outputs": [
        {
          "name": "stdout",
          "output_type": "stream",
          "text": [
            "              precision    recall  f1-score   support\n",
            "\n",
            "           0       1.00      1.00      1.00     16436\n",
            "           1       1.00      1.00      1.00     14992\n",
            "\n",
            "    accuracy                           1.00     31428\n",
            "   macro avg       1.00      1.00      1.00     31428\n",
            "weighted avg       1.00      1.00      1.00     31428\n",
            "\n",
            "              precision    recall  f1-score   support\n",
            "\n",
            "           0       1.00      1.00      1.00      7045\n",
            "           1       1.00      1.00      1.00      6425\n",
            "\n",
            "    accuracy                           1.00     13470\n",
            "   macro avg       1.00      1.00      1.00     13470\n",
            "weighted avg       1.00      1.00      1.00     13470\n",
            "\n"
          ]
        }
      ],
      "source": [
        "print(classification_report(y_train, tf_idf_train_pred_DTC))\n",
        "print(classification_report(y_test, tf_idf_test_pred_DTC))"
      ]
    },
    {
      "cell_type": "code",
      "execution_count": null,
      "metadata": {
        "id": "hqFLuu83AV-M",
        "outputId": "58aaa782-c562-48f3-a26a-e61e6889cf2f"
      },
      "outputs": [
        {
          "name": "stdout",
          "output_type": "stream",
          "text": [
            "Decision Tree Classifier TF IDF Train Score: 0.9999681812396589\n",
            "Decision Tree Classifier TF IDF Test Score: 0.9974758723088345\n"
          ]
        }
      ],
      "source": [
        "print(f\"Decision Tree Classifier TF IDF Train Score: {tf_idf_train_score_DTC}\")\n",
        "print(f\"Decision Tree Classifier TF IDF Test Score: {tf_idf_test_score_DTC}\")"
      ]
    },
    {
      "cell_type": "markdown",
      "metadata": {
        "id": "OBixrVFUpDGv"
      },
      "source": [
        "#### TF IDF with Stemming and Stopwords Score"
      ]
    },
    {
      "cell_type": "code",
      "execution_count": null,
      "metadata": {
        "id": "ZnqG1mKYpCzC"
      },
      "outputs": [],
      "source": [
        "stem_train_pred_DTC = stem_DTC.predict(x_train_stem)\n",
        "stem_test_pred_DTC = stem_DTC.predict(x_test_stem)"
      ]
    },
    {
      "cell_type": "code",
      "execution_count": null,
      "metadata": {
        "id": "g107vSCow0oU"
      },
      "outputs": [],
      "source": [
        "stem_train_score_DTC = stem_DTC.score(x_train_stem, y_train_stem)\n",
        "stem_test_score_DTC = stem_DTC.score(x_test_stem, y_test_stem)"
      ]
    },
    {
      "cell_type": "code",
      "execution_count": null,
      "metadata": {
        "colab": {
          "base_uri": "https://localhost:8080/"
        },
        "id": "7vyNZHHnoVMI",
        "outputId": "1e0a2ab6-b11f-46d6-ff72-47e42cba5400"
      },
      "outputs": [
        {
          "name": "stdout",
          "output_type": "stream",
          "text": [
            "              precision    recall  f1-score   support\n",
            "\n",
            "           0       1.00      1.00      1.00     16436\n",
            "           1       1.00      1.00      1.00     14992\n",
            "\n",
            "    accuracy                           1.00     31428\n",
            "   macro avg       1.00      1.00      1.00     31428\n",
            "weighted avg       1.00      1.00      1.00     31428\n",
            "\n",
            "              precision    recall  f1-score   support\n",
            "\n",
            "           0       1.00      1.00      1.00      7045\n",
            "           1       1.00      1.00      1.00      6425\n",
            "\n",
            "    accuracy                           1.00     13470\n",
            "   macro avg       1.00      1.00      1.00     13470\n",
            "weighted avg       1.00      1.00      1.00     13470\n",
            "\n"
          ]
        }
      ],
      "source": [
        "print(classification_report(y_train_stem, stem_train_pred_DTC))\n",
        "print(classification_report(y_test_stem, stem_test_pred_DTC))"
      ]
    },
    {
      "cell_type": "code",
      "execution_count": null,
      "metadata": {
        "id": "N8cj7CroAV-M",
        "outputId": "c9e93ea0-2196-49b4-cd88-94111440b6ab"
      },
      "outputs": [
        {
          "name": "stdout",
          "output_type": "stream",
          "text": [
            "Decision Tree Classifier Stemming, Stopwords, TF IDF Train Score: 0.9999681812396589\n",
            "Decision Tree Classifier Stemming, Stopwords, TF IDF Test Score: 0.9966592427616926\n"
          ]
        }
      ],
      "source": [
        "print(f\"Decision Tree Classifier Stemming, Stopwords, TF IDF Train Score: {stem_train_score_DTC}\")\n",
        "print(f\"Decision Tree Classifier Stemming, Stopwords, TF IDF Test Score: {stem_test_score_DTC}\")"
      ]
    },
    {
      "cell_type": "markdown",
      "metadata": {},
      "source": [
        "#### Decision Tree Classifier Stemming, Stopwords, TF IDF, Class Balancing, and Standard Scaler Score"
      ]
    },
    {
      "cell_type": "code",
      "execution_count": null,
      "metadata": {},
      "outputs": [],
      "source": [
        "full_train_pred_DTC = full_DTC.predict(x_train)\n",
        "full_test_pred_DTC = full_DTC.predict(x_test)"
      ]
    },
    {
      "cell_type": "code",
      "execution_count": null,
      "metadata": {},
      "outputs": [],
      "source": [
        "full_train_score_DTC = full_DTC.score(x_train_stem, y_train_stem)\n",
        "full_test_score_DTC = full_DTC.score(x_test_stem, y_test_stem)"
      ]
    },
    {
      "cell_type": "code",
      "execution_count": null,
      "metadata": {},
      "outputs": [
        {
          "name": "stdout",
          "output_type": "stream",
          "text": [
            "              precision    recall  f1-score   support\n",
            "\n",
            "           0       1.00      1.00      1.00     16436\n",
            "           1       1.00      1.00      1.00     14992\n",
            "\n",
            "    accuracy                           1.00     31428\n",
            "   macro avg       1.00      1.00      1.00     31428\n",
            "weighted avg       1.00      1.00      1.00     31428\n",
            "\n",
            "              precision    recall  f1-score   support\n",
            "\n",
            "           0       1.00      1.00      1.00      7045\n",
            "           1       1.00      1.00      1.00      6425\n",
            "\n",
            "    accuracy                           1.00     13470\n",
            "   macro avg       1.00      1.00      1.00     13470\n",
            "weighted avg       1.00      1.00      1.00     13470\n",
            "\n"
          ]
        }
      ],
      "source": [
        "print(classification_report(y_train_stem, stem_train_pred_DTC))\n",
        "print(classification_report(y_test_stem, stem_test_pred_DTC))"
      ]
    },
    {
      "cell_type": "code",
      "execution_count": null,
      "metadata": {},
      "outputs": [
        {
          "name": "stdout",
          "output_type": "stream",
          "text": [
            "Decision Tree Classifier Stemming, Stopwords, TF IDF, Class Balancing, and Standard Scaler Train Score: 0.9999681812396589\n",
            "Decision Tree Classifier Stemming, Stopwords, TF IDF, Class Balancing, and Standard Scaler Test Score: 0.997253155159614\n"
          ]
        }
      ],
      "source": [
        "\n",
        "print(f\"Decision Tree Classifier Stemming, Stopwords, TF IDF, Class Balancing, and Standard Scaler Train Score: {full_train_score_DTC}\")\n",
        "print(f\"Decision Tree Classifier Stemming, Stopwords, TF IDF, Class Balancing, and Standard Scaler Test Score: {full_test_score_DTC}\")"
      ]
    },
    {
      "cell_type": "markdown",
      "metadata": {},
      "source": [
        "#### Model Comparison"
      ]
    },
    {
      "cell_type": "code",
      "execution_count": null,
      "metadata": {},
      "outputs": [
        {
          "name": "stdout",
          "output_type": "stream",
          "text": [
            "Model 1: Decision Tree Classifier TF IDF Scores Scores:\n",
            "Train Score: 0.9999681812396589\n",
            "Test Score: 0.9974758723088345\n",
            "\n",
            "Model 2: Decision Tree Classifier Stemming, Stopwords, TF IDF Scores:\n",
            "Train Score: 0.9999681812396589\n",
            "Test Score: 0.9966592427616926\n",
            "\n",
            "Model 3: Stemming, Stopwords, TF IDF, Class Balancing, and Standard Scaler Scores:\n",
            "Train Score: 0.9999681812396589\n",
            "Test Score: 0.997253155159614\n",
            "\n",
            "Percentage Differences between Model 1 and Model 2:\n",
            "Train Data: 0.0 = 0.00%\n",
            "Test Data: 0.0008166295471419005 = 0.08%\n",
            "\n",
            "Percentage Differences between Model 1 and Model 3:\n",
            "Train Data: 0.0 = 0.00%\n",
            "Test Data: 0.00022271714922050823 = 0.02%\n",
            "\n",
            "Percentage Differences between Model 2 and Model 3:\n",
            "Train Data: 0.0 = 0.00%\n",
            "Test Data: -0.0005939123979213923 = -0.06%\n"
          ]
        },
        {
          "ename": "",
          "evalue": "",
          "output_type": "error",
          "traceback": [
            "\u001b[1;31mThe Kernel crashed while executing code in the current cell or a previous cell. \n",
            "\u001b[1;31mPlease review the code in the cell(s) to identify a possible cause of the failure. \n",
            "\u001b[1;31mClick <a href='https://aka.ms/vscodeJupyterKernelCrash'>here</a> for more info. \n",
            "\u001b[1;31mView Jupyter <a href='command:jupyter.viewOutput'>log</a> for further details."
          ]
        }
      ],
      "source": [
        "# Model 1: Decision Tree Classifier TF IDF Scores\n",
        "print(\"Model 1: Decision Tree Classifier TF IDF Scores Scores:\")\n",
        "print(f\"Train Score: {tf_idf_train_score_DTC}\")\n",
        "print(f\"Test Score: {tf_idf_test_score_DTC}\")\n",
        "\n",
        "# Model 2: Decision Tree Classifier Stemming, Stopwords, TF IDF Scores\n",
        "print(\"\\nModel 2: Decision Tree Classifier Stemming, Stopwords, TF IDF Scores:\")\n",
        "print(f\"Train Score: {stem_train_score_DTC}\")\n",
        "print(f\"Test Score: {stem_test_score_DTC}\")\n",
        "\n",
        "# Model 3: Stemming, Stopwords, TF IDF, Class Balancing, and Standard Scaler Scores\n",
        "print(\"\\nModel 3: Stemming, Stopwords, TF IDF, Class Balancing, and Standard Scaler Scores:\")\n",
        "print(f\"Train Score: {full_train_score_DTC}\")\n",
        "print(f\"Test Score: {full_test_score_DTC}\")\n",
        "\n",
        "print(\"\")\n",
        "\n",
        "# Percentage Differences between Model 1 and Model 2 on train and test data\n",
        "print(\"Percentage Differences between Model 1 and Model 2:\")\n",
        "train_score_diff_1_2 = tf_idf_train_score_DTC - stem_train_score_DTC\n",
        "test_score_diff_1_2 = tf_idf_test_score_DTC - stem_test_score_DTC\n",
        "train_score_percent_diff_1_2 = (train_score_diff_1_2 / tf_idf_train_score_DTC) * 100\n",
        "test_score_percent_diff_1_2 = (test_score_diff_1_2 / tf_idf_test_score_DTC) * 100\n",
        "print(f\"Train Data: {train_score_diff_1_2} = {train_score_percent_diff_1_2:.2f}%\")\n",
        "print(f\"Test Data: {test_score_diff_1_2} = {test_score_percent_diff_1_2:.2f}%\")\n",
        "\n",
        "# Percentage Differences between Model 1 and Model 3 on train and test data\n",
        "print(\"\\nPercentage Differences between Model 1 and Model 3:\")\n",
        "train_score_diff_1_3 = tf_idf_train_score_DTC - full_train_score_DTC\n",
        "test_score_diff_1_3 = tf_idf_test_score_DTC - full_test_score_DTC\n",
        "train_score_percent_diff_1_3 = (train_score_diff_1_3 / tf_idf_train_score_DTC) * 100\n",
        "test_score_percent_diff_1_3 = (test_score_diff_1_3 / tf_idf_test_score_DTC) * 100\n",
        "print(f\"Train Data: {train_score_diff_1_3} = {train_score_percent_diff_1_3:.2f}%\")\n",
        "print(f\"Test Data: {test_score_diff_1_3} = {test_score_percent_diff_1_3:.2f}%\")\n",
        "\n",
        "# Percentage Differences between Model 2 and Model 3 on train and test data\n",
        "print(\"\\nPercentage Differences between Model 2 and Model 3:\")\n",
        "train_score_diff_2_3 = stem_train_score_DTC - full_train_score_DTC\n",
        "test_score_diff_2_3 = stem_test_score_DTC - full_test_score_DTC\n",
        "train_score_percent_diff_2_3 = (train_score_diff_2_3 / stem_train_score_DTC) * 100\n",
        "test_score_percent_diff_2_3 = (test_score_diff_2_3 / stem_test_score_DTC) * 100\n",
        "print(f\"Train Data: {train_score_diff_2_3} = {train_score_percent_diff_2_3:.2f}%\")\n",
        "print(f\"Test Data: {test_score_diff_2_3} = {test_score_percent_diff_2_3:.2f}%\")\n"
      ]
    },
    {
      "cell_type": "markdown",
      "metadata": {
        "id": "TDqSsVE-l8SW"
      },
      "source": [
        "### Decision Tree Classifier Hyperparameter Optimization"
      ]
    },
    {
      "cell_type": "code",
      "execution_count": null,
      "metadata": {
        "id": "9weIrPfbAV-M",
        "outputId": "1bddd2c0-2bdf-43ac-d8ea-9c2acdf137ff"
      },
      "outputs": [],
      "source": [
        "# Definisikan parameter grid\n",
        "param_grid_DTC = {\n",
        "    'dtc__max_depth': [None, 5, 10, 20, 30, 40, 50],\n",
        "    'dtc__min_samples_split': [2, 5, 10, 15, 20, 25, 30],\n",
        "    'dtc__min_samples_leaf': [1, 2, 3, 4, 5, 6, 7]\n",
        "}\n"
      ]
    },
    {
      "cell_type": "code",
      "execution_count": null,
      "metadata": {},
      "outputs": [],
      "source": [
        "# Definisikan GridSearchCV\n",
        "tf_idf_grid_search_DTC = GridSearchCV(estimator=tf_idf_DTC, param_grid=param_grid_DTC, cv=5, scoring='accuracy', n_jobs=4)\n",
        "\n",
        "# Fit model\n",
        "tf_idf_grid_search_DTC.fit(x_train, y_train)"
      ]
    },
    {
      "cell_type": "code",
      "execution_count": null,
      "metadata": {
        "id": "Jo6B7g51AV-N",
        "outputId": "b48c6c77-da0e-4e47-b31a-decd483e60b6"
      },
      "outputs": [
        {
          "data": {
            "text/html": [
              "<style>#sk-container-id-3 {color: black;}#sk-container-id-3 pre{padding: 0;}#sk-container-id-3 div.sk-toggleable {background-color: white;}#sk-container-id-3 label.sk-toggleable__label {cursor: pointer;display: block;width: 100%;margin-bottom: 0;padding: 0.3em;box-sizing: border-box;text-align: center;}#sk-container-id-3 label.sk-toggleable__label-arrow:before {content: \"▸\";float: left;margin-right: 0.25em;color: #696969;}#sk-container-id-3 label.sk-toggleable__label-arrow:hover:before {color: black;}#sk-container-id-3 div.sk-estimator:hover label.sk-toggleable__label-arrow:before {color: black;}#sk-container-id-3 div.sk-toggleable__content {max-height: 0;max-width: 0;overflow: hidden;text-align: left;background-color: #f0f8ff;}#sk-container-id-3 div.sk-toggleable__content pre {margin: 0.2em;color: black;border-radius: 0.25em;background-color: #f0f8ff;}#sk-container-id-3 input.sk-toggleable__control:checked~div.sk-toggleable__content {max-height: 200px;max-width: 100%;overflow: auto;}#sk-container-id-3 input.sk-toggleable__control:checked~label.sk-toggleable__label-arrow:before {content: \"▾\";}#sk-container-id-3 div.sk-estimator input.sk-toggleable__control:checked~label.sk-toggleable__label {background-color: #d4ebff;}#sk-container-id-3 div.sk-label input.sk-toggleable__control:checked~label.sk-toggleable__label {background-color: #d4ebff;}#sk-container-id-3 input.sk-hidden--visually {border: 0;clip: rect(1px 1px 1px 1px);clip: rect(1px, 1px, 1px, 1px);height: 1px;margin: -1px;overflow: hidden;padding: 0;position: absolute;width: 1px;}#sk-container-id-3 div.sk-estimator {font-family: monospace;background-color: #f0f8ff;border: 1px dotted black;border-radius: 0.25em;box-sizing: border-box;margin-bottom: 0.5em;}#sk-container-id-3 div.sk-estimator:hover {background-color: #d4ebff;}#sk-container-id-3 div.sk-parallel-item::after {content: \"\";width: 100%;border-bottom: 1px solid gray;flex-grow: 1;}#sk-container-id-3 div.sk-label:hover label.sk-toggleable__label {background-color: #d4ebff;}#sk-container-id-3 div.sk-serial::before {content: \"\";position: absolute;border-left: 1px solid gray;box-sizing: border-box;top: 0;bottom: 0;left: 50%;z-index: 0;}#sk-container-id-3 div.sk-serial {display: flex;flex-direction: column;align-items: center;background-color: white;padding-right: 0.2em;padding-left: 0.2em;position: relative;}#sk-container-id-3 div.sk-item {position: relative;z-index: 1;}#sk-container-id-3 div.sk-parallel {display: flex;align-items: stretch;justify-content: center;background-color: white;position: relative;}#sk-container-id-3 div.sk-item::before, #sk-container-id-3 div.sk-parallel-item::before {content: \"\";position: absolute;border-left: 1px solid gray;box-sizing: border-box;top: 0;bottom: 0;left: 50%;z-index: -1;}#sk-container-id-3 div.sk-parallel-item {display: flex;flex-direction: column;z-index: 1;position: relative;background-color: white;}#sk-container-id-3 div.sk-parallel-item:first-child::after {align-self: flex-end;width: 50%;}#sk-container-id-3 div.sk-parallel-item:last-child::after {align-self: flex-start;width: 50%;}#sk-container-id-3 div.sk-parallel-item:only-child::after {width: 0;}#sk-container-id-3 div.sk-dashed-wrapped {border: 1px dashed gray;margin: 0 0.4em 0.5em 0.4em;box-sizing: border-box;padding-bottom: 0.4em;background-color: white;}#sk-container-id-3 div.sk-label label {font-family: monospace;font-weight: bold;display: inline-block;line-height: 1.2em;}#sk-container-id-3 div.sk-label-container {text-align: center;}#sk-container-id-3 div.sk-container {/* jupyter's `normalize.less` sets `[hidden] { display: none; }` but bootstrap.min.css set `[hidden] { display: none !important; }` so we also need the `!important` here to be able to override the default hidden behavior on the sphinx rendered scikit-learn.org. See: https://github.com/scikit-learn/scikit-learn/issues/21755 */display: inline-block !important;position: relative;}#sk-container-id-3 div.sk-text-repr-fallback {display: none;}</style><div id=\"sk-container-id-3\" class=\"sk-top-container\"><div class=\"sk-text-repr-fallback\"><pre>GridSearchCV(cv=5, estimator=DecisionTreeClassifier(), n_jobs=-1,\n",
              "             param_grid={&#x27;max_depth&#x27;: [None, 10, 20, 30],\n",
              "                         &#x27;min_samples_leaf&#x27;: [1, 2, 4],\n",
              "                         &#x27;min_samples_split&#x27;: [2, 5, 10]},\n",
              "             scoring=&#x27;accuracy&#x27;)</pre><b>In a Jupyter environment, please rerun this cell to show the HTML representation or trust the notebook. <br />On GitHub, the HTML representation is unable to render, please try loading this page with nbviewer.org.</b></div><div class=\"sk-container\" hidden><div class=\"sk-item sk-dashed-wrapped\"><div class=\"sk-label-container\"><div class=\"sk-label sk-toggleable\"><input class=\"sk-toggleable__control sk-hidden--visually\" id=\"sk-estimator-id-5\" type=\"checkbox\" ><label for=\"sk-estimator-id-5\" class=\"sk-toggleable__label sk-toggleable__label-arrow\">GridSearchCV</label><div class=\"sk-toggleable__content\"><pre>GridSearchCV(cv=5, estimator=DecisionTreeClassifier(), n_jobs=-1,\n",
              "             param_grid={&#x27;max_depth&#x27;: [None, 10, 20, 30],\n",
              "                         &#x27;min_samples_leaf&#x27;: [1, 2, 4],\n",
              "                         &#x27;min_samples_split&#x27;: [2, 5, 10]},\n",
              "             scoring=&#x27;accuracy&#x27;)</pre></div></div></div><div class=\"sk-parallel\"><div class=\"sk-parallel-item\"><div class=\"sk-item\"><div class=\"sk-label-container\"><div class=\"sk-label sk-toggleable\"><input class=\"sk-toggleable__control sk-hidden--visually\" id=\"sk-estimator-id-6\" type=\"checkbox\" ><label for=\"sk-estimator-id-6\" class=\"sk-toggleable__label sk-toggleable__label-arrow\">estimator: DecisionTreeClassifier</label><div class=\"sk-toggleable__content\"><pre>DecisionTreeClassifier()</pre></div></div></div><div class=\"sk-serial\"><div class=\"sk-item\"><div class=\"sk-estimator sk-toggleable\"><input class=\"sk-toggleable__control sk-hidden--visually\" id=\"sk-estimator-id-7\" type=\"checkbox\" ><label for=\"sk-estimator-id-7\" class=\"sk-toggleable__label sk-toggleable__label-arrow\">DecisionTreeClassifier</label><div class=\"sk-toggleable__content\"><pre>DecisionTreeClassifier()</pre></div></div></div></div></div></div></div></div></div></div>"
            ],
            "text/plain": [
              "GridSearchCV(cv=5, estimator=DecisionTreeClassifier(), n_jobs=-1,\n",
              "             param_grid={'max_depth': [None, 10, 20, 30],\n",
              "                         'min_samples_leaf': [1, 2, 4],\n",
              "                         'min_samples_split': [2, 5, 10]},\n",
              "             scoring='accuracy')"
            ]
          },
          "execution_count": 41,
          "metadata": {},
          "output_type": "execute_result"
        }
      ],
      "source": [
        "# Definisikan GridSearchCV\n",
        "stem_grid_search_DTC = GridSearchCV(estimator=stem_DTC, param_grid=param_grid_DTC, cv=5, scoring='accuracy', n_jobs=4)\n",
        "\n",
        "# Fit model\n",
        "stem_grid_search_DTC.fit(x_train_stem, y_train_stem)"
      ]
    },
    {
      "cell_type": "code",
      "execution_count": null,
      "metadata": {},
      "outputs": [],
      "source": [
        "print(f\"Best parameters for TF IDF Decision Tree Classifier: {tf_idf_grid_search_DTC.best_params_}\")\n",
        "print(f\"Best parameters for Stem and Stopwords Decision Tree Classifier: {stem_grid_search_DTC.best_params_}\")"
      ]
    },
    {
      "cell_type": "code",
      "execution_count": null,
      "metadata": {},
      "outputs": [],
      "source": [
        "# Definisikan GridSearchCV\n",
        "full_grid_search_DTC = GridSearchCV(estimator=full_DTC, param_grid=param_grid_DTC, cv=5, scoring='accuracy', n_jobs=4)\n",
        "\n",
        "# Fit model\n",
        "full_grid_search_DTC.fit(x_train_stem, y_train_stem)"
      ]
    },
    {
      "cell_type": "code",
      "execution_count": null,
      "metadata": {
        "id": "CGIiHdcCgKvi",
        "outputId": "4e6177ae-46c0-4a06-8da5-4365c588669c"
      },
      "outputs": [],
      "source": [
        "print(f\"Best parameters for TF IDF Decision Tree Classifier: {tf_idf_grid_search_DTC.best_params_}\")\n",
        "print(f\"Best parameters for Stem and Stopwords Decision Tree Classifier: {stem_grid_search_DTC.best_params_}\")\n",
        "print(f\"Best parameters for Decision Tree Classifier Stemming, Stopwords, TF IDF, Class Balancing, and Standard Scaler: {full_grid_search_DTC.best_params_}\")"
      ]
    },
    {
      "cell_type": "markdown",
      "metadata": {
        "id": "FeO4MqHG1f8i"
      },
      "source": [
        "### Decision Tree Clasifier Model Setelah Optimisasi"
      ]
    },
    {
      "cell_type": "code",
      "execution_count": null,
      "metadata": {
        "id": "MRBhN-HNqXu_"
      },
      "outputs": [],
      "source": [
        "# optimized_tf_idf_DTC = DecisionTreeClassifier(max_depth=None, min_samples_leaf=1, min_samples_split=2)\n",
        "# optimized_stem_DTC = DecisionTreeClassifier(max_depth=None, min_samples_leaf=1, min_samples_split=2)\n",
        "\n",
        "optimized_tf_idf_DTC = tf_idf_grid_search_DTC.best_estimator_\n",
        "optimized_stem_DTC = stem_grid_search_DTC.best_estimator_\n",
        "optimized_full_DTC = full_grid_search_DTC.best_estimator_"
      ]
    },
    {
      "cell_type": "markdown",
      "metadata": {
        "id": "CW0smpDdp4yA"
      },
      "source": [
        "#### TF IDF"
      ]
    },
    {
      "cell_type": "code",
      "execution_count": null,
      "metadata": {
        "id": "F7gI1FN7qc_9"
      },
      "outputs": [],
      "source": [
        "optimized_tf_idf_train_pred_DTC = optimized_tf_idf_DTC.predict(x_train)\n",
        "optimized_tf_idf_test_pred_DTC = optimized_tf_idf_DTC.predict(x_test)"
      ]
    },
    {
      "cell_type": "code",
      "execution_count": null,
      "metadata": {
        "id": "GsTixpCbp5Lj"
      },
      "outputs": [],
      "source": [
        "optimized_tf_idf_train_score_DTC = optimized_tf_idf_DTC.score(x_train, y_train)"
      ]
    },
    {
      "cell_type": "code",
      "execution_count": null,
      "metadata": {
        "id": "p7J5rVMQqadp"
      },
      "outputs": [],
      "source": [
        "optimized_tf_idf_test_score_DTC = optimized_tf_idf_DTC.score(x_test, y_test)"
      ]
    },
    {
      "cell_type": "code",
      "execution_count": null,
      "metadata": {
        "colab": {
          "base_uri": "https://localhost:8080/"
        },
        "id": "5pqEaBL3qT20",
        "outputId": "51e9d3e9-4c38-46d6-df7e-048545158a1c"
      },
      "outputs": [
        {
          "name": "stdout",
          "output_type": "stream",
          "text": [
            "              precision    recall  f1-score   support\n",
            "\n",
            "           0       0.99      0.99      0.99     16464\n",
            "           1       0.99      0.99      0.99     14964\n",
            "\n",
            "    accuracy                           0.99     31428\n",
            "   macro avg       0.99      0.99      0.99     31428\n",
            "weighted avg       0.99      0.99      0.99     31428\n",
            "\n",
            "              precision    recall  f1-score   support\n",
            "\n",
            "           0       0.99      0.98      0.99      7017\n",
            "           1       0.98      0.99      0.99      6453\n",
            "\n",
            "    accuracy                           0.99     13470\n",
            "   macro avg       0.99      0.99      0.99     13470\n",
            "weighted avg       0.99      0.99      0.99     13470\n",
            "\n"
          ]
        }
      ],
      "source": [
        "print(classification_report(y_train, tf_idf_train_pred_lr))\n",
        "print(classification_report(y_test, tf_idf_test_pred_lr))"
      ]
    },
    {
      "cell_type": "code",
      "execution_count": null,
      "metadata": {
        "id": "Y_a5R7QGAV-O",
        "outputId": "d1535484-d0a0-4756-deeb-a8801448201c"
      },
      "outputs": [
        {
          "name": "stdout",
          "output_type": "stream",
          "text": [
            "Optimized Decision Tree Classifier TF IDF Train Score: 0.9999681812396589\n",
            "Optimized Decision Tree Classifier TF IDF Test Score: 0.9966592427616926\n"
          ]
        }
      ],
      "source": [
        "print(f\"Optimized Decision Tree Classifier TF IDF Train Score: {optimized_tf_idf_train_score_DTC}\")\n",
        "print(f\"Optimized Decision Tree Classifier TF IDF Test Score: {optimized_tf_idf_test_score_DTC}\")"
      ]
    },
    {
      "cell_type": "markdown",
      "metadata": {
        "id": "jLLLhv7Zp_rL"
      },
      "source": [
        "#### TF IDF With Stemming & Stopwords"
      ]
    },
    {
      "cell_type": "code",
      "execution_count": null,
      "metadata": {
        "id": "MLu0qEVsp_S4"
      },
      "outputs": [],
      "source": [
        "optimized_stem_train_pred_DTC = optimized_stem_DTC.predict(x_train_stem)\n",
        "optimized_stem_test_pred_DTC = optimized_stem_DTC.predict(x_test_stem)"
      ]
    },
    {
      "cell_type": "code",
      "execution_count": null,
      "metadata": {
        "id": "PeCO2nFDscDs"
      },
      "outputs": [],
      "source": [
        "optimized_stem_train_score_DTC = optimized_stem_DTC.score(x_train_stem, y_train_stem)"
      ]
    },
    {
      "cell_type": "code",
      "execution_count": null,
      "metadata": {
        "id": "xEIZzIe_sczX"
      },
      "outputs": [],
      "source": [
        "optimized_stem_test_score_DTC = optimized_stem_DTC.score(x_test_stem, y_test_stem)"
      ]
    },
    {
      "cell_type": "code",
      "execution_count": null,
      "metadata": {
        "colab": {
          "base_uri": "https://localhost:8080/"
        },
        "id": "G16wTG5YscvG",
        "outputId": "b526857a-668f-48e5-b519-a0d9da969e0b"
      },
      "outputs": [
        {
          "name": "stdout",
          "output_type": "stream",
          "text": [
            "              precision    recall  f1-score   support\n",
            "\n",
            "           0       1.00      1.00      1.00     16464\n",
            "           1       1.00      1.00      1.00     14964\n",
            "\n",
            "    accuracy                           1.00     31428\n",
            "   macro avg       1.00      1.00      1.00     31428\n",
            "weighted avg       1.00      1.00      1.00     31428\n",
            "\n",
            "              precision    recall  f1-score   support\n",
            "\n",
            "           0       1.00      1.00      1.00      7017\n",
            "           1       1.00      1.00      1.00      6453\n",
            "\n",
            "    accuracy                           1.00     13470\n",
            "   macro avg       1.00      1.00      1.00     13470\n",
            "weighted avg       1.00      1.00      1.00     13470\n",
            "\n"
          ]
        }
      ],
      "source": [
        "print(classification_report(y_train_stem, optimized_stem_train_pred_DTC))\n",
        "print(classification_report(y_test_stem, optimized_stem_test_pred_DTC))"
      ]
    },
    {
      "cell_type": "code",
      "execution_count": null,
      "metadata": {
        "id": "iEYqT-3OAV-P",
        "outputId": "c7b59d26-78c8-472e-b6d4-09ac988e6d1f"
      },
      "outputs": [
        {
          "name": "stdout",
          "output_type": "stream",
          "text": [
            "Optimized Decision Tree Classifier Stemming, Stopwords, TF IDF Train Score: 0.9999681812396589\n",
            "Optimized Decision Tree Classifier Stemming, Stopwords, TF IDF Test Score: 0.996807720861173\n"
          ]
        }
      ],
      "source": [
        "print(f\"Optimized Decision Tree Classifier Stemming, Stopwords, TF IDF Train Score: {optimized_stem_train_score_DTC}\")\n",
        "print(f\"Optimized Decision Tree Classifier Stemming, Stopwords, TF IDF Test Score: {optimized_stem_test_score_DTC}\")"
      ]
    },
    {
      "cell_type": "markdown",
      "metadata": {},
      "source": [
        "#### TF IDF with Stemming and Stopwords "
      ]
    },
    {
      "cell_type": "code",
      "execution_count": null,
      "metadata": {},
      "outputs": [],
      "source": [
        "optimized_full_train_pred_DTC = optimized_full_DTC.predict(x_train_stem)\n",
        "optimized_full_test_pred_DTC = optimized_full_DTC.predict(x_test_stem)"
      ]
    },
    {
      "cell_type": "code",
      "execution_count": null,
      "metadata": {},
      "outputs": [],
      "source": [
        "optimized_full_train_score_DTC = optimized_full_DTC.score(x_train_stem, y_train_stem)"
      ]
    },
    {
      "cell_type": "code",
      "execution_count": null,
      "metadata": {},
      "outputs": [],
      "source": [
        "optimized_full_test_score_DTC = optimized_full_DTC.score(x_test_stem, y_test_stem)"
      ]
    },
    {
      "cell_type": "code",
      "execution_count": null,
      "metadata": {},
      "outputs": [],
      "source": [
        "print(classification_report(y_train_stem, optimized_full_train_pred_DTC))\n",
        "print(classification_report(y_test_stem, optimized_full_test_pred_DTC))"
      ]
    },
    {
      "cell_type": "code",
      "execution_count": null,
      "metadata": {},
      "outputs": [],
      "source": [
        "\n",
        "print(f\"Optimized Decision Tree Classifier Stemming, Stopwords, TF IDF, Class Balancing, and Standard Scaler Train Score: {optimized_full_train_score_DTC}\")\n",
        "print(f\"Optimized Decision Tree Classifier Stemming, Stopwords, TF IDF, Class Balancing, and Standard Scaler Test Score: {optimized_full_test_score_DTC}\")"
      ]
    },
    {
      "cell_type": "markdown",
      "metadata": {
        "id": "PkW8FQW-1KC5"
      },
      "source": [
        "### Score Differential"
      ]
    },
    {
      "cell_type": "markdown",
      "metadata": {
        "id": "DnoiS0Tq1PmR"
      },
      "source": [
        "#### TF IDF"
      ]
    },
    {
      "cell_type": "code",
      "execution_count": null,
      "metadata": {
        "colab": {
          "base_uri": "https://localhost:8080/"
        },
        "id": "m6l67E0e1Nmn",
        "outputId": "43c6b297-7723-4b30-edf4-c1a89cb22ced"
      },
      "outputs": [
        {
          "name": "stdout",
          "output_type": "stream",
          "text": [
            "Decision Tree Classifier TF IDF Train Score: 0.9999681812396589\n",
            "Decision Tree Classifier TF IDF Test Score: 0.9962138084632517\n",
            "Optimized Decision Tree Classifier TF IDF Train Score: 0.9999681812396589\n",
            "Optimized Decision Tree Classifier TF IDF Test Score: 0.9966592427616926\n",
            "\n",
            "Perbedaan skor model setelah optimisasi pada train data: 0.0 = 0.00%\n",
            "Perbedaan skor model setelah optimisasi pada test data: 0.00044543429844090543) = 0.04%\n"
          ]
        }
      ],
      "source": [
        "# Train vs Train Comparison for TF-IDF Logistic Regression\n",
        "print(\"Train vs Train Comparison for TF-IDF Logistic Regression:\")\n",
        "print(f\"TF-IDF Train Score vs Optimized Train Score: {tf_idf_train_score_DTC} vs {optimized_tf_idf_train_score_DTC}\")\n",
        "print(\"\")\n",
        "\n",
        "# Test vs Test Comparison for TF-IDF Logistic Regression\n",
        "print(\"Test vs Test Comparison for TF-IDF Logistic Regression:\")\n",
        "print(f\"TF-IDF Test Score vs Optimized Test Score: {tf_idf_test_score_DTC} vs {optimized_tf_idf_test_score_DTC}\")\n",
        "print(\"\")\n",
        "\n",
        "# Percentage Differences\n",
        "print(\"Percentage Differences:\")\n",
        "print(f\"Percentage Difference (Train Score): TF-IDF vs Optimized: {((optimized_tf_idf_train_score_DTC - tf_idf_train_score_DTC) / tf_idf_train_score_DTC) * 100:.2f}%\")\n",
        "print(f\"Percentage Difference (Test Score): TF-IDF vs Optimized: {((optimized_tf_idf_test_score_DTC - tf_idf_test_score_DTC) / tf_idf_test_score_DTC) * 100:.2f}%\")\n"
      ]
    },
    {
      "cell_type": "markdown",
      "metadata": {
        "id": "YGwbjIKA1SCW"
      },
      "source": [
        "#### TF IDF With Stemming & Stopwords"
      ]
    },
    {
      "cell_type": "code",
      "execution_count": null,
      "metadata": {
        "id": "dKvCBE4V1e8j",
        "outputId": "765e1c48-25ea-437a-dfee-d8b681db3400"
      },
      "outputs": [
        {
          "name": "stdout",
          "output_type": "stream",
          "text": [
            "Logistic Regression Stemming, Stopwords, TF IDF Train Score: 0.9999681812396589\n",
            "Logistic Regression Stemming, Stopwords, TF IDF Test Score: 0.9965850037119525\n",
            "Optimized Logistic Regression Stemming, Stopwords, TF IDF Train Score: 0.9999681812396589\n",
            "Optimized Logistic Regression Stemming, Stopwords, TF IDF Test Score: 0.996807720861173\n",
            "\n",
            "Perbedaan skor model setelah optimisasi pada train data: 0.0 = 0.00%\n",
            "Perbedaan skor model setelah optimisasi pada test data: 0.00022271714922050823) = 0.02%\n"
          ]
        }
      ],
      "source": [
        "# Train vs Train Comparison for Stemming, Stopwords, TF-IDF Logistic Regression\n",
        "print(\"Train vs Train Comparison for Stemming, Stopwords, TF-IDF Logistic Regression:\")\n",
        "print(f\"Stemming, Stopwords, TF-IDF Train Score vs Optimized Train Score: {stem_train_score_DTC} vs {optimized_stem_train_score_DTC}\")\n",
        "print(\"\")\n",
        "\n",
        "# Test vs Test Comparison for Stemming, Stopwords, TF-IDF Logistic Regression\n",
        "print(\"Test vs Test Comparison for Stemming, Stopwords, TF-IDF Logistic Regression:\")\n",
        "print(f\"Stemming, Stopwords, TF-IDF Test Score vs Optimized Test Score: {stem_test_score_DTC} vs {optimized_stem_test_score_DTC}\")\n",
        "print(\"\")\n",
        "\n",
        "# Percentage Differences\n",
        "print(\"Percentage Differences:\")\n",
        "print(f\"Percentage Difference (Train Score): Stemming, Stopwords, TF-IDF vs Optimized: {((optimized_stem_train_score_DTC - stem_train_score_DTC) / stem_train_score_DTC) * 100:.2f}%\")\n",
        "print(f\"Percentage Difference (Test Score): Stemming, Stopwords, TF-IDF vs Optimized: {((optimized_stem_test_score_DTC - stem_test_score_DTC) / stem_test_score_DTC) * 100:.2f}%\")\n"
      ]
    },
    {
      "cell_type": "markdown",
      "metadata": {},
      "source": [
        "#### Optimized Decision Tree Classifier Stemming, Stopwords, TF IDF, Class Balancing, and Standard Scaler"
      ]
    },
    {
      "cell_type": "code",
      "execution_count": null,
      "metadata": {},
      "outputs": [],
      "source": [
        "# Train vs Train Comparison for Stemming, Stopwords, TF-IDF Logistic Regression\n",
        "print(\"Train vs Train Comparison for Stemming, Stopwords, TF IDF, Class Balancing, and Standard Scaler Logistic Regression:\")\n",
        "print(f\"Logistic Regression Stemming, Stopwords, TF IDF, Class Balancing, and Standard Scaler Train Score vs Optimized Train Score: {full_train_score_DTC} vs {optimized_full_train_score_DTC}\")\n",
        "print(\"\")\n",
        "\n",
        "# Test vs Test Comparison for Stemming, Stopwords, TF-IDF Logistic Regression\n",
        "print(\"Test vs Test Comparison for Stemming, Stopwords, TF IDF, Class Balancing, and Standard Scaler Logistic Regression:\")\n",
        "print(f\"Logistic Regression Stemming, Stopwords, TF IDF, Class Balancing, and Standard Scaler Test Score: {full_test_score_DTC} vs {optimized_full_test_score_DTC}\")\n",
        "print(\"\")\n",
        "\n",
        "# Percentage Differences\n",
        "print(\"Percentage Differences:\")\n",
        "print(f\"Percentage Difference (Train Score): Stemming, Stopwords, TF IDF, Class Balancing, and Standard Scaler vs Optimized: {((optimized_full_train_score_DTC - full_train_score_DTC) / full_train_score_DTC) * 100:.2f}%\")\n",
        "print(f\"Percentage Difference (Test Score): Stemming, Stopwords, TF IDF, Class Balancing, and Standard Scaler vs Optimized: {((optimized_full_test_score_DTC - full_test_score_DTC) / full_test_score_DTC) * 100:.2f}%\")\n"
      ]
    },
    {
      "cell_type": "markdown",
      "metadata": {
        "id": "w0khT5WnAV-P"
      },
      "source": [
        "#### Optimized Model Comparison"
      ]
    },
    {
      "cell_type": "code",
      "execution_count": null,
      "metadata": {
        "id": "0XZaO5ElAV-Q",
        "outputId": "ef075874-79e9-4911-e808-0f340633ba75"
      },
      "outputs": [
        {
          "name": "stdout",
          "output_type": "stream",
          "text": [
            "Optimized Decision Tree Classifier TF IDF Train Score: 0.9999681812396589\n",
            "Optimized Decision Tree Classifier TF IDF Test Score: 0.9966592427616926\n",
            "Optimized Logistic Regression Stemming, Stopwords, TF IDF Train Score: 0.9999681812396589\n",
            "Optimized Logistic Regression Stemming, Stopwords, TF IDF Test Score: 0.996807720861173\n",
            "\n",
            "Perbedaan skor antara 2 model pada train data: 0.0 = 0.00%\n",
            "Perbedaan skor antara 2 model pada pada test data: 0.00014847809948037582) = 0.01%\n"
          ]
        }
      ],
      "source": [
        "# Model 1: Optimized Decision Tree Classifier TF IDF Scores\n",
        "print(\"Model 1 Scores:\")\n",
        "print(f\"Train Score: {optimized_tf_idf_train_score_DTC}\")\n",
        "print(f\"Test Score: {optimized_tf_idf_test_score_DTC}\")\n",
        "\n",
        "# Model 2: Optimized Decision Tree Classifier Stemming, Stopwords, TF IDF Scores\n",
        "print(\"\\nModel 2 Scores:\")\n",
        "print(f\"Train Score: {optimized_stem_train_score_DTC}\")\n",
        "print(f\"Test Score: {optimized_stem_test_score_DTC}\")\n",
        "\n",
        "# Model 3: Optimized Stemming, Stopwords, TF IDF, Class Balancing, and Standard Scaler Scores\n",
        "print(\"\\nModel 3 Scores:\")\n",
        "print(f\"Train Score: {optimized_full_train_score_DTC}\")\n",
        "print(f\"Test Score: {optimized_full_test_score_DTC}\")\n",
        "\n",
        "print(\"\")\n",
        "\n",
        "# Percentage Differences between Model 1 and Model 2 on train and test data\n",
        "print(\"Percentage Differences between Model 1 and Model 2:\")\n",
        "train_score_diff_1_2 = optimized_tf_idf_train_score_DTC - optimized_stem_train_score_DTC\n",
        "test_score_diff_1_2 = optimized_tf_idf_test_score_DTC - optimized_stem_test_score_DTC\n",
        "train_score_percent_diff_1_2 = (train_score_diff_1_2 / optimized_tf_idf_train_score_DTC) * 100\n",
        "test_score_percent_diff_1_2 = (test_score_diff_1_2 / optimized_tf_idf_test_score_DTC) * 100\n",
        "print(f\"Train Data: {train_score_diff_1_2} = {train_score_percent_diff_1_2:.2f}%\")\n",
        "print(f\"Test Data: {test_score_diff_1_2} = {test_score_percent_diff_1_2:.2f}%\")\n",
        "\n",
        "# Percentage Differences between Model 1 and Model 3 on train and test data\n",
        "print(\"\\nPercentage Differences between Model 1 and Model 3:\")\n",
        "train_score_diff_1_3 = optimized_tf_idf_train_score_DTC - optimized_full_train_score_DTC\n",
        "test_score_diff_1_3 = optimized_tf_idf_test_score_DTC - optimized_full_test_score_DTC\n",
        "train_score_percent_diff_1_3 = (train_score_diff_1_3 / optimized_tf_idf_train_score_DTC) * 100\n",
        "test_score_percent_diff_1_3 = (test_score_diff_1_3 / optimized_tf_idf_test_score_DTC) * 100\n",
        "print(f\"Train Data: {train_score_diff_1_3} = {train_score_percent_diff_1_3:.2f}%\")\n",
        "print(f\"Test Data: {test_score_diff_1_3} = {test_score_percent_diff_1_3:.2f}%\")\n",
        "\n",
        "# Percentage Differences between Model 2 and Model 3 on train and test data\n",
        "print(\"\\nPercentage Differences between Model 2 and Model 3:\")\n",
        "train_score_diff_2_3 = optimized_stem_train_score_DTC - optimized_full_train_score_DTC\n",
        "test_score_diff_2_3 = optimized_stem_test_score_DTC - optimized_full_test_score_DTC\n",
        "train_score_percent_diff_2_3 = (train_score_diff_2_3 / optimized_stem_train_score_DTC) * 100\n",
        "test_score_percent_diff_2_3 = (test_score_diff_2_3 / optimized_stem_test_score_DTC) * 100\n",
        "print(f\"Train Data: {train_score_diff_2_3} = {train_score_percent_diff_2_3:.2f}%\")\n",
        "print(f\"Test Data: {test_score_diff_2_3} = {test_score_percent_diff_2_3:.2f}%\")\n"
      ]
    },
    {
      "cell_type": "markdown",
      "metadata": {
        "id": "9JQrRG5dk5MB"
      },
      "source": [
        "# Model Implementation"
      ]
    },
    {
      "cell_type": "code",
      "execution_count": null,
      "metadata": {
        "id": "H_KYyMIQk7LU"
      },
      "outputs": [],
      "source": [
        "ndef output_label(n):\n",
        "  if n==0:\n",
        "    return \"It Is Fake News\"\n",
        "  elif n==1:\n",
        "    return \"It Is Genuine News\"\n"
      ]
    },
    {
      "cell_type": "code",
      "execution_count": null,
      "metadata": {
        "id": "7JJka57qloTV"
      },
      "outputs": [],
      "source": [
        "def manual_testing(news):\n",
        "    # Corrected syntax for defining dictionary\n",
        "    testing_news = {\"text\": [news]}\n",
        "    new_def_test = pd.DataFrame(testing_news)\n",
        "    new_x_test = new_def_test[\"text\"].apply(wordopt)\n",
        "\n",
        "    # Assuming 'vectorization' is your vectorizer object\n",
        "    new_xv_test = vectorization.transform(new_x_test)\n",
        "\n",
        "    # Model predictions\n",
        "    pred_lr = LR.predict(new_xv_test)\n",
        "    pred_dtc = DTC.predict(new_xv_test)\n",
        "    pred_rfc = RFC.predict(new_xv_test)\n",
        "\n",
        "    return \"\\nLR Prediction: {}\\nDTC Prediction: {}\\nRFC Prediction: {}\".format(\n",
        "        output_label(pred_lr[0]),\n",
        "        output_label(pred_dtc[0]),\n",
        "        output_label(pred_rfc[0])\n",
        "    )\n"
      ]
    },
    {
      "cell_type": "code",
      "execution_count": null,
      "metadata": {
        "colab": {
          "base_uri": "https://localhost:8080/",
          "height": 287
        },
        "id": "v-nZbDrsmyRL",
        "outputId": "92797f6d-7cdf-4e34-80f7-bb624aaa1250"
      },
      "outputs": [
        {
          "ename": "KeyboardInterrupt",
          "evalue": "Interrupted by user",
          "output_type": "error",
          "traceback": [
            "\u001b[0;31m---------------------------------------------------------------------------\u001b[0m",
            "\u001b[0;31mKeyboardInterrupt\u001b[0m                         Traceback (most recent call last)",
            "\u001b[0;32m<ipython-input-58-b819fa2fef3d>\u001b[0m in \u001b[0;36m<cell line: 1>\u001b[0;34m()\u001b[0m\n\u001b[0;32m----> 1\u001b[0;31m \u001b[0mnews_article\u001b[0m \u001b[0;34m=\u001b[0m \u001b[0mstr\u001b[0m\u001b[0;34m(\u001b[0m\u001b[0minput\u001b[0m\u001b[0;34m(\u001b[0m\u001b[0;34m)\u001b[0m\u001b[0;34m)\u001b[0m\u001b[0;34m\u001b[0m\u001b[0;34m\u001b[0m\u001b[0m\n\u001b[0m",
            "\u001b[0;32m/usr/local/lib/python3.10/dist-packages/ipykernel/kernelbase.py\u001b[0m in \u001b[0;36mraw_input\u001b[0;34m(self, prompt)\u001b[0m\n\u001b[1;32m    849\u001b[0m                 \u001b[0;34m\"raw_input was called, but this frontend does not support input requests.\"\u001b[0m\u001b[0;34m\u001b[0m\u001b[0;34m\u001b[0m\u001b[0m\n\u001b[1;32m    850\u001b[0m             )\n\u001b[0;32m--> 851\u001b[0;31m         return self._input_request(str(prompt),\n\u001b[0m\u001b[1;32m    852\u001b[0m             \u001b[0mself\u001b[0m\u001b[0;34m.\u001b[0m\u001b[0m_parent_ident\u001b[0m\u001b[0;34m,\u001b[0m\u001b[0;34m\u001b[0m\u001b[0;34m\u001b[0m\u001b[0m\n\u001b[1;32m    853\u001b[0m             \u001b[0mself\u001b[0m\u001b[0;34m.\u001b[0m\u001b[0m_parent_header\u001b[0m\u001b[0;34m,\u001b[0m\u001b[0;34m\u001b[0m\u001b[0;34m\u001b[0m\u001b[0m\n",
            "\u001b[0;32m/usr/local/lib/python3.10/dist-packages/ipykernel/kernelbase.py\u001b[0m in \u001b[0;36m_input_request\u001b[0;34m(self, prompt, ident, parent, password)\u001b[0m\n\u001b[1;32m    893\u001b[0m             \u001b[0;32mexcept\u001b[0m \u001b[0mKeyboardInterrupt\u001b[0m\u001b[0;34m:\u001b[0m\u001b[0;34m\u001b[0m\u001b[0;34m\u001b[0m\u001b[0m\n\u001b[1;32m    894\u001b[0m                 \u001b[0;31m# re-raise KeyboardInterrupt, to truncate traceback\u001b[0m\u001b[0;34m\u001b[0m\u001b[0;34m\u001b[0m\u001b[0m\n\u001b[0;32m--> 895\u001b[0;31m                 \u001b[0;32mraise\u001b[0m \u001b[0mKeyboardInterrupt\u001b[0m\u001b[0;34m(\u001b[0m\u001b[0;34m\"Interrupted by user\"\u001b[0m\u001b[0;34m)\u001b[0m \u001b[0;32mfrom\u001b[0m \u001b[0;32mNone\u001b[0m\u001b[0;34m\u001b[0m\u001b[0;34m\u001b[0m\u001b[0m\n\u001b[0m\u001b[1;32m    896\u001b[0m             \u001b[0;32mexcept\u001b[0m \u001b[0mException\u001b[0m \u001b[0;32mas\u001b[0m \u001b[0me\u001b[0m\u001b[0;34m:\u001b[0m\u001b[0;34m\u001b[0m\u001b[0;34m\u001b[0m\u001b[0m\n\u001b[1;32m    897\u001b[0m                 \u001b[0mself\u001b[0m\u001b[0;34m.\u001b[0m\u001b[0mlog\u001b[0m\u001b[0;34m.\u001b[0m\u001b[0mwarning\u001b[0m\u001b[0;34m(\u001b[0m\u001b[0;34m\"Invalid Message:\"\u001b[0m\u001b[0;34m,\u001b[0m \u001b[0mexc_info\u001b[0m\u001b[0;34m=\u001b[0m\u001b[0;32mTrue\u001b[0m\u001b[0;34m)\u001b[0m\u001b[0;34m\u001b[0m\u001b[0;34m\u001b[0m\u001b[0m\n",
            "\u001b[0;31mKeyboardInterrupt\u001b[0m: Interrupted by user"
          ]
        }
      ],
      "source": [
        "news_article = str(input())"
      ]
    },
    {
      "cell_type": "code",
      "execution_count": null,
      "metadata": {
        "id": "Ksqn_FHBnVcs"
      },
      "outputs": [],
      "source": [
        "manual_testing(news_article)"
      ]
    }
  ],
  "metadata": {
    "accelerator": "GPU",
    "colab": {
      "collapsed_sections": [
        "CqJTHTO04UAT"
      ],
      "gpuType": "T4",
      "provenance": [],
      "toc_visible": true
    },
    "kernelspec": {
      "display_name": "Python 3",
      "name": "python3"
    },
    "language_info": {
      "codemirror_mode": {
        "name": "ipython",
        "version": 3
      },
      "file_extension": ".py",
      "mimetype": "text/x-python",
      "name": "python",
      "nbconvert_exporter": "python",
      "pygments_lexer": "ipython3",
      "version": "3.10.8"
    }
  },
  "nbformat": 4,
  "nbformat_minor": 0
}
